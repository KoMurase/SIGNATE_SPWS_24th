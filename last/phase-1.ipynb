{
 "cells": [
  {
   "cell_type": "code",
   "execution_count": 1,
   "id": "0f0fa38a",
   "metadata": {
    "execution": {
     "iopub.execute_input": "2021-09-11T07:41:53.671485Z",
     "iopub.status.busy": "2021-09-11T07:41:53.670796Z",
     "iopub.status.idle": "2021-09-11T07:41:53.684209Z",
     "shell.execute_reply": "2021-09-11T07:41:53.683530Z",
     "shell.execute_reply.started": "2021-09-11T07:26:07.924328Z"
    },
    "papermill": {
     "duration": 0.037105,
     "end_time": "2021-09-11T07:41:53.684383",
     "exception": false,
     "start_time": "2021-09-11T07:41:53.647278",
     "status": "completed"
    },
    "tags": []
   },
   "outputs": [],
   "source": [
    "import os\n",
    "INPUT = '../input/spws-phase-1-to-2'\n",
    "files = os.listdir(INPUT)"
   ]
  },
  {
   "cell_type": "code",
   "execution_count": 2,
   "id": "9cc8722e",
   "metadata": {
    "execution": {
     "iopub.execute_input": "2021-09-11T07:41:53.714965Z",
     "iopub.status.busy": "2021-09-11T07:41:53.714270Z",
     "iopub.status.idle": "2021-09-11T07:41:53.853315Z",
     "shell.execute_reply": "2021-09-11T07:41:53.853791Z",
     "shell.execute_reply.started": "2021-09-11T07:31:18.888317Z"
    },
    "papermill": {
     "duration": 0.159101,
     "end_time": "2021-09-11T07:41:53.854008",
     "exception": false,
     "start_time": "2021-09-11T07:41:53.694907",
     "status": "completed"
    },
    "tags": []
   },
   "outputs": [
    {
     "name": "stdout",
     "output_type": "stream",
     "text": [
      "SPWS_Phase1_train_inference_train.log\n"
     ]
    }
   ],
   "source": [
    "import pandas as pd \n",
    "\n",
    "tr_fs = pd.DataFrame()\n",
    "te_fs = pd.DataFrame()\n",
    "\n",
    "for _f in files:\n",
    "    \n",
    "    if 'train' in _f and '.csv' in _f:\n",
    "        tr_fs = pd.concat([tr_fs, pd.read_csv(f'{INPUT}/{_f}')], axis=1)\n",
    "    elif 'test' in _f:\n",
    "        te_fs = pd.concat([te_fs, pd.read_csv(f'{INPUT}/{_f}')], axis=1)\n",
    "    else:\n",
    "        print(_f)"
   ]
  },
  {
   "cell_type": "code",
   "execution_count": 3,
   "id": "e006912f",
   "metadata": {
    "execution": {
     "iopub.execute_input": "2021-09-11T07:41:53.880325Z",
     "iopub.status.busy": "2021-09-11T07:41:53.879202Z",
     "iopub.status.idle": "2021-09-11T07:41:54.738729Z",
     "shell.execute_reply": "2021-09-11T07:41:54.738175Z",
     "shell.execute_reply.started": "2021-09-11T07:31:19.876717Z"
    },
    "papermill": {
     "duration": 0.874233,
     "end_time": "2021-09-11T07:41:54.738921",
     "exception": false,
     "start_time": "2021-09-11T07:41:53.864688",
     "status": "completed"
    },
    "tags": []
   },
   "outputs": [],
   "source": [
    "origin = pd.read_csv('../input/signate-spws-2/train.csv')"
   ]
  },
  {
   "cell_type": "code",
   "execution_count": 4,
   "id": "d23e11b0",
   "metadata": {
    "execution": {
     "iopub.execute_input": "2021-09-11T07:41:54.772700Z",
     "iopub.status.busy": "2021-09-11T07:41:54.772073Z",
     "iopub.status.idle": "2021-09-11T07:41:54.786564Z",
     "shell.execute_reply": "2021-09-11T07:41:54.787093Z",
     "shell.execute_reply.started": "2021-09-11T07:31:20.551051Z"
    },
    "papermill": {
     "duration": 0.038023,
     "end_time": "2021-09-11T07:41:54.787265",
     "exception": false,
     "start_time": "2021-09-11T07:41:54.749242",
     "status": "completed"
    },
    "tags": []
   },
   "outputs": [
    {
     "data": {
      "text/html": [
       "<div>\n",
       "<style scoped>\n",
       "    .dataframe tbody tr th:only-of-type {\n",
       "        vertical-align: middle;\n",
       "    }\n",
       "\n",
       "    .dataframe tbody tr th {\n",
       "        vertical-align: top;\n",
       "    }\n",
       "\n",
       "    .dataframe thead th {\n",
       "        text-align: right;\n",
       "    }\n",
       "</style>\n",
       "<table border=\"1\" class=\"dataframe\">\n",
       "  <thead>\n",
       "    <tr style=\"text-align: right;\">\n",
       "      <th></th>\n",
       "      <th>id</th>\n",
       "      <th>title</th>\n",
       "      <th>abstract</th>\n",
       "      <th>judgement</th>\n",
       "    </tr>\n",
       "  </thead>\n",
       "  <tbody>\n",
       "    <tr>\n",
       "      <th>0</th>\n",
       "      <td>0</td>\n",
       "      <td>One-year age changes in MRI brain volumes in o...</td>\n",
       "      <td>Longitudinal studies indicate that declines in...</td>\n",
       "      <td>0</td>\n",
       "    </tr>\n",
       "    <tr>\n",
       "      <th>1</th>\n",
       "      <td>1</td>\n",
       "      <td>Supportive CSF biomarker evidence to enhance t...</td>\n",
       "      <td>The present study was undertaken to validate t...</td>\n",
       "      <td>0</td>\n",
       "    </tr>\n",
       "    <tr>\n",
       "      <th>2</th>\n",
       "      <td>2</td>\n",
       "      <td>Occurrence of basal ganglia germ cell tumors w...</td>\n",
       "      <td>Objective: To report a case series in which ba...</td>\n",
       "      <td>0</td>\n",
       "    </tr>\n",
       "    <tr>\n",
       "      <th>3</th>\n",
       "      <td>3</td>\n",
       "      <td>New developments in diagnosis and therapy of C...</td>\n",
       "      <td>The etiology and pathogenesis of idiopathic ch...</td>\n",
       "      <td>0</td>\n",
       "    </tr>\n",
       "    <tr>\n",
       "      <th>4</th>\n",
       "      <td>4</td>\n",
       "      <td>Prolonged shedding of SARS-CoV-2 in an elderly...</td>\n",
       "      <td>NaN</td>\n",
       "      <td>0</td>\n",
       "    </tr>\n",
       "    <tr>\n",
       "      <th>...</th>\n",
       "      <td>...</td>\n",
       "      <td>...</td>\n",
       "      <td>...</td>\n",
       "      <td>...</td>\n",
       "    </tr>\n",
       "    <tr>\n",
       "      <th>27140</th>\n",
       "      <td>27140</td>\n",
       "      <td>The amyloidogenic pathway of amyloid precursor...</td>\n",
       "      <td>Amyloid beta-protein (A beta) is the main cons...</td>\n",
       "      <td>0</td>\n",
       "    </tr>\n",
       "    <tr>\n",
       "      <th>27141</th>\n",
       "      <td>27141</td>\n",
       "      <td>Technologic developments in radiotherapy and s...</td>\n",
       "      <td>We present a review of current technological p...</td>\n",
       "      <td>0</td>\n",
       "    </tr>\n",
       "    <tr>\n",
       "      <th>27142</th>\n",
       "      <td>27142</td>\n",
       "      <td>Novel screening cascade identifies MKK4 as key...</td>\n",
       "      <td>Phosphorylation of Tau at serine 422 promotes ...</td>\n",
       "      <td>0</td>\n",
       "    </tr>\n",
       "    <tr>\n",
       "      <th>27143</th>\n",
       "      <td>27143</td>\n",
       "      <td>Visualization of the gall bladder on F-18 FDOP...</td>\n",
       "      <td>The ability to label dihydroxyphenylalanine (D...</td>\n",
       "      <td>0</td>\n",
       "    </tr>\n",
       "    <tr>\n",
       "      <th>27144</th>\n",
       "      <td>27144</td>\n",
       "      <td>Multidetector CT findings and differential dia...</td>\n",
       "      <td>OBJECTIVE: To compare the multidetector CT (MD...</td>\n",
       "      <td>0</td>\n",
       "    </tr>\n",
       "  </tbody>\n",
       "</table>\n",
       "<p>27145 rows × 4 columns</p>\n",
       "</div>"
      ],
      "text/plain": [
       "          id                                              title  \\\n",
       "0          0  One-year age changes in MRI brain volumes in o...   \n",
       "1          1  Supportive CSF biomarker evidence to enhance t...   \n",
       "2          2  Occurrence of basal ganglia germ cell tumors w...   \n",
       "3          3  New developments in diagnosis and therapy of C...   \n",
       "4          4  Prolonged shedding of SARS-CoV-2 in an elderly...   \n",
       "...      ...                                                ...   \n",
       "27140  27140  The amyloidogenic pathway of amyloid precursor...   \n",
       "27141  27141  Technologic developments in radiotherapy and s...   \n",
       "27142  27142  Novel screening cascade identifies MKK4 as key...   \n",
       "27143  27143  Visualization of the gall bladder on F-18 FDOP...   \n",
       "27144  27144  Multidetector CT findings and differential dia...   \n",
       "\n",
       "                                                abstract  judgement  \n",
       "0      Longitudinal studies indicate that declines in...          0  \n",
       "1      The present study was undertaken to validate t...          0  \n",
       "2      Objective: To report a case series in which ba...          0  \n",
       "3      The etiology and pathogenesis of idiopathic ch...          0  \n",
       "4                                                    NaN          0  \n",
       "...                                                  ...        ...  \n",
       "27140  Amyloid beta-protein (A beta) is the main cons...          0  \n",
       "27141  We present a review of current technological p...          0  \n",
       "27142  Phosphorylation of Tau at serine 422 promotes ...          0  \n",
       "27143  The ability to label dihydroxyphenylalanine (D...          0  \n",
       "27144  OBJECTIVE: To compare the multidetector CT (MD...          0  \n",
       "\n",
       "[27145 rows x 4 columns]"
      ]
     },
     "execution_count": 4,
     "metadata": {},
     "output_type": "execute_result"
    }
   ],
   "source": [
    "origin"
   ]
  },
  {
   "cell_type": "code",
   "execution_count": 5,
   "id": "333baeb5",
   "metadata": {
    "execution": {
     "iopub.execute_input": "2021-09-11T07:41:54.816599Z",
     "iopub.status.busy": "2021-09-11T07:41:54.812526Z",
     "iopub.status.idle": "2021-09-11T07:41:54.822676Z",
     "shell.execute_reply": "2021-09-11T07:41:54.822051Z",
     "shell.execute_reply.started": "2021-09-11T07:31:21.269151Z"
    },
    "papermill": {
     "duration": 0.024558,
     "end_time": "2021-09-11T07:41:54.822816",
     "exception": false,
     "start_time": "2021-09-11T07:41:54.798258",
     "status": "completed"
    },
    "tags": []
   },
   "outputs": [
    {
     "data": {
      "text/plain": [
       "0.023282372444280715"
      ]
     },
     "execution_count": 5,
     "metadata": {},
     "output_type": "execute_result"
    }
   ],
   "source": [
    "border = origin['judgement'].sum(axis=0) / len(origin)\n",
    "border"
   ]
  },
  {
   "cell_type": "code",
   "execution_count": 6,
   "id": "d19956e7",
   "metadata": {
    "execution": {
     "iopub.execute_input": "2021-09-11T07:41:54.850331Z",
     "iopub.status.busy": "2021-09-11T07:41:54.849329Z",
     "iopub.status.idle": "2021-09-11T07:41:54.863119Z",
     "shell.execute_reply": "2021-09-11T07:41:54.862454Z",
     "shell.execute_reply.started": "2021-09-11T07:31:32.602488Z"
    },
    "papermill": {
     "duration": 0.029125,
     "end_time": "2021-09-11T07:41:54.863264",
     "exception": false,
     "start_time": "2021-09-11T07:41:54.834139",
     "status": "completed"
    },
    "tags": []
   },
   "outputs": [
    {
     "data": {
      "text/html": [
       "<div>\n",
       "<style scoped>\n",
       "    .dataframe tbody tr th:only-of-type {\n",
       "        vertical-align: middle;\n",
       "    }\n",
       "\n",
       "    .dataframe tbody tr th {\n",
       "        vertical-align: top;\n",
       "    }\n",
       "\n",
       "    .dataframe thead th {\n",
       "        text-align: right;\n",
       "    }\n",
       "</style>\n",
       "<table border=\"1\" class=\"dataframe\">\n",
       "  <thead>\n",
       "    <tr style=\"text-align: right;\">\n",
       "      <th></th>\n",
       "      <th>gbdt</th>\n",
       "      <th>rf</th>\n",
       "      <th>dart</th>\n",
       "    </tr>\n",
       "  </thead>\n",
       "  <tbody>\n",
       "    <tr>\n",
       "      <th>0</th>\n",
       "      <td>0.000637</td>\n",
       "      <td>0.000346</td>\n",
       "      <td>0.000318</td>\n",
       "    </tr>\n",
       "    <tr>\n",
       "      <th>1</th>\n",
       "      <td>0.000846</td>\n",
       "      <td>0.000346</td>\n",
       "      <td>0.000521</td>\n",
       "    </tr>\n",
       "    <tr>\n",
       "      <th>2</th>\n",
       "      <td>0.007181</td>\n",
       "      <td>0.047323</td>\n",
       "      <td>0.012575</td>\n",
       "    </tr>\n",
       "    <tr>\n",
       "      <th>3</th>\n",
       "      <td>0.000733</td>\n",
       "      <td>0.000345</td>\n",
       "      <td>0.000503</td>\n",
       "    </tr>\n",
       "    <tr>\n",
       "      <th>4</th>\n",
       "      <td>0.000846</td>\n",
       "      <td>0.000346</td>\n",
       "      <td>0.000521</td>\n",
       "    </tr>\n",
       "    <tr>\n",
       "      <th>...</th>\n",
       "      <td>...</td>\n",
       "      <td>...</td>\n",
       "      <td>...</td>\n",
       "    </tr>\n",
       "    <tr>\n",
       "      <th>27140</th>\n",
       "      <td>0.806413</td>\n",
       "      <td>0.570002</td>\n",
       "      <td>0.848358</td>\n",
       "    </tr>\n",
       "    <tr>\n",
       "      <th>27141</th>\n",
       "      <td>0.001169</td>\n",
       "      <td>0.000994</td>\n",
       "      <td>0.000929</td>\n",
       "    </tr>\n",
       "    <tr>\n",
       "      <th>27142</th>\n",
       "      <td>0.000683</td>\n",
       "      <td>0.000518</td>\n",
       "      <td>0.000432</td>\n",
       "    </tr>\n",
       "    <tr>\n",
       "      <th>27143</th>\n",
       "      <td>0.001154</td>\n",
       "      <td>0.000511</td>\n",
       "      <td>0.000788</td>\n",
       "    </tr>\n",
       "    <tr>\n",
       "      <th>27144</th>\n",
       "      <td>0.004747</td>\n",
       "      <td>0.001248</td>\n",
       "      <td>0.007041</td>\n",
       "    </tr>\n",
       "  </tbody>\n",
       "</table>\n",
       "<p>27145 rows × 3 columns</p>\n",
       "</div>"
      ],
      "text/plain": [
       "           gbdt        rf      dart\n",
       "0      0.000637  0.000346  0.000318\n",
       "1      0.000846  0.000346  0.000521\n",
       "2      0.007181  0.047323  0.012575\n",
       "3      0.000733  0.000345  0.000503\n",
       "4      0.000846  0.000346  0.000521\n",
       "...         ...       ...       ...\n",
       "27140  0.806413  0.570002  0.848358\n",
       "27141  0.001169  0.000994  0.000929\n",
       "27142  0.000683  0.000518  0.000432\n",
       "27143  0.001154  0.000511  0.000788\n",
       "27144  0.004747  0.001248  0.007041\n",
       "\n",
       "[27145 rows x 3 columns]"
      ]
     },
     "execution_count": 6,
     "metadata": {},
     "output_type": "execute_result"
    }
   ],
   "source": [
    "tr_fs"
   ]
  },
  {
   "cell_type": "code",
   "execution_count": 7,
   "id": "17fbe419",
   "metadata": {
    "execution": {
     "iopub.execute_input": "2021-09-11T07:41:54.895855Z",
     "iopub.status.busy": "2021-09-11T07:41:54.894743Z",
     "iopub.status.idle": "2021-09-11T07:41:54.996564Z",
     "shell.execute_reply": "2021-09-11T07:41:54.997142Z",
     "shell.execute_reply.started": "2021-09-11T07:33:37.574492Z"
    },
    "papermill": {
     "duration": 0.121827,
     "end_time": "2021-09-11T07:41:54.997340",
     "exception": false,
     "start_time": "2021-09-11T07:41:54.875513",
     "status": "completed"
    },
    "tags": []
   },
   "outputs": [],
   "source": [
    "te_fs[te_fs.columns[0]] = te_fs[te_fs.columns[0]].apply(lambda x: 1 if x>=border else 0)\n",
    "te_fs[te_fs.columns[1]] = te_fs[te_fs.columns[1]].apply(lambda x: 1 if x>=border else 0)\n",
    "te_fs[te_fs.columns[2]] = te_fs[te_fs.columns[2]].apply(lambda x: 1 if x>=border else 0)\n"
   ]
  },
  {
   "cell_type": "code",
   "execution_count": 8,
   "id": "a1f98121",
   "metadata": {
    "execution": {
     "iopub.execute_input": "2021-09-11T07:41:55.026555Z",
     "iopub.status.busy": "2021-09-11T07:41:55.025902Z",
     "iopub.status.idle": "2021-09-11T07:41:55.034591Z",
     "shell.execute_reply": "2021-09-11T07:41:55.034054Z",
     "shell.execute_reply.started": "2021-09-11T07:34:21.384602Z"
    },
    "papermill": {
     "duration": 0.025341,
     "end_time": "2021-09-11T07:41:55.034729",
     "exception": false,
     "start_time": "2021-09-11T07:41:55.009388",
     "status": "completed"
    },
    "tags": []
   },
   "outputs": [
    {
     "data": {
      "text/plain": [
       "0        0.0\n",
       "1        0.0\n",
       "2        0.0\n",
       "3        0.0\n",
       "4        0.0\n",
       "        ... \n",
       "40829    0.0\n",
       "40830    0.0\n",
       "40831    0.0\n",
       "40832    1.0\n",
       "40833    0.0\n",
       "Length: 40834, dtype: float64"
      ]
     },
     "execution_count": 8,
     "metadata": {},
     "output_type": "execute_result"
    }
   ],
   "source": [
    "te_fs.mean(axis=1).round()"
   ]
  },
  {
   "cell_type": "code",
   "execution_count": 9,
   "id": "a4bbe1ab",
   "metadata": {
    "execution": {
     "iopub.execute_input": "2021-09-11T07:41:55.063641Z",
     "iopub.status.busy": "2021-09-11T07:41:55.062248Z",
     "iopub.status.idle": "2021-09-11T07:41:55.092954Z",
     "shell.execute_reply": "2021-09-11T07:41:55.093469Z",
     "shell.execute_reply.started": "2021-09-11T07:34:57.209066Z"
    },
    "papermill": {
     "duration": 0.046853,
     "end_time": "2021-09-11T07:41:55.093640",
     "exception": false,
     "start_time": "2021-09-11T07:41:55.046787",
     "status": "completed"
    },
    "tags": []
   },
   "outputs": [
    {
     "data": {
      "text/html": [
       "<div>\n",
       "<style scoped>\n",
       "    .dataframe tbody tr th:only-of-type {\n",
       "        vertical-align: middle;\n",
       "    }\n",
       "\n",
       "    .dataframe tbody tr th {\n",
       "        vertical-align: top;\n",
       "    }\n",
       "\n",
       "    .dataframe thead th {\n",
       "        text-align: right;\n",
       "    }\n",
       "</style>\n",
       "<table border=\"1\" class=\"dataframe\">\n",
       "  <thead>\n",
       "    <tr style=\"text-align: right;\">\n",
       "      <th></th>\n",
       "      <th>0</th>\n",
       "      <th>1</th>\n",
       "    </tr>\n",
       "  </thead>\n",
       "  <tbody>\n",
       "    <tr>\n",
       "      <th>0</th>\n",
       "      <td>27145</td>\n",
       "      <td>0</td>\n",
       "    </tr>\n",
       "    <tr>\n",
       "      <th>1</th>\n",
       "      <td>27146</td>\n",
       "      <td>1</td>\n",
       "    </tr>\n",
       "    <tr>\n",
       "      <th>2</th>\n",
       "      <td>27147</td>\n",
       "      <td>1</td>\n",
       "    </tr>\n",
       "    <tr>\n",
       "      <th>3</th>\n",
       "      <td>27148</td>\n",
       "      <td>0</td>\n",
       "    </tr>\n",
       "    <tr>\n",
       "      <th>4</th>\n",
       "      <td>27149</td>\n",
       "      <td>1</td>\n",
       "    </tr>\n",
       "    <tr>\n",
       "      <th>...</th>\n",
       "      <td>...</td>\n",
       "      <td>...</td>\n",
       "    </tr>\n",
       "    <tr>\n",
       "      <th>40829</th>\n",
       "      <td>67974</td>\n",
       "      <td>0</td>\n",
       "    </tr>\n",
       "    <tr>\n",
       "      <th>40830</th>\n",
       "      <td>67975</td>\n",
       "      <td>0</td>\n",
       "    </tr>\n",
       "    <tr>\n",
       "      <th>40831</th>\n",
       "      <td>67976</td>\n",
       "      <td>0</td>\n",
       "    </tr>\n",
       "    <tr>\n",
       "      <th>40832</th>\n",
       "      <td>67977</td>\n",
       "      <td>0</td>\n",
       "    </tr>\n",
       "    <tr>\n",
       "      <th>40833</th>\n",
       "      <td>67978</td>\n",
       "      <td>0</td>\n",
       "    </tr>\n",
       "  </tbody>\n",
       "</table>\n",
       "<p>40834 rows × 2 columns</p>\n",
       "</div>"
      ],
      "text/plain": [
       "           0  1\n",
       "0      27145  0\n",
       "1      27146  1\n",
       "2      27147  1\n",
       "3      27148  0\n",
       "4      27149  1\n",
       "...      ... ..\n",
       "40829  67974  0\n",
       "40830  67975  0\n",
       "40831  67976  0\n",
       "40832  67977  0\n",
       "40833  67978  0\n",
       "\n",
       "[40834 rows x 2 columns]"
      ]
     },
     "execution_count": 9,
     "metadata": {},
     "output_type": "execute_result"
    }
   ],
   "source": [
    "sub = pd.read_csv('../input/signate-spws-2/sample_submit.csv', header=None)\n",
    "sub"
   ]
  },
  {
   "cell_type": "code",
   "execution_count": 10,
   "id": "0d8dcf99",
   "metadata": {
    "execution": {
     "iopub.execute_input": "2021-09-11T07:41:55.124246Z",
     "iopub.status.busy": "2021-09-11T07:41:55.122011Z",
     "iopub.status.idle": "2021-09-11T07:41:55.207914Z",
     "shell.execute_reply": "2021-09-11T07:41:55.207297Z",
     "shell.execute_reply.started": "2021-09-11T07:37:34.357075Z"
    },
    "papermill": {
     "duration": 0.101702,
     "end_time": "2021-09-11T07:41:55.208056",
     "exception": false,
     "start_time": "2021-09-11T07:41:55.106354",
     "status": "completed"
    },
    "tags": []
   },
   "outputs": [],
   "source": [
    "sub[1] = te_fs.mean(axis=1).round().astype(int)\n",
    "sub.to_csv('Phase_1.csv', index=False, header=None)"
   ]
  },
  {
   "cell_type": "code",
   "execution_count": null,
   "id": "5b3af140",
   "metadata": {
    "papermill": {
     "duration": 0.012211,
     "end_time": "2021-09-11T07:41:55.233134",
     "exception": false,
     "start_time": "2021-09-11T07:41:55.220923",
     "status": "completed"
    },
    "tags": []
   },
   "outputs": [],
   "source": []
  }
 ],
 "metadata": {
  "kernelspec": {
   "display_name": "Python 3",
   "language": "python",
   "name": "python3"
  },
  "language_info": {
   "codemirror_mode": {
    "name": "ipython",
    "version": 3
   },
   "file_extension": ".py",
   "mimetype": "text/x-python",
   "name": "python",
   "nbconvert_exporter": "python",
   "pygments_lexer": "ipython3",
   "version": "3.7.10"
  },
  "papermill": {
   "default_parameters": {},
   "duration": 10.726817,
   "end_time": "2021-09-11T07:41:56.556021",
   "environment_variables": {},
   "exception": null,
   "input_path": "__notebook__.ipynb",
   "output_path": "__notebook__.ipynb",
   "parameters": {},
   "start_time": "2021-09-11T07:41:45.829204",
   "version": "2.3.3"
  }
 },
 "nbformat": 4,
 "nbformat_minor": 5
}
