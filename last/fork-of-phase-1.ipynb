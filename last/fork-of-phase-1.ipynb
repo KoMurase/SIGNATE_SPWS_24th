{
 "cells": [
  {
   "cell_type": "code",
   "execution_count": 1,
   "id": "1b375b65",
   "metadata": {
    "execution": {
     "iopub.execute_input": "2021-10-02T13:41:51.102198Z",
     "iopub.status.busy": "2021-10-02T13:41:51.101076Z",
     "iopub.status.idle": "2021-10-02T13:41:51.117428Z",
     "shell.execute_reply": "2021-10-02T13:41:51.117936Z",
     "shell.execute_reply.started": "2021-10-02T13:26:36.67371Z"
    },
    "papermill": {
     "duration": 0.037252,
     "end_time": "2021-10-02T13:41:51.118249",
     "exception": false,
     "start_time": "2021-10-02T13:41:51.080997",
     "status": "completed"
    },
    "tags": []
   },
   "outputs": [],
   "source": [
    "import os\n",
    "INPUT = '../input/spws-phase-1-to-2'\n",
    "files = os.listdir(INPUT)"
   ]
  },
  {
   "cell_type": "code",
   "execution_count": 2,
   "id": "8126435f",
   "metadata": {
    "execution": {
     "iopub.execute_input": "2021-10-02T13:41:51.152592Z",
     "iopub.status.busy": "2021-10-02T13:41:51.151945Z",
     "iopub.status.idle": "2021-10-02T13:41:51.307087Z",
     "shell.execute_reply": "2021-10-02T13:41:51.306562Z",
     "shell.execute_reply.started": "2021-10-02T13:27:37.751743Z"
    },
    "papermill": {
     "duration": 0.173308,
     "end_time": "2021-10-02T13:41:51.307271",
     "exception": false,
     "start_time": "2021-10-02T13:41:51.133963",
     "status": "completed"
    },
    "tags": []
   },
   "outputs": [
    {
     "name": "stdout",
     "output_type": "stream",
     "text": [
      "SPWS_Phase1_train_inference_train.log\n",
      "SPWS_Phase1_train_inference_train.log\n",
      "Phase_1_test_rf.csv\n",
      "Phase_1_train_gbdt.csv\n",
      "Phase_1_train_rf.csv\n",
      "Phase_1_test_dart.csv\n",
      "Phase_1_train_dart.csv\n",
      "Phase_1_test_gbdt.csv\n"
     ]
    }
   ],
   "source": [
    "import pandas as pd \n",
    "\n",
    "tr_fs = pd.DataFrame()\n",
    "te_fs = pd.DataFrame()\n",
    "\n",
    "for _f in files:\n",
    "    print(_f)\n",
    "    \n",
    "    if 'train' in _f and '.csv' in _f:\n",
    "        tr_fs = pd.concat([tr_fs, pd.read_csv(f'{INPUT}/{_f}')], axis=1)\n",
    "    elif 'test' in _f:\n",
    "        te_fs = pd.concat([te_fs, pd.read_csv(f'{INPUT}/{_f}')], axis=1)\n",
    "    else:\n",
    "        print(_f)"
   ]
  },
  {
   "cell_type": "code",
   "execution_count": 3,
   "id": "adbf1cd1",
   "metadata": {
    "execution": {
     "iopub.execute_input": "2021-10-02T13:41:51.345510Z",
     "iopub.status.busy": "2021-10-02T13:41:51.344535Z",
     "iopub.status.idle": "2021-10-02T13:41:51.382538Z",
     "shell.execute_reply": "2021-10-02T13:41:51.383054Z",
     "shell.execute_reply.started": "2021-10-02T13:27:38.009734Z"
    },
    "papermill": {
     "duration": 0.059348,
     "end_time": "2021-10-02T13:41:51.383256",
     "exception": false,
     "start_time": "2021-10-02T13:41:51.323908",
     "status": "completed"
    },
    "tags": []
   },
   "outputs": [
    {
     "data": {
      "text/html": [
       "<div>\n",
       "<style scoped>\n",
       "    .dataframe tbody tr th:only-of-type {\n",
       "        vertical-align: middle;\n",
       "    }\n",
       "\n",
       "    .dataframe tbody tr th {\n",
       "        vertical-align: top;\n",
       "    }\n",
       "\n",
       "    .dataframe thead th {\n",
       "        text-align: right;\n",
       "    }\n",
       "</style>\n",
       "<table border=\"1\" class=\"dataframe\">\n",
       "  <thead>\n",
       "    <tr style=\"text-align: right;\">\n",
       "      <th></th>\n",
       "      <th>gbdt</th>\n",
       "    </tr>\n",
       "  </thead>\n",
       "  <tbody>\n",
       "    <tr>\n",
       "      <th>0</th>\n",
       "      <td>0.000753</td>\n",
       "    </tr>\n",
       "    <tr>\n",
       "      <th>1</th>\n",
       "      <td>0.000621</td>\n",
       "    </tr>\n",
       "    <tr>\n",
       "      <th>2</th>\n",
       "      <td>0.000560</td>\n",
       "    </tr>\n",
       "    <tr>\n",
       "      <th>3</th>\n",
       "      <td>0.000560</td>\n",
       "    </tr>\n",
       "    <tr>\n",
       "      <th>4</th>\n",
       "      <td>0.000560</td>\n",
       "    </tr>\n",
       "    <tr>\n",
       "      <th>...</th>\n",
       "      <td>...</td>\n",
       "    </tr>\n",
       "    <tr>\n",
       "      <th>40829</th>\n",
       "      <td>0.000592</td>\n",
       "    </tr>\n",
       "    <tr>\n",
       "      <th>40830</th>\n",
       "      <td>0.000560</td>\n",
       "    </tr>\n",
       "    <tr>\n",
       "      <th>40831</th>\n",
       "      <td>0.001370</td>\n",
       "    </tr>\n",
       "    <tr>\n",
       "      <th>40832</th>\n",
       "      <td>0.037847</td>\n",
       "    </tr>\n",
       "    <tr>\n",
       "      <th>40833</th>\n",
       "      <td>0.004919</td>\n",
       "    </tr>\n",
       "  </tbody>\n",
       "</table>\n",
       "<p>40834 rows × 1 columns</p>\n",
       "</div>"
      ],
      "text/plain": [
       "           gbdt\n",
       "0      0.000753\n",
       "1      0.000621\n",
       "2      0.000560\n",
       "3      0.000560\n",
       "4      0.000560\n",
       "...         ...\n",
       "40829  0.000592\n",
       "40830  0.000560\n",
       "40831  0.001370\n",
       "40832  0.037847\n",
       "40833  0.004919\n",
       "\n",
       "[40834 rows x 1 columns]"
      ]
     },
     "execution_count": 3,
     "metadata": {},
     "output_type": "execute_result"
    }
   ],
   "source": [
    "pd.read_csv(f'{INPUT}/{_f}')"
   ]
  },
  {
   "cell_type": "code",
   "execution_count": 4,
   "id": "f72643d0",
   "metadata": {
    "execution": {
     "iopub.execute_input": "2021-10-02T13:41:51.431469Z",
     "iopub.status.busy": "2021-10-02T13:41:51.429537Z",
     "iopub.status.idle": "2021-10-02T13:41:52.366536Z",
     "shell.execute_reply": "2021-10-02T13:41:52.365127Z",
     "shell.execute_reply.started": "2021-10-02T13:27:41.564025Z"
    },
    "papermill": {
     "duration": 0.964209,
     "end_time": "2021-10-02T13:41:52.366702",
     "exception": false,
     "start_time": "2021-10-02T13:41:51.402493",
     "status": "completed"
    },
    "tags": []
   },
   "outputs": [],
   "source": [
    "origin = pd.read_csv('../input/signate-spws-2/train.csv')"
   ]
  },
  {
   "cell_type": "code",
   "execution_count": 5,
   "id": "955c1427",
   "metadata": {
    "execution": {
     "iopub.execute_input": "2021-10-02T13:41:52.416892Z",
     "iopub.status.busy": "2021-10-02T13:41:52.405394Z",
     "iopub.status.idle": "2021-10-02T13:41:52.421034Z",
     "shell.execute_reply": "2021-10-02T13:41:52.421641Z",
     "shell.execute_reply.started": "2021-10-02T13:27:42.486102Z"
    },
    "papermill": {
     "duration": 0.038079,
     "end_time": "2021-10-02T13:41:52.421815",
     "exception": false,
     "start_time": "2021-10-02T13:41:52.383736",
     "status": "completed"
    },
    "tags": []
   },
   "outputs": [
    {
     "data": {
      "text/html": [
       "<div>\n",
       "<style scoped>\n",
       "    .dataframe tbody tr th:only-of-type {\n",
       "        vertical-align: middle;\n",
       "    }\n",
       "\n",
       "    .dataframe tbody tr th {\n",
       "        vertical-align: top;\n",
       "    }\n",
       "\n",
       "    .dataframe thead th {\n",
       "        text-align: right;\n",
       "    }\n",
       "</style>\n",
       "<table border=\"1\" class=\"dataframe\">\n",
       "  <thead>\n",
       "    <tr style=\"text-align: right;\">\n",
       "      <th></th>\n",
       "      <th>id</th>\n",
       "      <th>title</th>\n",
       "      <th>abstract</th>\n",
       "      <th>judgement</th>\n",
       "    </tr>\n",
       "  </thead>\n",
       "  <tbody>\n",
       "    <tr>\n",
       "      <th>0</th>\n",
       "      <td>0</td>\n",
       "      <td>One-year age changes in MRI brain volumes in o...</td>\n",
       "      <td>Longitudinal studies indicate that declines in...</td>\n",
       "      <td>0</td>\n",
       "    </tr>\n",
       "    <tr>\n",
       "      <th>1</th>\n",
       "      <td>1</td>\n",
       "      <td>Supportive CSF biomarker evidence to enhance t...</td>\n",
       "      <td>The present study was undertaken to validate t...</td>\n",
       "      <td>0</td>\n",
       "    </tr>\n",
       "    <tr>\n",
       "      <th>2</th>\n",
       "      <td>2</td>\n",
       "      <td>Occurrence of basal ganglia germ cell tumors w...</td>\n",
       "      <td>Objective: To report a case series in which ba...</td>\n",
       "      <td>0</td>\n",
       "    </tr>\n",
       "    <tr>\n",
       "      <th>3</th>\n",
       "      <td>3</td>\n",
       "      <td>New developments in diagnosis and therapy of C...</td>\n",
       "      <td>The etiology and pathogenesis of idiopathic ch...</td>\n",
       "      <td>0</td>\n",
       "    </tr>\n",
       "    <tr>\n",
       "      <th>4</th>\n",
       "      <td>4</td>\n",
       "      <td>Prolonged shedding of SARS-CoV-2 in an elderly...</td>\n",
       "      <td>NaN</td>\n",
       "      <td>0</td>\n",
       "    </tr>\n",
       "    <tr>\n",
       "      <th>...</th>\n",
       "      <td>...</td>\n",
       "      <td>...</td>\n",
       "      <td>...</td>\n",
       "      <td>...</td>\n",
       "    </tr>\n",
       "    <tr>\n",
       "      <th>27140</th>\n",
       "      <td>27140</td>\n",
       "      <td>The amyloidogenic pathway of amyloid precursor...</td>\n",
       "      <td>Amyloid beta-protein (A beta) is the main cons...</td>\n",
       "      <td>0</td>\n",
       "    </tr>\n",
       "    <tr>\n",
       "      <th>27141</th>\n",
       "      <td>27141</td>\n",
       "      <td>Technologic developments in radiotherapy and s...</td>\n",
       "      <td>We present a review of current technological p...</td>\n",
       "      <td>0</td>\n",
       "    </tr>\n",
       "    <tr>\n",
       "      <th>27142</th>\n",
       "      <td>27142</td>\n",
       "      <td>Novel screening cascade identifies MKK4 as key...</td>\n",
       "      <td>Phosphorylation of Tau at serine 422 promotes ...</td>\n",
       "      <td>0</td>\n",
       "    </tr>\n",
       "    <tr>\n",
       "      <th>27143</th>\n",
       "      <td>27143</td>\n",
       "      <td>Visualization of the gall bladder on F-18 FDOP...</td>\n",
       "      <td>The ability to label dihydroxyphenylalanine (D...</td>\n",
       "      <td>0</td>\n",
       "    </tr>\n",
       "    <tr>\n",
       "      <th>27144</th>\n",
       "      <td>27144</td>\n",
       "      <td>Multidetector CT findings and differential dia...</td>\n",
       "      <td>OBJECTIVE: To compare the multidetector CT (MD...</td>\n",
       "      <td>0</td>\n",
       "    </tr>\n",
       "  </tbody>\n",
       "</table>\n",
       "<p>27145 rows × 4 columns</p>\n",
       "</div>"
      ],
      "text/plain": [
       "          id                                              title  \\\n",
       "0          0  One-year age changes in MRI brain volumes in o...   \n",
       "1          1  Supportive CSF biomarker evidence to enhance t...   \n",
       "2          2  Occurrence of basal ganglia germ cell tumors w...   \n",
       "3          3  New developments in diagnosis and therapy of C...   \n",
       "4          4  Prolonged shedding of SARS-CoV-2 in an elderly...   \n",
       "...      ...                                                ...   \n",
       "27140  27140  The amyloidogenic pathway of amyloid precursor...   \n",
       "27141  27141  Technologic developments in radiotherapy and s...   \n",
       "27142  27142  Novel screening cascade identifies MKK4 as key...   \n",
       "27143  27143  Visualization of the gall bladder on F-18 FDOP...   \n",
       "27144  27144  Multidetector CT findings and differential dia...   \n",
       "\n",
       "                                                abstract  judgement  \n",
       "0      Longitudinal studies indicate that declines in...          0  \n",
       "1      The present study was undertaken to validate t...          0  \n",
       "2      Objective: To report a case series in which ba...          0  \n",
       "3      The etiology and pathogenesis of idiopathic ch...          0  \n",
       "4                                                    NaN          0  \n",
       "...                                                  ...        ...  \n",
       "27140  Amyloid beta-protein (A beta) is the main cons...          0  \n",
       "27141  We present a review of current technological p...          0  \n",
       "27142  Phosphorylation of Tau at serine 422 promotes ...          0  \n",
       "27143  The ability to label dihydroxyphenylalanine (D...          0  \n",
       "27144  OBJECTIVE: To compare the multidetector CT (MD...          0  \n",
       "\n",
       "[27145 rows x 4 columns]"
      ]
     },
     "execution_count": 5,
     "metadata": {},
     "output_type": "execute_result"
    }
   ],
   "source": [
    "origin"
   ]
  },
  {
   "cell_type": "code",
   "execution_count": 6,
   "id": "82406417",
   "metadata": {
    "execution": {
     "iopub.execute_input": "2021-10-02T13:41:52.459209Z",
     "iopub.status.busy": "2021-10-02T13:41:52.458260Z",
     "iopub.status.idle": "2021-10-02T13:41:52.467270Z",
     "shell.execute_reply": "2021-10-02T13:41:52.466790Z",
     "shell.execute_reply.started": "2021-10-02T13:27:43.744698Z"
    },
    "papermill": {
     "duration": 0.028794,
     "end_time": "2021-10-02T13:41:52.467399",
     "exception": false,
     "start_time": "2021-10-02T13:41:52.438605",
     "status": "completed"
    },
    "tags": []
   },
   "outputs": [
    {
     "data": {
      "text/plain": [
       "0.023282372444280715"
      ]
     },
     "execution_count": 6,
     "metadata": {},
     "output_type": "execute_result"
    }
   ],
   "source": [
    "border = origin['judgement'].sum(axis=0) / len(origin)\n",
    "border"
   ]
  },
  {
   "cell_type": "code",
   "execution_count": 7,
   "id": "8c3ab568",
   "metadata": {
    "execution": {
     "iopub.execute_input": "2021-10-02T13:41:52.515105Z",
     "iopub.status.busy": "2021-10-02T13:41:52.514152Z",
     "iopub.status.idle": "2021-10-02T13:41:52.517912Z",
     "shell.execute_reply": "2021-10-02T13:41:52.517390Z",
     "shell.execute_reply.started": "2021-10-02T13:27:44.129162Z"
    },
    "papermill": {
     "duration": 0.033214,
     "end_time": "2021-10-02T13:41:52.518041",
     "exception": false,
     "start_time": "2021-10-02T13:41:52.484827",
     "status": "completed"
    },
    "tags": []
   },
   "outputs": [
    {
     "data": {
      "text/html": [
       "<div>\n",
       "<style scoped>\n",
       "    .dataframe tbody tr th:only-of-type {\n",
       "        vertical-align: middle;\n",
       "    }\n",
       "\n",
       "    .dataframe tbody tr th {\n",
       "        vertical-align: top;\n",
       "    }\n",
       "\n",
       "    .dataframe thead th {\n",
       "        text-align: right;\n",
       "    }\n",
       "</style>\n",
       "<table border=\"1\" class=\"dataframe\">\n",
       "  <thead>\n",
       "    <tr style=\"text-align: right;\">\n",
       "      <th></th>\n",
       "      <th>gbdt</th>\n",
       "      <th>rf</th>\n",
       "      <th>dart</th>\n",
       "    </tr>\n",
       "  </thead>\n",
       "  <tbody>\n",
       "    <tr>\n",
       "      <th>0</th>\n",
       "      <td>0.000637</td>\n",
       "      <td>0.000346</td>\n",
       "      <td>0.000318</td>\n",
       "    </tr>\n",
       "    <tr>\n",
       "      <th>1</th>\n",
       "      <td>0.000846</td>\n",
       "      <td>0.000346</td>\n",
       "      <td>0.000521</td>\n",
       "    </tr>\n",
       "    <tr>\n",
       "      <th>2</th>\n",
       "      <td>0.007181</td>\n",
       "      <td>0.047323</td>\n",
       "      <td>0.012575</td>\n",
       "    </tr>\n",
       "    <tr>\n",
       "      <th>3</th>\n",
       "      <td>0.000733</td>\n",
       "      <td>0.000345</td>\n",
       "      <td>0.000503</td>\n",
       "    </tr>\n",
       "    <tr>\n",
       "      <th>4</th>\n",
       "      <td>0.000846</td>\n",
       "      <td>0.000346</td>\n",
       "      <td>0.000521</td>\n",
       "    </tr>\n",
       "    <tr>\n",
       "      <th>...</th>\n",
       "      <td>...</td>\n",
       "      <td>...</td>\n",
       "      <td>...</td>\n",
       "    </tr>\n",
       "    <tr>\n",
       "      <th>27140</th>\n",
       "      <td>0.806413</td>\n",
       "      <td>0.570002</td>\n",
       "      <td>0.848358</td>\n",
       "    </tr>\n",
       "    <tr>\n",
       "      <th>27141</th>\n",
       "      <td>0.001169</td>\n",
       "      <td>0.000994</td>\n",
       "      <td>0.000929</td>\n",
       "    </tr>\n",
       "    <tr>\n",
       "      <th>27142</th>\n",
       "      <td>0.000683</td>\n",
       "      <td>0.000518</td>\n",
       "      <td>0.000432</td>\n",
       "    </tr>\n",
       "    <tr>\n",
       "      <th>27143</th>\n",
       "      <td>0.001154</td>\n",
       "      <td>0.000511</td>\n",
       "      <td>0.000788</td>\n",
       "    </tr>\n",
       "    <tr>\n",
       "      <th>27144</th>\n",
       "      <td>0.004747</td>\n",
       "      <td>0.001248</td>\n",
       "      <td>0.007041</td>\n",
       "    </tr>\n",
       "  </tbody>\n",
       "</table>\n",
       "<p>27145 rows × 3 columns</p>\n",
       "</div>"
      ],
      "text/plain": [
       "           gbdt        rf      dart\n",
       "0      0.000637  0.000346  0.000318\n",
       "1      0.000846  0.000346  0.000521\n",
       "2      0.007181  0.047323  0.012575\n",
       "3      0.000733  0.000345  0.000503\n",
       "4      0.000846  0.000346  0.000521\n",
       "...         ...       ...       ...\n",
       "27140  0.806413  0.570002  0.848358\n",
       "27141  0.001169  0.000994  0.000929\n",
       "27142  0.000683  0.000518  0.000432\n",
       "27143  0.001154  0.000511  0.000788\n",
       "27144  0.004747  0.001248  0.007041\n",
       "\n",
       "[27145 rows x 3 columns]"
      ]
     },
     "execution_count": 7,
     "metadata": {},
     "output_type": "execute_result"
    }
   ],
   "source": [
    "tr_fs"
   ]
  },
  {
   "cell_type": "code",
   "execution_count": 8,
   "id": "4fa57aa6",
   "metadata": {
    "execution": {
     "iopub.execute_input": "2021-10-02T13:41:52.558062Z",
     "iopub.status.busy": "2021-10-02T13:41:52.557141Z",
     "iopub.status.idle": "2021-10-02T13:41:52.562528Z",
     "shell.execute_reply": "2021-10-02T13:41:52.563113Z",
     "shell.execute_reply.started": "2021-10-02T13:27:44.970798Z"
    },
    "papermill": {
     "duration": 0.027497,
     "end_time": "2021-10-02T13:41:52.563288",
     "exception": false,
     "start_time": "2021-10-02T13:41:52.535791",
     "status": "completed"
    },
    "tags": []
   },
   "outputs": [
    {
     "data": {
      "text/plain": [
       "'te_fs[te_fs.columns[0]] = te_fs[te_fs.columns[0]].apply(lambda x: 1 if x>=border else 0)\\nte_fs[te_fs.columns[1]] = te_fs[te_fs.columns[1]].apply(lambda x: 1 if x>=border else 0)\\nte_fs[te_fs.columns[2]] = te_fs[te_fs.columns[2]].apply(lambda x: 1 if x>=border else 0)\\n'"
      ]
     },
     "execution_count": 8,
     "metadata": {},
     "output_type": "execute_result"
    }
   ],
   "source": [
    "\"\"\"te_fs[te_fs.columns[0]] = te_fs[te_fs.columns[0]].apply(lambda x: 1 if x>=border else 0)\n",
    "te_fs[te_fs.columns[1]] = te_fs[te_fs.columns[1]].apply(lambda x: 1 if x>=border else 0)\n",
    "te_fs[te_fs.columns[2]] = te_fs[te_fs.columns[2]].apply(lambda x: 1 if x>=border else 0)\n",
    "\"\"\""
   ]
  },
  {
   "cell_type": "code",
   "execution_count": 9,
   "id": "e83a110f",
   "metadata": {
    "execution": {
     "iopub.execute_input": "2021-10-02T13:41:52.606027Z",
     "iopub.status.busy": "2021-10-02T13:41:52.605390Z",
     "iopub.status.idle": "2021-10-02T13:41:52.613968Z",
     "shell.execute_reply": "2021-10-02T13:41:52.613408Z",
     "shell.execute_reply.started": "2021-10-02T13:29:28.847559Z"
    },
    "papermill": {
     "duration": 0.031729,
     "end_time": "2021-10-02T13:41:52.614111",
     "exception": false,
     "start_time": "2021-10-02T13:41:52.582382",
     "status": "completed"
    },
    "tags": []
   },
   "outputs": [
    {
     "data": {
      "text/plain": [
       "0        0.0\n",
       "1        0.0\n",
       "2        0.0\n",
       "3        0.0\n",
       "4        0.0\n",
       "        ... \n",
       "40829    0.0\n",
       "40830    0.0\n",
       "40831    0.0\n",
       "40832    0.0\n",
       "40833    0.0\n",
       "Length: 40834, dtype: float64"
      ]
     },
     "execution_count": 9,
     "metadata": {},
     "output_type": "execute_result"
    }
   ],
   "source": [
    "te_fs.mean(axis=1).round()"
   ]
  },
  {
   "cell_type": "code",
   "execution_count": 10,
   "id": "d1a94b5a",
   "metadata": {
    "execution": {
     "iopub.execute_input": "2021-10-02T13:41:52.654857Z",
     "iopub.status.busy": "2021-10-02T13:41:52.654191Z",
     "iopub.status.idle": "2021-10-02T13:41:52.685980Z",
     "shell.execute_reply": "2021-10-02T13:41:52.686587Z",
     "shell.execute_reply.started": "2021-10-02T13:29:37.010177Z"
    },
    "papermill": {
     "duration": 0.054085,
     "end_time": "2021-10-02T13:41:52.686760",
     "exception": false,
     "start_time": "2021-10-02T13:41:52.632675",
     "status": "completed"
    },
    "tags": []
   },
   "outputs": [
    {
     "data": {
      "text/html": [
       "<div>\n",
       "<style scoped>\n",
       "    .dataframe tbody tr th:only-of-type {\n",
       "        vertical-align: middle;\n",
       "    }\n",
       "\n",
       "    .dataframe tbody tr th {\n",
       "        vertical-align: top;\n",
       "    }\n",
       "\n",
       "    .dataframe thead th {\n",
       "        text-align: right;\n",
       "    }\n",
       "</style>\n",
       "<table border=\"1\" class=\"dataframe\">\n",
       "  <thead>\n",
       "    <tr style=\"text-align: right;\">\n",
       "      <th></th>\n",
       "      <th>0</th>\n",
       "      <th>1</th>\n",
       "    </tr>\n",
       "  </thead>\n",
       "  <tbody>\n",
       "    <tr>\n",
       "      <th>0</th>\n",
       "      <td>27145</td>\n",
       "      <td>0</td>\n",
       "    </tr>\n",
       "    <tr>\n",
       "      <th>1</th>\n",
       "      <td>27146</td>\n",
       "      <td>1</td>\n",
       "    </tr>\n",
       "    <tr>\n",
       "      <th>2</th>\n",
       "      <td>27147</td>\n",
       "      <td>1</td>\n",
       "    </tr>\n",
       "    <tr>\n",
       "      <th>3</th>\n",
       "      <td>27148</td>\n",
       "      <td>0</td>\n",
       "    </tr>\n",
       "    <tr>\n",
       "      <th>4</th>\n",
       "      <td>27149</td>\n",
       "      <td>1</td>\n",
       "    </tr>\n",
       "    <tr>\n",
       "      <th>...</th>\n",
       "      <td>...</td>\n",
       "      <td>...</td>\n",
       "    </tr>\n",
       "    <tr>\n",
       "      <th>40829</th>\n",
       "      <td>67974</td>\n",
       "      <td>0</td>\n",
       "    </tr>\n",
       "    <tr>\n",
       "      <th>40830</th>\n",
       "      <td>67975</td>\n",
       "      <td>0</td>\n",
       "    </tr>\n",
       "    <tr>\n",
       "      <th>40831</th>\n",
       "      <td>67976</td>\n",
       "      <td>0</td>\n",
       "    </tr>\n",
       "    <tr>\n",
       "      <th>40832</th>\n",
       "      <td>67977</td>\n",
       "      <td>0</td>\n",
       "    </tr>\n",
       "    <tr>\n",
       "      <th>40833</th>\n",
       "      <td>67978</td>\n",
       "      <td>0</td>\n",
       "    </tr>\n",
       "  </tbody>\n",
       "</table>\n",
       "<p>40834 rows × 2 columns</p>\n",
       "</div>"
      ],
      "text/plain": [
       "           0  1\n",
       "0      27145  0\n",
       "1      27146  1\n",
       "2      27147  1\n",
       "3      27148  0\n",
       "4      27149  1\n",
       "...      ... ..\n",
       "40829  67974  0\n",
       "40830  67975  0\n",
       "40831  67976  0\n",
       "40832  67977  0\n",
       "40833  67978  0\n",
       "\n",
       "[40834 rows x 2 columns]"
      ]
     },
     "execution_count": 10,
     "metadata": {},
     "output_type": "execute_result"
    }
   ],
   "source": [
    "sub = pd.read_csv('../input/signate-spws-2/sample_submit.csv', header=None)\n",
    "sub"
   ]
  },
  {
   "cell_type": "code",
   "execution_count": 11,
   "id": "524856d9",
   "metadata": {
    "execution": {
     "iopub.execute_input": "2021-10-02T13:41:52.728445Z",
     "iopub.status.busy": "2021-10-02T13:41:52.727743Z",
     "iopub.status.idle": "2021-10-02T13:41:52.733697Z",
     "shell.execute_reply": "2021-10-02T13:41:52.733093Z",
     "shell.execute_reply.started": "2021-10-02T13:29:37.857059Z"
    },
    "papermill": {
     "duration": 0.027965,
     "end_time": "2021-10-02T13:41:52.733846",
     "exception": false,
     "start_time": "2021-10-02T13:41:52.705881",
     "status": "completed"
    },
    "tags": []
   },
   "outputs": [
    {
     "data": {
      "text/plain": [
       "0.9121261772088898"
      ]
     },
     "execution_count": 11,
     "metadata": {},
     "output_type": "execute_result"
    }
   ],
   "source": [
    "#gbdt\n",
    "gbdt = (0.9008315368032032+0.934796044499382+0.9023354564755838+0.9006928406466513+0.9219750076196284)/5\n",
    "gbdt"
   ]
  },
  {
   "cell_type": "code",
   "execution_count": 12,
   "id": "498c37b2",
   "metadata": {
    "execution": {
     "iopub.execute_input": "2021-10-02T13:41:52.778935Z",
     "iopub.status.busy": "2021-10-02T13:41:52.778304Z",
     "iopub.status.idle": "2021-10-02T13:41:52.780705Z",
     "shell.execute_reply": "2021-10-02T13:41:52.781289Z",
     "shell.execute_reply.started": "2021-10-02T13:29:38.533395Z"
    },
    "papermill": {
     "duration": 0.028333,
     "end_time": "2021-10-02T13:41:52.781450",
     "exception": false,
     "start_time": "2021-10-02T13:41:52.753117",
     "status": "completed"
    },
    "tags": []
   },
   "outputs": [
    {
     "data": {
      "text/plain": [
       "0.9143805168192797"
      ]
     },
     "execution_count": 12,
     "metadata": {},
     "output_type": "execute_result"
    }
   ],
   "source": [
    "#dart \n",
    "dart = (0.9151414309484194+0.929368029739777+0.9095043201455206+0.8946475397192657+0.9232412635434153)/5\n",
    "dart"
   ]
  },
  {
   "cell_type": "code",
   "execution_count": 13,
   "id": "48834edc",
   "metadata": {
    "execution": {
     "iopub.execute_input": "2021-10-02T13:41:52.826938Z",
     "iopub.status.busy": "2021-10-02T13:41:52.826310Z",
     "iopub.status.idle": "2021-10-02T13:41:52.828592Z",
     "shell.execute_reply": "2021-10-02T13:41:52.829102Z",
     "shell.execute_reply.started": "2021-10-02T13:29:38.932553Z"
    },
    "papermill": {
     "duration": 0.028178,
     "end_time": "2021-10-02T13:41:52.829288",
     "exception": false,
     "start_time": "2021-10-02T13:41:52.801110",
     "status": "completed"
    },
    "tags": []
   },
   "outputs": [
    {
     "data": {
      "text/plain": [
       "0.9003143463853183"
      ]
     },
     "execution_count": 13,
     "metadata": {},
     "output_type": "execute_result"
    }
   ],
   "source": [
    "#rf\n",
    "rf = (0.8975317875841436+0.8964764577486749+0.8917682926829268+0.9169363538295578+0.8988588400812881)/5\n",
    "rf"
   ]
  },
  {
   "cell_type": "code",
   "execution_count": 14,
   "id": "32098ab5",
   "metadata": {
    "execution": {
     "iopub.execute_input": "2021-10-02T13:41:52.873917Z",
     "iopub.status.busy": "2021-10-02T13:41:52.873262Z",
     "iopub.status.idle": "2021-10-02T13:41:52.877111Z",
     "shell.execute_reply": "2021-10-02T13:41:52.876555Z",
     "shell.execute_reply.started": "2021-10-02T13:29:44.104569Z"
    },
    "papermill": {
     "duration": 0.027637,
     "end_time": "2021-10-02T13:41:52.877264",
     "exception": false,
     "start_time": "2021-10-02T13:41:52.849627",
     "status": "completed"
    },
    "tags": []
   },
   "outputs": [],
   "source": [
    "SUM = gbdt+rf+dart"
   ]
  },
  {
   "cell_type": "code",
   "execution_count": 15,
   "id": "18e4c3a5",
   "metadata": {
    "execution": {
     "iopub.execute_input": "2021-10-02T13:41:52.923286Z",
     "iopub.status.busy": "2021-10-02T13:41:52.922640Z",
     "iopub.status.idle": "2021-10-02T13:41:52.928506Z",
     "shell.execute_reply": "2021-10-02T13:41:52.927926Z",
     "shell.execute_reply.started": "2021-10-02T13:34:23.10013Z"
    },
    "papermill": {
     "duration": 0.030956,
     "end_time": "2021-10-02T13:41:52.928640",
     "exception": false,
     "start_time": "2021-10-02T13:41:52.897684",
     "status": "completed"
    },
    "tags": []
   },
   "outputs": [],
   "source": [
    "result = te_fs['gbdt'].values*(gbdt/SUM)+te_fs['dart'].values*(dart/SUM)+te_fs['rf'].values*(rf/SUM)"
   ]
  },
  {
   "cell_type": "code",
   "execution_count": 16,
   "id": "78eebe42",
   "metadata": {
    "execution": {
     "iopub.execute_input": "2021-10-02T13:41:52.974815Z",
     "iopub.status.busy": "2021-10-02T13:41:52.974066Z",
     "iopub.status.idle": "2021-10-02T13:41:52.977758Z",
     "shell.execute_reply": "2021-10-02T13:41:52.977217Z",
     "shell.execute_reply.started": "2021-10-02T13:34:23.968755Z"
    },
    "papermill": {
     "duration": 0.029175,
     "end_time": "2021-10-02T13:41:52.977888",
     "exception": false,
     "start_time": "2021-10-02T13:41:52.948713",
     "status": "completed"
    },
    "tags": []
   },
   "outputs": [
    {
     "data": {
      "text/plain": [
       "array([0.00057591, 0.00055187, 0.00051805, ..., 0.00100249, 0.02941149,\n",
       "       0.00448484])"
      ]
     },
     "execution_count": 16,
     "metadata": {},
     "output_type": "execute_result"
    }
   ],
   "source": [
    "result"
   ]
  },
  {
   "cell_type": "code",
   "execution_count": 17,
   "id": "fea6a218",
   "metadata": {
    "execution": {
     "iopub.execute_input": "2021-10-02T13:41:53.058218Z",
     "iopub.status.busy": "2021-10-02T13:41:53.027350Z",
     "iopub.status.idle": "2021-10-02T13:41:53.141048Z",
     "shell.execute_reply": "2021-10-02T13:41:53.140122Z",
     "shell.execute_reply.started": "2021-10-02T13:34:31.144624Z"
    },
    "papermill": {
     "duration": 0.142572,
     "end_time": "2021-10-02T13:41:53.141248",
     "exception": false,
     "start_time": "2021-10-02T13:41:52.998676",
     "status": "completed"
    },
    "tags": []
   },
   "outputs": [],
   "source": [
    "sub[1] = result\n",
    "sub[sub.columns[1]] = sub[sub.columns[1]].apply(lambda x: 1 if x>=border else 0)\n",
    "\n",
    "sub.to_csv('Phase_1_weight.csv', index=False, header=None)"
   ]
  },
  {
   "cell_type": "code",
   "execution_count": 18,
   "id": "76291a80",
   "metadata": {
    "execution": {
     "iopub.execute_input": "2021-10-02T13:41:53.194809Z",
     "iopub.status.busy": "2021-10-02T13:41:53.193963Z",
     "iopub.status.idle": "2021-10-02T13:41:53.205149Z",
     "shell.execute_reply": "2021-10-02T13:41:53.204426Z",
     "shell.execute_reply.started": "2021-10-02T13:33:41.064021Z"
    },
    "papermill": {
     "duration": 0.042885,
     "end_time": "2021-10-02T13:41:53.205376",
     "exception": false,
     "start_time": "2021-10-02T13:41:53.162491",
     "status": "completed"
    },
    "tags": []
   },
   "outputs": [
    {
     "data": {
      "text/html": [
       "<div>\n",
       "<style scoped>\n",
       "    .dataframe tbody tr th:only-of-type {\n",
       "        vertical-align: middle;\n",
       "    }\n",
       "\n",
       "    .dataframe tbody tr th {\n",
       "        vertical-align: top;\n",
       "    }\n",
       "\n",
       "    .dataframe thead th {\n",
       "        text-align: right;\n",
       "    }\n",
       "</style>\n",
       "<table border=\"1\" class=\"dataframe\">\n",
       "  <thead>\n",
       "    <tr style=\"text-align: right;\">\n",
       "      <th></th>\n",
       "      <th>0</th>\n",
       "      <th>1</th>\n",
       "    </tr>\n",
       "  </thead>\n",
       "  <tbody>\n",
       "    <tr>\n",
       "      <th>0</th>\n",
       "      <td>27145</td>\n",
       "      <td>0</td>\n",
       "    </tr>\n",
       "    <tr>\n",
       "      <th>1</th>\n",
       "      <td>27146</td>\n",
       "      <td>0</td>\n",
       "    </tr>\n",
       "    <tr>\n",
       "      <th>2</th>\n",
       "      <td>27147</td>\n",
       "      <td>0</td>\n",
       "    </tr>\n",
       "    <tr>\n",
       "      <th>3</th>\n",
       "      <td>27148</td>\n",
       "      <td>0</td>\n",
       "    </tr>\n",
       "    <tr>\n",
       "      <th>4</th>\n",
       "      <td>27149</td>\n",
       "      <td>0</td>\n",
       "    </tr>\n",
       "    <tr>\n",
       "      <th>...</th>\n",
       "      <td>...</td>\n",
       "      <td>...</td>\n",
       "    </tr>\n",
       "    <tr>\n",
       "      <th>40829</th>\n",
       "      <td>67974</td>\n",
       "      <td>0</td>\n",
       "    </tr>\n",
       "    <tr>\n",
       "      <th>40830</th>\n",
       "      <td>67975</td>\n",
       "      <td>0</td>\n",
       "    </tr>\n",
       "    <tr>\n",
       "      <th>40831</th>\n",
       "      <td>67976</td>\n",
       "      <td>0</td>\n",
       "    </tr>\n",
       "    <tr>\n",
       "      <th>40832</th>\n",
       "      <td>67977</td>\n",
       "      <td>1</td>\n",
       "    </tr>\n",
       "    <tr>\n",
       "      <th>40833</th>\n",
       "      <td>67978</td>\n",
       "      <td>0</td>\n",
       "    </tr>\n",
       "  </tbody>\n",
       "</table>\n",
       "<p>40834 rows × 2 columns</p>\n",
       "</div>"
      ],
      "text/plain": [
       "           0  1\n",
       "0      27145  0\n",
       "1      27146  0\n",
       "2      27147  0\n",
       "3      27148  0\n",
       "4      27149  0\n",
       "...      ... ..\n",
       "40829  67974  0\n",
       "40830  67975  0\n",
       "40831  67976  0\n",
       "40832  67977  1\n",
       "40833  67978  0\n",
       "\n",
       "[40834 rows x 2 columns]"
      ]
     },
     "execution_count": 18,
     "metadata": {},
     "output_type": "execute_result"
    }
   ],
   "source": [
    "sub"
   ]
  },
  {
   "cell_type": "code",
   "execution_count": null,
   "id": "c3630316",
   "metadata": {
    "papermill": {
     "duration": 0.02552,
     "end_time": "2021-10-02T13:41:53.263518",
     "exception": false,
     "start_time": "2021-10-02T13:41:53.237998",
     "status": "completed"
    },
    "tags": []
   },
   "outputs": [],
   "source": []
  }
 ],
 "metadata": {
  "kernelspec": {
   "display_name": "Python 3",
   "language": "python",
   "name": "python3"
  },
  "language_info": {
   "codemirror_mode": {
    "name": "ipython",
    "version": 3
   },
   "file_extension": ".py",
   "mimetype": "text/x-python",
   "name": "python",
   "nbconvert_exporter": "python",
   "pygments_lexer": "ipython3",
   "version": "3.7.10"
  },
  "papermill": {
   "default_parameters": {},
   "duration": 10.26181,
   "end_time": "2021-10-02T13:41:53.799708",
   "environment_variables": {},
   "exception": null,
   "input_path": "__notebook__.ipynb",
   "output_path": "__notebook__.ipynb",
   "parameters": {},
   "start_time": "2021-10-02T13:41:43.537898",
   "version": "2.3.3"
  }
 },
 "nbformat": 4,
 "nbformat_minor": 5
}
