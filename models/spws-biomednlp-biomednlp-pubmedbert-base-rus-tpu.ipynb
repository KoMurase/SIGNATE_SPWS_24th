{
 "cells": [
  {
   "cell_type": "code",
   "execution_count": 1,
   "id": "5dab2598",
   "metadata": {
    "execution": {
     "iopub.execute_input": "2021-08-23T15:37:31.216346Z",
     "iopub.status.busy": "2021-08-23T15:37:31.215256Z",
     "iopub.status.idle": "2021-08-23T15:37:39.199052Z",
     "shell.execute_reply": "2021-08-23T15:37:39.197633Z",
     "shell.execute_reply.started": "2021-08-10T10:36:53.681646Z"
    },
    "id": "ab46e4c6",
    "outputId": "6a520a41-a917-4351-f33a-415415f221db",
    "papermill": {
     "duration": 8.011784,
     "end_time": "2021-08-23T15:37:39.199220",
     "exception": false,
     "start_time": "2021-08-23T15:37:31.187436",
     "status": "completed"
    },
    "tags": []
   },
   "outputs": [
    {
     "name": "stdout",
     "output_type": "stream",
     "text": [
      "\u001b[33mWARNING: Running pip as root will break packages and permissions. You should install packages reliably by using venv: https://pip.pypa.io/warnings/venv\u001b[0m\r\n"
     ]
    }
   ],
   "source": [
    "\n",
    "!pip install -q transformers"
   ]
  },
  {
   "cell_type": "markdown",
   "id": "69d8404f",
   "metadata": {
    "id": "624ab59d",
    "papermill": {
     "duration": 0.022618,
     "end_time": "2021-08-23T15:37:39.245292",
     "exception": false,
     "start_time": "2021-08-23T15:37:39.222674",
     "status": "completed"
    },
    "tags": []
   },
   "source": [
    "reference : \n",
    "\n",
    "https://colab.research.google.com/drive/19loLGUDjxGKy4ulZJ1m3hALq2ozNyEGe#scrollTo=oJFsRo_vGDYU\n",
    "\n",
    "https://www.kaggle.com/piantic/pytorch-tpu"
   ]
  },
  {
   "cell_type": "code",
   "execution_count": 2,
   "id": "de898801",
   "metadata": {
    "execution": {
     "iopub.execute_input": "2021-08-23T15:37:39.300787Z",
     "iopub.status.busy": "2021-08-23T15:37:39.300051Z",
     "iopub.status.idle": "2021-08-23T15:38:45.578975Z",
     "shell.execute_reply": "2021-08-23T15:38:45.578485Z"
    },
    "id": "b952835e",
    "outputId": "da56a03e-174c-4002-a22e-66a740c72299",
    "papermill": {
     "duration": 66.311312,
     "end_time": "2021-08-23T15:38:45.579141",
     "exception": false,
     "start_time": "2021-08-23T15:37:39.267829",
     "status": "completed"
    },
    "tags": []
   },
   "outputs": [
    {
     "name": "stdout",
     "output_type": "stream",
     "text": [
      "  % Total    % Received % Xferd  Average Speed   Time    Time     Time  Current\r\n",
      "                                 Dload  Upload   Total   Spent    Left  Speed\r\n",
      "100  5116  100  5116    0     0  66441      0 --:--:-- --:--:-- --:--:-- 66441\r\n",
      "Updating... This may take around 2 minutes.\r\n",
      "Updating TPU runtime to pytorch-dev20200515 ...\r\n",
      "Found existing installation: torch 1.7.0\r\n",
      "Uninstalling torch-1.7.0:\r\n",
      "  Successfully uninstalled torch-1.7.0\r\n",
      "Found existing installation: torchvision 0.8.1\r\n",
      "Uninstalling torchvision-0.8.1:\r\n",
      "  Successfully uninstalled torchvision-0.8.1\r\n",
      "\u001b[33mWARNING: Running pip as root will break packages and permissions. You should install packages reliably by using venv: https://pip.pypa.io/warnings/venv\u001b[0m\r\n",
      "Done updating TPU runtime\r\n",
      "Copying gs://tpu-pytorch/wheels/torch-nightly+20200515-cp37-cp37m-linux_x86_64.whl...\r\n",
      "\r\n",
      "Operation completed over 1 objects/91.0 MiB.                                     \r\n",
      "Copying gs://tpu-pytorch/wheels/torch_xla-nightly+20200515-cp37-cp37m-linux_x86_64.whl...\r\n",
      "\r\n",
      "Operation completed over 1 objects/119.5 MiB.                                    \r\n",
      "Copying gs://tpu-pytorch/wheels/torchvision-nightly+20200515-cp37-cp37m-linux_x86_64.whl...\r\n",
      "\r\n",
      "Operation completed over 1 objects/2.3 MiB.                                      \r\n",
      "Processing ./torch-nightly+20200515-cp37-cp37m-linux_x86_64.whl\r\n",
      "Requirement already satisfied: future in /opt/conda/lib/python3.7/site-packages (from torch==nightly+20200515) (0.18.2)\r\n",
      "Requirement already satisfied: numpy in /opt/conda/lib/python3.7/site-packages (from torch==nightly+20200515) (1.19.5)\r\n",
      "Installing collected packages: torch\r\n",
      "\u001b[31mERROR: pip's dependency resolver does not currently take into account all the packages that are installed. This behaviour is the source of the following dependency conflicts.\r\n",
      "fastai 2.2.7 requires torchvision<0.9,>=0.8, which is not installed.\r\n",
      "easyocr 1.3.2 requires torchvision>=0.5, which is not installed.\r\n",
      "allennlp 2.5.0 requires torchvision<0.10.0,>=0.8.1, which is not installed.\r\n",
      "kornia 0.5.5 requires numpy<=1.19, but you have numpy 1.19.5 which is incompatible.\r\n",
      "kornia 0.5.5 requires torch>=1.6.0, but you have torch 1.6.0a0+bf2bbd9 which is incompatible.\r\n",
      "fastai 2.2.7 requires torch<1.8,>=1.7.0, but you have torch 1.6.0a0+bf2bbd9 which is incompatible.\r\n",
      "allennlp 2.5.0 requires torch<1.9.0,>=1.6.0, but you have torch 1.6.0a0+bf2bbd9 which is incompatible.\u001b[0m\r\n",
      "Successfully installed torch-1.6.0a0+bf2bbd9\r\n",
      "\u001b[33mWARNING: Running pip as root will break packages and permissions. You should install packages reliably by using venv: https://pip.pypa.io/warnings/venv\u001b[0m\r\n",
      "Processing ./torch_xla-nightly+20200515-cp37-cp37m-linux_x86_64.whl\r\n",
      "Installing collected packages: torch-xla\r\n",
      "Successfully installed torch-xla-1.6+2b2085a\r\n",
      "\u001b[33mWARNING: Running pip as root will break packages and permissions. You should install packages reliably by using venv: https://pip.pypa.io/warnings/venv\u001b[0m\r\n",
      "Processing ./torchvision-nightly+20200515-cp37-cp37m-linux_x86_64.whl\r\n",
      "Requirement already satisfied: numpy in /opt/conda/lib/python3.7/site-packages (from torchvision==nightly+20200515) (1.19.5)\r\n",
      "Requirement already satisfied: torch in /opt/conda/lib/python3.7/site-packages (from torchvision==nightly+20200515) (1.6.0a0+bf2bbd9)\r\n",
      "Requirement already satisfied: pillow>=4.1.1 in /opt/conda/lib/python3.7/site-packages (from torchvision==nightly+20200515) (8.2.0)\r\n",
      "Requirement already satisfied: future in /opt/conda/lib/python3.7/site-packages (from torch->torchvision==nightly+20200515) (0.18.2)\r\n",
      "Installing collected packages: torchvision\r\n",
      "\u001b[31mERROR: pip's dependency resolver does not currently take into account all the packages that are installed. This behaviour is the source of the following dependency conflicts.\r\n",
      "fastai 2.2.7 requires torch<1.8,>=1.7.0, but you have torch 1.6.0a0+bf2bbd9 which is incompatible.\r\n",
      "fastai 2.2.7 requires torchvision<0.9,>=0.8, but you have torchvision 0.7.0a0+a6073f0 which is incompatible.\r\n",
      "allennlp 2.5.0 requires torch<1.9.0,>=1.6.0, but you have torch 1.6.0a0+bf2bbd9 which is incompatible.\r\n",
      "allennlp 2.5.0 requires torchvision<0.10.0,>=0.8.1, but you have torchvision 0.7.0a0+a6073f0 which is incompatible.\u001b[0m\r\n",
      "Successfully installed torchvision-0.7.0a0+a6073f0\r\n",
      "\u001b[33mWARNING: Running pip as root will break packages and permissions. You should install packages reliably by using venv: https://pip.pypa.io/warnings/venv\u001b[0m\r\n",
      "\r\n",
      "\r\n",
      "\r\n",
      "The following NEW packages will be installed:\r\n",
      "  libomp5 libopenblas-dev\r\n",
      "0 upgraded, 2 newly installed, 0 to remove and 8 not upgraded.\r\n",
      "Need to get 4094 kB of archives.\r\n",
      "After this operation, 54.2 MB of additional disk space will be used.\r\n",
      "Get:1 http://archive.ubuntu.com/ubuntu bionic/universe amd64 libopenblas-dev amd64 0.2.20+ds-4 [3860 kB]\r\n",
      "Get:2 http://archive.ubuntu.com/ubuntu bionic/universe amd64 libomp5 amd64 5.0.1-1 [234 kB]\r\n",
      "Fetched 4094 kB in 1s (3111 kB/s)\r\n",
      "debconf: delaying package configuration, since apt-utils is not installed\r\n",
      "Selecting previously unselected package libopenblas-dev:amd64.\r\n",
      "(Reading database ... 96799 files and directories currently installed.)\r\n",
      "Preparing to unpack .../libopenblas-dev_0.2.20+ds-4_amd64.deb ...\r\n",
      "Unpacking libopenblas-dev:amd64 (0.2.20+ds-4) ...\r\n",
      "Selecting previously unselected package libomp5:amd64.\r\n",
      "Preparing to unpack .../libomp5_5.0.1-1_amd64.deb ...\r\n",
      "Unpacking libomp5:amd64 (5.0.1-1) ...\r\n",
      "Setting up libomp5:amd64 (5.0.1-1) ...\r\n",
      "Setting up libopenblas-dev:amd64 (0.2.20+ds-4) ...\r\n",
      "update-alternatives: using /usr/lib/x86_64-linux-gnu/openblas/libblas.so to provide /usr/lib/x86_64-linux-gnu/libblas.so (libblas.so-x86_64-linux-gnu) in auto mode\r\n",
      "update-alternatives: using /usr/lib/x86_64-linux-gnu/openblas/liblapack.so to provide /usr/lib/x86_64-linux-gnu/liblapack.so (liblapack.so-x86_64-linux-gnu) in auto mode\r\n",
      "Processing triggers for libc-bin (2.27-3ubuntu1.4) ...\r\n"
     ]
    }
   ],
   "source": [
    "# for TPU\n",
    "!curl https://raw.githubusercontent.com/pytorch/xla/master/contrib/scripts/env-setup.py -o pytorch-xla-env-setup.py\n",
    "!python pytorch-xla-env-setup.py --apt-packages libomp5 libopenblas-dev"
   ]
  },
  {
   "cell_type": "code",
   "execution_count": 3,
   "id": "e6f82698",
   "metadata": {
    "execution": {
     "iopub.execute_input": "2021-08-23T15:38:45.664426Z",
     "iopub.status.busy": "2021-08-23T15:38:45.663514Z",
     "iopub.status.idle": "2021-08-23T15:38:47.439135Z",
     "shell.execute_reply": "2021-08-23T15:38:47.438457Z",
     "shell.execute_reply.started": "2021-08-10T10:37:03.37204Z"
    },
    "id": "a9c9799d",
    "papermill": {
     "duration": 1.820864,
     "end_time": "2021-08-23T15:38:47.439301",
     "exception": false,
     "start_time": "2021-08-23T15:38:45.618437",
     "status": "completed"
    },
    "tags": []
   },
   "outputs": [],
   "source": [
    "import os \n",
    "import sys\n",
    "\n",
    "import math\n",
    "import random\n",
    "import time\n",
    "import warnings\n",
    "\n",
    "import numpy as np\n",
    "import pandas as pd\n",
    "import torch\n",
    "import torch.nn as nn\n",
    "import transformers as T\n",
    "from sklearn.metrics import fbeta_score\n",
    "from sklearn.model_selection import StratifiedKFold\n",
    "from torch.utils.data import DataLoader, Dataset\n",
    "from tqdm.notebook import tqdm\n",
    "\n",
    "import seaborn as sns\n",
    "\n",
    "from imblearn.under_sampling import RandomUnderSampler\n"
   ]
  },
  {
   "cell_type": "code",
   "execution_count": 4,
   "id": "08a4cb5e",
   "metadata": {
    "execution": {
     "iopub.execute_input": "2021-08-23T15:38:47.522792Z",
     "iopub.status.busy": "2021-08-23T15:38:47.522179Z",
     "iopub.status.idle": "2021-08-23T15:38:47.524028Z",
     "shell.execute_reply": "2021-08-23T15:38:47.524451Z",
     "shell.execute_reply.started": "2021-08-10T10:37:06.339881Z"
    },
    "id": "0478d462",
    "papermill": {
     "duration": 0.045995,
     "end_time": "2021-08-23T15:38:47.524607",
     "exception": false,
     "start_time": "2021-08-23T15:38:47.478612",
     "status": "completed"
    },
    "tags": []
   },
   "outputs": [],
   "source": [
    "warnings.filterwarnings(\"ignore\")"
   ]
  },
  {
   "cell_type": "code",
   "execution_count": 5,
   "id": "763cc5d4",
   "metadata": {
    "execution": {
     "iopub.execute_input": "2021-08-23T15:38:47.605634Z",
     "iopub.status.busy": "2021-08-23T15:38:47.604983Z",
     "iopub.status.idle": "2021-08-23T15:38:55.278040Z",
     "shell.execute_reply": "2021-08-23T15:38:55.277429Z",
     "shell.execute_reply.started": "2021-08-10T10:37:06.348927Z"
    },
    "id": "0577bd3b",
    "outputId": "c491b8ee-54f1-4c06-f571-c0fe69a9c7b3",
    "papermill": {
     "duration": 7.714841,
     "end_time": "2021-08-23T15:38:55.278181",
     "exception": false,
     "start_time": "2021-08-23T15:38:47.563340",
     "status": "completed"
    },
    "tags": []
   },
   "outputs": [
    {
     "name": "stdout",
     "output_type": "stream",
     "text": [
      "xla:1\n"
     ]
    }
   ],
   "source": [
    "# imports the torch_xla package\n",
    "import torch_xla\n",
    "import torch_xla.core.xla_model as xm\n",
    "\n",
    "device = xm.xla_device()\n",
    "torch.set_default_tensor_type('torch.FloatTensor')\n",
    "\n",
    "\n",
    "print(device)\n",
    "#device = torch.device(\"cuda\" if torch.cuda.is_available() else \"cpu\")"
   ]
  },
  {
   "cell_type": "code",
   "execution_count": 6,
   "id": "f83d57b6",
   "metadata": {
    "execution": {
     "iopub.execute_input": "2021-08-23T15:38:55.363194Z",
     "iopub.status.busy": "2021-08-23T15:38:55.361902Z",
     "iopub.status.idle": "2021-08-23T15:38:55.364858Z",
     "shell.execute_reply": "2021-08-23T15:38:55.364295Z",
     "shell.execute_reply.started": "2021-08-10T10:37:06.411171Z"
    },
    "id": "83f2e5e6",
    "papermill": {
     "duration": 0.047192,
     "end_time": "2021-08-23T15:38:55.364985",
     "exception": false,
     "start_time": "2021-08-23T15:38:55.317793",
     "status": "completed"
    },
    "tags": []
   },
   "outputs": [],
   "source": [
    "DATA_DIR = \"../input/signate-spws-2/\"\n",
    "OUTPUT_DIR = \"./\"\n",
    "\n",
    "#../input/signate-spws-2/train.csv"
   ]
  },
  {
   "cell_type": "code",
   "execution_count": 7,
   "id": "ae42a7d7",
   "metadata": {
    "execution": {
     "iopub.execute_input": "2021-08-23T15:38:55.453375Z",
     "iopub.status.busy": "2021-08-23T15:38:55.452735Z",
     "iopub.status.idle": "2021-08-23T15:38:57.818460Z",
     "shell.execute_reply": "2021-08-23T15:38:57.817610Z",
     "shell.execute_reply.started": "2021-08-10T10:37:06.424013Z"
    },
    "id": "414e9b96",
    "papermill": {
     "duration": 2.413268,
     "end_time": "2021-08-23T15:38:57.818613",
     "exception": false,
     "start_time": "2021-08-23T15:38:55.405345",
     "status": "completed"
    },
    "tags": []
   },
   "outputs": [],
   "source": [
    "DEBUG = False\n",
    "\n",
    "if DEBUG:\n",
    "  train = pd.read_csv(DATA_DIR + \"train.csv\").sample(20).reset_index(drop=True)\n",
    "  test = pd.read_csv(DATA_DIR + \"test.csv\").sample(20).reset_index(drop=True)\n",
    "  sub = pd.read_csv(DATA_DIR + \"sample_submit.csv\", header=None).sample(20).reset_index(drop=True)\n",
    "  sub.columns = [\"id\", \"judgement\"]\n",
    "else:\n",
    "  train = pd.read_csv(DATA_DIR + \"train.csv\")\n",
    "  test = pd.read_csv(DATA_DIR + \"test.csv\")\n",
    "  sub = pd.read_csv(DATA_DIR + \"sample_submit.csv\", header=None)\n",
    "  sub.columns = [\"id\", \"judgement\"]"
   ]
  },
  {
   "cell_type": "code",
   "execution_count": 8,
   "id": "b55d3a1a",
   "metadata": {
    "execution": {
     "iopub.execute_input": "2021-08-23T15:38:57.910811Z",
     "iopub.status.busy": "2021-08-23T15:38:57.910080Z",
     "iopub.status.idle": "2021-08-23T15:38:58.339450Z",
     "shell.execute_reply": "2021-08-23T15:38:58.338843Z",
     "shell.execute_reply.started": "2021-08-10T10:37:08.999365Z"
    },
    "id": "db081f03",
    "papermill": {
     "duration": 0.480923,
     "end_time": "2021-08-23T15:38:58.339613",
     "exception": false,
     "start_time": "2021-08-23T15:38:57.858690",
     "status": "completed"
    },
    "tags": []
   },
   "outputs": [],
   "source": [
    "train['text'] = train['title']+ \" \" + train[\"abstract\"].fillna('NaN')\n",
    "train['text_len'] = train['text'].apply(lambda x: len(x.split(' ')))"
   ]
  },
  {
   "cell_type": "code",
   "execution_count": 9,
   "id": "3e1fae26",
   "metadata": {
    "execution": {
     "iopub.execute_input": "2021-08-23T15:38:58.428878Z",
     "iopub.status.busy": "2021-08-23T15:38:58.427836Z",
     "iopub.status.idle": "2021-08-23T15:38:58.433151Z",
     "shell.execute_reply": "2021-08-23T15:38:58.433613Z"
    },
    "papermill": {
     "duration": 0.053064,
     "end_time": "2021-08-23T15:38:58.433770",
     "exception": false,
     "start_time": "2021-08-23T15:38:58.380706",
     "status": "completed"
    },
    "tags": []
   },
   "outputs": [],
   "source": [
    "#データの訂正\n",
    "train.loc[train['id'] == 2488, 'judgement'] = 0\n",
    "train.loc[train['id'] == 7708, 'judgement'] = 0"
   ]
  },
  {
   "cell_type": "code",
   "execution_count": 10,
   "id": "00e90841",
   "metadata": {
    "execution": {
     "iopub.execute_input": "2021-08-23T15:38:58.519027Z",
     "iopub.status.busy": "2021-08-23T15:38:58.518341Z",
     "iopub.status.idle": "2021-08-23T15:38:58.520681Z",
     "shell.execute_reply": "2021-08-23T15:38:58.521140Z"
    },
    "papermill": {
     "duration": 0.048184,
     "end_time": "2021-08-23T15:38:58.521343",
     "exception": false,
     "start_time": "2021-08-23T15:38:58.473159",
     "status": "completed"
    },
    "tags": []
   },
   "outputs": [],
   "source": [
    "def get_train_data(train):\n",
    "    \n",
    "    # 交差検証 用の番号を振ります。\n",
    "    Fold = StratifiedKFold(n_splits=5, shuffle=True, random_state=819)\n",
    "    for n, (train_index, val_index) in enumerate(Fold.split(train, train[\"judgement\"])):\n",
    "        train.loc[val_index, \"fold\"] = int(n)\n",
    "    train[\"fold\"] = train[\"fold\"].astype(np.uint8)\n",
    "\n",
    "    return train"
   ]
  },
  {
   "cell_type": "code",
   "execution_count": 11,
   "id": "8107ff5b",
   "metadata": {
    "execution": {
     "iopub.execute_input": "2021-08-23T15:38:58.605171Z",
     "iopub.status.busy": "2021-08-23T15:38:58.604622Z",
     "iopub.status.idle": "2021-08-23T15:38:58.620068Z",
     "shell.execute_reply": "2021-08-23T15:38:58.619567Z"
    },
    "papermill": {
     "duration": 0.059516,
     "end_time": "2021-08-23T15:38:58.620217",
     "exception": false,
     "start_time": "2021-08-23T15:38:58.560701",
     "status": "completed"
    },
    "tags": []
   },
   "outputs": [],
   "source": [
    "train = get_train_data(train)"
   ]
  },
  {
   "cell_type": "code",
   "execution_count": 12,
   "id": "bc3a7816",
   "metadata": {
    "execution": {
     "iopub.execute_input": "2021-08-23T15:38:58.702126Z",
     "iopub.status.busy": "2021-08-23T15:38:58.701214Z",
     "iopub.status.idle": "2021-08-23T15:38:58.706978Z",
     "shell.execute_reply": "2021-08-23T15:38:58.707422Z",
     "shell.execute_reply.started": "2021-08-10T10:37:20.25743Z"
    },
    "id": "237dc061",
    "papermill": {
     "duration": 0.047973,
     "end_time": "2021-08-23T15:38:58.707571",
     "exception": false,
     "start_time": "2021-08-23T15:38:58.659598",
     "status": "completed"
    },
    "tags": []
   },
   "outputs": [],
   "source": [
    "class config:\n",
    "  if DEBUG:\n",
    "    border = len(train[train[\"judgement\"] == 1]) / len(train[\"judgement\"])\n",
    "    seed = 89\n",
    "    NUM_SPLITS = 5\n",
    "    MAX_LEN = 400\n",
    "    #MODEL_NAME = \"bert-base-uncased\"\n",
    "    MODEL_NAME = \"allenai/scibert_scivocab_uncased\"\n",
    "    TRAIN_BATCH_SIZE = 16\n",
    "    VALID_BATCH_SIZE = 16\n",
    "    \n",
    "    EPOCH = 3\n",
    "\n",
    "  else:\n",
    "    FILENAME = 'EMBO-bio-lm'\n",
    "\n",
    "    #border = len(train[train[\"judgement\"] == 1]) / len(train[\"judgement\"])\n",
    "    border = 0.5\n",
    "    seed = 89\n",
    "    NUM_SPLITS = 5\n",
    "    MAX_LEN = 400\n",
    "    #MODEL_NAME = \"bert-base-uncased\"\n",
    "    #MODEL_NAME = \"allenai/scibert_scivocab_uncased\"\n",
    "    #MODEL_NAME = \"microsoft/BiomedNLP-PubMedBERT-base-uncased-abstract-fulltext\"\n",
    "    #MODEL_NAME = \"RoBERTa-base-PM\" #https://github.com/facebookresearch/bio-lm 上から#×\n",
    "    #MODEL_NAME = \"EMBO/bio-lm\" #×\n",
    "    MODEL_NAME = \"microsoft/BiomedNLP-PubMedBERT-base-uncased-abstract-fulltext\"\n",
    "    TRAIN_BATCH_SIZE = 16\n",
    "    VALID_BATCH_SIZE = 16\n",
    "    \n",
    "    EPOCH = 3\n",
    "    PATIENCE = 5"
   ]
  },
  {
   "cell_type": "code",
   "execution_count": 13,
   "id": "414840c8",
   "metadata": {
    "execution": {
     "iopub.execute_input": "2021-08-23T15:38:58.788319Z",
     "iopub.status.busy": "2021-08-23T15:38:58.787388Z",
     "iopub.status.idle": "2021-08-23T15:38:58.793265Z",
     "shell.execute_reply": "2021-08-23T15:38:58.793713Z",
     "shell.execute_reply.started": "2021-08-10T10:37:20.280318Z"
    },
    "id": "5a56194b",
    "papermill": {
     "duration": 0.04828,
     "end_time": "2021-08-23T15:38:58.793854",
     "exception": false,
     "start_time": "2021-08-23T15:38:58.745574",
     "status": "completed"
    },
    "tags": []
   },
   "outputs": [],
   "source": [
    "def init_logger(log_file=OUTPUT_DIR + f\"{config.FILENAME}_train.log\"):\n",
    "    from logging import INFO, FileHandler, Formatter, StreamHandler, getLogger\n",
    "\n",
    "    logger = getLogger(__name__)\n",
    "    logger.setLevel(INFO)\n",
    "    handler1 = StreamHandler()\n",
    "    handler1.setFormatter(Formatter(\"%(message)s\"))\n",
    "    handler2 = FileHandler(filename=log_file)\n",
    "    handler2.setFormatter(Formatter(\"%(message)s\"))\n",
    "    logger.addHandler(handler1)\n",
    "    logger.addHandler(handler2)\n",
    "    return logger\n",
    "\n",
    "LOGGER = init_logger()"
   ]
  },
  {
   "cell_type": "code",
   "execution_count": 14,
   "id": "06fd163c",
   "metadata": {
    "execution": {
     "iopub.execute_input": "2021-08-23T15:38:58.875890Z",
     "iopub.status.busy": "2021-08-23T15:38:58.874949Z",
     "iopub.status.idle": "2021-08-23T15:38:58.881685Z",
     "shell.execute_reply": "2021-08-23T15:38:58.882315Z",
     "shell.execute_reply.started": "2021-08-10T10:37:20.291624Z"
    },
    "id": "8f476307",
    "papermill": {
     "duration": 0.049547,
     "end_time": "2021-08-23T15:38:58.882532",
     "exception": false,
     "start_time": "2021-08-23T15:38:58.832985",
     "status": "completed"
    },
    "tags": []
   },
   "outputs": [],
   "source": [
    "def seed_torch(seed=42):\n",
    "    random.seed(seed)\n",
    "    os.environ[\"PYTHONHASHSEED\"] = str(seed)\n",
    "    np.random.seed(seed)\n",
    "    torch.manual_seed(seed)\n",
    "    torch.cuda.manual_seed(seed)\n",
    "    torch.cuda.manual_seed_all(seed)\n",
    "    torch.backends.cudnn.deterministic = True\n",
    "\n",
    "seed = config.seed\n",
    "seed_torch(seed)"
   ]
  },
  {
   "cell_type": "code",
   "execution_count": 15,
   "id": "738f0ca2",
   "metadata": {
    "execution": {
     "iopub.execute_input": "2021-08-23T15:38:58.967518Z",
     "iopub.status.busy": "2021-08-23T15:38:58.966582Z",
     "iopub.status.idle": "2021-08-23T15:38:58.972372Z",
     "shell.execute_reply": "2021-08-23T15:38:58.972808Z"
    },
    "id": "wa5HQZjIE2Y6",
    "papermill": {
     "duration": 0.049373,
     "end_time": "2021-08-23T15:38:58.972971",
     "exception": false,
     "start_time": "2021-08-23T15:38:58.923598",
     "status": "completed"
    },
    "tags": []
   },
   "outputs": [],
   "source": [
    "from scipy.optimize import minimize, minimize_scalar\n",
    "def optimize_threshold(y_true, y_pred):\n",
    "    \"\"\"fbeta score計算時のthresholdを最適化\"\"\"\n",
    "    def opt_(x): \n",
    "        return -fbeta_score(y_true, y_pred >= x, beta=7)\n",
    "    #result = minimize(opt_, x0=np.array([0.5]), method='Nelder-Mead')\n",
    "    result = minimize_scalar(opt_, bounds=(0, 0.5), method='bounded') \n",
    "\n",
    "    best_threshold = result['x'].item()\n",
    "    return best_threshold\n"
   ]
  },
  {
   "cell_type": "code",
   "execution_count": null,
   "id": "454ee04c",
   "metadata": {
    "execution": {
     "iopub.execute_input": "2021-08-15T14:15:11.6757Z",
     "iopub.status.busy": "2021-08-15T14:15:11.674688Z",
     "iopub.status.idle": "2021-08-15T14:15:11.677725Z",
     "shell.execute_reply": "2021-08-15T14:15:11.677175Z",
     "shell.execute_reply.started": "2021-08-10T10:37:20.307994Z"
    },
    "id": "e9b4f84d",
    "papermill": {
     "duration": 0.039947,
     "end_time": "2021-08-23T15:38:59.052697",
     "exception": false,
     "start_time": "2021-08-23T15:38:59.012750",
     "status": "completed"
    },
    "tags": []
   },
   "outputs": [],
   "source": []
  },
  {
   "cell_type": "code",
   "execution_count": 16,
   "id": "0be7fdb0",
   "metadata": {
    "execution": {
     "iopub.execute_input": "2021-08-23T15:38:59.135480Z",
     "iopub.status.busy": "2021-08-23T15:38:59.134547Z",
     "iopub.status.idle": "2021-08-23T15:38:59.143331Z",
     "shell.execute_reply": "2021-08-23T15:38:59.143812Z",
     "shell.execute_reply.started": "2021-08-10T10:37:20.341266Z"
    },
    "id": "82a6780e",
    "papermill": {
     "duration": 0.052285,
     "end_time": "2021-08-23T15:38:59.143978",
     "exception": false,
     "start_time": "2021-08-23T15:38:59.091693",
     "status": "completed"
    },
    "tags": []
   },
   "outputs": [],
   "source": [
    "class BaseDataset(Dataset):\n",
    "    def __init__(self, df, model_name, include_labels=True):\n",
    "        tokenizer = T.BertTokenizer.from_pretrained(model_name)\n",
    "\n",
    "        self.df = df\n",
    "        self.include_labels = include_labels\n",
    "\n",
    "        #self.title = df[\"title\"].tolist()\n",
    "        df[\"text\"] = df[\"title\"]+\" \"+df[\"abstract\"].fillna('NaN')\n",
    "        #self.title = df[\"text\"].tolist()\n",
    "        self.text = df[\"text\"].tolist()\n",
    "\n",
    "        self.encoded = tokenizer.batch_encode_plus(\n",
    "            self.text,\n",
    "            padding = 'max_length',            \n",
    "            max_length = config.MAX_LEN,\n",
    "            truncation = True,\n",
    "            return_attention_mask=True\n",
    "        )\n",
    "        \n",
    "        if self.include_labels:\n",
    "            self.labels = df[\"judgement\"].values\n",
    "\n",
    "    def __len__(self):\n",
    "        return len(self.df)\n",
    "\n",
    "    def __getitem__(self, idx):\n",
    "        input_ids = torch.tensor(self.encoded['input_ids'][idx])\n",
    "        attention_mask = torch.tensor(self.encoded['attention_mask'][idx])\n",
    "\n",
    "        if self.include_labels:\n",
    "            label = torch.tensor(self.labels[idx]).float()\n",
    "            return input_ids, attention_mask, label\n",
    "\n",
    "        return input_ids, attention_mask"
   ]
  },
  {
   "cell_type": "code",
   "execution_count": 17,
   "id": "aab85f7a",
   "metadata": {
    "execution": {
     "iopub.execute_input": "2021-08-23T15:38:59.226674Z",
     "iopub.status.busy": "2021-08-23T15:38:59.225772Z",
     "iopub.status.idle": "2021-08-23T15:38:59.231415Z",
     "shell.execute_reply": "2021-08-23T15:38:59.231802Z",
     "shell.execute_reply.started": "2021-08-10T10:37:20.356505Z"
    },
    "id": "d7b912ee",
    "papermill": {
     "duration": 0.048676,
     "end_time": "2021-08-23T15:38:59.231963",
     "exception": false,
     "start_time": "2021-08-23T15:38:59.183287",
     "status": "completed"
    },
    "tags": []
   },
   "outputs": [],
   "source": [
    "class BaseModel(nn.Module):\n",
    "    def __init__(self, model_name):\n",
    "        super().__init__()\n",
    "\n",
    "        self.model = T.BertForSequenceClassification.from_pretrained(model_name, num_labels=1)\n",
    "        self.sigmoid = nn.Sigmoid()\n",
    "\n",
    "    def forward(self, input_ids, attention_mask):\n",
    "        out = self.model(input_ids=input_ids, attention_mask=attention_mask)\n",
    "        out = self.sigmoid(out.logits).squeeze()\n",
    "\n",
    "        return out"
   ]
  },
  {
   "cell_type": "code",
   "execution_count": 18,
   "id": "7dbeb4e6",
   "metadata": {
    "execution": {
     "iopub.execute_input": "2021-08-23T15:38:59.313252Z",
     "iopub.status.busy": "2021-08-23T15:38:59.312431Z",
     "iopub.status.idle": "2021-08-23T15:38:59.319851Z",
     "shell.execute_reply": "2021-08-23T15:38:59.320366Z",
     "shell.execute_reply.started": "2021-08-10T10:37:20.370564Z"
    },
    "id": "174d6b70",
    "papermill": {
     "duration": 0.049531,
     "end_time": "2021-08-23T15:38:59.320542",
     "exception": false,
     "start_time": "2021-08-23T15:38:59.271011",
     "status": "completed"
    },
    "tags": []
   },
   "outputs": [],
   "source": [
    "class AverageMeter(object):\n",
    "    \"\"\"Computes and stores the average and current value\"\"\"\n",
    "\n",
    "    def __init__(self):\n",
    "        self.reset()\n",
    "\n",
    "    def reset(self):\n",
    "        self.val = 0\n",
    "        self.avg = 0\n",
    "        self.sum = 0\n",
    "        self.count = 0\n",
    "\n",
    "    def update(self, val, n=1):\n",
    "        self.val = val\n",
    "        self.sum += val * n\n",
    "        self.count += n\n",
    "        self.avg = self.sum / self.count\n",
    "\n",
    "\n",
    "def asMinutes(s):\n",
    "    m = math.floor(s / 60)\n",
    "    s -= m * 60\n",
    "    return \"%dm %ds\" % (m, s)\n",
    "\n",
    "\n",
    "def timeSince(since, percent):\n",
    "    now = time.time()\n",
    "    s = now - since\n",
    "    es = s / (percent)\n",
    "    rs = es - s\n",
    "    return \"%s (remain %s)\" % (asMinutes(s), asMinutes(rs))"
   ]
  },
  {
   "cell_type": "code",
   "execution_count": null,
   "id": "5c02418e",
   "metadata": {
    "papermill": {
     "duration": 0.043007,
     "end_time": "2021-08-23T15:38:59.404538",
     "exception": false,
     "start_time": "2021-08-23T15:38:59.361531",
     "status": "completed"
    },
    "tags": []
   },
   "outputs": [],
   "source": []
  },
  {
   "cell_type": "code",
   "execution_count": 19,
   "id": "bcefe7c7",
   "metadata": {
    "execution": {
     "iopub.execute_input": "2021-08-23T15:38:59.490026Z",
     "iopub.status.busy": "2021-08-23T15:38:59.489337Z",
     "iopub.status.idle": "2021-08-23T15:38:59.496308Z",
     "shell.execute_reply": "2021-08-23T15:38:59.496745Z",
     "shell.execute_reply.started": "2021-08-10T10:37:20.385135Z"
    },
    "id": "ee73c5ea",
    "papermill": {
     "duration": 0.050761,
     "end_time": "2021-08-23T15:38:59.496931",
     "exception": false,
     "start_time": "2021-08-23T15:38:59.446170",
     "status": "completed"
    },
    "tags": []
   },
   "outputs": [],
   "source": [
    "def train_fn(train_loader, model, criterion, optimizer, epoch, device):\n",
    "    start = end = time.time()\n",
    "    losses = AverageMeter()\n",
    "\n",
    "    # switch to train mode\n",
    "    model.train()\n",
    "\n",
    "    for step, (input_ids, attention_mask, labels) in enumerate(train_loader):\n",
    "        optimizer.zero_grad()\n",
    "\n",
    "        input_ids = input_ids.to(device)\n",
    "        attention_mask = attention_mask.to(device)\n",
    "        labels = labels.to(device)\n",
    "        batch_size = labels.size(0)\n",
    "\n",
    "        y_preds = model(input_ids, attention_mask)\n",
    "\n",
    "        loss = criterion(y_preds, labels)\n",
    "\n",
    "        # record loss\n",
    "        losses.update(loss.item(), batch_size)\n",
    "        loss.backward()\n",
    "\n",
    "        #optimizer.step()\n",
    "        xm.optimizer_step(optimizer, barrier=True)\n",
    "\n",
    "        if step % 100 == 0 or step == (len(train_loader) - 1):\n",
    "            print(\n",
    "                f\"Epoch: [{epoch + 1}][{step}/{len(train_loader)}] \"\n",
    "                f\"Elapsed {timeSince(start, float(step + 1) / len(train_loader)):s} \"\n",
    "                f\"Loss: {losses.avg:.4f} \"\n",
    "            )\n",
    "\n",
    "    return losses.avg"
   ]
  },
  {
   "cell_type": "code",
   "execution_count": 20,
   "id": "9779cfa4",
   "metadata": {
    "execution": {
     "iopub.execute_input": "2021-08-23T15:38:59.582083Z",
     "iopub.status.busy": "2021-08-23T15:38:59.581395Z",
     "iopub.status.idle": "2021-08-23T15:38:59.588734Z",
     "shell.execute_reply": "2021-08-23T15:38:59.589205Z",
     "shell.execute_reply.started": "2021-08-10T10:37:20.401518Z"
    },
    "id": "32f00ab4",
    "papermill": {
     "duration": 0.05131,
     "end_time": "2021-08-23T15:38:59.589373",
     "exception": false,
     "start_time": "2021-08-23T15:38:59.538063",
     "status": "completed"
    },
    "tags": []
   },
   "outputs": [],
   "source": [
    "def valid_fn(valid_loader, model, criterion, device):\n",
    "    start = end = time.time()\n",
    "    losses = AverageMeter()\n",
    "\n",
    "    # switch to evaluation mode\n",
    "    model.eval()\n",
    "    preds = []\n",
    "\n",
    "    for step, (input_ids, attention_mask, labels) in enumerate(valid_loader):\n",
    "        input_ids = input_ids.to(device)\n",
    "        attention_mask = attention_mask.to(device)\n",
    "        labels = labels.to(device)\n",
    "        batch_size = labels.size(0)\n",
    "\n",
    "        # compute loss\n",
    "        with torch.no_grad():\n",
    "            y_preds = model(input_ids, attention_mask)\n",
    "\n",
    "        loss = criterion(y_preds, labels)\n",
    "        losses.update(loss.item(), batch_size)\n",
    "\n",
    "        # record score\n",
    "        preds.append(y_preds.to(\"cpu\").numpy())\n",
    "\n",
    "        if step % 100 == 0 or step == (len(valid_loader) - 1):\n",
    "            print(\n",
    "                f\"EVAL: [{step}/{len(valid_loader)}] \"\n",
    "                f\"Elapsed {timeSince(start, float(step + 1) / len(valid_loader)):s} \"\n",
    "                f\"Loss: {losses.avg:.4f} \"\n",
    "            )\n",
    "\n",
    "    predictions = np.concatenate(preds)\n",
    "    return losses.avg, predictions\n"
   ]
  },
  {
   "cell_type": "code",
   "execution_count": 21,
   "id": "df6e9c90",
   "metadata": {
    "execution": {
     "iopub.execute_input": "2021-08-23T15:38:59.672582Z",
     "iopub.status.busy": "2021-08-23T15:38:59.671897Z",
     "iopub.status.idle": "2021-08-23T15:38:59.679388Z",
     "shell.execute_reply": "2021-08-23T15:38:59.679863Z",
     "shell.execute_reply.started": "2021-08-10T10:37:20.416513Z"
    },
    "id": "a2d063b4",
    "papermill": {
     "duration": 0.050694,
     "end_time": "2021-08-23T15:38:59.680028",
     "exception": false,
     "start_time": "2021-08-23T15:38:59.629334",
     "status": "completed"
    },
    "tags": []
   },
   "outputs": [],
   "source": [
    "def inference():\n",
    "    predictions = []\n",
    "\n",
    "    test_dataset = BaseDataset(test, config.MODEL_NAME, include_labels=False)\n",
    "    test_loader = DataLoader(\n",
    "        test_dataset, batch_size=16, shuffle=False, num_workers=4, pin_memory=True\n",
    "    )\n",
    "\n",
    "    for fold in range(5):\n",
    "        LOGGER.info(f\"========== model: bert-base-uncased fold: {fold} inference ==========\")\n",
    "        model = BaseModel(config.MODEL_NAME)\n",
    "        model.to(device)\n",
    "        model.load_state_dict(torch.load(OUTPUT_DIR + f\"{config.FILENAME}_fold{fold}_best.pth\")[\"model\"])\n",
    "        model.eval()\n",
    "        preds = []\n",
    "        for i, (input_ids, attention_mask) in tqdm(enumerate(test_loader), total=len(test_loader)):\n",
    "            input_ids = input_ids.to(device)\n",
    "            attention_mask = attention_mask.to(device)\n",
    "            with torch.no_grad():\n",
    "                y_preds = model(input_ids, attention_mask)\n",
    "            preds.append(y_preds.to(\"cpu\").numpy())\n",
    "        preds = np.concatenate(preds)\n",
    "        predictions.append(preds)\n",
    "    predictions = np.mean(predictions, axis=0)\n",
    "\n",
    "    return predictions"
   ]
  },
  {
   "cell_type": "code",
   "execution_count": 22,
   "id": "2223e521",
   "metadata": {
    "execution": {
     "iopub.execute_input": "2021-08-23T15:38:59.773535Z",
     "iopub.status.busy": "2021-08-23T15:38:59.766742Z",
     "iopub.status.idle": "2021-08-23T15:38:59.776646Z",
     "shell.execute_reply": "2021-08-23T15:38:59.776126Z",
     "shell.execute_reply.started": "2021-08-10T10:37:20.432197Z"
    },
    "id": "82548d4f",
    "papermill": {
     "duration": 0.057801,
     "end_time": "2021-08-23T15:38:59.776784",
     "exception": false,
     "start_time": "2021-08-23T15:38:59.718983",
     "status": "completed"
    },
    "tags": []
   },
   "outputs": [],
   "source": [
    "def train_loop(train, fold):\n",
    "\n",
    "    LOGGER.info(f\"========== fold: {fold} training ==========\")\n",
    "\n",
    "    # ====================================================\n",
    "    # Data Loader\n",
    "    # ====================================================\n",
    "    trn_idx = train[train[\"fold\"] != fold].index\n",
    "    val_idx = train[train[\"fold\"] == fold].index\n",
    "\n",
    "    train_folds = train.loc[trn_idx].reset_index(drop=True)\n",
    "    valid_folds = train.loc[val_idx].reset_index(drop=True)\n",
    "    \n",
    "    rus = RandomUnderSampler(sampling_strategy=1.0, random_state=seed)\n",
    "    text, jdg = rus.fit_resample(train_folds.drop('judgement', axis=1), train_folds['judgement'])\n",
    "    train_folds = pd.concat([text, jdg], axis=1)\n",
    "    #del text, jdg\n",
    "    #gc.collect()\n",
    "\n",
    "    train_dataset = BaseDataset(train_folds, config.MODEL_NAME)\n",
    "    valid_dataset = BaseDataset(valid_folds, config.MODEL_NAME)\n",
    "\n",
    "    train_loader = DataLoader(\n",
    "        train_dataset,\n",
    "        batch_size=config.TRAIN_BATCH_SIZE,\n",
    "        shuffle=True,\n",
    "        num_workers=4,\n",
    "        pin_memory=True,\n",
    "        drop_last=True,\n",
    "    )\n",
    "    valid_loader = DataLoader(\n",
    "        valid_dataset,\n",
    "        batch_size=config.VALID_BATCH_SIZE,\n",
    "        shuffle=False,\n",
    "        num_workers=4,\n",
    "        pin_memory=True,\n",
    "        drop_last=False,\n",
    "    )\n",
    "\n",
    "    # ====================================================\n",
    "    # Model\n",
    "    # ====================================================\n",
    "    model = BaseModel(config.MODEL_NAME)\n",
    "    model.to(device)\n",
    "\n",
    "    optimizer = T.AdamW(model.parameters(), lr=2e-5)\n",
    "\n",
    "    criterion = nn.BCELoss()\n",
    "\n",
    "    # ====================================================\n",
    "    # Loop\n",
    "    # ====================================================\n",
    "    best_score = -1\n",
    "    best_loss = np.inf\n",
    "    \n",
    "    # Early stopping\n",
    "    #earlystopping = EarlyStopping(patience=config.Patience, verbose=True)\n",
    "\n",
    "    for epoch in range(config.EPOCH):\n",
    "        start_time = time.time()\n",
    "        \n",
    "        # train\n",
    "        avg_loss = train_fn(train_loader, model, criterion, optimizer, epoch, device)\n",
    "\n",
    "        # eval\n",
    "        avg_val_loss, preds = valid_fn(valid_loader, model, criterion, device)\n",
    "        valid_labels = valid_folds[\"judgement\"].values\n",
    "\n",
    "        # scoring\n",
    "        score = fbeta_score(valid_labels, np.where(preds < config.border, 0, 1), beta=7.0)\n",
    "\n",
    "        elapsed = time.time() - start_time\n",
    "        LOGGER.info(\n",
    "            f\"Epoch {epoch+1} - avg_train_loss: {avg_loss:.4f}  avg_val_loss: {avg_val_loss:.4f}  time: {elapsed:.0f}s\"\n",
    "        )\n",
    "        LOGGER.info(f\"Epoch {epoch+1} - Score: {score}\")\n",
    "\n",
    "        if score > best_score:\n",
    "            best_score = score\n",
    "            LOGGER.info(f\"Epoch {epoch+1} - Save Best Score: {best_score:.4f} Model\")\n",
    "            torch.save(\n",
    "                {\"model\": model.state_dict(), \"preds\": preds}, OUTPUT_DIR + f\"{config.FILENAME}_fold{fold}_best.pth\"\n",
    "            )\n",
    "        \n",
    "        #earlystopping(avg_val_loss, model)\n",
    "        #if earlystopping.early_stop: #ストップフラグがTrueの場合、breakでforループを抜ける\n",
    "        #    #print(\"Early Stopping!\")\n",
    "        #    LOGGER.info(f\"Epoch {epoch+1} - Early Stopping!\")\n",
    "        #    break\n",
    "\n",
    "    check_point = torch.load(OUTPUT_DIR + f\"{config.FILENAME}_fold{fold}_best.pth\")\n",
    "\n",
    "    valid_folds[\"preds\"] = check_point[\"preds\"]\n",
    "\n",
    "    return valid_folds"
   ]
  },
  {
   "cell_type": "code",
   "execution_count": 23,
   "id": "b951a28d",
   "metadata": {
    "execution": {
     "iopub.execute_input": "2021-08-23T15:38:59.866703Z",
     "iopub.status.busy": "2021-08-23T15:38:59.865927Z",
     "iopub.status.idle": "2021-08-23T15:38:59.868755Z",
     "shell.execute_reply": "2021-08-23T15:38:59.868271Z",
     "shell.execute_reply.started": "2021-08-10T10:37:20.456178Z"
    },
    "id": "c398bbbf",
    "papermill": {
     "duration": 0.050712,
     "end_time": "2021-08-23T15:38:59.868891",
     "exception": false,
     "start_time": "2021-08-23T15:38:59.818179",
     "status": "completed"
    },
    "tags": []
   },
   "outputs": [],
   "source": [
    "def get_result(result_df):\n",
    "    preds = result_df[\"preds\"].values\n",
    "    labels = result_df[\"judgement\"].values\n",
    "    \n",
    "    border = border = len(result_df[result_df[\"judgement\"] == 1]) / len(result_df[\"judgement\"])\n",
    "    score = fbeta_score(labels, np.where(preds < border, 0, 1), beta=7.0)\n",
    "    LOGGER.info(f\"Score: {score:<.5f}\")\n",
    "\n",
    "    best_threshold = optimize_threshold(labels, preds)\n",
    "    LOGGER.info(f\"Best threshold : {best_threshold:<.5f}\")\n",
    "    score = fbeta_score(labels, np.where(preds < best_threshold, 0, 1), beta=7.0)\n",
    "    LOGGER.info(f\"After optimizing score: {score:<.5f}\")\n",
    "\n",
    "    return best_threshold"
   ]
  },
  {
   "cell_type": "code",
   "execution_count": 24,
   "id": "643f9c80",
   "metadata": {
    "execution": {
     "iopub.execute_input": "2021-08-23T15:38:59.958441Z",
     "iopub.status.busy": "2021-08-23T15:38:59.957694Z",
     "iopub.status.idle": "2021-08-23T15:38:59.960429Z",
     "shell.execute_reply": "2021-08-23T15:38:59.959947Z",
     "shell.execute_reply.started": "2021-08-10T10:37:20.46811Z"
    },
    "id": "1f43a9ee",
    "papermill": {
     "duration": 0.051375,
     "end_time": "2021-08-23T15:38:59.960563",
     "exception": false,
     "start_time": "2021-08-23T15:38:59.909188",
     "status": "completed"
    },
    "tags": []
   },
   "outputs": [],
   "source": [
    "def main():\n",
    "    # Training\n",
    "    oof_df = pd.DataFrame()\n",
    "    threshold = []\n",
    "    for fold in range(5):\n",
    "        _oof_df = train_loop(train, fold)\n",
    "        oof_df = pd.concat([oof_df, _oof_df])\n",
    "        LOGGER.info(f\"========== fold: {fold} result ==========\")\n",
    "        best_threshold = get_result(_oof_df)\n",
    "        threshold.append(best_threshold)\n",
    "        \n",
    "    # CV result\n",
    "    LOGGER.info(f\"========== CV ==========\")\n",
    "    get_result(oof_df)\n",
    "    \n",
    "    # Save OOF result\n",
    "    oof_df.to_csv(OUTPUT_DIR + f\"{config.FILENAME}_oof_df.csv\", index=False)\n",
    "\n",
    "    # Inference\n",
    "    proba_predictions = inference()\n",
    "    predictions = np.where(proba_predictions < config.border, 0, 1)\n",
    "\n",
    "    # submission\n",
    "    sub[\"judgement\"] = predictions\n",
    "    sub.to_csv(OUTPUT_DIR + f\"./sub_{config.FILENAME}.csv\", index=False, header=False)\n",
    "\n",
    "    # mean threshold\n",
    "    predictions = np.where(proba_predictions < np.mean(threshold), 0, 1)\n",
    "\n",
    "    sub[\"judgement\"] = predictions\n",
    "    sub.to_csv(OUTPUT_DIR + f\"./sub_mean_thr_{config.FILENAME}.csv\", index=False, header=False)\n",
    "\n",
    "    #stack = pd.read_csv(DATA_DIR + \"sample_submit.csv\", header=None)\n",
    "    sub[\"judgement\"] = proba_predictions\n",
    "    sub.to_csv(OUTPUT_DIR + f\"./stack_{config.FILENAME}.csv\", index=False, header=False)"
   ]
  },
  {
   "cell_type": "code",
   "execution_count": 25,
   "id": "8c36a241",
   "metadata": {
    "execution": {
     "iopub.execute_input": "2021-08-23T15:39:00.047369Z",
     "iopub.status.busy": "2021-08-23T15:39:00.046746Z",
     "iopub.status.idle": "2021-08-23T16:32:12.737289Z",
     "shell.execute_reply": "2021-08-23T16:32:12.736283Z"
    },
    "id": "ae4593f5",
    "outputId": "4d6bbb1c-1f54-41cd-ee3e-3496d0c98324",
    "papermill": {
     "duration": 3192.736766,
     "end_time": "2021-08-23T16:32:12.737533",
     "exception": false,
     "start_time": "2021-08-23T15:39:00.000767",
     "status": "completed"
    },
    "tags": []
   },
   "outputs": [
    {
     "name": "stderr",
     "output_type": "stream",
     "text": [
      "========== fold: 0 training ==========\n"
     ]
    },
    {
     "data": {
      "application/vnd.jupyter.widget-view+json": {
       "model_id": "e9f2160ae81c47f1bf99dabe1ab1a3a9",
       "version_major": 2,
       "version_minor": 0
      },
      "text/plain": [
       "Downloading:   0%|          | 0.00/226k [00:00<?, ?B/s]"
      ]
     },
     "metadata": {},
     "output_type": "display_data"
    },
    {
     "data": {
      "application/vnd.jupyter.widget-view+json": {
       "model_id": "dc53aa37a29b45e58f003e4914ec2ffb",
       "version_major": 2,
       "version_minor": 0
      },
      "text/plain": [
       "Downloading:   0%|          | 0.00/337 [00:00<?, ?B/s]"
      ]
     },
     "metadata": {},
     "output_type": "display_data"
    },
    {
     "data": {
      "application/vnd.jupyter.widget-view+json": {
       "model_id": "eaa7c9f5ba034d939a45f5bb0d895fde",
       "version_major": 2,
       "version_minor": 0
      },
      "text/plain": [
       "Downloading:   0%|          | 0.00/440M [00:00<?, ?B/s]"
      ]
     },
     "metadata": {},
     "output_type": "display_data"
    },
    {
     "name": "stderr",
     "output_type": "stream",
     "text": [
      "Some weights of the model checkpoint at microsoft/BiomedNLP-PubMedBERT-base-uncased-abstract-fulltext were not used when initializing BertForSequenceClassification: ['cls.predictions.transform.dense.bias', 'cls.predictions.transform.LayerNorm.bias', 'cls.seq_relationship.bias', 'cls.predictions.transform.LayerNorm.weight', 'cls.predictions.bias', 'cls.seq_relationship.weight', 'cls.predictions.decoder.weight', 'cls.predictions.decoder.bias', 'cls.predictions.transform.dense.weight']\n",
      "- This IS expected if you are initializing BertForSequenceClassification from the checkpoint of a model trained on another task or with another architecture (e.g. initializing a BertForSequenceClassification model from a BertForPreTraining model).\n",
      "- This IS NOT expected if you are initializing BertForSequenceClassification from the checkpoint of a model that you expect to be exactly identical (initializing a BertForSequenceClassification model from a BertForSequenceClassification model).\n",
      "Some weights of BertForSequenceClassification were not initialized from the model checkpoint at microsoft/BiomedNLP-PubMedBERT-base-uncased-abstract-fulltext and are newly initialized: ['classifier.bias', 'classifier.weight']\n",
      "You should probably TRAIN this model on a down-stream task to be able to use it for predictions and inference.\n"
     ]
    },
    {
     "name": "stdout",
     "output_type": "stream",
     "text": [
      "Epoch: [1][0/63] Elapsed 0m 32s (remain 33m 5s) Loss: 0.6990 \n",
      "Epoch: [1][62/63] Elapsed 1m 32s (remain 0m 0s) Loss: 0.5072 \n",
      "EVAL: [0/340] Elapsed 0m 9s (remain 54m 59s) Loss: 0.3717 \n",
      "EVAL: [100/340] Elapsed 0m 23s (remain 0m 56s) Loss: 0.2626 \n",
      "EVAL: [200/340] Elapsed 0m 37s (remain 0m 26s) Loss: 0.2524 \n",
      "EVAL: [300/340] Elapsed 0m 52s (remain 0m 6s) Loss: 0.2483 \n"
     ]
    },
    {
     "name": "stderr",
     "output_type": "stream",
     "text": [
      "Epoch 1 - avg_train_loss: 0.5072  avg_val_loss: 0.2475  time: 158s\n",
      "Epoch 1 - Score: 0.8580228806101496\n",
      "Epoch 1 - Save Best Score: 0.8580 Model\n"
     ]
    },
    {
     "name": "stdout",
     "output_type": "stream",
     "text": [
      "EVAL: [339/340] Elapsed 1m 5s (remain 0m 0s) Loss: 0.2475 \n",
      "Epoch: [2][0/63] Elapsed 0m 0s (remain 0m 26s) Loss: 0.3171 \n",
      "Epoch: [2][62/63] Elapsed 0m 26s (remain 0m 0s) Loss: 0.1948 \n",
      "EVAL: [0/340] Elapsed 0m 0s (remain 1m 59s) Loss: 0.7287 \n",
      "EVAL: [100/340] Elapsed 0m 14s (remain 0m 34s) Loss: 0.3254 \n",
      "EVAL: [200/340] Elapsed 0m 28s (remain 0m 19s) Loss: 0.3126 \n",
      "EVAL: [300/340] Elapsed 0m 42s (remain 0m 5s) Loss: 0.3079 \n"
     ]
    },
    {
     "name": "stderr",
     "output_type": "stream",
     "text": [
      "Epoch 2 - avg_train_loss: 0.1948  avg_val_loss: 0.3067  time: 75s\n",
      "Epoch 2 - Score: 0.873393965641692\n",
      "Epoch 2 - Save Best Score: 0.8734 Model\n"
     ]
    },
    {
     "name": "stdout",
     "output_type": "stream",
     "text": [
      "EVAL: [339/340] Elapsed 0m 47s (remain 0m 0s) Loss: 0.3067 \n",
      "Epoch: [3][0/63] Elapsed 0m 0s (remain 0m 26s) Loss: 0.2443 \n",
      "Epoch: [3][62/63] Elapsed 0m 26s (remain 0m 0s) Loss: 0.0780 \n",
      "EVAL: [0/340] Elapsed 0m 0s (remain 2m 3s) Loss: 0.8472 \n",
      "EVAL: [100/340] Elapsed 0m 14s (remain 0m 34s) Loss: 0.4391 \n",
      "EVAL: [200/340] Elapsed 0m 28s (remain 0m 19s) Loss: 0.4252 \n",
      "EVAL: [300/340] Elapsed 0m 42s (remain 0m 5s) Loss: 0.4169 \n"
     ]
    },
    {
     "name": "stderr",
     "output_type": "stream",
     "text": [
      "Epoch 3 - avg_train_loss: 0.0780  avg_val_loss: 0.4151  time: 74s\n",
      "Epoch 3 - Score: 0.8645327236353243\n"
     ]
    },
    {
     "name": "stdout",
     "output_type": "stream",
     "text": [
      "EVAL: [339/340] Elapsed 0m 47s (remain 0m 0s) Loss: 0.4151 \n"
     ]
    },
    {
     "name": "stderr",
     "output_type": "stream",
     "text": [
      "========== fold: 0 result ==========\n",
      "Score: 0.67927\n",
      "Best threshold : 0.49594\n",
      "After optimizing score: 0.87276\n",
      "========== fold: 1 training ==========\n",
      "Some weights of the model checkpoint at microsoft/BiomedNLP-PubMedBERT-base-uncased-abstract-fulltext were not used when initializing BertForSequenceClassification: ['cls.predictions.transform.dense.bias', 'cls.predictions.transform.LayerNorm.bias', 'cls.seq_relationship.bias', 'cls.predictions.transform.LayerNorm.weight', 'cls.predictions.bias', 'cls.seq_relationship.weight', 'cls.predictions.decoder.weight', 'cls.predictions.decoder.bias', 'cls.predictions.transform.dense.weight']\n",
      "- This IS expected if you are initializing BertForSequenceClassification from the checkpoint of a model trained on another task or with another architecture (e.g. initializing a BertForSequenceClassification model from a BertForPreTraining model).\n",
      "- This IS NOT expected if you are initializing BertForSequenceClassification from the checkpoint of a model that you expect to be exactly identical (initializing a BertForSequenceClassification model from a BertForSequenceClassification model).\n",
      "Some weights of BertForSequenceClassification were not initialized from the model checkpoint at microsoft/BiomedNLP-PubMedBERT-base-uncased-abstract-fulltext and are newly initialized: ['classifier.bias', 'classifier.weight']\n",
      "You should probably TRAIN this model on a down-stream task to be able to use it for predictions and inference.\n"
     ]
    },
    {
     "name": "stdout",
     "output_type": "stream",
     "text": [
      "Epoch: [1][0/63] Elapsed 0m 24s (remain 25m 8s) Loss: 0.6985 \n",
      "Epoch: [1][62/63] Elapsed 0m 50s (remain 0m 0s) Loss: 0.5023 \n",
      "EVAL: [0/340] Elapsed 0m 0s (remain 1m 54s) Loss: 0.2530 \n",
      "EVAL: [100/340] Elapsed 0m 14s (remain 0m 34s) Loss: 0.2830 \n",
      "EVAL: [200/340] Elapsed 0m 28s (remain 0m 19s) Loss: 0.2695 \n",
      "EVAL: [300/340] Elapsed 0m 42s (remain 0m 5s) Loss: 0.2677 \n"
     ]
    },
    {
     "name": "stderr",
     "output_type": "stream",
     "text": [
      "Epoch 1 - avg_train_loss: 0.5023  avg_val_loss: 0.2694  time: 99s\n",
      "Epoch 1 - Score: 0.8457126047948226\n",
      "Epoch 1 - Save Best Score: 0.8457 Model\n"
     ]
    },
    {
     "name": "stdout",
     "output_type": "stream",
     "text": [
      "EVAL: [339/340] Elapsed 0m 48s (remain 0m 0s) Loss: 0.2694 \n",
      "Epoch: [2][0/63] Elapsed 0m 0s (remain 0m 27s) Loss: 0.1695 \n",
      "Epoch: [2][62/63] Elapsed 0m 26s (remain 0m 0s) Loss: 0.2454 \n",
      "EVAL: [0/340] Elapsed 0m 0s (remain 2m 5s) Loss: 0.0839 \n",
      "EVAL: [100/340] Elapsed 0m 14s (remain 0m 34s) Loss: 0.1513 \n",
      "EVAL: [200/340] Elapsed 0m 28s (remain 0m 19s) Loss: 0.1405 \n",
      "EVAL: [300/340] Elapsed 0m 42s (remain 0m 5s) Loss: 0.1417 \n"
     ]
    },
    {
     "name": "stderr",
     "output_type": "stream",
     "text": [
      "Epoch 2 - avg_train_loss: 0.2454  avg_val_loss: 0.1416  time: 75s\n",
      "Epoch 2 - Score: 0.8678440925700366\n",
      "Epoch 2 - Save Best Score: 0.8678 Model\n"
     ]
    },
    {
     "name": "stdout",
     "output_type": "stream",
     "text": [
      "EVAL: [339/340] Elapsed 0m 48s (remain 0m 0s) Loss: 0.1416 \n",
      "Epoch: [3][0/63] Elapsed 0m 0s (remain 0m 29s) Loss: 0.0599 \n",
      "Epoch: [3][62/63] Elapsed 0m 26s (remain 0m 0s) Loss: 0.1252 \n",
      "EVAL: [0/340] Elapsed 0m 0s (remain 2m 30s) Loss: 0.3854 \n",
      "EVAL: [100/340] Elapsed 0m 14s (remain 0m 34s) Loss: 0.2454 \n",
      "EVAL: [200/340] Elapsed 0m 28s (remain 0m 19s) Loss: 0.2228 \n",
      "EVAL: [300/340] Elapsed 0m 42s (remain 0m 5s) Loss: 0.2269 \n"
     ]
    },
    {
     "name": "stderr",
     "output_type": "stream",
     "text": [
      "Epoch 3 - avg_train_loss: 0.1252  avg_val_loss: 0.2279  time: 75s\n",
      "Epoch 3 - Score: 0.9271621421154131\n",
      "Epoch 3 - Save Best Score: 0.9272 Model\n"
     ]
    },
    {
     "name": "stdout",
     "output_type": "stream",
     "text": [
      "EVAL: [339/340] Elapsed 0m 47s (remain 0m 0s) Loss: 0.2279 \n"
     ]
    },
    {
     "name": "stderr",
     "output_type": "stream",
     "text": [
      "========== fold: 1 result ==========\n",
      "Score: 0.78164\n",
      "Best threshold : 0.49598\n",
      "After optimizing score: 0.92716\n",
      "========== fold: 2 training ==========\n",
      "Some weights of the model checkpoint at microsoft/BiomedNLP-PubMedBERT-base-uncased-abstract-fulltext were not used when initializing BertForSequenceClassification: ['cls.predictions.transform.dense.bias', 'cls.predictions.transform.LayerNorm.bias', 'cls.seq_relationship.bias', 'cls.predictions.transform.LayerNorm.weight', 'cls.predictions.bias', 'cls.seq_relationship.weight', 'cls.predictions.decoder.weight', 'cls.predictions.decoder.bias', 'cls.predictions.transform.dense.weight']\n",
      "- This IS expected if you are initializing BertForSequenceClassification from the checkpoint of a model trained on another task or with another architecture (e.g. initializing a BertForSequenceClassification model from a BertForPreTraining model).\n",
      "- This IS NOT expected if you are initializing BertForSequenceClassification from the checkpoint of a model that you expect to be exactly identical (initializing a BertForSequenceClassification model from a BertForSequenceClassification model).\n",
      "Some weights of BertForSequenceClassification were not initialized from the model checkpoint at microsoft/BiomedNLP-PubMedBERT-base-uncased-abstract-fulltext and are newly initialized: ['classifier.bias', 'classifier.weight']\n",
      "You should probably TRAIN this model on a down-stream task to be able to use it for predictions and inference.\n"
     ]
    },
    {
     "name": "stdout",
     "output_type": "stream",
     "text": [
      "Epoch: [1][0/63] Elapsed 0m 0s (remain 0m 25s) Loss: 0.6946 \n",
      "Epoch: [1][62/63] Elapsed 0m 26s (remain 0m 0s) Loss: 0.4775 \n",
      "EVAL: [0/340] Elapsed 0m 0s (remain 2m 2s) Loss: 0.3944 \n",
      "EVAL: [100/340] Elapsed 0m 14s (remain 0m 34s) Loss: 0.4933 \n",
      "EVAL: [200/340] Elapsed 0m 28s (remain 0m 19s) Loss: 0.5088 \n",
      "EVAL: [300/340] Elapsed 0m 42s (remain 0m 5s) Loss: 0.5106 \n"
     ]
    },
    {
     "name": "stderr",
     "output_type": "stream",
     "text": [
      "Epoch 1 - avg_train_loss: 0.4775  avg_val_loss: 0.5138  time: 75s\n",
      "Epoch 1 - Score: 0.8134417922389652\n",
      "Epoch 1 - Save Best Score: 0.8134 Model\n"
     ]
    },
    {
     "name": "stdout",
     "output_type": "stream",
     "text": [
      "EVAL: [339/340] Elapsed 0m 47s (remain 0m 0s) Loss: 0.5138 \n",
      "Epoch: [2][0/63] Elapsed 0m 0s (remain 0m 25s) Loss: 0.6473 \n",
      "Epoch: [2][62/63] Elapsed 0m 26s (remain 0m 0s) Loss: 0.1996 \n",
      "EVAL: [0/340] Elapsed 0m 0s (remain 2m 0s) Loss: 0.2794 \n",
      "EVAL: [100/340] Elapsed 0m 14s (remain 0m 34s) Loss: 0.2971 \n",
      "EVAL: [200/340] Elapsed 0m 28s (remain 0m 19s) Loss: 0.3151 \n",
      "EVAL: [300/340] Elapsed 0m 43s (remain 0m 5s) Loss: 0.3155 \n"
     ]
    },
    {
     "name": "stderr",
     "output_type": "stream",
     "text": [
      "Epoch 2 - avg_train_loss: 0.1996  avg_val_loss: 0.3164  time: 76s\n",
      "Epoch 2 - Score: 0.8976016085020824\n",
      "Epoch 2 - Save Best Score: 0.8976 Model\n"
     ]
    },
    {
     "name": "stdout",
     "output_type": "stream",
     "text": [
      "EVAL: [339/340] Elapsed 0m 48s (remain 0m 0s) Loss: 0.3164 \n",
      "Epoch: [3][0/63] Elapsed 0m 0s (remain 0m 27s) Loss: 0.0407 \n",
      "Epoch: [3][62/63] Elapsed 0m 26s (remain 0m 0s) Loss: 0.1051 \n",
      "EVAL: [0/340] Elapsed 0m 0s (remain 2m 5s) Loss: 0.4872 \n",
      "EVAL: [100/340] Elapsed 0m 14s (remain 0m 34s) Loss: 0.3644 \n",
      "EVAL: [200/340] Elapsed 0m 28s (remain 0m 19s) Loss: 0.3800 \n",
      "EVAL: [300/340] Elapsed 0m 42s (remain 0m 5s) Loss: 0.3792 \n"
     ]
    },
    {
     "name": "stderr",
     "output_type": "stream",
     "text": [
      "Epoch 3 - avg_train_loss: 0.1051  avg_val_loss: 0.3819  time: 75s\n",
      "Epoch 3 - Score: 0.8947592671495527\n"
     ]
    },
    {
     "name": "stdout",
     "output_type": "stream",
     "text": [
      "EVAL: [339/340] Elapsed 0m 48s (remain 0m 0s) Loss: 0.3819 \n"
     ]
    },
    {
     "name": "stderr",
     "output_type": "stream",
     "text": [
      "========== fold: 2 result ==========\n",
      "Score: 0.65900\n",
      "Best threshold : 0.49319\n",
      "After optimizing score: 0.89709\n",
      "========== fold: 3 training ==========\n",
      "Some weights of the model checkpoint at microsoft/BiomedNLP-PubMedBERT-base-uncased-abstract-fulltext were not used when initializing BertForSequenceClassification: ['cls.predictions.transform.dense.bias', 'cls.predictions.transform.LayerNorm.bias', 'cls.seq_relationship.bias', 'cls.predictions.transform.LayerNorm.weight', 'cls.predictions.bias', 'cls.seq_relationship.weight', 'cls.predictions.decoder.weight', 'cls.predictions.decoder.bias', 'cls.predictions.transform.dense.weight']\n",
      "- This IS expected if you are initializing BertForSequenceClassification from the checkpoint of a model trained on another task or with another architecture (e.g. initializing a BertForSequenceClassification model from a BertForPreTraining model).\n",
      "- This IS NOT expected if you are initializing BertForSequenceClassification from the checkpoint of a model that you expect to be exactly identical (initializing a BertForSequenceClassification model from a BertForSequenceClassification model).\n",
      "Some weights of BertForSequenceClassification were not initialized from the model checkpoint at microsoft/BiomedNLP-PubMedBERT-base-uncased-abstract-fulltext and are newly initialized: ['classifier.bias', 'classifier.weight']\n",
      "You should probably TRAIN this model on a down-stream task to be able to use it for predictions and inference.\n"
     ]
    },
    {
     "name": "stdout",
     "output_type": "stream",
     "text": [
      "Epoch: [1][0/63] Elapsed 0m 0s (remain 0m 25s) Loss: 0.7243 \n",
      "Epoch: [1][62/63] Elapsed 0m 26s (remain 0m 0s) Loss: 0.4634 \n",
      "EVAL: [0/340] Elapsed 0m 0s (remain 1m 53s) Loss: 0.1821 \n",
      "EVAL: [100/340] Elapsed 0m 14s (remain 0m 34s) Loss: 0.3607 \n",
      "EVAL: [200/340] Elapsed 0m 28s (remain 0m 19s) Loss: 0.3727 \n",
      "EVAL: [300/340] Elapsed 0m 42s (remain 0m 5s) Loss: 0.3750 \n"
     ]
    },
    {
     "name": "stderr",
     "output_type": "stream",
     "text": [
      "Epoch 1 - avg_train_loss: 0.4634  avg_val_loss: 0.3768  time: 75s\n",
      "Epoch 1 - Score: 0.8257522743177046\n",
      "Epoch 1 - Save Best Score: 0.8258 Model\n"
     ]
    },
    {
     "name": "stdout",
     "output_type": "stream",
     "text": [
      "EVAL: [339/340] Elapsed 0m 47s (remain 0m 0s) Loss: 0.3768 \n",
      "Epoch: [2][0/63] Elapsed 0m 0s (remain 0m 28s) Loss: 0.2471 \n",
      "Epoch: [2][62/63] Elapsed 0m 26s (remain 0m 0s) Loss: 0.2077 \n",
      "EVAL: [0/340] Elapsed 0m 0s (remain 2m 11s) Loss: 0.6884 \n",
      "EVAL: [100/340] Elapsed 0m 14s (remain 0m 34s) Loss: 0.7507 \n",
      "EVAL: [200/340] Elapsed 0m 28s (remain 0m 19s) Loss: 0.8006 \n",
      "EVAL: [300/340] Elapsed 0m 42s (remain 0m 5s) Loss: 0.7865 \n"
     ]
    },
    {
     "name": "stderr",
     "output_type": "stream",
     "text": [
      "Epoch 2 - avg_train_loss: 0.2077  avg_val_loss: 0.7791  time: 75s\n",
      "Epoch 2 - Score: 0.7828031809145128\n"
     ]
    },
    {
     "name": "stdout",
     "output_type": "stream",
     "text": [
      "EVAL: [339/340] Elapsed 0m 48s (remain 0m 0s) Loss: 0.7791 \n",
      "Epoch: [3][0/63] Elapsed 0m 0s (remain 0m 26s) Loss: 0.1681 \n",
      "Epoch: [3][62/63] Elapsed 0m 28s (remain 0m 0s) Loss: 0.1170 \n",
      "EVAL: [0/340] Elapsed 0m 0s (remain 2m 38s) Loss: 0.0187 \n",
      "EVAL: [100/340] Elapsed 0m 15s (remain 0m 35s) Loss: 0.2548 \n",
      "EVAL: [200/340] Elapsed 0m 29s (remain 0m 20s) Loss: 0.2611 \n",
      "EVAL: [300/340] Elapsed 0m 44s (remain 0m 5s) Loss: 0.2600 \n"
     ]
    },
    {
     "name": "stderr",
     "output_type": "stream",
     "text": [
      "Epoch 3 - avg_train_loss: 0.1170  avg_val_loss: 0.2628  time: 78s\n",
      "Epoch 3 - Score: 0.8969269225113955\n",
      "Epoch 3 - Save Best Score: 0.8969 Model\n"
     ]
    },
    {
     "name": "stdout",
     "output_type": "stream",
     "text": [
      "EVAL: [339/340] Elapsed 0m 49s (remain 0m 0s) Loss: 0.2628 \n"
     ]
    },
    {
     "name": "stderr",
     "output_type": "stream",
     "text": [
      "========== fold: 3 result ==========\n",
      "Score: 0.76772\n",
      "Best threshold : 0.49249\n",
      "After optimizing score: 0.89614\n",
      "========== fold: 4 training ==========\n",
      "Some weights of the model checkpoint at microsoft/BiomedNLP-PubMedBERT-base-uncased-abstract-fulltext were not used when initializing BertForSequenceClassification: ['cls.predictions.transform.dense.bias', 'cls.predictions.transform.LayerNorm.bias', 'cls.seq_relationship.bias', 'cls.predictions.transform.LayerNorm.weight', 'cls.predictions.bias', 'cls.seq_relationship.weight', 'cls.predictions.decoder.weight', 'cls.predictions.decoder.bias', 'cls.predictions.transform.dense.weight']\n",
      "- This IS expected if you are initializing BertForSequenceClassification from the checkpoint of a model trained on another task or with another architecture (e.g. initializing a BertForSequenceClassification model from a BertForPreTraining model).\n",
      "- This IS NOT expected if you are initializing BertForSequenceClassification from the checkpoint of a model that you expect to be exactly identical (initializing a BertForSequenceClassification model from a BertForSequenceClassification model).\n",
      "Some weights of BertForSequenceClassification were not initialized from the model checkpoint at microsoft/BiomedNLP-PubMedBERT-base-uncased-abstract-fulltext and are newly initialized: ['classifier.bias', 'classifier.weight']\n",
      "You should probably TRAIN this model on a down-stream task to be able to use it for predictions and inference.\n"
     ]
    },
    {
     "name": "stdout",
     "output_type": "stream",
     "text": [
      "Epoch: [1][0/63] Elapsed 0m 0s (remain 0m 28s) Loss: 0.6655 \n",
      "Epoch: [1][62/63] Elapsed 0m 27s (remain 0m 0s) Loss: 0.4468 \n",
      "EVAL: [0/340] Elapsed 0m 0s (remain 2m 1s) Loss: 0.0807 \n",
      "EVAL: [100/340] Elapsed 0m 14s (remain 0m 34s) Loss: 0.2389 \n",
      "EVAL: [200/340] Elapsed 0m 28s (remain 0m 20s) Loss: 0.2366 \n",
      "EVAL: [300/340] Elapsed 0m 43s (remain 0m 5s) Loss: 0.2417 \n"
     ]
    },
    {
     "name": "stderr",
     "output_type": "stream",
     "text": [
      "Epoch 1 - avg_train_loss: 0.4468  avg_val_loss: 0.2389  time: 76s\n",
      "Epoch 1 - Score: 0.8037162660374576\n",
      "Epoch 1 - Save Best Score: 0.8037 Model\n"
     ]
    },
    {
     "name": "stdout",
     "output_type": "stream",
     "text": [
      "EVAL: [339/340] Elapsed 0m 48s (remain 0m 0s) Loss: 0.2389 \n",
      "Epoch: [2][0/63] Elapsed 0m 0s (remain 0m 32s) Loss: 0.2722 \n",
      "Epoch: [2][62/63] Elapsed 0m 27s (remain 0m 0s) Loss: 0.1744 \n",
      "EVAL: [0/340] Elapsed 0m 0s (remain 2m 20s) Loss: 0.0260 \n",
      "EVAL: [100/340] Elapsed 0m 14s (remain 0m 34s) Loss: 0.2201 \n",
      "EVAL: [200/340] Elapsed 0m 29s (remain 0m 20s) Loss: 0.2197 \n",
      "EVAL: [300/340] Elapsed 0m 43s (remain 0m 5s) Loss: 0.2304 \n"
     ]
    },
    {
     "name": "stderr",
     "output_type": "stream",
     "text": [
      "Epoch 2 - avg_train_loss: 0.1744  avg_val_loss: 0.2266  time: 77s\n",
      "Epoch 2 - Score: 0.8670520231213874\n",
      "Epoch 2 - Save Best Score: 0.8671 Model\n"
     ]
    },
    {
     "name": "stdout",
     "output_type": "stream",
     "text": [
      "EVAL: [339/340] Elapsed 0m 49s (remain 0m 0s) Loss: 0.2266 \n",
      "Epoch: [3][0/63] Elapsed 0m 0s (remain 0m 32s) Loss: 0.0504 \n",
      "Epoch: [3][62/63] Elapsed 0m 27s (remain 0m 0s) Loss: 0.1035 \n",
      "EVAL: [0/340] Elapsed 0m 0s (remain 2m 20s) Loss: 0.1452 \n",
      "EVAL: [100/340] Elapsed 0m 14s (remain 0m 35s) Loss: 0.6345 \n",
      "EVAL: [200/340] Elapsed 0m 29s (remain 0m 20s) Loss: 0.6106 \n",
      "EVAL: [300/340] Elapsed 0m 43s (remain 0m 5s) Loss: 0.6257 \n"
     ]
    },
    {
     "name": "stderr",
     "output_type": "stream",
     "text": [
      "Epoch 3 - avg_train_loss: 0.1035  avg_val_loss: 0.6196  time: 77s\n",
      "Epoch 3 - Score: 0.8329947175944737\n"
     ]
    },
    {
     "name": "stdout",
     "output_type": "stream",
     "text": [
      "EVAL: [339/340] Elapsed 0m 49s (remain 0m 0s) Loss: 0.6196 \n"
     ]
    },
    {
     "name": "stderr",
     "output_type": "stream",
     "text": [
      "========== fold: 4 result ==========\n",
      "Score: 0.72213\n",
      "Best threshold : 0.33683\n",
      "After optimizing score: 0.87962\n",
      "========== CV ==========\n",
      "Score: 0.71876\n",
      "Best threshold : 0.49244\n",
      "After optimizing score: 0.89314\n",
      "========== model: bert-base-uncased fold: 0 inference ==========\n",
      "Some weights of the model checkpoint at microsoft/BiomedNLP-PubMedBERT-base-uncased-abstract-fulltext were not used when initializing BertForSequenceClassification: ['cls.predictions.transform.dense.bias', 'cls.predictions.transform.LayerNorm.bias', 'cls.seq_relationship.bias', 'cls.predictions.transform.LayerNorm.weight', 'cls.predictions.bias', 'cls.seq_relationship.weight', 'cls.predictions.decoder.weight', 'cls.predictions.decoder.bias', 'cls.predictions.transform.dense.weight']\n",
      "- This IS expected if you are initializing BertForSequenceClassification from the checkpoint of a model trained on another task or with another architecture (e.g. initializing a BertForSequenceClassification model from a BertForPreTraining model).\n",
      "- This IS NOT expected if you are initializing BertForSequenceClassification from the checkpoint of a model that you expect to be exactly identical (initializing a BertForSequenceClassification model from a BertForSequenceClassification model).\n",
      "Some weights of BertForSequenceClassification were not initialized from the model checkpoint at microsoft/BiomedNLP-PubMedBERT-base-uncased-abstract-fulltext and are newly initialized: ['classifier.bias', 'classifier.weight']\n",
      "You should probably TRAIN this model on a down-stream task to be able to use it for predictions and inference.\n"
     ]
    },
    {
     "data": {
      "application/vnd.jupyter.widget-view+json": {
       "model_id": "7e5e23a249bd42d5a38464dd2b917c25",
       "version_major": 2,
       "version_minor": 0
      },
      "text/plain": [
       "  0%|          | 0/2553 [00:00<?, ?it/s]"
      ]
     },
     "metadata": {},
     "output_type": "display_data"
    },
    {
     "name": "stderr",
     "output_type": "stream",
     "text": [
      "========== model: bert-base-uncased fold: 1 inference ==========\n",
      "Some weights of the model checkpoint at microsoft/BiomedNLP-PubMedBERT-base-uncased-abstract-fulltext were not used when initializing BertForSequenceClassification: ['cls.predictions.transform.dense.bias', 'cls.predictions.transform.LayerNorm.bias', 'cls.seq_relationship.bias', 'cls.predictions.transform.LayerNorm.weight', 'cls.predictions.bias', 'cls.seq_relationship.weight', 'cls.predictions.decoder.weight', 'cls.predictions.decoder.bias', 'cls.predictions.transform.dense.weight']\n",
      "- This IS expected if you are initializing BertForSequenceClassification from the checkpoint of a model trained on another task or with another architecture (e.g. initializing a BertForSequenceClassification model from a BertForPreTraining model).\n",
      "- This IS NOT expected if you are initializing BertForSequenceClassification from the checkpoint of a model that you expect to be exactly identical (initializing a BertForSequenceClassification model from a BertForSequenceClassification model).\n",
      "Some weights of BertForSequenceClassification were not initialized from the model checkpoint at microsoft/BiomedNLP-PubMedBERT-base-uncased-abstract-fulltext and are newly initialized: ['classifier.bias', 'classifier.weight']\n",
      "You should probably TRAIN this model on a down-stream task to be able to use it for predictions and inference.\n"
     ]
    },
    {
     "data": {
      "application/vnd.jupyter.widget-view+json": {
       "model_id": "b6fe6e5ee6cf4aa1ae563203d26028ee",
       "version_major": 2,
       "version_minor": 0
      },
      "text/plain": [
       "  0%|          | 0/2553 [00:00<?, ?it/s]"
      ]
     },
     "metadata": {},
     "output_type": "display_data"
    },
    {
     "name": "stderr",
     "output_type": "stream",
     "text": [
      "========== model: bert-base-uncased fold: 2 inference ==========\n",
      "Some weights of the model checkpoint at microsoft/BiomedNLP-PubMedBERT-base-uncased-abstract-fulltext were not used when initializing BertForSequenceClassification: ['cls.predictions.transform.dense.bias', 'cls.predictions.transform.LayerNorm.bias', 'cls.seq_relationship.bias', 'cls.predictions.transform.LayerNorm.weight', 'cls.predictions.bias', 'cls.seq_relationship.weight', 'cls.predictions.decoder.weight', 'cls.predictions.decoder.bias', 'cls.predictions.transform.dense.weight']\n",
      "- This IS expected if you are initializing BertForSequenceClassification from the checkpoint of a model trained on another task or with another architecture (e.g. initializing a BertForSequenceClassification model from a BertForPreTraining model).\n",
      "- This IS NOT expected if you are initializing BertForSequenceClassification from the checkpoint of a model that you expect to be exactly identical (initializing a BertForSequenceClassification model from a BertForSequenceClassification model).\n",
      "Some weights of BertForSequenceClassification were not initialized from the model checkpoint at microsoft/BiomedNLP-PubMedBERT-base-uncased-abstract-fulltext and are newly initialized: ['classifier.bias', 'classifier.weight']\n",
      "You should probably TRAIN this model on a down-stream task to be able to use it for predictions and inference.\n"
     ]
    },
    {
     "data": {
      "application/vnd.jupyter.widget-view+json": {
       "model_id": "25a095f43772425fbe68350029f387bc",
       "version_major": 2,
       "version_minor": 0
      },
      "text/plain": [
       "  0%|          | 0/2553 [00:00<?, ?it/s]"
      ]
     },
     "metadata": {},
     "output_type": "display_data"
    },
    {
     "name": "stderr",
     "output_type": "stream",
     "text": [
      "========== model: bert-base-uncased fold: 3 inference ==========\n",
      "Some weights of the model checkpoint at microsoft/BiomedNLP-PubMedBERT-base-uncased-abstract-fulltext were not used when initializing BertForSequenceClassification: ['cls.predictions.transform.dense.bias', 'cls.predictions.transform.LayerNorm.bias', 'cls.seq_relationship.bias', 'cls.predictions.transform.LayerNorm.weight', 'cls.predictions.bias', 'cls.seq_relationship.weight', 'cls.predictions.decoder.weight', 'cls.predictions.decoder.bias', 'cls.predictions.transform.dense.weight']\n",
      "- This IS expected if you are initializing BertForSequenceClassification from the checkpoint of a model trained on another task or with another architecture (e.g. initializing a BertForSequenceClassification model from a BertForPreTraining model).\n",
      "- This IS NOT expected if you are initializing BertForSequenceClassification from the checkpoint of a model that you expect to be exactly identical (initializing a BertForSequenceClassification model from a BertForSequenceClassification model).\n",
      "Some weights of BertForSequenceClassification were not initialized from the model checkpoint at microsoft/BiomedNLP-PubMedBERT-base-uncased-abstract-fulltext and are newly initialized: ['classifier.bias', 'classifier.weight']\n",
      "You should probably TRAIN this model on a down-stream task to be able to use it for predictions and inference.\n"
     ]
    },
    {
     "data": {
      "application/vnd.jupyter.widget-view+json": {
       "model_id": "3cbb21b552274783998fb52e928d7483",
       "version_major": 2,
       "version_minor": 0
      },
      "text/plain": [
       "  0%|          | 0/2553 [00:00<?, ?it/s]"
      ]
     },
     "metadata": {},
     "output_type": "display_data"
    },
    {
     "name": "stderr",
     "output_type": "stream",
     "text": [
      "========== model: bert-base-uncased fold: 4 inference ==========\n",
      "Some weights of the model checkpoint at microsoft/BiomedNLP-PubMedBERT-base-uncased-abstract-fulltext were not used when initializing BertForSequenceClassification: ['cls.predictions.transform.dense.bias', 'cls.predictions.transform.LayerNorm.bias', 'cls.seq_relationship.bias', 'cls.predictions.transform.LayerNorm.weight', 'cls.predictions.bias', 'cls.seq_relationship.weight', 'cls.predictions.decoder.weight', 'cls.predictions.decoder.bias', 'cls.predictions.transform.dense.weight']\n",
      "- This IS expected if you are initializing BertForSequenceClassification from the checkpoint of a model trained on another task or with another architecture (e.g. initializing a BertForSequenceClassification model from a BertForPreTraining model).\n",
      "- This IS NOT expected if you are initializing BertForSequenceClassification from the checkpoint of a model that you expect to be exactly identical (initializing a BertForSequenceClassification model from a BertForSequenceClassification model).\n",
      "Some weights of BertForSequenceClassification were not initialized from the model checkpoint at microsoft/BiomedNLP-PubMedBERT-base-uncased-abstract-fulltext and are newly initialized: ['classifier.bias', 'classifier.weight']\n",
      "You should probably TRAIN this model on a down-stream task to be able to use it for predictions and inference.\n"
     ]
    },
    {
     "data": {
      "application/vnd.jupyter.widget-view+json": {
       "model_id": "5dc45987684a426982675b4a29ca2069",
       "version_major": 2,
       "version_minor": 0
      },
      "text/plain": [
       "  0%|          | 0/2553 [00:00<?, ?it/s]"
      ]
     },
     "metadata": {},
     "output_type": "display_data"
    }
   ],
   "source": [
    "if __name__ == \"__main__\":\n",
    "  main()"
   ]
  },
  {
   "cell_type": "code",
   "execution_count": null,
   "id": "efc7e41b",
   "metadata": {
    "id": "7b0f89d2",
    "papermill": {
     "duration": 0.103355,
     "end_time": "2021-08-23T16:32:12.946017",
     "exception": false,
     "start_time": "2021-08-23T16:32:12.842662",
     "status": "completed"
    },
    "tags": []
   },
   "outputs": [],
   "source": []
  }
 ],
 "metadata": {
  "kernelspec": {
   "display_name": "Python 3",
   "language": "python",
   "name": "python3"
  },
  "language_info": {
   "codemirror_mode": {
    "name": "ipython",
    "version": 3
   },
   "file_extension": ".py",
   "mimetype": "text/x-python",
   "name": "python",
   "nbconvert_exporter": "python",
   "pygments_lexer": "ipython3",
   "version": "3.7.10"
  },
  "papermill": {
   "default_parameters": {},
   "duration": 3292.800173,
   "end_time": "2021-08-23T16:32:16.445430",
   "environment_variables": {},
   "exception": null,
   "input_path": "__notebook__.ipynb",
   "output_path": "__notebook__.ipynb",
   "parameters": {},
   "start_time": "2021-08-23T15:37:23.645257",
   "version": "2.3.3"
  },
  "widgets": {
   "application/vnd.jupyter.widget-state+json": {
    "state": {
     "0312aa58812c4f5d9706fd3def69c26c": {
      "model_module": "@jupyter-widgets/controls",
      "model_module_version": "1.5.0",
      "model_name": "DescriptionStyleModel",
      "state": {
       "_model_module": "@jupyter-widgets/controls",
       "_model_module_version": "1.5.0",
       "_model_name": "DescriptionStyleModel",
       "_view_count": null,
       "_view_module": "@jupyter-widgets/base",
       "_view_module_version": "1.2.0",
       "_view_name": "StyleView",
       "description_width": ""
      }
     },
     "0373cc0bd09f46b2b8bff980f7837161": {
      "model_module": "@jupyter-widgets/controls",
      "model_module_version": "1.5.0",
      "model_name": "DescriptionStyleModel",
      "state": {
       "_model_module": "@jupyter-widgets/controls",
       "_model_module_version": "1.5.0",
       "_model_name": "DescriptionStyleModel",
       "_view_count": null,
       "_view_module": "@jupyter-widgets/base",
       "_view_module_version": "1.2.0",
       "_view_name": "StyleView",
       "description_width": ""
      }
     },
     "0aa06cb7fdeb471e990a3080497bd976": {
      "model_module": "@jupyter-widgets/controls",
      "model_module_version": "1.5.0",
      "model_name": "DescriptionStyleModel",
      "state": {
       "_model_module": "@jupyter-widgets/controls",
       "_model_module_version": "1.5.0",
       "_model_name": "DescriptionStyleModel",
       "_view_count": null,
       "_view_module": "@jupyter-widgets/base",
       "_view_module_version": "1.2.0",
       "_view_name": "StyleView",
       "description_width": ""
      }
     },
     "0ad9e28496874a8f86fdf52dfe7d4c28": {
      "model_module": "@jupyter-widgets/base",
      "model_module_version": "1.2.0",
      "model_name": "LayoutModel",
      "state": {
       "_model_module": "@jupyter-widgets/base",
       "_model_module_version": "1.2.0",
       "_model_name": "LayoutModel",
       "_view_count": null,
       "_view_module": "@jupyter-widgets/base",
       "_view_module_version": "1.2.0",
       "_view_name": "LayoutView",
       "align_content": null,
       "align_items": null,
       "align_self": null,
       "border": null,
       "bottom": null,
       "display": null,
       "flex": null,
       "flex_flow": null,
       "grid_area": null,
       "grid_auto_columns": null,
       "grid_auto_flow": null,
       "grid_auto_rows": null,
       "grid_column": null,
       "grid_gap": null,
       "grid_row": null,
       "grid_template_areas": null,
       "grid_template_columns": null,
       "grid_template_rows": null,
       "height": null,
       "justify_content": null,
       "justify_items": null,
       "left": null,
       "margin": null,
       "max_height": null,
       "max_width": null,
       "min_height": null,
       "min_width": null,
       "object_fit": null,
       "object_position": null,
       "order": null,
       "overflow": null,
       "overflow_x": null,
       "overflow_y": null,
       "padding": null,
       "right": null,
       "top": null,
       "visibility": null,
       "width": null
      }
     },
     "0b984abb1b6547788f1687e84bc3a0e0": {
      "model_module": "@jupyter-widgets/controls",
      "model_module_version": "1.5.0",
      "model_name": "HTMLModel",
      "state": {
       "_dom_classes": [],
       "_model_module": "@jupyter-widgets/controls",
       "_model_module_version": "1.5.0",
       "_model_name": "HTMLModel",
       "_view_count": null,
       "_view_module": "@jupyter-widgets/controls",
       "_view_module_version": "1.5.0",
       "_view_name": "HTMLView",
       "description": "",
       "description_tooltip": null,
       "layout": "IPY_MODEL_d9a24b31b37d4a069f3cd1ca0bb06552",
       "placeholder": "​",
       "style": "IPY_MODEL_577f28fac379459bbd6d887179e8e86e",
       "value": "Downloading: 100%"
      }
     },
     "106c132339f646059c0bd8d1014eeffa": {
      "model_module": "@jupyter-widgets/controls",
      "model_module_version": "1.5.0",
      "model_name": "HTMLModel",
      "state": {
       "_dom_classes": [],
       "_model_module": "@jupyter-widgets/controls",
       "_model_module_version": "1.5.0",
       "_model_name": "HTMLModel",
       "_view_count": null,
       "_view_module": "@jupyter-widgets/controls",
       "_view_module_version": "1.5.0",
       "_view_name": "HTMLView",
       "description": "",
       "description_tooltip": null,
       "layout": "IPY_MODEL_fac807c565c740d5ad4e9bc20b189c1d",
       "placeholder": "​",
       "style": "IPY_MODEL_ce4ba1f691a447aea3fd1ad545bd3482",
       "value": "100%"
      }
     },
     "1240061638a146f6af6dd4a76650ac12": {
      "model_module": "@jupyter-widgets/base",
      "model_module_version": "1.2.0",
      "model_name": "LayoutModel",
      "state": {
       "_model_module": "@jupyter-widgets/base",
       "_model_module_version": "1.2.0",
       "_model_name": "LayoutModel",
       "_view_count": null,
       "_view_module": "@jupyter-widgets/base",
       "_view_module_version": "1.2.0",
       "_view_name": "LayoutView",
       "align_content": null,
       "align_items": null,
       "align_self": null,
       "border": null,
       "bottom": null,
       "display": null,
       "flex": null,
       "flex_flow": null,
       "grid_area": null,
       "grid_auto_columns": null,
       "grid_auto_flow": null,
       "grid_auto_rows": null,
       "grid_column": null,
       "grid_gap": null,
       "grid_row": null,
       "grid_template_areas": null,
       "grid_template_columns": null,
       "grid_template_rows": null,
       "height": null,
       "justify_content": null,
       "justify_items": null,
       "left": null,
       "margin": null,
       "max_height": null,
       "max_width": null,
       "min_height": null,
       "min_width": null,
       "object_fit": null,
       "object_position": null,
       "order": null,
       "overflow": null,
       "overflow_x": null,
       "overflow_y": null,
       "padding": null,
       "right": null,
       "top": null,
       "visibility": null,
       "width": null
      }
     },
     "12f2fd18e27f46e4b4b5445e250837a5": {
      "model_module": "@jupyter-widgets/controls",
      "model_module_version": "1.5.0",
      "model_name": "FloatProgressModel",
      "state": {
       "_dom_classes": [],
       "_model_module": "@jupyter-widgets/controls",
       "_model_module_version": "1.5.0",
       "_model_name": "FloatProgressModel",
       "_view_count": null,
       "_view_module": "@jupyter-widgets/controls",
       "_view_module_version": "1.5.0",
       "_view_name": "ProgressView",
       "bar_style": "success",
       "description": "",
       "description_tooltip": null,
       "layout": "IPY_MODEL_8f65f18d6e36474889139ef31ee081fb",
       "max": 440472042.0,
       "min": 0.0,
       "orientation": "horizontal",
       "style": "IPY_MODEL_2237df928d084ad0b3a0426abf704ba5",
       "value": 440472042.0
      }
     },
     "16b1561f65b04efc982a925deb225cff": {
      "model_module": "@jupyter-widgets/base",
      "model_module_version": "1.2.0",
      "model_name": "LayoutModel",
      "state": {
       "_model_module": "@jupyter-widgets/base",
       "_model_module_version": "1.2.0",
       "_model_name": "LayoutModel",
       "_view_count": null,
       "_view_module": "@jupyter-widgets/base",
       "_view_module_version": "1.2.0",
       "_view_name": "LayoutView",
       "align_content": null,
       "align_items": null,
       "align_self": null,
       "border": null,
       "bottom": null,
       "display": null,
       "flex": null,
       "flex_flow": null,
       "grid_area": null,
       "grid_auto_columns": null,
       "grid_auto_flow": null,
       "grid_auto_rows": null,
       "grid_column": null,
       "grid_gap": null,
       "grid_row": null,
       "grid_template_areas": null,
       "grid_template_columns": null,
       "grid_template_rows": null,
       "height": null,
       "justify_content": null,
       "justify_items": null,
       "left": null,
       "margin": null,
       "max_height": null,
       "max_width": null,
       "min_height": null,
       "min_width": null,
       "object_fit": null,
       "object_position": null,
       "order": null,
       "overflow": null,
       "overflow_x": null,
       "overflow_y": null,
       "padding": null,
       "right": null,
       "top": null,
       "visibility": null,
       "width": null
      }
     },
     "18056f1b92504fa190eb54266b703367": {
      "model_module": "@jupyter-widgets/base",
      "model_module_version": "1.2.0",
      "model_name": "LayoutModel",
      "state": {
       "_model_module": "@jupyter-widgets/base",
       "_model_module_version": "1.2.0",
       "_model_name": "LayoutModel",
       "_view_count": null,
       "_view_module": "@jupyter-widgets/base",
       "_view_module_version": "1.2.0",
       "_view_name": "LayoutView",
       "align_content": null,
       "align_items": null,
       "align_self": null,
       "border": null,
       "bottom": null,
       "display": null,
       "flex": null,
       "flex_flow": null,
       "grid_area": null,
       "grid_auto_columns": null,
       "grid_auto_flow": null,
       "grid_auto_rows": null,
       "grid_column": null,
       "grid_gap": null,
       "grid_row": null,
       "grid_template_areas": null,
       "grid_template_columns": null,
       "grid_template_rows": null,
       "height": null,
       "justify_content": null,
       "justify_items": null,
       "left": null,
       "margin": null,
       "max_height": null,
       "max_width": null,
       "min_height": null,
       "min_width": null,
       "object_fit": null,
       "object_position": null,
       "order": null,
       "overflow": null,
       "overflow_x": null,
       "overflow_y": null,
       "padding": null,
       "right": null,
       "top": null,
       "visibility": null,
       "width": null
      }
     },
     "18dd06d7838845e3a3a62770522ce94c": {
      "model_module": "@jupyter-widgets/controls",
      "model_module_version": "1.5.0",
      "model_name": "HTMLModel",
      "state": {
       "_dom_classes": [],
       "_model_module": "@jupyter-widgets/controls",
       "_model_module_version": "1.5.0",
       "_model_name": "HTMLModel",
       "_view_count": null,
       "_view_module": "@jupyter-widgets/controls",
       "_view_module_version": "1.5.0",
       "_view_name": "HTMLView",
       "description": "",
       "description_tooltip": null,
       "layout": "IPY_MODEL_ded8bf22a5104ec1b0b10c47e8ab670b",
       "placeholder": "​",
       "style": "IPY_MODEL_f3f709e70e0c4fbb9b52a7381a5b7bcf",
       "value": " 337/337 [00:00&lt;00:00, 10.2kB/s]"
      }
     },
     "206a72851667407686fb6bcf5c63ed6b": {
      "model_module": "@jupyter-widgets/controls",
      "model_module_version": "1.5.0",
      "model_name": "DescriptionStyleModel",
      "state": {
       "_model_module": "@jupyter-widgets/controls",
       "_model_module_version": "1.5.0",
       "_model_name": "DescriptionStyleModel",
       "_view_count": null,
       "_view_module": "@jupyter-widgets/base",
       "_view_module_version": "1.2.0",
       "_view_name": "StyleView",
       "description_width": ""
      }
     },
     "2237df928d084ad0b3a0426abf704ba5": {
      "model_module": "@jupyter-widgets/controls",
      "model_module_version": "1.5.0",
      "model_name": "ProgressStyleModel",
      "state": {
       "_model_module": "@jupyter-widgets/controls",
       "_model_module_version": "1.5.0",
       "_model_name": "ProgressStyleModel",
       "_view_count": null,
       "_view_module": "@jupyter-widgets/base",
       "_view_module_version": "1.2.0",
       "_view_name": "StyleView",
       "bar_color": null,
       "description_width": ""
      }
     },
     "238cdc61616b4278bef1fd5be9d0236f": {
      "model_module": "@jupyter-widgets/controls",
      "model_module_version": "1.5.0",
      "model_name": "FloatProgressModel",
      "state": {
       "_dom_classes": [],
       "_model_module": "@jupyter-widgets/controls",
       "_model_module_version": "1.5.0",
       "_model_name": "FloatProgressModel",
       "_view_count": null,
       "_view_module": "@jupyter-widgets/controls",
       "_view_module_version": "1.5.0",
       "_view_name": "ProgressView",
       "bar_style": "success",
       "description": "",
       "description_tooltip": null,
       "layout": "IPY_MODEL_a932bee57ea84308950ef4b728476b7e",
       "max": 2553.0,
       "min": 0.0,
       "orientation": "horizontal",
       "style": "IPY_MODEL_7cf1b907b9394f35a6c3cba61e365653",
       "value": 2553.0
      }
     },
     "23c568d354734263bc3a5024a9d7c5b7": {
      "model_module": "@jupyter-widgets/base",
      "model_module_version": "1.2.0",
      "model_name": "LayoutModel",
      "state": {
       "_model_module": "@jupyter-widgets/base",
       "_model_module_version": "1.2.0",
       "_model_name": "LayoutModel",
       "_view_count": null,
       "_view_module": "@jupyter-widgets/base",
       "_view_module_version": "1.2.0",
       "_view_name": "LayoutView",
       "align_content": null,
       "align_items": null,
       "align_self": null,
       "border": null,
       "bottom": null,
       "display": null,
       "flex": null,
       "flex_flow": null,
       "grid_area": null,
       "grid_auto_columns": null,
       "grid_auto_flow": null,
       "grid_auto_rows": null,
       "grid_column": null,
       "grid_gap": null,
       "grid_row": null,
       "grid_template_areas": null,
       "grid_template_columns": null,
       "grid_template_rows": null,
       "height": null,
       "justify_content": null,
       "justify_items": null,
       "left": null,
       "margin": null,
       "max_height": null,
       "max_width": null,
       "min_height": null,
       "min_width": null,
       "object_fit": null,
       "object_position": null,
       "order": null,
       "overflow": null,
       "overflow_x": null,
       "overflow_y": null,
       "padding": null,
       "right": null,
       "top": null,
       "visibility": null,
       "width": null
      }
     },
     "25a095f43772425fbe68350029f387bc": {
      "model_module": "@jupyter-widgets/controls",
      "model_module_version": "1.5.0",
      "model_name": "HBoxModel",
      "state": {
       "_dom_classes": [],
       "_model_module": "@jupyter-widgets/controls",
       "_model_module_version": "1.5.0",
       "_model_name": "HBoxModel",
       "_view_count": null,
       "_view_module": "@jupyter-widgets/controls",
       "_view_module_version": "1.5.0",
       "_view_name": "HBoxView",
       "box_style": "",
       "children": [
        "IPY_MODEL_106c132339f646059c0bd8d1014eeffa",
        "IPY_MODEL_238cdc61616b4278bef1fd5be9d0236f",
        "IPY_MODEL_b1074aef0b464c24b3b90f160aa1ab0b"
       ],
       "layout": "IPY_MODEL_e1b254f812fb4166b0a3ac522cf7ab1e"
      }
     },
     "261d71b66d314d09a4666a842347e5e9": {
      "model_module": "@jupyter-widgets/base",
      "model_module_version": "1.2.0",
      "model_name": "LayoutModel",
      "state": {
       "_model_module": "@jupyter-widgets/base",
       "_model_module_version": "1.2.0",
       "_model_name": "LayoutModel",
       "_view_count": null,
       "_view_module": "@jupyter-widgets/base",
       "_view_module_version": "1.2.0",
       "_view_name": "LayoutView",
       "align_content": null,
       "align_items": null,
       "align_self": null,
       "border": null,
       "bottom": null,
       "display": null,
       "flex": null,
       "flex_flow": null,
       "grid_area": null,
       "grid_auto_columns": null,
       "grid_auto_flow": null,
       "grid_auto_rows": null,
       "grid_column": null,
       "grid_gap": null,
       "grid_row": null,
       "grid_template_areas": null,
       "grid_template_columns": null,
       "grid_template_rows": null,
       "height": null,
       "justify_content": null,
       "justify_items": null,
       "left": null,
       "margin": null,
       "max_height": null,
       "max_width": null,
       "min_height": null,
       "min_width": null,
       "object_fit": null,
       "object_position": null,
       "order": null,
       "overflow": null,
       "overflow_x": null,
       "overflow_y": null,
       "padding": null,
       "right": null,
       "top": null,
       "visibility": null,
       "width": null
      }
     },
     "2888c3640efc47929d44820314329040": {
      "model_module": "@jupyter-widgets/base",
      "model_module_version": "1.2.0",
      "model_name": "LayoutModel",
      "state": {
       "_model_module": "@jupyter-widgets/base",
       "_model_module_version": "1.2.0",
       "_model_name": "LayoutModel",
       "_view_count": null,
       "_view_module": "@jupyter-widgets/base",
       "_view_module_version": "1.2.0",
       "_view_name": "LayoutView",
       "align_content": null,
       "align_items": null,
       "align_self": null,
       "border": null,
       "bottom": null,
       "display": null,
       "flex": null,
       "flex_flow": null,
       "grid_area": null,
       "grid_auto_columns": null,
       "grid_auto_flow": null,
       "grid_auto_rows": null,
       "grid_column": null,
       "grid_gap": null,
       "grid_row": null,
       "grid_template_areas": null,
       "grid_template_columns": null,
       "grid_template_rows": null,
       "height": null,
       "justify_content": null,
       "justify_items": null,
       "left": null,
       "margin": null,
       "max_height": null,
       "max_width": null,
       "min_height": null,
       "min_width": null,
       "object_fit": null,
       "object_position": null,
       "order": null,
       "overflow": null,
       "overflow_x": null,
       "overflow_y": null,
       "padding": null,
       "right": null,
       "top": null,
       "visibility": null,
       "width": null
      }
     },
     "29fc8b9b9b1a4850a57cbe51dabb8328": {
      "model_module": "@jupyter-widgets/controls",
      "model_module_version": "1.5.0",
      "model_name": "FloatProgressModel",
      "state": {
       "_dom_classes": [],
       "_model_module": "@jupyter-widgets/controls",
       "_model_module_version": "1.5.0",
       "_model_name": "FloatProgressModel",
       "_view_count": null,
       "_view_module": "@jupyter-widgets/controls",
       "_view_module_version": "1.5.0",
       "_view_name": "ProgressView",
       "bar_style": "success",
       "description": "",
       "description_tooltip": null,
       "layout": "IPY_MODEL_261d71b66d314d09a4666a842347e5e9",
       "max": 337.0,
       "min": 0.0,
       "orientation": "horizontal",
       "style": "IPY_MODEL_964d293d2ba24928b3cd442239adf7c4",
       "value": 337.0
      }
     },
     "322659245a924319a2611dc6240dd373": {
      "model_module": "@jupyter-widgets/controls",
      "model_module_version": "1.5.0",
      "model_name": "HTMLModel",
      "state": {
       "_dom_classes": [],
       "_model_module": "@jupyter-widgets/controls",
       "_model_module_version": "1.5.0",
       "_model_name": "HTMLModel",
       "_view_count": null,
       "_view_module": "@jupyter-widgets/controls",
       "_view_module_version": "1.5.0",
       "_view_name": "HTMLView",
       "description": "",
       "description_tooltip": null,
       "layout": "IPY_MODEL_6f6a844f672547248e0bc1f800bacec0",
       "placeholder": "​",
       "style": "IPY_MODEL_4d771badb2cf4e10b4e278db244b7e94",
       "value": " 2553/2553 [03:46&lt;00:00, 12.24it/s]"
      }
     },
     "3643925bd8274a73a18878e5a55c9806": {
      "model_module": "@jupyter-widgets/controls",
      "model_module_version": "1.5.0",
      "model_name": "ProgressStyleModel",
      "state": {
       "_model_module": "@jupyter-widgets/controls",
       "_model_module_version": "1.5.0",
       "_model_name": "ProgressStyleModel",
       "_view_count": null,
       "_view_module": "@jupyter-widgets/base",
       "_view_module_version": "1.2.0",
       "_view_name": "StyleView",
       "bar_color": null,
       "description_width": ""
      }
     },
     "3cbb21b552274783998fb52e928d7483": {
      "model_module": "@jupyter-widgets/controls",
      "model_module_version": "1.5.0",
      "model_name": "HBoxModel",
      "state": {
       "_dom_classes": [],
       "_model_module": "@jupyter-widgets/controls",
       "_model_module_version": "1.5.0",
       "_model_name": "HBoxModel",
       "_view_count": null,
       "_view_module": "@jupyter-widgets/controls",
       "_view_module_version": "1.5.0",
       "_view_name": "HBoxView",
       "box_style": "",
       "children": [
        "IPY_MODEL_b23646f6bb654a78ae21402fedb99785",
        "IPY_MODEL_3e3d51aefd9149b6a135ac1835b11c9d",
        "IPY_MODEL_322659245a924319a2611dc6240dd373"
       ],
       "layout": "IPY_MODEL_4234974445e0496fa7679707574b1f3c"
      }
     },
     "3e3d51aefd9149b6a135ac1835b11c9d": {
      "model_module": "@jupyter-widgets/controls",
      "model_module_version": "1.5.0",
      "model_name": "FloatProgressModel",
      "state": {
       "_dom_classes": [],
       "_model_module": "@jupyter-widgets/controls",
       "_model_module_version": "1.5.0",
       "_model_name": "FloatProgressModel",
       "_view_count": null,
       "_view_module": "@jupyter-widgets/controls",
       "_view_module_version": "1.5.0",
       "_view_name": "ProgressView",
       "bar_style": "success",
       "description": "",
       "description_tooltip": null,
       "layout": "IPY_MODEL_a7c86bf9bd044f28af2b5cd9ef74fac5",
       "max": 2553.0,
       "min": 0.0,
       "orientation": "horizontal",
       "style": "IPY_MODEL_3643925bd8274a73a18878e5a55c9806",
       "value": 2553.0
      }
     },
     "4078c67e768f4530a416519048d71557": {
      "model_module": "@jupyter-widgets/controls",
      "model_module_version": "1.5.0",
      "model_name": "FloatProgressModel",
      "state": {
       "_dom_classes": [],
       "_model_module": "@jupyter-widgets/controls",
       "_model_module_version": "1.5.0",
       "_model_name": "FloatProgressModel",
       "_view_count": null,
       "_view_module": "@jupyter-widgets/controls",
       "_view_module_version": "1.5.0",
       "_view_name": "ProgressView",
       "bar_style": "success",
       "description": "",
       "description_tooltip": null,
       "layout": "IPY_MODEL_897d70124c1d4063811ed89ffba71313",
       "max": 226150.0,
       "min": 0.0,
       "orientation": "horizontal",
       "style": "IPY_MODEL_6dddd952a2de49779e480c51a6d6893b",
       "value": 226150.0
      }
     },
     "4234974445e0496fa7679707574b1f3c": {
      "model_module": "@jupyter-widgets/base",
      "model_module_version": "1.2.0",
      "model_name": "LayoutModel",
      "state": {
       "_model_module": "@jupyter-widgets/base",
       "_model_module_version": "1.2.0",
       "_model_name": "LayoutModel",
       "_view_count": null,
       "_view_module": "@jupyter-widgets/base",
       "_view_module_version": "1.2.0",
       "_view_name": "LayoutView",
       "align_content": null,
       "align_items": null,
       "align_self": null,
       "border": null,
       "bottom": null,
       "display": null,
       "flex": null,
       "flex_flow": null,
       "grid_area": null,
       "grid_auto_columns": null,
       "grid_auto_flow": null,
       "grid_auto_rows": null,
       "grid_column": null,
       "grid_gap": null,
       "grid_row": null,
       "grid_template_areas": null,
       "grid_template_columns": null,
       "grid_template_rows": null,
       "height": null,
       "justify_content": null,
       "justify_items": null,
       "left": null,
       "margin": null,
       "max_height": null,
       "max_width": null,
       "min_height": null,
       "min_width": null,
       "object_fit": null,
       "object_position": null,
       "order": null,
       "overflow": null,
       "overflow_x": null,
       "overflow_y": null,
       "padding": null,
       "right": null,
       "top": null,
       "visibility": null,
       "width": null
      }
     },
     "44ecef6a4d6a4037bb50563ba49ebe1b": {
      "model_module": "@jupyter-widgets/controls",
      "model_module_version": "1.5.0",
      "model_name": "ProgressStyleModel",
      "state": {
       "_model_module": "@jupyter-widgets/controls",
       "_model_module_version": "1.5.0",
       "_model_name": "ProgressStyleModel",
       "_view_count": null,
       "_view_module": "@jupyter-widgets/base",
       "_view_module_version": "1.2.0",
       "_view_name": "StyleView",
       "bar_color": null,
       "description_width": ""
      }
     },
     "48e19abc6b7546cd85ad62dc42299a98": {
      "model_module": "@jupyter-widgets/controls",
      "model_module_version": "1.5.0",
      "model_name": "HTMLModel",
      "state": {
       "_dom_classes": [],
       "_model_module": "@jupyter-widgets/controls",
       "_model_module_version": "1.5.0",
       "_model_name": "HTMLModel",
       "_view_count": null,
       "_view_module": "@jupyter-widgets/controls",
       "_view_module_version": "1.5.0",
       "_view_name": "HTMLView",
       "description": "",
       "description_tooltip": null,
       "layout": "IPY_MODEL_6be1ffa2345645979786215fd0df7e74",
       "placeholder": "​",
       "style": "IPY_MODEL_6ec17245510847579e787eec30a8090f",
       "value": " 440M/440M [00:21&lt;00:00, 19.8MB/s]"
      }
     },
     "4d771badb2cf4e10b4e278db244b7e94": {
      "model_module": "@jupyter-widgets/controls",
      "model_module_version": "1.5.0",
      "model_name": "DescriptionStyleModel",
      "state": {
       "_model_module": "@jupyter-widgets/controls",
       "_model_module_version": "1.5.0",
       "_model_name": "DescriptionStyleModel",
       "_view_count": null,
       "_view_module": "@jupyter-widgets/base",
       "_view_module_version": "1.2.0",
       "_view_name": "StyleView",
       "description_width": ""
      }
     },
     "577f28fac379459bbd6d887179e8e86e": {
      "model_module": "@jupyter-widgets/controls",
      "model_module_version": "1.5.0",
      "model_name": "DescriptionStyleModel",
      "state": {
       "_model_module": "@jupyter-widgets/controls",
       "_model_module_version": "1.5.0",
       "_model_name": "DescriptionStyleModel",
       "_view_count": null,
       "_view_module": "@jupyter-widgets/base",
       "_view_module_version": "1.2.0",
       "_view_name": "StyleView",
       "description_width": ""
      }
     },
     "5d38590026244e70bfe0b001629d9ffd": {
      "model_module": "@jupyter-widgets/base",
      "model_module_version": "1.2.0",
      "model_name": "LayoutModel",
      "state": {
       "_model_module": "@jupyter-widgets/base",
       "_model_module_version": "1.2.0",
       "_model_name": "LayoutModel",
       "_view_count": null,
       "_view_module": "@jupyter-widgets/base",
       "_view_module_version": "1.2.0",
       "_view_name": "LayoutView",
       "align_content": null,
       "align_items": null,
       "align_self": null,
       "border": null,
       "bottom": null,
       "display": null,
       "flex": null,
       "flex_flow": null,
       "grid_area": null,
       "grid_auto_columns": null,
       "grid_auto_flow": null,
       "grid_auto_rows": null,
       "grid_column": null,
       "grid_gap": null,
       "grid_row": null,
       "grid_template_areas": null,
       "grid_template_columns": null,
       "grid_template_rows": null,
       "height": null,
       "justify_content": null,
       "justify_items": null,
       "left": null,
       "margin": null,
       "max_height": null,
       "max_width": null,
       "min_height": null,
       "min_width": null,
       "object_fit": null,
       "object_position": null,
       "order": null,
       "overflow": null,
       "overflow_x": null,
       "overflow_y": null,
       "padding": null,
       "right": null,
       "top": null,
       "visibility": null,
       "width": null
      }
     },
     "5dc45987684a426982675b4a29ca2069": {
      "model_module": "@jupyter-widgets/controls",
      "model_module_version": "1.5.0",
      "model_name": "HBoxModel",
      "state": {
       "_dom_classes": [],
       "_model_module": "@jupyter-widgets/controls",
       "_model_module_version": "1.5.0",
       "_model_name": "HBoxModel",
       "_view_count": null,
       "_view_module": "@jupyter-widgets/controls",
       "_view_module_version": "1.5.0",
       "_view_name": "HBoxView",
       "box_style": "",
       "children": [
        "IPY_MODEL_7b91bf3bfd744733b70cae4525ced75e",
        "IPY_MODEL_9b01c918e796446c9d4c47703b182dab",
        "IPY_MODEL_9fe9342d2dc7470c8abac99659752d88"
       ],
       "layout": "IPY_MODEL_2888c3640efc47929d44820314329040"
      }
     },
     "6b8728f9795146b2b37ccf8b4f0c68ef": {
      "model_module": "@jupyter-widgets/controls",
      "model_module_version": "1.5.0",
      "model_name": "ProgressStyleModel",
      "state": {
       "_model_module": "@jupyter-widgets/controls",
       "_model_module_version": "1.5.0",
       "_model_name": "ProgressStyleModel",
       "_view_count": null,
       "_view_module": "@jupyter-widgets/base",
       "_view_module_version": "1.2.0",
       "_view_name": "StyleView",
       "bar_color": null,
       "description_width": ""
      }
     },
     "6be1ffa2345645979786215fd0df7e74": {
      "model_module": "@jupyter-widgets/base",
      "model_module_version": "1.2.0",
      "model_name": "LayoutModel",
      "state": {
       "_model_module": "@jupyter-widgets/base",
       "_model_module_version": "1.2.0",
       "_model_name": "LayoutModel",
       "_view_count": null,
       "_view_module": "@jupyter-widgets/base",
       "_view_module_version": "1.2.0",
       "_view_name": "LayoutView",
       "align_content": null,
       "align_items": null,
       "align_self": null,
       "border": null,
       "bottom": null,
       "display": null,
       "flex": null,
       "flex_flow": null,
       "grid_area": null,
       "grid_auto_columns": null,
       "grid_auto_flow": null,
       "grid_auto_rows": null,
       "grid_column": null,
       "grid_gap": null,
       "grid_row": null,
       "grid_template_areas": null,
       "grid_template_columns": null,
       "grid_template_rows": null,
       "height": null,
       "justify_content": null,
       "justify_items": null,
       "left": null,
       "margin": null,
       "max_height": null,
       "max_width": null,
       "min_height": null,
       "min_width": null,
       "object_fit": null,
       "object_position": null,
       "order": null,
       "overflow": null,
       "overflow_x": null,
       "overflow_y": null,
       "padding": null,
       "right": null,
       "top": null,
       "visibility": null,
       "width": null
      }
     },
     "6dddd952a2de49779e480c51a6d6893b": {
      "model_module": "@jupyter-widgets/controls",
      "model_module_version": "1.5.0",
      "model_name": "ProgressStyleModel",
      "state": {
       "_model_module": "@jupyter-widgets/controls",
       "_model_module_version": "1.5.0",
       "_model_name": "ProgressStyleModel",
       "_view_count": null,
       "_view_module": "@jupyter-widgets/base",
       "_view_module_version": "1.2.0",
       "_view_name": "StyleView",
       "bar_color": null,
       "description_width": ""
      }
     },
     "6ec17245510847579e787eec30a8090f": {
      "model_module": "@jupyter-widgets/controls",
      "model_module_version": "1.5.0",
      "model_name": "DescriptionStyleModel",
      "state": {
       "_model_module": "@jupyter-widgets/controls",
       "_model_module_version": "1.5.0",
       "_model_name": "DescriptionStyleModel",
       "_view_count": null,
       "_view_module": "@jupyter-widgets/base",
       "_view_module_version": "1.2.0",
       "_view_name": "StyleView",
       "description_width": ""
      }
     },
     "6f6a844f672547248e0bc1f800bacec0": {
      "model_module": "@jupyter-widgets/base",
      "model_module_version": "1.2.0",
      "model_name": "LayoutModel",
      "state": {
       "_model_module": "@jupyter-widgets/base",
       "_model_module_version": "1.2.0",
       "_model_name": "LayoutModel",
       "_view_count": null,
       "_view_module": "@jupyter-widgets/base",
       "_view_module_version": "1.2.0",
       "_view_name": "LayoutView",
       "align_content": null,
       "align_items": null,
       "align_self": null,
       "border": null,
       "bottom": null,
       "display": null,
       "flex": null,
       "flex_flow": null,
       "grid_area": null,
       "grid_auto_columns": null,
       "grid_auto_flow": null,
       "grid_auto_rows": null,
       "grid_column": null,
       "grid_gap": null,
       "grid_row": null,
       "grid_template_areas": null,
       "grid_template_columns": null,
       "grid_template_rows": null,
       "height": null,
       "justify_content": null,
       "justify_items": null,
       "left": null,
       "margin": null,
       "max_height": null,
       "max_width": null,
       "min_height": null,
       "min_width": null,
       "object_fit": null,
       "object_position": null,
       "order": null,
       "overflow": null,
       "overflow_x": null,
       "overflow_y": null,
       "padding": null,
       "right": null,
       "top": null,
       "visibility": null,
       "width": null
      }
     },
     "7956f0e010dc470b8ab31846857d5183": {
      "model_module": "@jupyter-widgets/controls",
      "model_module_version": "1.5.0",
      "model_name": "DescriptionStyleModel",
      "state": {
       "_model_module": "@jupyter-widgets/controls",
       "_model_module_version": "1.5.0",
       "_model_name": "DescriptionStyleModel",
       "_view_count": null,
       "_view_module": "@jupyter-widgets/base",
       "_view_module_version": "1.2.0",
       "_view_name": "StyleView",
       "description_width": ""
      }
     },
     "7b91bf3bfd744733b70cae4525ced75e": {
      "model_module": "@jupyter-widgets/controls",
      "model_module_version": "1.5.0",
      "model_name": "HTMLModel",
      "state": {
       "_dom_classes": [],
       "_model_module": "@jupyter-widgets/controls",
       "_model_module_version": "1.5.0",
       "_model_name": "HTMLModel",
       "_view_count": null,
       "_view_module": "@jupyter-widgets/controls",
       "_view_module_version": "1.5.0",
       "_view_name": "HTMLView",
       "description": "",
       "description_tooltip": null,
       "layout": "IPY_MODEL_a88a7e3616d04bb5b634a9709308eab3",
       "placeholder": "​",
       "style": "IPY_MODEL_d93684f9e2a04ac6b3f88c9afc71c4ff",
       "value": "100%"
      }
     },
     "7cedc50f595b48bf95f237c6a051e1eb": {
      "model_module": "@jupyter-widgets/base",
      "model_module_version": "1.2.0",
      "model_name": "LayoutModel",
      "state": {
       "_model_module": "@jupyter-widgets/base",
       "_model_module_version": "1.2.0",
       "_model_name": "LayoutModel",
       "_view_count": null,
       "_view_module": "@jupyter-widgets/base",
       "_view_module_version": "1.2.0",
       "_view_name": "LayoutView",
       "align_content": null,
       "align_items": null,
       "align_self": null,
       "border": null,
       "bottom": null,
       "display": null,
       "flex": null,
       "flex_flow": null,
       "grid_area": null,
       "grid_auto_columns": null,
       "grid_auto_flow": null,
       "grid_auto_rows": null,
       "grid_column": null,
       "grid_gap": null,
       "grid_row": null,
       "grid_template_areas": null,
       "grid_template_columns": null,
       "grid_template_rows": null,
       "height": null,
       "justify_content": null,
       "justify_items": null,
       "left": null,
       "margin": null,
       "max_height": null,
       "max_width": null,
       "min_height": null,
       "min_width": null,
       "object_fit": null,
       "object_position": null,
       "order": null,
       "overflow": null,
       "overflow_x": null,
       "overflow_y": null,
       "padding": null,
       "right": null,
       "top": null,
       "visibility": null,
       "width": null
      }
     },
     "7cf1b907b9394f35a6c3cba61e365653": {
      "model_module": "@jupyter-widgets/controls",
      "model_module_version": "1.5.0",
      "model_name": "ProgressStyleModel",
      "state": {
       "_model_module": "@jupyter-widgets/controls",
       "_model_module_version": "1.5.0",
       "_model_name": "ProgressStyleModel",
       "_view_count": null,
       "_view_module": "@jupyter-widgets/base",
       "_view_module_version": "1.2.0",
       "_view_name": "StyleView",
       "bar_color": null,
       "description_width": ""
      }
     },
     "7d7b2c48f4c54e3b841e5b8243318be7": {
      "model_module": "@jupyter-widgets/controls",
      "model_module_version": "1.5.0",
      "model_name": "DescriptionStyleModel",
      "state": {
       "_model_module": "@jupyter-widgets/controls",
       "_model_module_version": "1.5.0",
       "_model_name": "DescriptionStyleModel",
       "_view_count": null,
       "_view_module": "@jupyter-widgets/base",
       "_view_module_version": "1.2.0",
       "_view_name": "StyleView",
       "description_width": ""
      }
     },
     "7e5e23a249bd42d5a38464dd2b917c25": {
      "model_module": "@jupyter-widgets/controls",
      "model_module_version": "1.5.0",
      "model_name": "HBoxModel",
      "state": {
       "_dom_classes": [],
       "_model_module": "@jupyter-widgets/controls",
       "_model_module_version": "1.5.0",
       "_model_name": "HBoxModel",
       "_view_count": null,
       "_view_module": "@jupyter-widgets/controls",
       "_view_module_version": "1.5.0",
       "_view_name": "HBoxView",
       "box_style": "",
       "children": [
        "IPY_MODEL_943b36a9340742df9f41ddfca8353642",
        "IPY_MODEL_f7ee5380ae9b45b8821c3eeab4d4e24a",
        "IPY_MODEL_cc956ab6d7e549b6baed10e2bd2b396b"
       ],
       "layout": "IPY_MODEL_8187e2116e2049d5a82cbd73b3f48af1"
      }
     },
     "7ebd4556054f4d1db7bb84d5c05e6d57": {
      "model_module": "@jupyter-widgets/controls",
      "model_module_version": "1.5.0",
      "model_name": "HTMLModel",
      "state": {
       "_dom_classes": [],
       "_model_module": "@jupyter-widgets/controls",
       "_model_module_version": "1.5.0",
       "_model_name": "HTMLModel",
       "_view_count": null,
       "_view_module": "@jupyter-widgets/controls",
       "_view_module_version": "1.5.0",
       "_view_name": "HTMLView",
       "description": "",
       "description_tooltip": null,
       "layout": "IPY_MODEL_1240061638a146f6af6dd4a76650ac12",
       "placeholder": "​",
       "style": "IPY_MODEL_0312aa58812c4f5d9706fd3def69c26c",
       "value": " 2553/2553 [03:40&lt;00:00, 13.00it/s]"
      }
     },
     "7ed32995c8d74e8ebdb694fde8a5889c": {
      "model_module": "@jupyter-widgets/controls",
      "model_module_version": "1.5.0",
      "model_name": "DescriptionStyleModel",
      "state": {
       "_model_module": "@jupyter-widgets/controls",
       "_model_module_version": "1.5.0",
       "_model_name": "DescriptionStyleModel",
       "_view_count": null,
       "_view_module": "@jupyter-widgets/base",
       "_view_module_version": "1.2.0",
       "_view_name": "StyleView",
       "description_width": ""
      }
     },
     "8187e2116e2049d5a82cbd73b3f48af1": {
      "model_module": "@jupyter-widgets/base",
      "model_module_version": "1.2.0",
      "model_name": "LayoutModel",
      "state": {
       "_model_module": "@jupyter-widgets/base",
       "_model_module_version": "1.2.0",
       "_model_name": "LayoutModel",
       "_view_count": null,
       "_view_module": "@jupyter-widgets/base",
       "_view_module_version": "1.2.0",
       "_view_name": "LayoutView",
       "align_content": null,
       "align_items": null,
       "align_self": null,
       "border": null,
       "bottom": null,
       "display": null,
       "flex": null,
       "flex_flow": null,
       "grid_area": null,
       "grid_auto_columns": null,
       "grid_auto_flow": null,
       "grid_auto_rows": null,
       "grid_column": null,
       "grid_gap": null,
       "grid_row": null,
       "grid_template_areas": null,
       "grid_template_columns": null,
       "grid_template_rows": null,
       "height": null,
       "justify_content": null,
       "justify_items": null,
       "left": null,
       "margin": null,
       "max_height": null,
       "max_width": null,
       "min_height": null,
       "min_width": null,
       "object_fit": null,
       "object_position": null,
       "order": null,
       "overflow": null,
       "overflow_x": null,
       "overflow_y": null,
       "padding": null,
       "right": null,
       "top": null,
       "visibility": null,
       "width": null
      }
     },
     "825621d173944eac90a48de9ff1d9213": {
      "model_module": "@jupyter-widgets/base",
      "model_module_version": "1.2.0",
      "model_name": "LayoutModel",
      "state": {
       "_model_module": "@jupyter-widgets/base",
       "_model_module_version": "1.2.0",
       "_model_name": "LayoutModel",
       "_view_count": null,
       "_view_module": "@jupyter-widgets/base",
       "_view_module_version": "1.2.0",
       "_view_name": "LayoutView",
       "align_content": null,
       "align_items": null,
       "align_self": null,
       "border": null,
       "bottom": null,
       "display": null,
       "flex": null,
       "flex_flow": null,
       "grid_area": null,
       "grid_auto_columns": null,
       "grid_auto_flow": null,
       "grid_auto_rows": null,
       "grid_column": null,
       "grid_gap": null,
       "grid_row": null,
       "grid_template_areas": null,
       "grid_template_columns": null,
       "grid_template_rows": null,
       "height": null,
       "justify_content": null,
       "justify_items": null,
       "left": null,
       "margin": null,
       "max_height": null,
       "max_width": null,
       "min_height": null,
       "min_width": null,
       "object_fit": null,
       "object_position": null,
       "order": null,
       "overflow": null,
       "overflow_x": null,
       "overflow_y": null,
       "padding": null,
       "right": null,
       "top": null,
       "visibility": null,
       "width": null
      }
     },
     "883151bc522b43e29b2f00eae486687d": {
      "model_module": "@jupyter-widgets/controls",
      "model_module_version": "1.5.0",
      "model_name": "HTMLModel",
      "state": {
       "_dom_classes": [],
       "_model_module": "@jupyter-widgets/controls",
       "_model_module_version": "1.5.0",
       "_model_name": "HTMLModel",
       "_view_count": null,
       "_view_module": "@jupyter-widgets/controls",
       "_view_module_version": "1.5.0",
       "_view_name": "HTMLView",
       "description": "",
       "description_tooltip": null,
       "layout": "IPY_MODEL_f2241306506b4319b0a46567cd4ba218",
       "placeholder": "​",
       "style": "IPY_MODEL_97d0e0bb70a249739fb6ac718396453f",
       "value": "Downloading: 100%"
      }
     },
     "897d70124c1d4063811ed89ffba71313": {
      "model_module": "@jupyter-widgets/base",
      "model_module_version": "1.2.0",
      "model_name": "LayoutModel",
      "state": {
       "_model_module": "@jupyter-widgets/base",
       "_model_module_version": "1.2.0",
       "_model_name": "LayoutModel",
       "_view_count": null,
       "_view_module": "@jupyter-widgets/base",
       "_view_module_version": "1.2.0",
       "_view_name": "LayoutView",
       "align_content": null,
       "align_items": null,
       "align_self": null,
       "border": null,
       "bottom": null,
       "display": null,
       "flex": null,
       "flex_flow": null,
       "grid_area": null,
       "grid_auto_columns": null,
       "grid_auto_flow": null,
       "grid_auto_rows": null,
       "grid_column": null,
       "grid_gap": null,
       "grid_row": null,
       "grid_template_areas": null,
       "grid_template_columns": null,
       "grid_template_rows": null,
       "height": null,
       "justify_content": null,
       "justify_items": null,
       "left": null,
       "margin": null,
       "max_height": null,
       "max_width": null,
       "min_height": null,
       "min_width": null,
       "object_fit": null,
       "object_position": null,
       "order": null,
       "overflow": null,
       "overflow_x": null,
       "overflow_y": null,
       "padding": null,
       "right": null,
       "top": null,
       "visibility": null,
       "width": null
      }
     },
     "8f65f18d6e36474889139ef31ee081fb": {
      "model_module": "@jupyter-widgets/base",
      "model_module_version": "1.2.0",
      "model_name": "LayoutModel",
      "state": {
       "_model_module": "@jupyter-widgets/base",
       "_model_module_version": "1.2.0",
       "_model_name": "LayoutModel",
       "_view_count": null,
       "_view_module": "@jupyter-widgets/base",
       "_view_module_version": "1.2.0",
       "_view_name": "LayoutView",
       "align_content": null,
       "align_items": null,
       "align_self": null,
       "border": null,
       "bottom": null,
       "display": null,
       "flex": null,
       "flex_flow": null,
       "grid_area": null,
       "grid_auto_columns": null,
       "grid_auto_flow": null,
       "grid_auto_rows": null,
       "grid_column": null,
       "grid_gap": null,
       "grid_row": null,
       "grid_template_areas": null,
       "grid_template_columns": null,
       "grid_template_rows": null,
       "height": null,
       "justify_content": null,
       "justify_items": null,
       "left": null,
       "margin": null,
       "max_height": null,
       "max_width": null,
       "min_height": null,
       "min_width": null,
       "object_fit": null,
       "object_position": null,
       "order": null,
       "overflow": null,
       "overflow_x": null,
       "overflow_y": null,
       "padding": null,
       "right": null,
       "top": null,
       "visibility": null,
       "width": null
      }
     },
     "943b36a9340742df9f41ddfca8353642": {
      "model_module": "@jupyter-widgets/controls",
      "model_module_version": "1.5.0",
      "model_name": "HTMLModel",
      "state": {
       "_dom_classes": [],
       "_model_module": "@jupyter-widgets/controls",
       "_model_module_version": "1.5.0",
       "_model_name": "HTMLModel",
       "_view_count": null,
       "_view_module": "@jupyter-widgets/controls",
       "_view_module_version": "1.5.0",
       "_view_name": "HTMLView",
       "description": "",
       "description_tooltip": null,
       "layout": "IPY_MODEL_d5f79810961249bbb0f6b4e46ab6b577",
       "placeholder": "​",
       "style": "IPY_MODEL_7ed32995c8d74e8ebdb694fde8a5889c",
       "value": "100%"
      }
     },
     "953c022d22cc417f83643ed0396a32c5": {
      "model_module": "@jupyter-widgets/base",
      "model_module_version": "1.2.0",
      "model_name": "LayoutModel",
      "state": {
       "_model_module": "@jupyter-widgets/base",
       "_model_module_version": "1.2.0",
       "_model_name": "LayoutModel",
       "_view_count": null,
       "_view_module": "@jupyter-widgets/base",
       "_view_module_version": "1.2.0",
       "_view_name": "LayoutView",
       "align_content": null,
       "align_items": null,
       "align_self": null,
       "border": null,
       "bottom": null,
       "display": null,
       "flex": null,
       "flex_flow": null,
       "grid_area": null,
       "grid_auto_columns": null,
       "grid_auto_flow": null,
       "grid_auto_rows": null,
       "grid_column": null,
       "grid_gap": null,
       "grid_row": null,
       "grid_template_areas": null,
       "grid_template_columns": null,
       "grid_template_rows": null,
       "height": null,
       "justify_content": null,
       "justify_items": null,
       "left": null,
       "margin": null,
       "max_height": null,
       "max_width": null,
       "min_height": null,
       "min_width": null,
       "object_fit": null,
       "object_position": null,
       "order": null,
       "overflow": null,
       "overflow_x": null,
       "overflow_y": null,
       "padding": null,
       "right": null,
       "top": null,
       "visibility": null,
       "width": null
      }
     },
     "964d293d2ba24928b3cd442239adf7c4": {
      "model_module": "@jupyter-widgets/controls",
      "model_module_version": "1.5.0",
      "model_name": "ProgressStyleModel",
      "state": {
       "_model_module": "@jupyter-widgets/controls",
       "_model_module_version": "1.5.0",
       "_model_name": "ProgressStyleModel",
       "_view_count": null,
       "_view_module": "@jupyter-widgets/base",
       "_view_module_version": "1.2.0",
       "_view_name": "StyleView",
       "bar_color": null,
       "description_width": ""
      }
     },
     "97d0e0bb70a249739fb6ac718396453f": {
      "model_module": "@jupyter-widgets/controls",
      "model_module_version": "1.5.0",
      "model_name": "DescriptionStyleModel",
      "state": {
       "_model_module": "@jupyter-widgets/controls",
       "_model_module_version": "1.5.0",
       "_model_name": "DescriptionStyleModel",
       "_view_count": null,
       "_view_module": "@jupyter-widgets/base",
       "_view_module_version": "1.2.0",
       "_view_name": "StyleView",
       "description_width": ""
      }
     },
     "9b01c918e796446c9d4c47703b182dab": {
      "model_module": "@jupyter-widgets/controls",
      "model_module_version": "1.5.0",
      "model_name": "FloatProgressModel",
      "state": {
       "_dom_classes": [],
       "_model_module": "@jupyter-widgets/controls",
       "_model_module_version": "1.5.0",
       "_model_name": "FloatProgressModel",
       "_view_count": null,
       "_view_module": "@jupyter-widgets/controls",
       "_view_module_version": "1.5.0",
       "_view_name": "ProgressView",
       "bar_style": "success",
       "description": "",
       "description_tooltip": null,
       "layout": "IPY_MODEL_0ad9e28496874a8f86fdf52dfe7d4c28",
       "max": 2553.0,
       "min": 0.0,
       "orientation": "horizontal",
       "style": "IPY_MODEL_44ecef6a4d6a4037bb50563ba49ebe1b",
       "value": 2553.0
      }
     },
     "9c42bd43e692474dae6eced8f083b353": {
      "model_module": "@jupyter-widgets/base",
      "model_module_version": "1.2.0",
      "model_name": "LayoutModel",
      "state": {
       "_model_module": "@jupyter-widgets/base",
       "_model_module_version": "1.2.0",
       "_model_name": "LayoutModel",
       "_view_count": null,
       "_view_module": "@jupyter-widgets/base",
       "_view_module_version": "1.2.0",
       "_view_name": "LayoutView",
       "align_content": null,
       "align_items": null,
       "align_self": null,
       "border": null,
       "bottom": null,
       "display": null,
       "flex": null,
       "flex_flow": null,
       "grid_area": null,
       "grid_auto_columns": null,
       "grid_auto_flow": null,
       "grid_auto_rows": null,
       "grid_column": null,
       "grid_gap": null,
       "grid_row": null,
       "grid_template_areas": null,
       "grid_template_columns": null,
       "grid_template_rows": null,
       "height": null,
       "justify_content": null,
       "justify_items": null,
       "left": null,
       "margin": null,
       "max_height": null,
       "max_width": null,
       "min_height": null,
       "min_width": null,
       "object_fit": null,
       "object_position": null,
       "order": null,
       "overflow": null,
       "overflow_x": null,
       "overflow_y": null,
       "padding": null,
       "right": null,
       "top": null,
       "visibility": null,
       "width": null
      }
     },
     "9fe9342d2dc7470c8abac99659752d88": {
      "model_module": "@jupyter-widgets/controls",
      "model_module_version": "1.5.0",
      "model_name": "HTMLModel",
      "state": {
       "_dom_classes": [],
       "_model_module": "@jupyter-widgets/controls",
       "_model_module_version": "1.5.0",
       "_model_name": "HTMLModel",
       "_view_count": null,
       "_view_module": "@jupyter-widgets/controls",
       "_view_module_version": "1.5.0",
       "_view_name": "HTMLView",
       "description": "",
       "description_tooltip": null,
       "layout": "IPY_MODEL_9c42bd43e692474dae6eced8f083b353",
       "placeholder": "​",
       "style": "IPY_MODEL_206a72851667407686fb6bcf5c63ed6b",
       "value": " 2553/2553 [03:51&lt;00:00, 12.13it/s]"
      }
     },
     "a7c86bf9bd044f28af2b5cd9ef74fac5": {
      "model_module": "@jupyter-widgets/base",
      "model_module_version": "1.2.0",
      "model_name": "LayoutModel",
      "state": {
       "_model_module": "@jupyter-widgets/base",
       "_model_module_version": "1.2.0",
       "_model_name": "LayoutModel",
       "_view_count": null,
       "_view_module": "@jupyter-widgets/base",
       "_view_module_version": "1.2.0",
       "_view_name": "LayoutView",
       "align_content": null,
       "align_items": null,
       "align_self": null,
       "border": null,
       "bottom": null,
       "display": null,
       "flex": null,
       "flex_flow": null,
       "grid_area": null,
       "grid_auto_columns": null,
       "grid_auto_flow": null,
       "grid_auto_rows": null,
       "grid_column": null,
       "grid_gap": null,
       "grid_row": null,
       "grid_template_areas": null,
       "grid_template_columns": null,
       "grid_template_rows": null,
       "height": null,
       "justify_content": null,
       "justify_items": null,
       "left": null,
       "margin": null,
       "max_height": null,
       "max_width": null,
       "min_height": null,
       "min_width": null,
       "object_fit": null,
       "object_position": null,
       "order": null,
       "overflow": null,
       "overflow_x": null,
       "overflow_y": null,
       "padding": null,
       "right": null,
       "top": null,
       "visibility": null,
       "width": null
      }
     },
     "a88a7e3616d04bb5b634a9709308eab3": {
      "model_module": "@jupyter-widgets/base",
      "model_module_version": "1.2.0",
      "model_name": "LayoutModel",
      "state": {
       "_model_module": "@jupyter-widgets/base",
       "_model_module_version": "1.2.0",
       "_model_name": "LayoutModel",
       "_view_count": null,
       "_view_module": "@jupyter-widgets/base",
       "_view_module_version": "1.2.0",
       "_view_name": "LayoutView",
       "align_content": null,
       "align_items": null,
       "align_self": null,
       "border": null,
       "bottom": null,
       "display": null,
       "flex": null,
       "flex_flow": null,
       "grid_area": null,
       "grid_auto_columns": null,
       "grid_auto_flow": null,
       "grid_auto_rows": null,
       "grid_column": null,
       "grid_gap": null,
       "grid_row": null,
       "grid_template_areas": null,
       "grid_template_columns": null,
       "grid_template_rows": null,
       "height": null,
       "justify_content": null,
       "justify_items": null,
       "left": null,
       "margin": null,
       "max_height": null,
       "max_width": null,
       "min_height": null,
       "min_width": null,
       "object_fit": null,
       "object_position": null,
       "order": null,
       "overflow": null,
       "overflow_x": null,
       "overflow_y": null,
       "padding": null,
       "right": null,
       "top": null,
       "visibility": null,
       "width": null
      }
     },
     "a932bee57ea84308950ef4b728476b7e": {
      "model_module": "@jupyter-widgets/base",
      "model_module_version": "1.2.0",
      "model_name": "LayoutModel",
      "state": {
       "_model_module": "@jupyter-widgets/base",
       "_model_module_version": "1.2.0",
       "_model_name": "LayoutModel",
       "_view_count": null,
       "_view_module": "@jupyter-widgets/base",
       "_view_module_version": "1.2.0",
       "_view_name": "LayoutView",
       "align_content": null,
       "align_items": null,
       "align_self": null,
       "border": null,
       "bottom": null,
       "display": null,
       "flex": null,
       "flex_flow": null,
       "grid_area": null,
       "grid_auto_columns": null,
       "grid_auto_flow": null,
       "grid_auto_rows": null,
       "grid_column": null,
       "grid_gap": null,
       "grid_row": null,
       "grid_template_areas": null,
       "grid_template_columns": null,
       "grid_template_rows": null,
       "height": null,
       "justify_content": null,
       "justify_items": null,
       "left": null,
       "margin": null,
       "max_height": null,
       "max_width": null,
       "min_height": null,
       "min_width": null,
       "object_fit": null,
       "object_position": null,
       "order": null,
       "overflow": null,
       "overflow_x": null,
       "overflow_y": null,
       "padding": null,
       "right": null,
       "top": null,
       "visibility": null,
       "width": null
      }
     },
     "aa750f531f394ce7a14d41ec7fd81c7e": {
      "model_module": "@jupyter-widgets/controls",
      "model_module_version": "1.5.0",
      "model_name": "HTMLModel",
      "state": {
       "_dom_classes": [],
       "_model_module": "@jupyter-widgets/controls",
       "_model_module_version": "1.5.0",
       "_model_name": "HTMLModel",
       "_view_count": null,
       "_view_module": "@jupyter-widgets/controls",
       "_view_module_version": "1.5.0",
       "_view_name": "HTMLView",
       "description": "",
       "description_tooltip": null,
       "layout": "IPY_MODEL_16b1561f65b04efc982a925deb225cff",
       "placeholder": "​",
       "style": "IPY_MODEL_0aa06cb7fdeb471e990a3080497bd976",
       "value": "Downloading: 100%"
      }
     },
     "b1074aef0b464c24b3b90f160aa1ab0b": {
      "model_module": "@jupyter-widgets/controls",
      "model_module_version": "1.5.0",
      "model_name": "HTMLModel",
      "state": {
       "_dom_classes": [],
       "_model_module": "@jupyter-widgets/controls",
       "_model_module_version": "1.5.0",
       "_model_name": "HTMLModel",
       "_view_count": null,
       "_view_module": "@jupyter-widgets/controls",
       "_view_module_version": "1.5.0",
       "_view_name": "HTMLView",
       "description": "",
       "description_tooltip": null,
       "layout": "IPY_MODEL_5d38590026244e70bfe0b001629d9ffd",
       "placeholder": "​",
       "style": "IPY_MODEL_7956f0e010dc470b8ab31846857d5183",
       "value": " 2553/2553 [03:43&lt;00:00, 12.57it/s]"
      }
     },
     "b23646f6bb654a78ae21402fedb99785": {
      "model_module": "@jupyter-widgets/controls",
      "model_module_version": "1.5.0",
      "model_name": "HTMLModel",
      "state": {
       "_dom_classes": [],
       "_model_module": "@jupyter-widgets/controls",
       "_model_module_version": "1.5.0",
       "_model_name": "HTMLModel",
       "_view_count": null,
       "_view_module": "@jupyter-widgets/controls",
       "_view_module_version": "1.5.0",
       "_view_name": "HTMLView",
       "description": "",
       "description_tooltip": null,
       "layout": "IPY_MODEL_ca970be440e444ad903403a75dce18b3",
       "placeholder": "​",
       "style": "IPY_MODEL_7d7b2c48f4c54e3b841e5b8243318be7",
       "value": "100%"
      }
     },
     "b6fe6e5ee6cf4aa1ae563203d26028ee": {
      "model_module": "@jupyter-widgets/controls",
      "model_module_version": "1.5.0",
      "model_name": "HBoxModel",
      "state": {
       "_dom_classes": [],
       "_model_module": "@jupyter-widgets/controls",
       "_model_module_version": "1.5.0",
       "_model_name": "HBoxModel",
       "_view_count": null,
       "_view_module": "@jupyter-widgets/controls",
       "_view_module_version": "1.5.0",
       "_view_name": "HBoxView",
       "box_style": "",
       "children": [
        "IPY_MODEL_de805b15686340388154d033e710f2b7",
        "IPY_MODEL_e11418da8ea94635b111b625a0b1ef42",
        "IPY_MODEL_7ebd4556054f4d1db7bb84d5c05e6d57"
       ],
       "layout": "IPY_MODEL_953c022d22cc417f83643ed0396a32c5"
      }
     },
     "c74c22a8c8f948c390db8fcd2dc97ec1": {
      "model_module": "@jupyter-widgets/base",
      "model_module_version": "1.2.0",
      "model_name": "LayoutModel",
      "state": {
       "_model_module": "@jupyter-widgets/base",
       "_model_module_version": "1.2.0",
       "_model_name": "LayoutModel",
       "_view_count": null,
       "_view_module": "@jupyter-widgets/base",
       "_view_module_version": "1.2.0",
       "_view_name": "LayoutView",
       "align_content": null,
       "align_items": null,
       "align_self": null,
       "border": null,
       "bottom": null,
       "display": null,
       "flex": null,
       "flex_flow": null,
       "grid_area": null,
       "grid_auto_columns": null,
       "grid_auto_flow": null,
       "grid_auto_rows": null,
       "grid_column": null,
       "grid_gap": null,
       "grid_row": null,
       "grid_template_areas": null,
       "grid_template_columns": null,
       "grid_template_rows": null,
       "height": null,
       "justify_content": null,
       "justify_items": null,
       "left": null,
       "margin": null,
       "max_height": null,
       "max_width": null,
       "min_height": null,
       "min_width": null,
       "object_fit": null,
       "object_position": null,
       "order": null,
       "overflow": null,
       "overflow_x": null,
       "overflow_y": null,
       "padding": null,
       "right": null,
       "top": null,
       "visibility": null,
       "width": null
      }
     },
     "c88489389fb34443a75562869faad6cc": {
      "model_module": "@jupyter-widgets/controls",
      "model_module_version": "1.5.0",
      "model_name": "HTMLModel",
      "state": {
       "_dom_classes": [],
       "_model_module": "@jupyter-widgets/controls",
       "_model_module_version": "1.5.0",
       "_model_name": "HTMLModel",
       "_view_count": null,
       "_view_module": "@jupyter-widgets/controls",
       "_view_module_version": "1.5.0",
       "_view_name": "HTMLView",
       "description": "",
       "description_tooltip": null,
       "layout": "IPY_MODEL_f795bae14958425abbea68059c968670",
       "placeholder": "​",
       "style": "IPY_MODEL_e213bd268db447debf12a7a4b52d9264",
       "value": " 226k/226k [00:00&lt;00:00, 1.63MB/s]"
      }
     },
     "ca970be440e444ad903403a75dce18b3": {
      "model_module": "@jupyter-widgets/base",
      "model_module_version": "1.2.0",
      "model_name": "LayoutModel",
      "state": {
       "_model_module": "@jupyter-widgets/base",
       "_model_module_version": "1.2.0",
       "_model_name": "LayoutModel",
       "_view_count": null,
       "_view_module": "@jupyter-widgets/base",
       "_view_module_version": "1.2.0",
       "_view_name": "LayoutView",
       "align_content": null,
       "align_items": null,
       "align_self": null,
       "border": null,
       "bottom": null,
       "display": null,
       "flex": null,
       "flex_flow": null,
       "grid_area": null,
       "grid_auto_columns": null,
       "grid_auto_flow": null,
       "grid_auto_rows": null,
       "grid_column": null,
       "grid_gap": null,
       "grid_row": null,
       "grid_template_areas": null,
       "grid_template_columns": null,
       "grid_template_rows": null,
       "height": null,
       "justify_content": null,
       "justify_items": null,
       "left": null,
       "margin": null,
       "max_height": null,
       "max_width": null,
       "min_height": null,
       "min_width": null,
       "object_fit": null,
       "object_position": null,
       "order": null,
       "overflow": null,
       "overflow_x": null,
       "overflow_y": null,
       "padding": null,
       "right": null,
       "top": null,
       "visibility": null,
       "width": null
      }
     },
     "cc956ab6d7e549b6baed10e2bd2b396b": {
      "model_module": "@jupyter-widgets/controls",
      "model_module_version": "1.5.0",
      "model_name": "HTMLModel",
      "state": {
       "_dom_classes": [],
       "_model_module": "@jupyter-widgets/controls",
       "_model_module_version": "1.5.0",
       "_model_name": "HTMLModel",
       "_view_count": null,
       "_view_module": "@jupyter-widgets/controls",
       "_view_module_version": "1.5.0",
       "_view_name": "HTMLView",
       "description": "",
       "description_tooltip": null,
       "layout": "IPY_MODEL_e3dc8b53129e40dcafc61e53eea9f673",
       "placeholder": "​",
       "style": "IPY_MODEL_de38097d7585416ca10560725a38a5a1",
       "value": " 2553/2553 [03:55&lt;00:00, 11.42it/s]"
      }
     },
     "ce4ba1f691a447aea3fd1ad545bd3482": {
      "model_module": "@jupyter-widgets/controls",
      "model_module_version": "1.5.0",
      "model_name": "DescriptionStyleModel",
      "state": {
       "_model_module": "@jupyter-widgets/controls",
       "_model_module_version": "1.5.0",
       "_model_name": "DescriptionStyleModel",
       "_view_count": null,
       "_view_module": "@jupyter-widgets/base",
       "_view_module_version": "1.2.0",
       "_view_name": "StyleView",
       "description_width": ""
      }
     },
     "d5f79810961249bbb0f6b4e46ab6b577": {
      "model_module": "@jupyter-widgets/base",
      "model_module_version": "1.2.0",
      "model_name": "LayoutModel",
      "state": {
       "_model_module": "@jupyter-widgets/base",
       "_model_module_version": "1.2.0",
       "_model_name": "LayoutModel",
       "_view_count": null,
       "_view_module": "@jupyter-widgets/base",
       "_view_module_version": "1.2.0",
       "_view_name": "LayoutView",
       "align_content": null,
       "align_items": null,
       "align_self": null,
       "border": null,
       "bottom": null,
       "display": null,
       "flex": null,
       "flex_flow": null,
       "grid_area": null,
       "grid_auto_columns": null,
       "grid_auto_flow": null,
       "grid_auto_rows": null,
       "grid_column": null,
       "grid_gap": null,
       "grid_row": null,
       "grid_template_areas": null,
       "grid_template_columns": null,
       "grid_template_rows": null,
       "height": null,
       "justify_content": null,
       "justify_items": null,
       "left": null,
       "margin": null,
       "max_height": null,
       "max_width": null,
       "min_height": null,
       "min_width": null,
       "object_fit": null,
       "object_position": null,
       "order": null,
       "overflow": null,
       "overflow_x": null,
       "overflow_y": null,
       "padding": null,
       "right": null,
       "top": null,
       "visibility": null,
       "width": null
      }
     },
     "d93684f9e2a04ac6b3f88c9afc71c4ff": {
      "model_module": "@jupyter-widgets/controls",
      "model_module_version": "1.5.0",
      "model_name": "DescriptionStyleModel",
      "state": {
       "_model_module": "@jupyter-widgets/controls",
       "_model_module_version": "1.5.0",
       "_model_name": "DescriptionStyleModel",
       "_view_count": null,
       "_view_module": "@jupyter-widgets/base",
       "_view_module_version": "1.2.0",
       "_view_name": "StyleView",
       "description_width": ""
      }
     },
     "d9a24b31b37d4a069f3cd1ca0bb06552": {
      "model_module": "@jupyter-widgets/base",
      "model_module_version": "1.2.0",
      "model_name": "LayoutModel",
      "state": {
       "_model_module": "@jupyter-widgets/base",
       "_model_module_version": "1.2.0",
       "_model_name": "LayoutModel",
       "_view_count": null,
       "_view_module": "@jupyter-widgets/base",
       "_view_module_version": "1.2.0",
       "_view_name": "LayoutView",
       "align_content": null,
       "align_items": null,
       "align_self": null,
       "border": null,
       "bottom": null,
       "display": null,
       "flex": null,
       "flex_flow": null,
       "grid_area": null,
       "grid_auto_columns": null,
       "grid_auto_flow": null,
       "grid_auto_rows": null,
       "grid_column": null,
       "grid_gap": null,
       "grid_row": null,
       "grid_template_areas": null,
       "grid_template_columns": null,
       "grid_template_rows": null,
       "height": null,
       "justify_content": null,
       "justify_items": null,
       "left": null,
       "margin": null,
       "max_height": null,
       "max_width": null,
       "min_height": null,
       "min_width": null,
       "object_fit": null,
       "object_position": null,
       "order": null,
       "overflow": null,
       "overflow_x": null,
       "overflow_y": null,
       "padding": null,
       "right": null,
       "top": null,
       "visibility": null,
       "width": null
      }
     },
     "dc53aa37a29b45e58f003e4914ec2ffb": {
      "model_module": "@jupyter-widgets/controls",
      "model_module_version": "1.5.0",
      "model_name": "HBoxModel",
      "state": {
       "_dom_classes": [],
       "_model_module": "@jupyter-widgets/controls",
       "_model_module_version": "1.5.0",
       "_model_name": "HBoxModel",
       "_view_count": null,
       "_view_module": "@jupyter-widgets/controls",
       "_view_module_version": "1.5.0",
       "_view_name": "HBoxView",
       "box_style": "",
       "children": [
        "IPY_MODEL_aa750f531f394ce7a14d41ec7fd81c7e",
        "IPY_MODEL_29fc8b9b9b1a4850a57cbe51dabb8328",
        "IPY_MODEL_18dd06d7838845e3a3a62770522ce94c"
       ],
       "layout": "IPY_MODEL_7cedc50f595b48bf95f237c6a051e1eb"
      }
     },
     "de38097d7585416ca10560725a38a5a1": {
      "model_module": "@jupyter-widgets/controls",
      "model_module_version": "1.5.0",
      "model_name": "DescriptionStyleModel",
      "state": {
       "_model_module": "@jupyter-widgets/controls",
       "_model_module_version": "1.5.0",
       "_model_name": "DescriptionStyleModel",
       "_view_count": null,
       "_view_module": "@jupyter-widgets/base",
       "_view_module_version": "1.2.0",
       "_view_name": "StyleView",
       "description_width": ""
      }
     },
     "de805b15686340388154d033e710f2b7": {
      "model_module": "@jupyter-widgets/controls",
      "model_module_version": "1.5.0",
      "model_name": "HTMLModel",
      "state": {
       "_dom_classes": [],
       "_model_module": "@jupyter-widgets/controls",
       "_model_module_version": "1.5.0",
       "_model_name": "HTMLModel",
       "_view_count": null,
       "_view_module": "@jupyter-widgets/controls",
       "_view_module_version": "1.5.0",
       "_view_name": "HTMLView",
       "description": "",
       "description_tooltip": null,
       "layout": "IPY_MODEL_23c568d354734263bc3a5024a9d7c5b7",
       "placeholder": "​",
       "style": "IPY_MODEL_0373cc0bd09f46b2b8bff980f7837161",
       "value": "100%"
      }
     },
     "ded8bf22a5104ec1b0b10c47e8ab670b": {
      "model_module": "@jupyter-widgets/base",
      "model_module_version": "1.2.0",
      "model_name": "LayoutModel",
      "state": {
       "_model_module": "@jupyter-widgets/base",
       "_model_module_version": "1.2.0",
       "_model_name": "LayoutModel",
       "_view_count": null,
       "_view_module": "@jupyter-widgets/base",
       "_view_module_version": "1.2.0",
       "_view_name": "LayoutView",
       "align_content": null,
       "align_items": null,
       "align_self": null,
       "border": null,
       "bottom": null,
       "display": null,
       "flex": null,
       "flex_flow": null,
       "grid_area": null,
       "grid_auto_columns": null,
       "grid_auto_flow": null,
       "grid_auto_rows": null,
       "grid_column": null,
       "grid_gap": null,
       "grid_row": null,
       "grid_template_areas": null,
       "grid_template_columns": null,
       "grid_template_rows": null,
       "height": null,
       "justify_content": null,
       "justify_items": null,
       "left": null,
       "margin": null,
       "max_height": null,
       "max_width": null,
       "min_height": null,
       "min_width": null,
       "object_fit": null,
       "object_position": null,
       "order": null,
       "overflow": null,
       "overflow_x": null,
       "overflow_y": null,
       "padding": null,
       "right": null,
       "top": null,
       "visibility": null,
       "width": null
      }
     },
     "e11418da8ea94635b111b625a0b1ef42": {
      "model_module": "@jupyter-widgets/controls",
      "model_module_version": "1.5.0",
      "model_name": "FloatProgressModel",
      "state": {
       "_dom_classes": [],
       "_model_module": "@jupyter-widgets/controls",
       "_model_module_version": "1.5.0",
       "_model_name": "FloatProgressModel",
       "_view_count": null,
       "_view_module": "@jupyter-widgets/controls",
       "_view_module_version": "1.5.0",
       "_view_name": "ProgressView",
       "bar_style": "success",
       "description": "",
       "description_tooltip": null,
       "layout": "IPY_MODEL_ece4e65598e248e794e94853f52dc205",
       "max": 2553.0,
       "min": 0.0,
       "orientation": "horizontal",
       "style": "IPY_MODEL_6b8728f9795146b2b37ccf8b4f0c68ef",
       "value": 2553.0
      }
     },
     "e1b254f812fb4166b0a3ac522cf7ab1e": {
      "model_module": "@jupyter-widgets/base",
      "model_module_version": "1.2.0",
      "model_name": "LayoutModel",
      "state": {
       "_model_module": "@jupyter-widgets/base",
       "_model_module_version": "1.2.0",
       "_model_name": "LayoutModel",
       "_view_count": null,
       "_view_module": "@jupyter-widgets/base",
       "_view_module_version": "1.2.0",
       "_view_name": "LayoutView",
       "align_content": null,
       "align_items": null,
       "align_self": null,
       "border": null,
       "bottom": null,
       "display": null,
       "flex": null,
       "flex_flow": null,
       "grid_area": null,
       "grid_auto_columns": null,
       "grid_auto_flow": null,
       "grid_auto_rows": null,
       "grid_column": null,
       "grid_gap": null,
       "grid_row": null,
       "grid_template_areas": null,
       "grid_template_columns": null,
       "grid_template_rows": null,
       "height": null,
       "justify_content": null,
       "justify_items": null,
       "left": null,
       "margin": null,
       "max_height": null,
       "max_width": null,
       "min_height": null,
       "min_width": null,
       "object_fit": null,
       "object_position": null,
       "order": null,
       "overflow": null,
       "overflow_x": null,
       "overflow_y": null,
       "padding": null,
       "right": null,
       "top": null,
       "visibility": null,
       "width": null
      }
     },
     "e213bd268db447debf12a7a4b52d9264": {
      "model_module": "@jupyter-widgets/controls",
      "model_module_version": "1.5.0",
      "model_name": "DescriptionStyleModel",
      "state": {
       "_model_module": "@jupyter-widgets/controls",
       "_model_module_version": "1.5.0",
       "_model_name": "DescriptionStyleModel",
       "_view_count": null,
       "_view_module": "@jupyter-widgets/base",
       "_view_module_version": "1.2.0",
       "_view_name": "StyleView",
       "description_width": ""
      }
     },
     "e3dc8b53129e40dcafc61e53eea9f673": {
      "model_module": "@jupyter-widgets/base",
      "model_module_version": "1.2.0",
      "model_name": "LayoutModel",
      "state": {
       "_model_module": "@jupyter-widgets/base",
       "_model_module_version": "1.2.0",
       "_model_name": "LayoutModel",
       "_view_count": null,
       "_view_module": "@jupyter-widgets/base",
       "_view_module_version": "1.2.0",
       "_view_name": "LayoutView",
       "align_content": null,
       "align_items": null,
       "align_self": null,
       "border": null,
       "bottom": null,
       "display": null,
       "flex": null,
       "flex_flow": null,
       "grid_area": null,
       "grid_auto_columns": null,
       "grid_auto_flow": null,
       "grid_auto_rows": null,
       "grid_column": null,
       "grid_gap": null,
       "grid_row": null,
       "grid_template_areas": null,
       "grid_template_columns": null,
       "grid_template_rows": null,
       "height": null,
       "justify_content": null,
       "justify_items": null,
       "left": null,
       "margin": null,
       "max_height": null,
       "max_width": null,
       "min_height": null,
       "min_width": null,
       "object_fit": null,
       "object_position": null,
       "order": null,
       "overflow": null,
       "overflow_x": null,
       "overflow_y": null,
       "padding": null,
       "right": null,
       "top": null,
       "visibility": null,
       "width": null
      }
     },
     "e9f2160ae81c47f1bf99dabe1ab1a3a9": {
      "model_module": "@jupyter-widgets/controls",
      "model_module_version": "1.5.0",
      "model_name": "HBoxModel",
      "state": {
       "_dom_classes": [],
       "_model_module": "@jupyter-widgets/controls",
       "_model_module_version": "1.5.0",
       "_model_name": "HBoxModel",
       "_view_count": null,
       "_view_module": "@jupyter-widgets/controls",
       "_view_module_version": "1.5.0",
       "_view_name": "HBoxView",
       "box_style": "",
       "children": [
        "IPY_MODEL_883151bc522b43e29b2f00eae486687d",
        "IPY_MODEL_4078c67e768f4530a416519048d71557",
        "IPY_MODEL_c88489389fb34443a75562869faad6cc"
       ],
       "layout": "IPY_MODEL_c74c22a8c8f948c390db8fcd2dc97ec1"
      }
     },
     "eaa7c9f5ba034d939a45f5bb0d895fde": {
      "model_module": "@jupyter-widgets/controls",
      "model_module_version": "1.5.0",
      "model_name": "HBoxModel",
      "state": {
       "_dom_classes": [],
       "_model_module": "@jupyter-widgets/controls",
       "_model_module_version": "1.5.0",
       "_model_name": "HBoxModel",
       "_view_count": null,
       "_view_module": "@jupyter-widgets/controls",
       "_view_module_version": "1.5.0",
       "_view_name": "HBoxView",
       "box_style": "",
       "children": [
        "IPY_MODEL_0b984abb1b6547788f1687e84bc3a0e0",
        "IPY_MODEL_12f2fd18e27f46e4b4b5445e250837a5",
        "IPY_MODEL_48e19abc6b7546cd85ad62dc42299a98"
       ],
       "layout": "IPY_MODEL_18056f1b92504fa190eb54266b703367"
      }
     },
     "ece4e65598e248e794e94853f52dc205": {
      "model_module": "@jupyter-widgets/base",
      "model_module_version": "1.2.0",
      "model_name": "LayoutModel",
      "state": {
       "_model_module": "@jupyter-widgets/base",
       "_model_module_version": "1.2.0",
       "_model_name": "LayoutModel",
       "_view_count": null,
       "_view_module": "@jupyter-widgets/base",
       "_view_module_version": "1.2.0",
       "_view_name": "LayoutView",
       "align_content": null,
       "align_items": null,
       "align_self": null,
       "border": null,
       "bottom": null,
       "display": null,
       "flex": null,
       "flex_flow": null,
       "grid_area": null,
       "grid_auto_columns": null,
       "grid_auto_flow": null,
       "grid_auto_rows": null,
       "grid_column": null,
       "grid_gap": null,
       "grid_row": null,
       "grid_template_areas": null,
       "grid_template_columns": null,
       "grid_template_rows": null,
       "height": null,
       "justify_content": null,
       "justify_items": null,
       "left": null,
       "margin": null,
       "max_height": null,
       "max_width": null,
       "min_height": null,
       "min_width": null,
       "object_fit": null,
       "object_position": null,
       "order": null,
       "overflow": null,
       "overflow_x": null,
       "overflow_y": null,
       "padding": null,
       "right": null,
       "top": null,
       "visibility": null,
       "width": null
      }
     },
     "f2241306506b4319b0a46567cd4ba218": {
      "model_module": "@jupyter-widgets/base",
      "model_module_version": "1.2.0",
      "model_name": "LayoutModel",
      "state": {
       "_model_module": "@jupyter-widgets/base",
       "_model_module_version": "1.2.0",
       "_model_name": "LayoutModel",
       "_view_count": null,
       "_view_module": "@jupyter-widgets/base",
       "_view_module_version": "1.2.0",
       "_view_name": "LayoutView",
       "align_content": null,
       "align_items": null,
       "align_self": null,
       "border": null,
       "bottom": null,
       "display": null,
       "flex": null,
       "flex_flow": null,
       "grid_area": null,
       "grid_auto_columns": null,
       "grid_auto_flow": null,
       "grid_auto_rows": null,
       "grid_column": null,
       "grid_gap": null,
       "grid_row": null,
       "grid_template_areas": null,
       "grid_template_columns": null,
       "grid_template_rows": null,
       "height": null,
       "justify_content": null,
       "justify_items": null,
       "left": null,
       "margin": null,
       "max_height": null,
       "max_width": null,
       "min_height": null,
       "min_width": null,
       "object_fit": null,
       "object_position": null,
       "order": null,
       "overflow": null,
       "overflow_x": null,
       "overflow_y": null,
       "padding": null,
       "right": null,
       "top": null,
       "visibility": null,
       "width": null
      }
     },
     "f3f709e70e0c4fbb9b52a7381a5b7bcf": {
      "model_module": "@jupyter-widgets/controls",
      "model_module_version": "1.5.0",
      "model_name": "DescriptionStyleModel",
      "state": {
       "_model_module": "@jupyter-widgets/controls",
       "_model_module_version": "1.5.0",
       "_model_name": "DescriptionStyleModel",
       "_view_count": null,
       "_view_module": "@jupyter-widgets/base",
       "_view_module_version": "1.2.0",
       "_view_name": "StyleView",
       "description_width": ""
      }
     },
     "f795bae14958425abbea68059c968670": {
      "model_module": "@jupyter-widgets/base",
      "model_module_version": "1.2.0",
      "model_name": "LayoutModel",
      "state": {
       "_model_module": "@jupyter-widgets/base",
       "_model_module_version": "1.2.0",
       "_model_name": "LayoutModel",
       "_view_count": null,
       "_view_module": "@jupyter-widgets/base",
       "_view_module_version": "1.2.0",
       "_view_name": "LayoutView",
       "align_content": null,
       "align_items": null,
       "align_self": null,
       "border": null,
       "bottom": null,
       "display": null,
       "flex": null,
       "flex_flow": null,
       "grid_area": null,
       "grid_auto_columns": null,
       "grid_auto_flow": null,
       "grid_auto_rows": null,
       "grid_column": null,
       "grid_gap": null,
       "grid_row": null,
       "grid_template_areas": null,
       "grid_template_columns": null,
       "grid_template_rows": null,
       "height": null,
       "justify_content": null,
       "justify_items": null,
       "left": null,
       "margin": null,
       "max_height": null,
       "max_width": null,
       "min_height": null,
       "min_width": null,
       "object_fit": null,
       "object_position": null,
       "order": null,
       "overflow": null,
       "overflow_x": null,
       "overflow_y": null,
       "padding": null,
       "right": null,
       "top": null,
       "visibility": null,
       "width": null
      }
     },
     "f7ee5380ae9b45b8821c3eeab4d4e24a": {
      "model_module": "@jupyter-widgets/controls",
      "model_module_version": "1.5.0",
      "model_name": "FloatProgressModel",
      "state": {
       "_dom_classes": [],
       "_model_module": "@jupyter-widgets/controls",
       "_model_module_version": "1.5.0",
       "_model_name": "FloatProgressModel",
       "_view_count": null,
       "_view_module": "@jupyter-widgets/controls",
       "_view_module_version": "1.5.0",
       "_view_name": "ProgressView",
       "bar_style": "success",
       "description": "",
       "description_tooltip": null,
       "layout": "IPY_MODEL_825621d173944eac90a48de9ff1d9213",
       "max": 2553.0,
       "min": 0.0,
       "orientation": "horizontal",
       "style": "IPY_MODEL_fd14ae74f9de43dbb22a9109c920096a",
       "value": 2553.0
      }
     },
     "fac807c565c740d5ad4e9bc20b189c1d": {
      "model_module": "@jupyter-widgets/base",
      "model_module_version": "1.2.0",
      "model_name": "LayoutModel",
      "state": {
       "_model_module": "@jupyter-widgets/base",
       "_model_module_version": "1.2.0",
       "_model_name": "LayoutModel",
       "_view_count": null,
       "_view_module": "@jupyter-widgets/base",
       "_view_module_version": "1.2.0",
       "_view_name": "LayoutView",
       "align_content": null,
       "align_items": null,
       "align_self": null,
       "border": null,
       "bottom": null,
       "display": null,
       "flex": null,
       "flex_flow": null,
       "grid_area": null,
       "grid_auto_columns": null,
       "grid_auto_flow": null,
       "grid_auto_rows": null,
       "grid_column": null,
       "grid_gap": null,
       "grid_row": null,
       "grid_template_areas": null,
       "grid_template_columns": null,
       "grid_template_rows": null,
       "height": null,
       "justify_content": null,
       "justify_items": null,
       "left": null,
       "margin": null,
       "max_height": null,
       "max_width": null,
       "min_height": null,
       "min_width": null,
       "object_fit": null,
       "object_position": null,
       "order": null,
       "overflow": null,
       "overflow_x": null,
       "overflow_y": null,
       "padding": null,
       "right": null,
       "top": null,
       "visibility": null,
       "width": null
      }
     },
     "fd14ae74f9de43dbb22a9109c920096a": {
      "model_module": "@jupyter-widgets/controls",
      "model_module_version": "1.5.0",
      "model_name": "ProgressStyleModel",
      "state": {
       "_model_module": "@jupyter-widgets/controls",
       "_model_module_version": "1.5.0",
       "_model_name": "ProgressStyleModel",
       "_view_count": null,
       "_view_module": "@jupyter-widgets/base",
       "_view_module_version": "1.2.0",
       "_view_name": "StyleView",
       "bar_color": null,
       "description_width": ""
      }
     }
    },
    "version_major": 2,
    "version_minor": 0
   }
  }
 },
 "nbformat": 4,
 "nbformat_minor": 5
}
