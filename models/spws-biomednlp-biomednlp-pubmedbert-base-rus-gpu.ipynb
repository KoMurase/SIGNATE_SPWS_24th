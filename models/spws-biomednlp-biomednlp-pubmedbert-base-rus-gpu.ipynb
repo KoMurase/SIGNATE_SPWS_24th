{
 "cells": [
  {
   "cell_type": "code",
   "execution_count": 1,
   "id": "92e249eb",
   "metadata": {
    "execution": {
     "iopub.execute_input": "2021-08-23T15:40:54.233663Z",
     "iopub.status.busy": "2021-08-23T15:40:54.231917Z",
     "iopub.status.idle": "2021-08-23T15:41:03.177319Z",
     "shell.execute_reply": "2021-08-23T15:41:03.176285Z",
     "shell.execute_reply.started": "2021-08-10T10:36:53.681646Z"
    },
    "id": "ab46e4c6",
    "outputId": "6a520a41-a917-4351-f33a-415415f221db",
    "papermill": {
     "duration": 8.975055,
     "end_time": "2021-08-23T15:41:03.177513",
     "exception": false,
     "start_time": "2021-08-23T15:40:54.202458",
     "status": "completed"
    },
    "tags": []
   },
   "outputs": [
    {
     "name": "stdout",
     "output_type": "stream",
     "text": [
      "\u001b[33mWARNING: Running pip as root will break packages and permissions. You should install packages reliably by using venv: https://pip.pypa.io/warnings/venv\u001b[0m\r\n"
     ]
    }
   ],
   "source": [
    "\n",
    "!pip install -q transformers"
   ]
  },
  {
   "cell_type": "markdown",
   "id": "330183ca",
   "metadata": {
    "id": "624ab59d",
    "papermill": {
     "duration": 0.022304,
     "end_time": "2021-08-23T15:41:03.222723",
     "exception": false,
     "start_time": "2021-08-23T15:41:03.200419",
     "status": "completed"
    },
    "tags": []
   },
   "source": [
    "reference : \n",
    "\n",
    "https://colab.research.google.com/drive/19loLGUDjxGKy4ulZJ1m3hALq2ozNyEGe#scrollTo=oJFsRo_vGDYU\n",
    "\n",
    "https://www.kaggle.com/piantic/pytorch-tpu"
   ]
  },
  {
   "cell_type": "code",
   "execution_count": 2,
   "id": "e0dc1ee6",
   "metadata": {
    "execution": {
     "iopub.execute_input": "2021-08-23T15:41:03.271767Z",
     "iopub.status.busy": "2021-08-23T15:41:03.270847Z",
     "iopub.status.idle": "2021-08-23T15:41:03.273814Z",
     "shell.execute_reply": "2021-08-23T15:41:03.273372Z"
    },
    "id": "b952835e",
    "outputId": "da56a03e-174c-4002-a22e-66a740c72299",
    "papermill": {
     "duration": 0.02926,
     "end_time": "2021-08-23T15:41:03.273944",
     "exception": false,
     "start_time": "2021-08-23T15:41:03.244684",
     "status": "completed"
    },
    "tags": []
   },
   "outputs": [],
   "source": [
    "# for TPU\n",
    "#!curl https://raw.githubusercontent.com/pytorch/xla/master/contrib/scripts/env-setup.py -o pytorch-xla-env-setup.py\n",
    "#!python pytorch-xla-env-setup.py --apt-packages libomp5 libopenblas-dev"
   ]
  },
  {
   "cell_type": "code",
   "execution_count": 3,
   "id": "7e345028",
   "metadata": {
    "execution": {
     "iopub.execute_input": "2021-08-23T15:41:03.325633Z",
     "iopub.status.busy": "2021-08-23T15:41:03.324788Z",
     "iopub.status.idle": "2021-08-23T15:41:06.177571Z",
     "shell.execute_reply": "2021-08-23T15:41:06.176982Z",
     "shell.execute_reply.started": "2021-08-10T10:37:03.37204Z"
    },
    "id": "a9c9799d",
    "papermill": {
     "duration": 2.881422,
     "end_time": "2021-08-23T15:41:06.177706",
     "exception": false,
     "start_time": "2021-08-23T15:41:03.296284",
     "status": "completed"
    },
    "tags": []
   },
   "outputs": [],
   "source": [
    "import os \n",
    "import sys\n",
    "\n",
    "import math\n",
    "import random\n",
    "import time\n",
    "import warnings\n",
    "\n",
    "import numpy as np\n",
    "import pandas as pd\n",
    "import torch\n",
    "import torch.nn as nn\n",
    "import transformers as T\n",
    "from sklearn.metrics import fbeta_score\n",
    "from sklearn.model_selection import StratifiedKFold\n",
    "from torch.utils.data import DataLoader, Dataset\n",
    "from tqdm.notebook import tqdm\n",
    "\n",
    "import seaborn as sns\n",
    "\n",
    "from imblearn.under_sampling import RandomUnderSampler\n"
   ]
  },
  {
   "cell_type": "code",
   "execution_count": 4,
   "id": "b1b9205c",
   "metadata": {
    "execution": {
     "iopub.execute_input": "2021-08-23T15:41:06.227945Z",
     "iopub.status.busy": "2021-08-23T15:41:06.227323Z",
     "iopub.status.idle": "2021-08-23T15:41:06.231860Z",
     "shell.execute_reply": "2021-08-23T15:41:06.231393Z",
     "shell.execute_reply.started": "2021-08-10T10:37:06.339881Z"
    },
    "id": "0478d462",
    "papermill": {
     "duration": 0.031084,
     "end_time": "2021-08-23T15:41:06.231994",
     "exception": false,
     "start_time": "2021-08-23T15:41:06.200910",
     "status": "completed"
    },
    "tags": []
   },
   "outputs": [],
   "source": [
    "warnings.filterwarnings(\"ignore\")"
   ]
  },
  {
   "cell_type": "code",
   "execution_count": 5,
   "id": "b6e0a337",
   "metadata": {
    "execution": {
     "iopub.execute_input": "2021-08-23T15:41:06.339557Z",
     "iopub.status.busy": "2021-08-23T15:41:06.338885Z",
     "iopub.status.idle": "2021-08-23T15:41:06.342853Z",
     "shell.execute_reply": "2021-08-23T15:41:06.343385Z",
     "shell.execute_reply.started": "2021-08-10T10:37:06.348927Z"
    },
    "id": "0577bd3b",
    "outputId": "c491b8ee-54f1-4c06-f571-c0fe69a9c7b3",
    "papermill": {
     "duration": 0.088838,
     "end_time": "2021-08-23T15:41:06.343554",
     "exception": false,
     "start_time": "2021-08-23T15:41:06.254716",
     "status": "completed"
    },
    "tags": []
   },
   "outputs": [],
   "source": [
    "'''# imports the torch_xla package\n",
    "import torch_xla\n",
    "import torch_xla.core.xla_model as xm\n",
    "\n",
    "device = xm.xla_device()\n",
    "torch.set_default_tensor_type('torch.FloatTensor')\n",
    "\n",
    "\n",
    "print(device)'''\n",
    "device = torch.device(\"cuda\" if torch.cuda.is_available() else \"cpu\")"
   ]
  },
  {
   "cell_type": "code",
   "execution_count": 6,
   "id": "499ffeb1",
   "metadata": {
    "execution": {
     "iopub.execute_input": "2021-08-23T15:41:06.391031Z",
     "iopub.status.busy": "2021-08-23T15:41:06.390478Z",
     "iopub.status.idle": "2021-08-23T15:41:06.394541Z",
     "shell.execute_reply": "2021-08-23T15:41:06.394126Z",
     "shell.execute_reply.started": "2021-08-10T10:37:06.411171Z"
    },
    "id": "83f2e5e6",
    "papermill": {
     "duration": 0.029158,
     "end_time": "2021-08-23T15:41:06.394657",
     "exception": false,
     "start_time": "2021-08-23T15:41:06.365499",
     "status": "completed"
    },
    "tags": []
   },
   "outputs": [],
   "source": [
    "DATA_DIR = \"../input/signate-spws-2/\"\n",
    "OUTPUT_DIR = \"./\"\n",
    "\n",
    "#../input/signate-spws-2/train.csv"
   ]
  },
  {
   "cell_type": "code",
   "execution_count": 7,
   "id": "b9cf56ba",
   "metadata": {
    "execution": {
     "iopub.execute_input": "2021-08-23T15:41:06.451323Z",
     "iopub.status.busy": "2021-08-23T15:41:06.450426Z",
     "iopub.status.idle": "2021-08-23T15:41:08.804312Z",
     "shell.execute_reply": "2021-08-23T15:41:08.803658Z",
     "shell.execute_reply.started": "2021-08-10T10:37:06.424013Z"
    },
    "id": "414e9b96",
    "papermill": {
     "duration": 2.387965,
     "end_time": "2021-08-23T15:41:08.804467",
     "exception": false,
     "start_time": "2021-08-23T15:41:06.416502",
     "status": "completed"
    },
    "tags": []
   },
   "outputs": [],
   "source": [
    "DEBUG = False\n",
    "\n",
    "if DEBUG:\n",
    "  train = pd.read_csv(DATA_DIR + \"train.csv\").sample(20).reset_index(drop=True)\n",
    "  test = pd.read_csv(DATA_DIR + \"test.csv\").sample(20).reset_index(drop=True)\n",
    "  sub = pd.read_csv(DATA_DIR + \"sample_submit.csv\", header=None).sample(20).reset_index(drop=True)\n",
    "  sub.columns = [\"id\", \"judgement\"]\n",
    "else:\n",
    "  train = pd.read_csv(DATA_DIR + \"train.csv\")\n",
    "  test = pd.read_csv(DATA_DIR + \"test.csv\")\n",
    "  sub = pd.read_csv(DATA_DIR + \"sample_submit.csv\", header=None)\n",
    "  sub.columns = [\"id\", \"judgement\"]"
   ]
  },
  {
   "cell_type": "code",
   "execution_count": 8,
   "id": "aa9b9459",
   "metadata": {
    "execution": {
     "iopub.execute_input": "2021-08-23T15:41:08.863699Z",
     "iopub.status.busy": "2021-08-23T15:41:08.862891Z",
     "iopub.status.idle": "2021-08-23T15:41:09.288549Z",
     "shell.execute_reply": "2021-08-23T15:41:09.287875Z",
     "shell.execute_reply.started": "2021-08-10T10:37:08.999365Z"
    },
    "id": "db081f03",
    "papermill": {
     "duration": 0.459566,
     "end_time": "2021-08-23T15:41:09.288710",
     "exception": false,
     "start_time": "2021-08-23T15:41:08.829144",
     "status": "completed"
    },
    "tags": []
   },
   "outputs": [],
   "source": [
    "train['text'] = train['title']+ \" \" + train[\"abstract\"].fillna('NaN')\n",
    "train['text_len'] = train['text'].apply(lambda x: len(x.split(' ')))"
   ]
  },
  {
   "cell_type": "code",
   "execution_count": 9,
   "id": "a09e6861",
   "metadata": {
    "execution": {
     "iopub.execute_input": "2021-08-23T15:41:09.343296Z",
     "iopub.status.busy": "2021-08-23T15:41:09.341032Z",
     "iopub.status.idle": "2021-08-23T15:41:09.348536Z",
     "shell.execute_reply": "2021-08-23T15:41:09.347963Z"
    },
    "papermill": {
     "duration": 0.037183,
     "end_time": "2021-08-23T15:41:09.348690",
     "exception": false,
     "start_time": "2021-08-23T15:41:09.311507",
     "status": "completed"
    },
    "tags": []
   },
   "outputs": [],
   "source": [
    "#データの訂正\n",
    "train.loc[train['id'] == 2488, 'judgement'] = 0\n",
    "train.loc[train['id'] == 7708, 'judgement'] = 0"
   ]
  },
  {
   "cell_type": "code",
   "execution_count": 10,
   "id": "c6d267ba",
   "metadata": {
    "execution": {
     "iopub.execute_input": "2021-08-23T15:41:09.402647Z",
     "iopub.status.busy": "2021-08-23T15:41:09.400828Z",
     "iopub.status.idle": "2021-08-23T15:41:09.403363Z",
     "shell.execute_reply": "2021-08-23T15:41:09.403832Z"
    },
    "papermill": {
     "duration": 0.032517,
     "end_time": "2021-08-23T15:41:09.403991",
     "exception": false,
     "start_time": "2021-08-23T15:41:09.371474",
     "status": "completed"
    },
    "tags": []
   },
   "outputs": [],
   "source": [
    "def get_train_data(train):\n",
    "    \n",
    "    # 交差検証 用の番号を振ります。\n",
    "    Fold = StratifiedKFold(n_splits=5, shuffle=True, random_state=819)\n",
    "    for n, (train_index, val_index) in enumerate(Fold.split(train, train[\"judgement\"])):\n",
    "        train.loc[val_index, \"fold\"] = int(n)\n",
    "    train[\"fold\"] = train[\"fold\"].astype(np.uint8)\n",
    "\n",
    "    return train"
   ]
  },
  {
   "cell_type": "code",
   "execution_count": 11,
   "id": "2bed0096",
   "metadata": {
    "execution": {
     "iopub.execute_input": "2021-08-23T15:41:09.456785Z",
     "iopub.status.busy": "2021-08-23T15:41:09.456114Z",
     "iopub.status.idle": "2021-08-23T15:41:09.472488Z",
     "shell.execute_reply": "2021-08-23T15:41:09.471968Z"
    },
    "papermill": {
     "duration": 0.045296,
     "end_time": "2021-08-23T15:41:09.472636",
     "exception": false,
     "start_time": "2021-08-23T15:41:09.427340",
     "status": "completed"
    },
    "tags": []
   },
   "outputs": [],
   "source": [
    "train = get_train_data(train)"
   ]
  },
  {
   "cell_type": "code",
   "execution_count": 12,
   "id": "5d9eead0",
   "metadata": {
    "execution": {
     "iopub.execute_input": "2021-08-23T15:41:09.525257Z",
     "iopub.status.busy": "2021-08-23T15:41:09.524488Z",
     "iopub.status.idle": "2021-08-23T15:41:09.527988Z",
     "shell.execute_reply": "2021-08-23T15:41:09.527537Z",
     "shell.execute_reply.started": "2021-08-10T10:37:20.25743Z"
    },
    "id": "237dc061",
    "papermill": {
     "duration": 0.032487,
     "end_time": "2021-08-23T15:41:09.528172",
     "exception": false,
     "start_time": "2021-08-23T15:41:09.495685",
     "status": "completed"
    },
    "tags": []
   },
   "outputs": [],
   "source": [
    "class config:\n",
    "  if DEBUG:\n",
    "    border = len(train[train[\"judgement\"] == 1]) / len(train[\"judgement\"])\n",
    "    seed = 89\n",
    "    NUM_SPLITS = 5\n",
    "    MAX_LEN = 400\n",
    "    #MODEL_NAME = \"bert-base-uncased\"\n",
    "    MODEL_NAME = \"allenai/scibert_scivocab_uncased\"\n",
    "    TRAIN_BATCH_SIZE = 16\n",
    "    VALID_BATCH_SIZE = 16\n",
    "    \n",
    "    EPOCH = 3\n",
    "\n",
    "  else:\n",
    "    FILENAME = 'BiomedNLP-PubMedBERT-base-uncased-abstract-fulltext'\n",
    "\n",
    "    #border = len(train[train[\"judgement\"] == 1]) / len(train[\"judgement\"])\n",
    "    border = 0.5\n",
    "    seed = 89\n",
    "    NUM_SPLITS = 5\n",
    "    MAX_LEN = 400\n",
    "    #MODEL_NAME = \"bert-base-uncased\"\n",
    "    #MODEL_NAME = \"allenai/scibert_scivocab_uncased\"\n",
    "    #MODEL_NAME = \"RoBERTa-base-PM\" #https://github.com/facebookresearch/bio-lm 上から#×\n",
    "    #MODEL_NAME = \"RoBERTa-base-PM-Voc\"#×\n",
    "    MODEL_NAME = \"microsoft/BiomedNLP-PubMedBERT-base-uncased-abstract-fulltext\"\n",
    "    TRAIN_BATCH_SIZE = 16\n",
    "    VALID_BATCH_SIZE = 16\n",
    "    \n",
    "    EPOCH = 3\n",
    "    PATIENCE = 5"
   ]
  },
  {
   "cell_type": "code",
   "execution_count": 13,
   "id": "3e3c8d57",
   "metadata": {
    "execution": {
     "iopub.execute_input": "2021-08-23T15:41:09.582426Z",
     "iopub.status.busy": "2021-08-23T15:41:09.581625Z",
     "iopub.status.idle": "2021-08-23T15:41:09.586035Z",
     "shell.execute_reply": "2021-08-23T15:41:09.585531Z",
     "shell.execute_reply.started": "2021-08-10T10:37:20.280318Z"
    },
    "id": "5a56194b",
    "papermill": {
     "duration": 0.034735,
     "end_time": "2021-08-23T15:41:09.586208",
     "exception": false,
     "start_time": "2021-08-23T15:41:09.551473",
     "status": "completed"
    },
    "tags": []
   },
   "outputs": [],
   "source": [
    "def init_logger(log_file=OUTPUT_DIR + f\"{config.FILENAME}_train.log\"):\n",
    "    from logging import INFO, FileHandler, Formatter, StreamHandler, getLogger\n",
    "\n",
    "    logger = getLogger(__name__)\n",
    "    logger.setLevel(INFO)\n",
    "    handler1 = StreamHandler()\n",
    "    handler1.setFormatter(Formatter(\"%(message)s\"))\n",
    "    handler2 = FileHandler(filename=log_file)\n",
    "    handler2.setFormatter(Formatter(\"%(message)s\"))\n",
    "    logger.addHandler(handler1)\n",
    "    logger.addHandler(handler2)\n",
    "    return logger\n",
    "\n",
    "LOGGER = init_logger()"
   ]
  },
  {
   "cell_type": "code",
   "execution_count": 14,
   "id": "f3d109e7",
   "metadata": {
    "execution": {
     "iopub.execute_input": "2021-08-23T15:41:09.640618Z",
     "iopub.status.busy": "2021-08-23T15:41:09.639548Z",
     "iopub.status.idle": "2021-08-23T15:41:09.647063Z",
     "shell.execute_reply": "2021-08-23T15:41:09.646531Z",
     "shell.execute_reply.started": "2021-08-10T10:37:20.291624Z"
    },
    "id": "8f476307",
    "papermill": {
     "duration": 0.037386,
     "end_time": "2021-08-23T15:41:09.647206",
     "exception": false,
     "start_time": "2021-08-23T15:41:09.609820",
     "status": "completed"
    },
    "tags": []
   },
   "outputs": [],
   "source": [
    "def seed_torch(seed=42):\n",
    "    random.seed(seed)\n",
    "    os.environ[\"PYTHONHASHSEED\"] = str(seed)\n",
    "    np.random.seed(seed)\n",
    "    torch.manual_seed(seed)\n",
    "    torch.cuda.manual_seed(seed)\n",
    "    torch.cuda.manual_seed_all(seed)\n",
    "    torch.backends.cudnn.deterministic = True\n",
    "\n",
    "seed = config.seed\n",
    "seed_torch(seed)"
   ]
  },
  {
   "cell_type": "code",
   "execution_count": 15,
   "id": "87213751",
   "metadata": {
    "execution": {
     "iopub.execute_input": "2021-08-23T15:41:09.699787Z",
     "iopub.status.busy": "2021-08-23T15:41:09.698917Z",
     "iopub.status.idle": "2021-08-23T15:41:09.703005Z",
     "shell.execute_reply": "2021-08-23T15:41:09.702510Z"
    },
    "id": "wa5HQZjIE2Y6",
    "papermill": {
     "duration": 0.032722,
     "end_time": "2021-08-23T15:41:09.703162",
     "exception": false,
     "start_time": "2021-08-23T15:41:09.670440",
     "status": "completed"
    },
    "tags": []
   },
   "outputs": [],
   "source": [
    "from scipy.optimize import minimize, minimize_scalar\n",
    "def optimize_threshold(y_true, y_pred):\n",
    "    \"\"\"fbeta score計算時のthresholdを最適化\"\"\"\n",
    "    def opt_(x): \n",
    "        return -fbeta_score(y_true, y_pred >= x, beta=7)\n",
    "    #result = minimize(opt_, x0=np.array([0.5]), method='Nelder-Mead')\n",
    "    result = minimize_scalar(opt_, bounds=(0, 0.5), method='bounded') \n",
    "\n",
    "    best_threshold = result['x'].item()\n",
    "    return best_threshold\n"
   ]
  },
  {
   "cell_type": "code",
   "execution_count": null,
   "id": "be221af9",
   "metadata": {
    "execution": {
     "iopub.execute_input": "2021-08-15T14:15:11.6757Z",
     "iopub.status.busy": "2021-08-15T14:15:11.674688Z",
     "iopub.status.idle": "2021-08-15T14:15:11.677725Z",
     "shell.execute_reply": "2021-08-15T14:15:11.677175Z",
     "shell.execute_reply.started": "2021-08-10T10:37:20.307994Z"
    },
    "id": "e9b4f84d",
    "papermill": {
     "duration": 0.022913,
     "end_time": "2021-08-23T15:41:09.749032",
     "exception": false,
     "start_time": "2021-08-23T15:41:09.726119",
     "status": "completed"
    },
    "tags": []
   },
   "outputs": [],
   "source": []
  },
  {
   "cell_type": "code",
   "execution_count": 16,
   "id": "79220d7e",
   "metadata": {
    "execution": {
     "iopub.execute_input": "2021-08-23T15:41:09.805870Z",
     "iopub.status.busy": "2021-08-23T15:41:09.804550Z",
     "iopub.status.idle": "2021-08-23T15:41:09.808130Z",
     "shell.execute_reply": "2021-08-23T15:41:09.807597Z",
     "shell.execute_reply.started": "2021-08-10T10:37:20.341266Z"
    },
    "id": "82a6780e",
    "papermill": {
     "duration": 0.036328,
     "end_time": "2021-08-23T15:41:09.808296",
     "exception": false,
     "start_time": "2021-08-23T15:41:09.771968",
     "status": "completed"
    },
    "tags": []
   },
   "outputs": [],
   "source": [
    "class BaseDataset(Dataset):\n",
    "    def __init__(self, df, model_name, include_labels=True):\n",
    "        tokenizer = T.BertTokenizer.from_pretrained(model_name)\n",
    "\n",
    "        self.df = df\n",
    "        self.include_labels = include_labels\n",
    "\n",
    "        #self.title = df[\"title\"].tolist()\n",
    "        df[\"text\"] = df[\"title\"]+\" \"+df[\"abstract\"].fillna('NaN')\n",
    "        #self.title = df[\"text\"].tolist()\n",
    "        self.text = df[\"text\"].tolist()\n",
    "\n",
    "        self.encoded = tokenizer.batch_encode_plus(\n",
    "            self.text,\n",
    "            padding = 'max_length',            \n",
    "            max_length = config.MAX_LEN,\n",
    "            truncation = True,\n",
    "            return_attention_mask=True\n",
    "        )\n",
    "        \n",
    "        if self.include_labels:\n",
    "            self.labels = df[\"judgement\"].values\n",
    "\n",
    "    def __len__(self):\n",
    "        return len(self.df)\n",
    "\n",
    "    def __getitem__(self, idx):\n",
    "        input_ids = torch.tensor(self.encoded['input_ids'][idx])\n",
    "        attention_mask = torch.tensor(self.encoded['attention_mask'][idx])\n",
    "\n",
    "        if self.include_labels:\n",
    "            label = torch.tensor(self.labels[idx]).float()\n",
    "            return input_ids, attention_mask, label\n",
    "\n",
    "        return input_ids, attention_mask"
   ]
  },
  {
   "cell_type": "code",
   "execution_count": 17,
   "id": "00aafe76",
   "metadata": {
    "execution": {
     "iopub.execute_input": "2021-08-23T15:41:09.861305Z",
     "iopub.status.busy": "2021-08-23T15:41:09.860670Z",
     "iopub.status.idle": "2021-08-23T15:41:09.865596Z",
     "shell.execute_reply": "2021-08-23T15:41:09.865041Z",
     "shell.execute_reply.started": "2021-08-10T10:37:20.356505Z"
    },
    "id": "d7b912ee",
    "papermill": {
     "duration": 0.034049,
     "end_time": "2021-08-23T15:41:09.865738",
     "exception": false,
     "start_time": "2021-08-23T15:41:09.831689",
     "status": "completed"
    },
    "tags": []
   },
   "outputs": [],
   "source": [
    "class BaseModel(nn.Module):\n",
    "    def __init__(self, model_name):\n",
    "        super().__init__()\n",
    "\n",
    "        self.model = T.BertForSequenceClassification.from_pretrained(model_name, num_labels=1)\n",
    "        self.sigmoid = nn.Sigmoid()\n",
    "\n",
    "    def forward(self, input_ids, attention_mask):\n",
    "        out = self.model(input_ids=input_ids, attention_mask=attention_mask)\n",
    "        out = self.sigmoid(out.logits).squeeze()\n",
    "\n",
    "        return out"
   ]
  },
  {
   "cell_type": "code",
   "execution_count": 18,
   "id": "1fe3f11d",
   "metadata": {
    "execution": {
     "iopub.execute_input": "2021-08-23T15:41:09.922900Z",
     "iopub.status.busy": "2021-08-23T15:41:09.921000Z",
     "iopub.status.idle": "2021-08-23T15:41:09.923703Z",
     "shell.execute_reply": "2021-08-23T15:41:09.924173Z",
     "shell.execute_reply.started": "2021-08-10T10:37:20.370564Z"
    },
    "id": "174d6b70",
    "papermill": {
     "duration": 0.035835,
     "end_time": "2021-08-23T15:41:09.924332",
     "exception": false,
     "start_time": "2021-08-23T15:41:09.888497",
     "status": "completed"
    },
    "tags": []
   },
   "outputs": [],
   "source": [
    "class AverageMeter(object):\n",
    "    \"\"\"Computes and stores the average and current value\"\"\"\n",
    "\n",
    "    def __init__(self):\n",
    "        self.reset()\n",
    "\n",
    "    def reset(self):\n",
    "        self.val = 0\n",
    "        self.avg = 0\n",
    "        self.sum = 0\n",
    "        self.count = 0\n",
    "\n",
    "    def update(self, val, n=1):\n",
    "        self.val = val\n",
    "        self.sum += val * n\n",
    "        self.count += n\n",
    "        self.avg = self.sum / self.count\n",
    "\n",
    "\n",
    "def asMinutes(s):\n",
    "    m = math.floor(s / 60)\n",
    "    s -= m * 60\n",
    "    return \"%dm %ds\" % (m, s)\n",
    "\n",
    "\n",
    "def timeSince(since, percent):\n",
    "    now = time.time()\n",
    "    s = now - since\n",
    "    es = s / (percent)\n",
    "    rs = es - s\n",
    "    return \"%s (remain %s)\" % (asMinutes(s), asMinutes(rs))"
   ]
  },
  {
   "cell_type": "code",
   "execution_count": null,
   "id": "721f10ff",
   "metadata": {
    "papermill": {
     "duration": 0.023035,
     "end_time": "2021-08-23T15:41:09.971196",
     "exception": false,
     "start_time": "2021-08-23T15:41:09.948161",
     "status": "completed"
    },
    "tags": []
   },
   "outputs": [],
   "source": []
  },
  {
   "cell_type": "code",
   "execution_count": 19,
   "id": "1717eb96",
   "metadata": {
    "execution": {
     "iopub.execute_input": "2021-08-23T15:41:10.025871Z",
     "iopub.status.busy": "2021-08-23T15:41:10.025002Z",
     "iopub.status.idle": "2021-08-23T15:41:10.029068Z",
     "shell.execute_reply": "2021-08-23T15:41:10.028552Z",
     "shell.execute_reply.started": "2021-08-10T10:37:20.385135Z"
    },
    "id": "ee73c5ea",
    "papermill": {
     "duration": 0.034544,
     "end_time": "2021-08-23T15:41:10.029225",
     "exception": false,
     "start_time": "2021-08-23T15:41:09.994681",
     "status": "completed"
    },
    "tags": []
   },
   "outputs": [],
   "source": [
    "def train_fn(train_loader, model, criterion, optimizer, epoch, device):\n",
    "    start = end = time.time()\n",
    "    losses = AverageMeter()\n",
    "\n",
    "    # switch to train mode\n",
    "    model.train()\n",
    "\n",
    "    for step, (input_ids, attention_mask, labels) in enumerate(train_loader):\n",
    "        optimizer.zero_grad()\n",
    "\n",
    "        input_ids = input_ids.to(device)\n",
    "        attention_mask = attention_mask.to(device)\n",
    "        labels = labels.to(device)\n",
    "        batch_size = labels.size(0)\n",
    "\n",
    "        y_preds = model(input_ids, attention_mask)\n",
    "\n",
    "        loss = criterion(y_preds, labels)\n",
    "\n",
    "        # record loss\n",
    "        losses.update(loss.item(), batch_size)\n",
    "        loss.backward()\n",
    "\n",
    "        optimizer.step()\n",
    "        #xm.optimizer_step(optimizer, barrier=True)\n",
    "\n",
    "        if step % 100 == 0 or step == (len(train_loader) - 1):\n",
    "            print(\n",
    "                f\"Epoch: [{epoch + 1}][{step}/{len(train_loader)}] \"\n",
    "                f\"Elapsed {timeSince(start, float(step + 1) / len(train_loader)):s} \"\n",
    "                f\"Loss: {losses.avg:.4f} \"\n",
    "            )\n",
    "\n",
    "    return losses.avg"
   ]
  },
  {
   "cell_type": "code",
   "execution_count": 20,
   "id": "f97a9c21",
   "metadata": {
    "execution": {
     "iopub.execute_input": "2021-08-23T15:41:10.085161Z",
     "iopub.status.busy": "2021-08-23T15:41:10.084433Z",
     "iopub.status.idle": "2021-08-23T15:41:10.087951Z",
     "shell.execute_reply": "2021-08-23T15:41:10.087495Z",
     "shell.execute_reply.started": "2021-08-10T10:37:20.401518Z"
    },
    "id": "32f00ab4",
    "papermill": {
     "duration": 0.03526,
     "end_time": "2021-08-23T15:41:10.088110",
     "exception": false,
     "start_time": "2021-08-23T15:41:10.052850",
     "status": "completed"
    },
    "tags": []
   },
   "outputs": [],
   "source": [
    "def valid_fn(valid_loader, model, criterion, device):\n",
    "    start = end = time.time()\n",
    "    losses = AverageMeter()\n",
    "\n",
    "    # switch to evaluation mode\n",
    "    model.eval()\n",
    "    preds = []\n",
    "\n",
    "    for step, (input_ids, attention_mask, labels) in enumerate(valid_loader):\n",
    "        input_ids = input_ids.to(device)\n",
    "        attention_mask = attention_mask.to(device)\n",
    "        labels = labels.to(device)\n",
    "        batch_size = labels.size(0)\n",
    "\n",
    "        # compute loss\n",
    "        with torch.no_grad():\n",
    "            y_preds = model(input_ids, attention_mask)\n",
    "\n",
    "        loss = criterion(y_preds, labels)\n",
    "        losses.update(loss.item(), batch_size)\n",
    "\n",
    "        # record score\n",
    "        preds.append(y_preds.to(\"cpu\").numpy())\n",
    "\n",
    "        if step % 100 == 0 or step == (len(valid_loader) - 1):\n",
    "            print(\n",
    "                f\"EVAL: [{step}/{len(valid_loader)}] \"\n",
    "                f\"Elapsed {timeSince(start, float(step + 1) / len(valid_loader)):s} \"\n",
    "                f\"Loss: {losses.avg:.4f} \"\n",
    "            )\n",
    "\n",
    "    predictions = np.concatenate(preds)\n",
    "    return losses.avg, predictions\n"
   ]
  },
  {
   "cell_type": "code",
   "execution_count": 21,
   "id": "43d0b203",
   "metadata": {
    "execution": {
     "iopub.execute_input": "2021-08-23T15:41:10.143108Z",
     "iopub.status.busy": "2021-08-23T15:41:10.142440Z",
     "iopub.status.idle": "2021-08-23T15:41:10.145398Z",
     "shell.execute_reply": "2021-08-23T15:41:10.145850Z",
     "shell.execute_reply.started": "2021-08-10T10:37:20.416513Z"
    },
    "id": "a2d063b4",
    "papermill": {
     "duration": 0.034839,
     "end_time": "2021-08-23T15:41:10.146013",
     "exception": false,
     "start_time": "2021-08-23T15:41:10.111174",
     "status": "completed"
    },
    "tags": []
   },
   "outputs": [],
   "source": [
    "def inference():\n",
    "    predictions = []\n",
    "\n",
    "    test_dataset = BaseDataset(test, config.MODEL_NAME, include_labels=False)\n",
    "    test_loader = DataLoader(\n",
    "        test_dataset, batch_size=16, shuffle=False, num_workers=4, pin_memory=True\n",
    "    )\n",
    "\n",
    "    for fold in range(5):\n",
    "        LOGGER.info(f\"========== model: bert-base-uncased fold: {fold} inference ==========\")\n",
    "        model = BaseModel(config.MODEL_NAME)\n",
    "        model.to(device)\n",
    "        model.load_state_dict(torch.load(OUTPUT_DIR + f\"{config.FILENAME}_fold{fold}_best.pth\")[\"model\"])\n",
    "        model.eval()\n",
    "        preds = []\n",
    "        for i, (input_ids, attention_mask) in tqdm(enumerate(test_loader), total=len(test_loader)):\n",
    "            input_ids = input_ids.to(device)\n",
    "            attention_mask = attention_mask.to(device)\n",
    "            with torch.no_grad():\n",
    "                y_preds = model(input_ids, attention_mask)\n",
    "            preds.append(y_preds.to(\"cpu\").numpy())\n",
    "        preds = np.concatenate(preds)\n",
    "        predictions.append(preds)\n",
    "    predictions = np.mean(predictions, axis=0)\n",
    "\n",
    "    return predictions"
   ]
  },
  {
   "cell_type": "code",
   "execution_count": 22,
   "id": "1baf159c",
   "metadata": {
    "execution": {
     "iopub.execute_input": "2021-08-23T15:41:10.208398Z",
     "iopub.status.busy": "2021-08-23T15:41:10.207522Z",
     "iopub.status.idle": "2021-08-23T15:41:10.211180Z",
     "shell.execute_reply": "2021-08-23T15:41:10.210689Z",
     "shell.execute_reply.started": "2021-08-10T10:37:20.432197Z"
    },
    "id": "82548d4f",
    "papermill": {
     "duration": 0.0424,
     "end_time": "2021-08-23T15:41:10.211317",
     "exception": false,
     "start_time": "2021-08-23T15:41:10.168917",
     "status": "completed"
    },
    "tags": []
   },
   "outputs": [],
   "source": [
    "def train_loop(train, fold):\n",
    "\n",
    "    LOGGER.info(f\"========== fold: {fold} training ==========\")\n",
    "\n",
    "    # ====================================================\n",
    "    # Data Loader\n",
    "    # ====================================================\n",
    "    trn_idx = train[train[\"fold\"] != fold].index\n",
    "    val_idx = train[train[\"fold\"] == fold].index\n",
    "\n",
    "    train_folds = train.loc[trn_idx].reset_index(drop=True)\n",
    "    valid_folds = train.loc[val_idx].reset_index(drop=True)\n",
    "    \n",
    "    rus = RandomUnderSampler(sampling_strategy=1.0, random_state=seed)\n",
    "    text, jdg = rus.fit_resample(train_folds.drop('judgement', axis=1), train_folds['judgement'])\n",
    "    train_folds = pd.concat([text, jdg], axis=1)\n",
    "    #del text, jdg\n",
    "    #gc.collect()\n",
    "\n",
    "    train_dataset = BaseDataset(train_folds, config.MODEL_NAME)\n",
    "    valid_dataset = BaseDataset(valid_folds, config.MODEL_NAME)\n",
    "\n",
    "    train_loader = DataLoader(\n",
    "        train_dataset,\n",
    "        batch_size=config.TRAIN_BATCH_SIZE,\n",
    "        shuffle=True,\n",
    "        num_workers=4,\n",
    "        pin_memory=True,\n",
    "        drop_last=True,\n",
    "    )\n",
    "    valid_loader = DataLoader(\n",
    "        valid_dataset,\n",
    "        batch_size=config.VALID_BATCH_SIZE,\n",
    "        shuffle=False,\n",
    "        num_workers=4,\n",
    "        pin_memory=True,\n",
    "        drop_last=False,\n",
    "    )\n",
    "\n",
    "    # ====================================================\n",
    "    # Model\n",
    "    # ====================================================\n",
    "    model = BaseModel(config.MODEL_NAME)\n",
    "    model.to(device)\n",
    "\n",
    "    optimizer = T.AdamW(model.parameters(), lr=2e-5)\n",
    "\n",
    "    criterion = nn.BCELoss()\n",
    "\n",
    "    # ====================================================\n",
    "    # Loop\n",
    "    # ====================================================\n",
    "    best_score = -1\n",
    "    best_loss = np.inf\n",
    "    \n",
    "    # Early stopping\n",
    "    #earlystopping = EarlyStopping(patience=config.Patience, verbose=True)\n",
    "\n",
    "    for epoch in range(config.EPOCH):\n",
    "        start_time = time.time()\n",
    "        \n",
    "        # train\n",
    "        avg_loss = train_fn(train_loader, model, criterion, optimizer, epoch, device)\n",
    "\n",
    "        # eval\n",
    "        avg_val_loss, preds = valid_fn(valid_loader, model, criterion, device)\n",
    "        valid_labels = valid_folds[\"judgement\"].values\n",
    "\n",
    "        # scoring\n",
    "        score = fbeta_score(valid_labels, np.where(preds < config.border, 0, 1), beta=7.0)\n",
    "\n",
    "        elapsed = time.time() - start_time\n",
    "        LOGGER.info(\n",
    "            f\"Epoch {epoch+1} - avg_train_loss: {avg_loss:.4f}  avg_val_loss: {avg_val_loss:.4f}  time: {elapsed:.0f}s\"\n",
    "        )\n",
    "        LOGGER.info(f\"Epoch {epoch+1} - Score: {score}\")\n",
    "\n",
    "        if score > best_score:\n",
    "            best_score = score\n",
    "            LOGGER.info(f\"Epoch {epoch+1} - Save Best Score: {best_score:.4f} Model\")\n",
    "            torch.save(\n",
    "                {\"model\": model.state_dict(), \"preds\": preds}, OUTPUT_DIR + f\"{config.FILENAME}_fold{fold}_best.pth\"\n",
    "            )\n",
    "        \n",
    "        #earlystopping(avg_val_loss, model)\n",
    "        #if earlystopping.early_stop: #ストップフラグがTrueの場合、breakでforループを抜ける\n",
    "        #    #print(\"Early Stopping!\")\n",
    "        #    LOGGER.info(f\"Epoch {epoch+1} - Early Stopping!\")\n",
    "        #    break\n",
    "\n",
    "    check_point = torch.load(OUTPUT_DIR + f\"{config.FILENAME}_fold{fold}_best.pth\")\n",
    "\n",
    "    valid_folds[\"preds\"] = check_point[\"preds\"]\n",
    "\n",
    "    return valid_folds"
   ]
  },
  {
   "cell_type": "code",
   "execution_count": 23,
   "id": "3c88eb19",
   "metadata": {
    "execution": {
     "iopub.execute_input": "2021-08-23T15:41:10.265995Z",
     "iopub.status.busy": "2021-08-23T15:41:10.265231Z",
     "iopub.status.idle": "2021-08-23T15:41:10.269174Z",
     "shell.execute_reply": "2021-08-23T15:41:10.268548Z",
     "shell.execute_reply.started": "2021-08-10T10:37:20.456178Z"
    },
    "id": "c398bbbf",
    "papermill": {
     "duration": 0.034513,
     "end_time": "2021-08-23T15:41:10.269318",
     "exception": false,
     "start_time": "2021-08-23T15:41:10.234805",
     "status": "completed"
    },
    "tags": []
   },
   "outputs": [],
   "source": [
    "def get_result(result_df):\n",
    "    preds = result_df[\"preds\"].values\n",
    "    labels = result_df[\"judgement\"].values\n",
    "    \n",
    "    border = border = len(result_df[result_df[\"judgement\"] == 1]) / len(result_df[\"judgement\"])\n",
    "    score = fbeta_score(labels, np.where(preds < border, 0, 1), beta=7.0)\n",
    "    LOGGER.info(f\"Score: {score:<.5f}\")\n",
    "\n",
    "    best_threshold = optimize_threshold(labels, preds)\n",
    "    LOGGER.info(f\"Best threshold : {best_threshold:<.5f}\")\n",
    "    score = fbeta_score(labels, np.where(preds < best_threshold, 0, 1), beta=7.0)\n",
    "    LOGGER.info(f\"After optimizing score: {score:<.5f}\")\n",
    "\n",
    "    return best_threshold"
   ]
  },
  {
   "cell_type": "code",
   "execution_count": 24,
   "id": "888a82c2",
   "metadata": {
    "execution": {
     "iopub.execute_input": "2021-08-23T15:41:10.327008Z",
     "iopub.status.busy": "2021-08-23T15:41:10.326173Z",
     "iopub.status.idle": "2021-08-23T15:41:10.329922Z",
     "shell.execute_reply": "2021-08-23T15:41:10.329371Z",
     "shell.execute_reply.started": "2021-08-10T10:37:20.46811Z"
    },
    "id": "1f43a9ee",
    "papermill": {
     "duration": 0.037126,
     "end_time": "2021-08-23T15:41:10.330050",
     "exception": false,
     "start_time": "2021-08-23T15:41:10.292924",
     "status": "completed"
    },
    "tags": []
   },
   "outputs": [],
   "source": [
    "def main():\n",
    "    # Training\n",
    "    oof_df = pd.DataFrame()\n",
    "    threshold = []\n",
    "    for fold in range(5):\n",
    "        _oof_df = train_loop(train, fold)\n",
    "        oof_df = pd.concat([oof_df, _oof_df])\n",
    "        LOGGER.info(f\"========== fold: {fold} result ==========\")\n",
    "        best_threshold = get_result(_oof_df)\n",
    "        threshold.append(best_threshold)\n",
    "        \n",
    "    # CV result\n",
    "    LOGGER.info(f\"========== CV ==========\")\n",
    "    get_result(oof_df)\n",
    "    \n",
    "    # Save OOF result\n",
    "    oof_df.to_csv(OUTPUT_DIR + f\"{config.FILENAME}_oof_df.csv\", index=False)\n",
    "\n",
    "    # Inference\n",
    "    proba_predictions = inference()\n",
    "    predictions = np.where(proba_predictions < config.border, 0, 1)\n",
    "\n",
    "    # submission\n",
    "    sub[\"judgement\"] = predictions\n",
    "    sub.to_csv(OUTPUT_DIR + f\"./sub_{config.FILENAME}.csv\", index=False, header=False)\n",
    "\n",
    "    # mean threshold\n",
    "    predictions = np.where(proba_predictions < np.mean(threshold), 0, 1)\n",
    "\n",
    "    sub[\"judgement\"] = predictions\n",
    "    sub.to_csv(OUTPUT_DIR + f\"./sub_mean_thr_{config.FILENAME}.csv\", index=False, header=False)\n",
    "\n",
    "    #stack = pd.read_csv(DATA_DIR + \"sample_submit.csv\", header=None)\n",
    "    sub[\"judgement\"] = proba_predictions\n",
    "    sub.to_csv(OUTPUT_DIR + f\"./stack_{config.FILENAME}.csv\", index=False, header=False)"
   ]
  },
  {
   "cell_type": "code",
   "execution_count": 25,
   "id": "4c2891f1",
   "metadata": {
    "execution": {
     "iopub.execute_input": "2021-08-23T15:41:10.382328Z",
     "iopub.status.busy": "2021-08-23T15:41:10.381341Z",
     "iopub.status.idle": "2021-08-23T17:08:25.968593Z",
     "shell.execute_reply": "2021-08-23T17:08:25.967520Z"
    },
    "id": "ae4593f5",
    "outputId": "4d6bbb1c-1f54-41cd-ee3e-3496d0c98324",
    "papermill": {
     "duration": 5235.615627,
     "end_time": "2021-08-23T17:08:25.968769",
     "exception": false,
     "start_time": "2021-08-23T15:41:10.353142",
     "status": "completed"
    },
    "tags": []
   },
   "outputs": [
    {
     "name": "stderr",
     "output_type": "stream",
     "text": [
      "========== fold: 0 training ==========\n"
     ]
    },
    {
     "data": {
      "application/vnd.jupyter.widget-view+json": {
       "model_id": "2a69952ac298405fa2ad286c6a43c36a",
       "version_major": 2,
       "version_minor": 0
      },
      "text/plain": [
       "Downloading:   0%|          | 0.00/226k [00:00<?, ?B/s]"
      ]
     },
     "metadata": {},
     "output_type": "display_data"
    },
    {
     "data": {
      "application/vnd.jupyter.widget-view+json": {
       "model_id": "342a0bd192fd48fcb5ecfc36f79557b6",
       "version_major": 2,
       "version_minor": 0
      },
      "text/plain": [
       "Downloading:   0%|          | 0.00/337 [00:00<?, ?B/s]"
      ]
     },
     "metadata": {},
     "output_type": "display_data"
    },
    {
     "data": {
      "application/vnd.jupyter.widget-view+json": {
       "model_id": "9ec8117017ad49d682bb73fca0c2f558",
       "version_major": 2,
       "version_minor": 0
      },
      "text/plain": [
       "Downloading:   0%|          | 0.00/440M [00:00<?, ?B/s]"
      ]
     },
     "metadata": {},
     "output_type": "display_data"
    },
    {
     "name": "stderr",
     "output_type": "stream",
     "text": [
      "Some weights of the model checkpoint at microsoft/BiomedNLP-PubMedBERT-base-uncased-abstract-fulltext were not used when initializing BertForSequenceClassification: ['cls.predictions.decoder.bias', 'cls.predictions.transform.LayerNorm.weight', 'cls.predictions.bias', 'cls.predictions.transform.LayerNorm.bias', 'cls.seq_relationship.bias', 'cls.seq_relationship.weight', 'cls.predictions.transform.dense.weight', 'cls.predictions.transform.dense.bias', 'cls.predictions.decoder.weight']\n",
      "- This IS expected if you are initializing BertForSequenceClassification from the checkpoint of a model trained on another task or with another architecture (e.g. initializing a BertForSequenceClassification model from a BertForPreTraining model).\n",
      "- This IS NOT expected if you are initializing BertForSequenceClassification from the checkpoint of a model that you expect to be exactly identical (initializing a BertForSequenceClassification model from a BertForSequenceClassification model).\n",
      "Some weights of BertForSequenceClassification were not initialized from the model checkpoint at microsoft/BiomedNLP-PubMedBERT-base-uncased-abstract-fulltext and are newly initialized: ['classifier.bias', 'classifier.weight']\n",
      "You should probably TRAIN this model on a down-stream task to be able to use it for predictions and inference.\n"
     ]
    },
    {
     "name": "stdout",
     "output_type": "stream",
     "text": [
      "Epoch: [1][0/63] Elapsed 0m 2s (remain 2m 4s) Loss: 0.6715 \n",
      "Epoch: [1][62/63] Elapsed 0m 43s (remain 0m 0s) Loss: 0.5226 \n",
      "EVAL: [0/340] Elapsed 0m 0s (remain 2m 12s) Loss: 0.5712 \n",
      "EVAL: [100/340] Elapsed 0m 22s (remain 0m 52s) Loss: 0.4361 \n",
      "EVAL: [200/340] Elapsed 0m 44s (remain 0m 30s) Loss: 0.4193 \n",
      "EVAL: [300/340] Elapsed 1m 5s (remain 0m 8s) Loss: 0.4163 \n"
     ]
    },
    {
     "name": "stderr",
     "output_type": "stream",
     "text": [
      "Epoch 1 - avg_train_loss: 0.5226  avg_val_loss: 0.4163  time: 118s\n",
      "Epoch 1 - Score: 0.8198980294887694\n",
      "Epoch 1 - Save Best Score: 0.8199 Model\n"
     ]
    },
    {
     "name": "stdout",
     "output_type": "stream",
     "text": [
      "EVAL: [339/340] Elapsed 1m 14s (remain 0m 0s) Loss: 0.4163 \n",
      "Epoch: [2][0/63] Elapsed 0m 0s (remain 0m 50s) Loss: 0.2796 \n",
      "Epoch: [2][62/63] Elapsed 0m 42s (remain 0m 0s) Loss: 0.2113 \n",
      "EVAL: [0/340] Elapsed 0m 0s (remain 2m 4s) Loss: 0.2956 \n",
      "EVAL: [100/340] Elapsed 0m 22s (remain 0m 52s) Loss: 0.1421 \n",
      "EVAL: [200/340] Elapsed 0m 44s (remain 0m 30s) Loss: 0.1327 \n",
      "EVAL: [300/340] Elapsed 1m 5s (remain 0m 8s) Loss: 0.1329 \n"
     ]
    },
    {
     "name": "stderr",
     "output_type": "stream",
     "text": [
      "Epoch 2 - avg_train_loss: 0.2113  avg_val_loss: 0.1356  time: 117s\n",
      "Epoch 2 - Score: 0.8303859757035215\n",
      "Epoch 2 - Save Best Score: 0.8304 Model\n"
     ]
    },
    {
     "name": "stdout",
     "output_type": "stream",
     "text": [
      "EVAL: [339/340] Elapsed 1m 14s (remain 0m 0s) Loss: 0.1356 \n",
      "Epoch: [3][0/63] Elapsed 0m 0s (remain 0m 52s) Loss: 0.1054 \n",
      "Epoch: [3][62/63] Elapsed 0m 42s (remain 0m 0s) Loss: 0.0979 \n",
      "EVAL: [0/340] Elapsed 0m 0s (remain 2m 7s) Loss: 0.7472 \n",
      "EVAL: [100/340] Elapsed 0m 22s (remain 0m 52s) Loss: 0.2502 \n",
      "EVAL: [200/340] Elapsed 0m 44s (remain 0m 30s) Loss: 0.2372 \n",
      "EVAL: [300/340] Elapsed 1m 5s (remain 0m 8s) Loss: 0.2365 \n"
     ]
    },
    {
     "name": "stderr",
     "output_type": "stream",
     "text": [
      "Epoch 3 - avg_train_loss: 0.0979  avg_val_loss: 0.2384  time: 117s\n",
      "Epoch 3 - Score: 0.8935219657483245\n",
      "Epoch 3 - Save Best Score: 0.8935 Model\n"
     ]
    },
    {
     "name": "stdout",
     "output_type": "stream",
     "text": [
      "EVAL: [339/340] Elapsed 1m 14s (remain 0m 0s) Loss: 0.2384 \n"
     ]
    },
    {
     "name": "stderr",
     "output_type": "stream",
     "text": [
      "========== fold: 0 result ==========\n",
      "Score: 0.78917\n",
      "Best threshold : 0.49343\n",
      "After optimizing score: 0.89326\n",
      "========== fold: 1 training ==========\n",
      "Some weights of the model checkpoint at microsoft/BiomedNLP-PubMedBERT-base-uncased-abstract-fulltext were not used when initializing BertForSequenceClassification: ['cls.predictions.decoder.bias', 'cls.predictions.transform.LayerNorm.weight', 'cls.predictions.bias', 'cls.predictions.transform.LayerNorm.bias', 'cls.seq_relationship.bias', 'cls.seq_relationship.weight', 'cls.predictions.transform.dense.weight', 'cls.predictions.transform.dense.bias', 'cls.predictions.decoder.weight']\n",
      "- This IS expected if you are initializing BertForSequenceClassification from the checkpoint of a model trained on another task or with another architecture (e.g. initializing a BertForSequenceClassification model from a BertForPreTraining model).\n",
      "- This IS NOT expected if you are initializing BertForSequenceClassification from the checkpoint of a model that you expect to be exactly identical (initializing a BertForSequenceClassification model from a BertForSequenceClassification model).\n",
      "Some weights of BertForSequenceClassification were not initialized from the model checkpoint at microsoft/BiomedNLP-PubMedBERT-base-uncased-abstract-fulltext and are newly initialized: ['classifier.bias', 'classifier.weight']\n",
      "You should probably TRAIN this model on a down-stream task to be able to use it for predictions and inference.\n"
     ]
    },
    {
     "name": "stdout",
     "output_type": "stream",
     "text": [
      "Epoch: [1][0/63] Elapsed 0m 0s (remain 0m 53s) Loss: 0.7324 \n",
      "Epoch: [1][62/63] Elapsed 0m 42s (remain 0m 0s) Loss: 0.5128 \n",
      "EVAL: [0/340] Elapsed 0m 0s (remain 2m 23s) Loss: 0.2723 \n",
      "EVAL: [100/340] Elapsed 0m 22s (remain 0m 52s) Loss: 0.3281 \n",
      "EVAL: [200/340] Elapsed 0m 44s (remain 0m 30s) Loss: 0.3164 \n",
      "EVAL: [300/340] Elapsed 1m 5s (remain 0m 8s) Loss: 0.3148 \n"
     ]
    },
    {
     "name": "stderr",
     "output_type": "stream",
     "text": [
      "Epoch 1 - avg_train_loss: 0.5128  avg_val_loss: 0.3174  time: 117s\n",
      "Epoch 1 - Score: 0.8246836342954642\n",
      "Epoch 1 - Save Best Score: 0.8247 Model\n"
     ]
    },
    {
     "name": "stdout",
     "output_type": "stream",
     "text": [
      "EVAL: [339/340] Elapsed 1m 14s (remain 0m 0s) Loss: 0.3174 \n",
      "Epoch: [2][0/63] Elapsed 0m 0s (remain 0m 52s) Loss: 0.3087 \n",
      "Epoch: [2][62/63] Elapsed 0m 42s (remain 0m 0s) Loss: 0.2613 \n",
      "EVAL: [0/340] Elapsed 0m 0s (remain 2m 23s) Loss: 0.3333 \n",
      "EVAL: [100/340] Elapsed 0m 22s (remain 0m 52s) Loss: 0.4491 \n",
      "EVAL: [200/340] Elapsed 0m 44s (remain 0m 30s) Loss: 0.4401 \n",
      "EVAL: [300/340] Elapsed 1m 5s (remain 0m 8s) Loss: 0.4402 \n"
     ]
    },
    {
     "name": "stderr",
     "output_type": "stream",
     "text": [
      "Epoch 2 - avg_train_loss: 0.2613  avg_val_loss: 0.4420  time: 117s\n",
      "Epoch 2 - Score: 0.861597374179431\n",
      "Epoch 2 - Save Best Score: 0.8616 Model\n"
     ]
    },
    {
     "name": "stdout",
     "output_type": "stream",
     "text": [
      "EVAL: [339/340] Elapsed 1m 14s (remain 0m 0s) Loss: 0.4420 \n",
      "Epoch: [3][0/63] Elapsed 0m 0s (remain 0m 53s) Loss: 0.2425 \n",
      "Epoch: [3][62/63] Elapsed 0m 42s (remain 0m 0s) Loss: 0.1472 \n",
      "EVAL: [0/340] Elapsed 0m 0s (remain 2m 11s) Loss: 0.2964 \n",
      "EVAL: [100/340] Elapsed 0m 22s (remain 0m 52s) Loss: 0.2492 \n",
      "EVAL: [200/340] Elapsed 0m 44s (remain 0m 30s) Loss: 0.2341 \n",
      "EVAL: [300/340] Elapsed 1m 5s (remain 0m 8s) Loss: 0.2426 \n"
     ]
    },
    {
     "name": "stderr",
     "output_type": "stream",
     "text": [
      "Epoch 3 - avg_train_loss: 0.1472  avg_val_loss: 0.2447  time: 117s\n",
      "Epoch 3 - Score: 0.9044117647058824\n",
      "Epoch 3 - Save Best Score: 0.9044 Model\n"
     ]
    },
    {
     "name": "stdout",
     "output_type": "stream",
     "text": [
      "EVAL: [339/340] Elapsed 1m 14s (remain 0m 0s) Loss: 0.2447 \n"
     ]
    },
    {
     "name": "stderr",
     "output_type": "stream",
     "text": [
      "========== fold: 1 result ==========\n",
      "Score: 0.71219\n",
      "Best threshold : 0.49343\n",
      "After optimizing score: 0.90415\n",
      "========== fold: 2 training ==========\n",
      "Some weights of the model checkpoint at microsoft/BiomedNLP-PubMedBERT-base-uncased-abstract-fulltext were not used when initializing BertForSequenceClassification: ['cls.predictions.decoder.bias', 'cls.predictions.transform.LayerNorm.weight', 'cls.predictions.bias', 'cls.predictions.transform.LayerNorm.bias', 'cls.seq_relationship.bias', 'cls.seq_relationship.weight', 'cls.predictions.transform.dense.weight', 'cls.predictions.transform.dense.bias', 'cls.predictions.decoder.weight']\n",
      "- This IS expected if you are initializing BertForSequenceClassification from the checkpoint of a model trained on another task or with another architecture (e.g. initializing a BertForSequenceClassification model from a BertForPreTraining model).\n",
      "- This IS NOT expected if you are initializing BertForSequenceClassification from the checkpoint of a model that you expect to be exactly identical (initializing a BertForSequenceClassification model from a BertForSequenceClassification model).\n",
      "Some weights of BertForSequenceClassification were not initialized from the model checkpoint at microsoft/BiomedNLP-PubMedBERT-base-uncased-abstract-fulltext and are newly initialized: ['classifier.bias', 'classifier.weight']\n",
      "You should probably TRAIN this model on a down-stream task to be able to use it for predictions and inference.\n"
     ]
    },
    {
     "name": "stdout",
     "output_type": "stream",
     "text": [
      "Epoch: [1][0/63] Elapsed 0m 0s (remain 0m 54s) Loss: 0.6640 \n",
      "Epoch: [1][62/63] Elapsed 0m 42s (remain 0m 0s) Loss: 0.4994 \n",
      "EVAL: [0/340] Elapsed 0m 0s (remain 2m 16s) Loss: 0.3594 \n",
      "EVAL: [100/340] Elapsed 0m 22s (remain 0m 52s) Loss: 0.4038 \n",
      "EVAL: [200/340] Elapsed 0m 43s (remain 0m 30s) Loss: 0.4168 \n",
      "EVAL: [300/340] Elapsed 1m 5s (remain 0m 8s) Loss: 0.4171 \n"
     ]
    },
    {
     "name": "stderr",
     "output_type": "stream",
     "text": [
      "Epoch 1 - avg_train_loss: 0.4994  avg_val_loss: 0.4186  time: 117s\n",
      "Epoch 1 - Score: 0.8211304228821678\n",
      "Epoch 1 - Save Best Score: 0.8211 Model\n"
     ]
    },
    {
     "name": "stdout",
     "output_type": "stream",
     "text": [
      "EVAL: [339/340] Elapsed 1m 14s (remain 0m 0s) Loss: 0.4186 \n",
      "Epoch: [2][0/63] Elapsed 0m 0s (remain 0m 52s) Loss: 0.1951 \n",
      "Epoch: [2][62/63] Elapsed 0m 42s (remain 0m 0s) Loss: 0.2030 \n",
      "EVAL: [0/340] Elapsed 0m 0s (remain 2m 21s) Loss: 0.2185 \n",
      "EVAL: [100/340] Elapsed 0m 22s (remain 0m 52s) Loss: 0.1901 \n",
      "EVAL: [200/340] Elapsed 0m 44s (remain 0m 30s) Loss: 0.2007 \n",
      "EVAL: [300/340] Elapsed 1m 5s (remain 0m 8s) Loss: 0.1981 \n"
     ]
    },
    {
     "name": "stderr",
     "output_type": "stream",
     "text": [
      "Epoch 2 - avg_train_loss: 0.2030  avg_val_loss: 0.1971  time: 117s\n",
      "Epoch 2 - Score: 0.8688548938066241\n",
      "Epoch 2 - Save Best Score: 0.8689 Model\n"
     ]
    },
    {
     "name": "stdout",
     "output_type": "stream",
     "text": [
      "EVAL: [339/340] Elapsed 1m 14s (remain 0m 0s) Loss: 0.1971 \n",
      "Epoch: [3][0/63] Elapsed 0m 0s (remain 0m 52s) Loss: 0.1818 \n",
      "Epoch: [3][62/63] Elapsed 0m 42s (remain 0m 0s) Loss: 0.0873 \n",
      "EVAL: [0/340] Elapsed 0m 0s (remain 2m 15s) Loss: 0.4328 \n",
      "EVAL: [100/340] Elapsed 0m 22s (remain 0m 52s) Loss: 0.3517 \n",
      "EVAL: [200/340] Elapsed 0m 44s (remain 0m 30s) Loss: 0.3643 \n",
      "EVAL: [300/340] Elapsed 1m 5s (remain 0m 8s) Loss: 0.3650 \n"
     ]
    },
    {
     "name": "stderr",
     "output_type": "stream",
     "text": [
      "Epoch 3 - avg_train_loss: 0.0873  avg_val_loss: 0.3672  time: 117s\n",
      "Epoch 3 - Score: 0.8888888888888888\n",
      "Epoch 3 - Save Best Score: 0.8889 Model\n"
     ]
    },
    {
     "name": "stdout",
     "output_type": "stream",
     "text": [
      "EVAL: [339/340] Elapsed 1m 14s (remain 0m 0s) Loss: 0.3672 \n"
     ]
    },
    {
     "name": "stderr",
     "output_type": "stream",
     "text": [
      "========== fold: 2 result ==========\n",
      "Score: 0.75233\n",
      "Best threshold : 0.41977\n",
      "After optimizing score: 0.88816\n",
      "========== fold: 3 training ==========\n",
      "Some weights of the model checkpoint at microsoft/BiomedNLP-PubMedBERT-base-uncased-abstract-fulltext were not used when initializing BertForSequenceClassification: ['cls.predictions.decoder.bias', 'cls.predictions.transform.LayerNorm.weight', 'cls.predictions.bias', 'cls.predictions.transform.LayerNorm.bias', 'cls.seq_relationship.bias', 'cls.seq_relationship.weight', 'cls.predictions.transform.dense.weight', 'cls.predictions.transform.dense.bias', 'cls.predictions.decoder.weight']\n",
      "- This IS expected if you are initializing BertForSequenceClassification from the checkpoint of a model trained on another task or with another architecture (e.g. initializing a BertForSequenceClassification model from a BertForPreTraining model).\n",
      "- This IS NOT expected if you are initializing BertForSequenceClassification from the checkpoint of a model that you expect to be exactly identical (initializing a BertForSequenceClassification model from a BertForSequenceClassification model).\n",
      "Some weights of BertForSequenceClassification were not initialized from the model checkpoint at microsoft/BiomedNLP-PubMedBERT-base-uncased-abstract-fulltext and are newly initialized: ['classifier.bias', 'classifier.weight']\n",
      "You should probably TRAIN this model on a down-stream task to be able to use it for predictions and inference.\n"
     ]
    },
    {
     "name": "stdout",
     "output_type": "stream",
     "text": [
      "Epoch: [1][0/63] Elapsed 0m 0s (remain 0m 54s) Loss: 0.7223 \n",
      "Epoch: [1][62/63] Elapsed 0m 42s (remain 0m 0s) Loss: 0.5020 \n",
      "EVAL: [0/340] Elapsed 0m 0s (remain 2m 17s) Loss: 0.1268 \n",
      "EVAL: [100/340] Elapsed 0m 22s (remain 0m 52s) Loss: 0.2286 \n",
      "EVAL: [200/340] Elapsed 0m 44s (remain 0m 30s) Loss: 0.2359 \n",
      "EVAL: [300/340] Elapsed 1m 5s (remain 0m 8s) Loss: 0.2359 \n"
     ]
    },
    {
     "name": "stderr",
     "output_type": "stream",
     "text": [
      "Epoch 1 - avg_train_loss: 0.5020  avg_val_loss: 0.2362  time: 117s\n",
      "Epoch 1 - Score: 0.7979120059656971\n",
      "Epoch 1 - Save Best Score: 0.7979 Model\n"
     ]
    },
    {
     "name": "stdout",
     "output_type": "stream",
     "text": [
      "EVAL: [339/340] Elapsed 1m 14s (remain 0m 0s) Loss: 0.2362 \n",
      "Epoch: [2][0/63] Elapsed 0m 0s (remain 0m 54s) Loss: 0.2642 \n",
      "Epoch: [2][62/63] Elapsed 0m 42s (remain 0m 0s) Loss: 0.1906 \n",
      "EVAL: [0/340] Elapsed 0m 0s (remain 2m 15s) Loss: 0.1443 \n",
      "EVAL: [100/340] Elapsed 0m 22s (remain 0m 52s) Loss: 0.3573 \n",
      "EVAL: [200/340] Elapsed 0m 44s (remain 0m 30s) Loss: 0.3834 \n",
      "EVAL: [300/340] Elapsed 1m 5s (remain 0m 8s) Loss: 0.3854 \n"
     ]
    },
    {
     "name": "stderr",
     "output_type": "stream",
     "text": [
      "Epoch 2 - avg_train_loss: 0.1906  avg_val_loss: 0.3859  time: 117s\n",
      "Epoch 2 - Score: 0.8693837807761858\n",
      "Epoch 2 - Save Best Score: 0.8694 Model\n"
     ]
    },
    {
     "name": "stdout",
     "output_type": "stream",
     "text": [
      "EVAL: [339/340] Elapsed 1m 14s (remain 0m 0s) Loss: 0.3859 \n",
      "Epoch: [3][0/63] Elapsed 0m 0s (remain 0m 57s) Loss: 0.0722 \n",
      "Epoch: [3][62/63] Elapsed 0m 42s (remain 0m 0s) Loss: 0.0955 \n",
      "EVAL: [0/340] Elapsed 0m 0s (remain 2m 16s) Loss: 0.0167 \n",
      "EVAL: [100/340] Elapsed 0m 22s (remain 0m 52s) Loss: 0.1457 \n",
      "EVAL: [200/340] Elapsed 0m 44s (remain 0m 30s) Loss: 0.1550 \n",
      "EVAL: [300/340] Elapsed 1m 5s (remain 0m 8s) Loss: 0.1520 \n"
     ]
    },
    {
     "name": "stderr",
     "output_type": "stream",
     "text": [
      "Epoch 3 - avg_train_loss: 0.0955  avg_val_loss: 0.1532  time: 117s\n",
      "Epoch 3 - Score: 0.8991990327943178\n",
      "Epoch 3 - Save Best Score: 0.8992 Model\n"
     ]
    },
    {
     "name": "stdout",
     "output_type": "stream",
     "text": [
      "EVAL: [339/340] Elapsed 1m 14s (remain 0m 0s) Loss: 0.1532 \n"
     ]
    },
    {
     "name": "stderr",
     "output_type": "stream",
     "text": [
      "========== fold: 3 result ==========\n",
      "Score: 0.83601\n",
      "Best threshold : 0.45492\n",
      "After optimizing score: 0.91169\n",
      "========== fold: 4 training ==========\n",
      "Some weights of the model checkpoint at microsoft/BiomedNLP-PubMedBERT-base-uncased-abstract-fulltext were not used when initializing BertForSequenceClassification: ['cls.predictions.decoder.bias', 'cls.predictions.transform.LayerNorm.weight', 'cls.predictions.bias', 'cls.predictions.transform.LayerNorm.bias', 'cls.seq_relationship.bias', 'cls.seq_relationship.weight', 'cls.predictions.transform.dense.weight', 'cls.predictions.transform.dense.bias', 'cls.predictions.decoder.weight']\n",
      "- This IS expected if you are initializing BertForSequenceClassification from the checkpoint of a model trained on another task or with another architecture (e.g. initializing a BertForSequenceClassification model from a BertForPreTraining model).\n",
      "- This IS NOT expected if you are initializing BertForSequenceClassification from the checkpoint of a model that you expect to be exactly identical (initializing a BertForSequenceClassification model from a BertForSequenceClassification model).\n",
      "Some weights of BertForSequenceClassification were not initialized from the model checkpoint at microsoft/BiomedNLP-PubMedBERT-base-uncased-abstract-fulltext and are newly initialized: ['classifier.bias', 'classifier.weight']\n",
      "You should probably TRAIN this model on a down-stream task to be able to use it for predictions and inference.\n"
     ]
    },
    {
     "name": "stdout",
     "output_type": "stream",
     "text": [
      "Epoch: [1][0/63] Elapsed 0m 0s (remain 0m 52s) Loss: 0.6777 \n",
      "Epoch: [1][62/63] Elapsed 0m 42s (remain 0m 0s) Loss: 0.4678 \n",
      "EVAL: [0/340] Elapsed 0m 0s (remain 2m 17s) Loss: 0.0521 \n",
      "EVAL: [100/340] Elapsed 0m 22s (remain 0m 52s) Loss: 0.1739 \n",
      "EVAL: [200/340] Elapsed 0m 44s (remain 0m 30s) Loss: 0.1764 \n",
      "EVAL: [300/340] Elapsed 1m 5s (remain 0m 8s) Loss: 0.1795 \n"
     ]
    },
    {
     "name": "stderr",
     "output_type": "stream",
     "text": [
      "Epoch 1 - avg_train_loss: 0.4678  avg_val_loss: 0.1770  time: 117s\n",
      "Epoch 1 - Score: 0.7440024293956878\n",
      "Epoch 1 - Save Best Score: 0.7440 Model\n"
     ]
    },
    {
     "name": "stdout",
     "output_type": "stream",
     "text": [
      "EVAL: [339/340] Elapsed 1m 14s (remain 0m 0s) Loss: 0.1770 \n",
      "Epoch: [2][0/63] Elapsed 0m 0s (remain 0m 51s) Loss: 0.3660 \n",
      "Epoch: [2][62/63] Elapsed 0m 42s (remain 0m 0s) Loss: 0.2044 \n",
      "EVAL: [0/340] Elapsed 0m 0s (remain 2m 26s) Loss: 0.1720 \n",
      "EVAL: [100/340] Elapsed 0m 22s (remain 0m 52s) Loss: 0.4397 \n",
      "EVAL: [200/340] Elapsed 0m 44s (remain 0m 30s) Loss: 0.4279 \n",
      "EVAL: [300/340] Elapsed 1m 5s (remain 0m 8s) Loss: 0.4365 \n"
     ]
    },
    {
     "name": "stderr",
     "output_type": "stream",
     "text": [
      "Epoch 2 - avg_train_loss: 0.2044  avg_val_loss: 0.4357  time: 117s\n",
      "Epoch 2 - Score: 0.8305875892366832\n",
      "Epoch 2 - Save Best Score: 0.8306 Model\n"
     ]
    },
    {
     "name": "stdout",
     "output_type": "stream",
     "text": [
      "EVAL: [339/340] Elapsed 1m 14s (remain 0m 0s) Loss: 0.4357 \n",
      "Epoch: [3][0/63] Elapsed 0m 0s (remain 0m 52s) Loss: 0.0614 \n",
      "Epoch: [3][62/63] Elapsed 0m 42s (remain 0m 0s) Loss: 0.1033 \n",
      "EVAL: [0/340] Elapsed 0m 0s (remain 2m 25s) Loss: 0.0078 \n",
      "EVAL: [100/340] Elapsed 0m 22s (remain 0m 52s) Loss: 0.1077 \n",
      "EVAL: [200/340] Elapsed 0m 44s (remain 0m 30s) Loss: 0.1145 \n",
      "EVAL: [300/340] Elapsed 1m 5s (remain 0m 8s) Loss: 0.1173 \n"
     ]
    },
    {
     "name": "stderr",
     "output_type": "stream",
     "text": [
      "Epoch 3 - avg_train_loss: 0.1033  avg_val_loss: 0.1185  time: 117s\n",
      "Epoch 3 - Score: 0.8389778325123154\n",
      "Epoch 3 - Save Best Score: 0.8390 Model\n"
     ]
    },
    {
     "name": "stdout",
     "output_type": "stream",
     "text": [
      "EVAL: [339/340] Elapsed 1m 14s (remain 0m 0s) Loss: 0.1185 \n"
     ]
    },
    {
     "name": "stderr",
     "output_type": "stream",
     "text": [
      "========== fold: 4 result ==========\n",
      "Score: 0.85822\n",
      "Best threshold : 0.19099\n",
      "After optimizing score: 0.86727\n",
      "========== CV ==========\n",
      "Score: 0.78553\n",
      "Best threshold : 0.47087\n",
      "After optimizing score: 0.88777\n",
      "========== model: bert-base-uncased fold: 0 inference ==========\n",
      "Some weights of the model checkpoint at microsoft/BiomedNLP-PubMedBERT-base-uncased-abstract-fulltext were not used when initializing BertForSequenceClassification: ['cls.predictions.decoder.bias', 'cls.predictions.transform.LayerNorm.weight', 'cls.predictions.bias', 'cls.predictions.transform.LayerNorm.bias', 'cls.seq_relationship.bias', 'cls.seq_relationship.weight', 'cls.predictions.transform.dense.weight', 'cls.predictions.transform.dense.bias', 'cls.predictions.decoder.weight']\n",
      "- This IS expected if you are initializing BertForSequenceClassification from the checkpoint of a model trained on another task or with another architecture (e.g. initializing a BertForSequenceClassification model from a BertForPreTraining model).\n",
      "- This IS NOT expected if you are initializing BertForSequenceClassification from the checkpoint of a model that you expect to be exactly identical (initializing a BertForSequenceClassification model from a BertForSequenceClassification model).\n",
      "Some weights of BertForSequenceClassification were not initialized from the model checkpoint at microsoft/BiomedNLP-PubMedBERT-base-uncased-abstract-fulltext and are newly initialized: ['classifier.bias', 'classifier.weight']\n",
      "You should probably TRAIN this model on a down-stream task to be able to use it for predictions and inference.\n"
     ]
    },
    {
     "data": {
      "application/vnd.jupyter.widget-view+json": {
       "model_id": "3a37affc8e4349979ff33252eae98809",
       "version_major": 2,
       "version_minor": 0
      },
      "text/plain": [
       "  0%|          | 0/2553 [00:00<?, ?it/s]"
      ]
     },
     "metadata": {},
     "output_type": "display_data"
    },
    {
     "name": "stderr",
     "output_type": "stream",
     "text": [
      "========== model: bert-base-uncased fold: 1 inference ==========\n",
      "Some weights of the model checkpoint at microsoft/BiomedNLP-PubMedBERT-base-uncased-abstract-fulltext were not used when initializing BertForSequenceClassification: ['cls.predictions.decoder.bias', 'cls.predictions.transform.LayerNorm.weight', 'cls.predictions.bias', 'cls.predictions.transform.LayerNorm.bias', 'cls.seq_relationship.bias', 'cls.seq_relationship.weight', 'cls.predictions.transform.dense.weight', 'cls.predictions.transform.dense.bias', 'cls.predictions.decoder.weight']\n",
      "- This IS expected if you are initializing BertForSequenceClassification from the checkpoint of a model trained on another task or with another architecture (e.g. initializing a BertForSequenceClassification model from a BertForPreTraining model).\n",
      "- This IS NOT expected if you are initializing BertForSequenceClassification from the checkpoint of a model that you expect to be exactly identical (initializing a BertForSequenceClassification model from a BertForSequenceClassification model).\n",
      "Some weights of BertForSequenceClassification were not initialized from the model checkpoint at microsoft/BiomedNLP-PubMedBERT-base-uncased-abstract-fulltext and are newly initialized: ['classifier.bias', 'classifier.weight']\n",
      "You should probably TRAIN this model on a down-stream task to be able to use it for predictions and inference.\n"
     ]
    },
    {
     "data": {
      "application/vnd.jupyter.widget-view+json": {
       "model_id": "532be96ab1f944afb198940286e4bc9b",
       "version_major": 2,
       "version_minor": 0
      },
      "text/plain": [
       "  0%|          | 0/2553 [00:00<?, ?it/s]"
      ]
     },
     "metadata": {},
     "output_type": "display_data"
    },
    {
     "name": "stderr",
     "output_type": "stream",
     "text": [
      "========== model: bert-base-uncased fold: 2 inference ==========\n",
      "Some weights of the model checkpoint at microsoft/BiomedNLP-PubMedBERT-base-uncased-abstract-fulltext were not used when initializing BertForSequenceClassification: ['cls.predictions.decoder.bias', 'cls.predictions.transform.LayerNorm.weight', 'cls.predictions.bias', 'cls.predictions.transform.LayerNorm.bias', 'cls.seq_relationship.bias', 'cls.seq_relationship.weight', 'cls.predictions.transform.dense.weight', 'cls.predictions.transform.dense.bias', 'cls.predictions.decoder.weight']\n",
      "- This IS expected if you are initializing BertForSequenceClassification from the checkpoint of a model trained on another task or with another architecture (e.g. initializing a BertForSequenceClassification model from a BertForPreTraining model).\n",
      "- This IS NOT expected if you are initializing BertForSequenceClassification from the checkpoint of a model that you expect to be exactly identical (initializing a BertForSequenceClassification model from a BertForSequenceClassification model).\n",
      "Some weights of BertForSequenceClassification were not initialized from the model checkpoint at microsoft/BiomedNLP-PubMedBERT-base-uncased-abstract-fulltext and are newly initialized: ['classifier.bias', 'classifier.weight']\n",
      "You should probably TRAIN this model on a down-stream task to be able to use it for predictions and inference.\n"
     ]
    },
    {
     "data": {
      "application/vnd.jupyter.widget-view+json": {
       "model_id": "1a438b9cbaa54fd88026e77ee65a4c0c",
       "version_major": 2,
       "version_minor": 0
      },
      "text/plain": [
       "  0%|          | 0/2553 [00:00<?, ?it/s]"
      ]
     },
     "metadata": {},
     "output_type": "display_data"
    },
    {
     "name": "stderr",
     "output_type": "stream",
     "text": [
      "========== model: bert-base-uncased fold: 3 inference ==========\n",
      "Some weights of the model checkpoint at microsoft/BiomedNLP-PubMedBERT-base-uncased-abstract-fulltext were not used when initializing BertForSequenceClassification: ['cls.predictions.decoder.bias', 'cls.predictions.transform.LayerNorm.weight', 'cls.predictions.bias', 'cls.predictions.transform.LayerNorm.bias', 'cls.seq_relationship.bias', 'cls.seq_relationship.weight', 'cls.predictions.transform.dense.weight', 'cls.predictions.transform.dense.bias', 'cls.predictions.decoder.weight']\n",
      "- This IS expected if you are initializing BertForSequenceClassification from the checkpoint of a model trained on another task or with another architecture (e.g. initializing a BertForSequenceClassification model from a BertForPreTraining model).\n",
      "- This IS NOT expected if you are initializing BertForSequenceClassification from the checkpoint of a model that you expect to be exactly identical (initializing a BertForSequenceClassification model from a BertForSequenceClassification model).\n",
      "Some weights of BertForSequenceClassification were not initialized from the model checkpoint at microsoft/BiomedNLP-PubMedBERT-base-uncased-abstract-fulltext and are newly initialized: ['classifier.bias', 'classifier.weight']\n",
      "You should probably TRAIN this model on a down-stream task to be able to use it for predictions and inference.\n"
     ]
    },
    {
     "data": {
      "application/vnd.jupyter.widget-view+json": {
       "model_id": "3b29a04e929b48e69ab4e50f047d4901",
       "version_major": 2,
       "version_minor": 0
      },
      "text/plain": [
       "  0%|          | 0/2553 [00:00<?, ?it/s]"
      ]
     },
     "metadata": {},
     "output_type": "display_data"
    },
    {
     "name": "stderr",
     "output_type": "stream",
     "text": [
      "========== model: bert-base-uncased fold: 4 inference ==========\n",
      "Some weights of the model checkpoint at microsoft/BiomedNLP-PubMedBERT-base-uncased-abstract-fulltext were not used when initializing BertForSequenceClassification: ['cls.predictions.decoder.bias', 'cls.predictions.transform.LayerNorm.weight', 'cls.predictions.bias', 'cls.predictions.transform.LayerNorm.bias', 'cls.seq_relationship.bias', 'cls.seq_relationship.weight', 'cls.predictions.transform.dense.weight', 'cls.predictions.transform.dense.bias', 'cls.predictions.decoder.weight']\n",
      "- This IS expected if you are initializing BertForSequenceClassification from the checkpoint of a model trained on another task or with another architecture (e.g. initializing a BertForSequenceClassification model from a BertForPreTraining model).\n",
      "- This IS NOT expected if you are initializing BertForSequenceClassification from the checkpoint of a model that you expect to be exactly identical (initializing a BertForSequenceClassification model from a BertForSequenceClassification model).\n",
      "Some weights of BertForSequenceClassification were not initialized from the model checkpoint at microsoft/BiomedNLP-PubMedBERT-base-uncased-abstract-fulltext and are newly initialized: ['classifier.bias', 'classifier.weight']\n",
      "You should probably TRAIN this model on a down-stream task to be able to use it for predictions and inference.\n"
     ]
    },
    {
     "data": {
      "application/vnd.jupyter.widget-view+json": {
       "model_id": "07069631fe30447ea95f0136b53cd6ac",
       "version_major": 2,
       "version_minor": 0
      },
      "text/plain": [
       "  0%|          | 0/2553 [00:00<?, ?it/s]"
      ]
     },
     "metadata": {},
     "output_type": "display_data"
    }
   ],
   "source": [
    "if __name__ == \"__main__\":\n",
    "  main()"
   ]
  },
  {
   "cell_type": "code",
   "execution_count": null,
   "id": "7f1afce6",
   "metadata": {
    "id": "7b0f89d2",
    "papermill": {
     "duration": 0.086416,
     "end_time": "2021-08-23T17:08:26.139271",
     "exception": false,
     "start_time": "2021-08-23T17:08:26.052855",
     "status": "completed"
    },
    "tags": []
   },
   "outputs": [],
   "source": []
  }
 ],
 "metadata": {
  "kernelspec": {
   "display_name": "Python 3",
   "language": "python",
   "name": "python3"
  },
  "language_info": {
   "codemirror_mode": {
    "name": "ipython",
    "version": 3
   },
   "file_extension": ".py",
   "mimetype": "text/x-python",
   "name": "python",
   "nbconvert_exporter": "python",
   "pygments_lexer": "ipython3",
   "version": "3.7.10"
  },
  "papermill": {
   "default_parameters": {},
   "duration": 5262.388029,
   "end_time": "2021-08-23T17:08:29.320695",
   "environment_variables": {},
   "exception": null,
   "input_path": "__notebook__.ipynb",
   "output_path": "__notebook__.ipynb",
   "parameters": {},
   "start_time": "2021-08-23T15:40:46.932666",
   "version": "2.3.3"
  },
  "widgets": {
   "application/vnd.jupyter.widget-state+json": {
    "state": {
     "02fac60e50d644b0bd7043cf2d33b3c7": {
      "model_module": "@jupyter-widgets/base",
      "model_module_version": "1.2.0",
      "model_name": "LayoutModel",
      "state": {
       "_model_module": "@jupyter-widgets/base",
       "_model_module_version": "1.2.0",
       "_model_name": "LayoutModel",
       "_view_count": null,
       "_view_module": "@jupyter-widgets/base",
       "_view_module_version": "1.2.0",
       "_view_name": "LayoutView",
       "align_content": null,
       "align_items": null,
       "align_self": null,
       "border": null,
       "bottom": null,
       "display": null,
       "flex": null,
       "flex_flow": null,
       "grid_area": null,
       "grid_auto_columns": null,
       "grid_auto_flow": null,
       "grid_auto_rows": null,
       "grid_column": null,
       "grid_gap": null,
       "grid_row": null,
       "grid_template_areas": null,
       "grid_template_columns": null,
       "grid_template_rows": null,
       "height": null,
       "justify_content": null,
       "justify_items": null,
       "left": null,
       "margin": null,
       "max_height": null,
       "max_width": null,
       "min_height": null,
       "min_width": null,
       "object_fit": null,
       "object_position": null,
       "order": null,
       "overflow": null,
       "overflow_x": null,
       "overflow_y": null,
       "padding": null,
       "right": null,
       "top": null,
       "visibility": null,
       "width": null
      }
     },
     "07069631fe30447ea95f0136b53cd6ac": {
      "model_module": "@jupyter-widgets/controls",
      "model_module_version": "1.5.0",
      "model_name": "HBoxModel",
      "state": {
       "_dom_classes": [],
       "_model_module": "@jupyter-widgets/controls",
       "_model_module_version": "1.5.0",
       "_model_name": "HBoxModel",
       "_view_count": null,
       "_view_module": "@jupyter-widgets/controls",
       "_view_module_version": "1.5.0",
       "_view_name": "HBoxView",
       "box_style": "",
       "children": [
        "IPY_MODEL_fde7ef9973fd4eff907a35a77884cc26",
        "IPY_MODEL_14923104353845e58e272cd8e85958cf",
        "IPY_MODEL_085862e604334063b510316e9427f363"
       ],
       "layout": "IPY_MODEL_225fc6a2554b464eb2b67555e123ef6c"
      }
     },
     "085862e604334063b510316e9427f363": {
      "model_module": "@jupyter-widgets/controls",
      "model_module_version": "1.5.0",
      "model_name": "HTMLModel",
      "state": {
       "_dom_classes": [],
       "_model_module": "@jupyter-widgets/controls",
       "_model_module_version": "1.5.0",
       "_model_name": "HTMLModel",
       "_view_count": null,
       "_view_module": "@jupyter-widgets/controls",
       "_view_module_version": "1.5.0",
       "_view_name": "HTMLView",
       "description": "",
       "description_tooltip": null,
       "layout": "IPY_MODEL_ff9eee2bcc6443eeab3a60394fcd7646",
       "placeholder": "​",
       "style": "IPY_MODEL_8bfbfc23ffbc4e0cb3e65928eb82c7b4",
       "value": " 2553/2553 [09:23&lt;00:00,  4.55it/s]"
      }
     },
     "09421234e2cd451997eb897801977436": {
      "model_module": "@jupyter-widgets/controls",
      "model_module_version": "1.5.0",
      "model_name": "FloatProgressModel",
      "state": {
       "_dom_classes": [],
       "_model_module": "@jupyter-widgets/controls",
       "_model_module_version": "1.5.0",
       "_model_name": "FloatProgressModel",
       "_view_count": null,
       "_view_module": "@jupyter-widgets/controls",
       "_view_module_version": "1.5.0",
       "_view_name": "ProgressView",
       "bar_style": "success",
       "description": "",
       "description_tooltip": null,
       "layout": "IPY_MODEL_0d976aee91f2406cab8279e0ff828f86",
       "max": 2553.0,
       "min": 0.0,
       "orientation": "horizontal",
       "style": "IPY_MODEL_aaafd066f2da472c8036542926c60df3",
       "value": 2553.0
      }
     },
     "0b49511841da4ae49edd7349ececc631": {
      "model_module": "@jupyter-widgets/controls",
      "model_module_version": "1.5.0",
      "model_name": "ProgressStyleModel",
      "state": {
       "_model_module": "@jupyter-widgets/controls",
       "_model_module_version": "1.5.0",
       "_model_name": "ProgressStyleModel",
       "_view_count": null,
       "_view_module": "@jupyter-widgets/base",
       "_view_module_version": "1.2.0",
       "_view_name": "StyleView",
       "bar_color": null,
       "description_width": ""
      }
     },
     "0bf3ae4707974777937ec68d3ae2bbd8": {
      "model_module": "@jupyter-widgets/controls",
      "model_module_version": "1.5.0",
      "model_name": "FloatProgressModel",
      "state": {
       "_dom_classes": [],
       "_model_module": "@jupyter-widgets/controls",
       "_model_module_version": "1.5.0",
       "_model_name": "FloatProgressModel",
       "_view_count": null,
       "_view_module": "@jupyter-widgets/controls",
       "_view_module_version": "1.5.0",
       "_view_name": "ProgressView",
       "bar_style": "success",
       "description": "",
       "description_tooltip": null,
       "layout": "IPY_MODEL_77e85480ab9043d0a58f92dfe8ca1767",
       "max": 440472042.0,
       "min": 0.0,
       "orientation": "horizontal",
       "style": "IPY_MODEL_4c9fe559d0b644c78879bf1becccc523",
       "value": 440472042.0
      }
     },
     "0d976aee91f2406cab8279e0ff828f86": {
      "model_module": "@jupyter-widgets/base",
      "model_module_version": "1.2.0",
      "model_name": "LayoutModel",
      "state": {
       "_model_module": "@jupyter-widgets/base",
       "_model_module_version": "1.2.0",
       "_model_name": "LayoutModel",
       "_view_count": null,
       "_view_module": "@jupyter-widgets/base",
       "_view_module_version": "1.2.0",
       "_view_name": "LayoutView",
       "align_content": null,
       "align_items": null,
       "align_self": null,
       "border": null,
       "bottom": null,
       "display": null,
       "flex": null,
       "flex_flow": null,
       "grid_area": null,
       "grid_auto_columns": null,
       "grid_auto_flow": null,
       "grid_auto_rows": null,
       "grid_column": null,
       "grid_gap": null,
       "grid_row": null,
       "grid_template_areas": null,
       "grid_template_columns": null,
       "grid_template_rows": null,
       "height": null,
       "justify_content": null,
       "justify_items": null,
       "left": null,
       "margin": null,
       "max_height": null,
       "max_width": null,
       "min_height": null,
       "min_width": null,
       "object_fit": null,
       "object_position": null,
       "order": null,
       "overflow": null,
       "overflow_x": null,
       "overflow_y": null,
       "padding": null,
       "right": null,
       "top": null,
       "visibility": null,
       "width": null
      }
     },
     "0dcf4175785c45ddb120c307ed0bc5cb": {
      "model_module": "@jupyter-widgets/controls",
      "model_module_version": "1.5.0",
      "model_name": "HTMLModel",
      "state": {
       "_dom_classes": [],
       "_model_module": "@jupyter-widgets/controls",
       "_model_module_version": "1.5.0",
       "_model_name": "HTMLModel",
       "_view_count": null,
       "_view_module": "@jupyter-widgets/controls",
       "_view_module_version": "1.5.0",
       "_view_name": "HTMLView",
       "description": "",
       "description_tooltip": null,
       "layout": "IPY_MODEL_cb32cb880d3545cfa9c43b3bb1cc4d82",
       "placeholder": "​",
       "style": "IPY_MODEL_49efd97bace545d4b9f159b729f0e074",
       "value": "100%"
      }
     },
     "11c60a05a4284c88a9f2a408c56b4b4c": {
      "model_module": "@jupyter-widgets/base",
      "model_module_version": "1.2.0",
      "model_name": "LayoutModel",
      "state": {
       "_model_module": "@jupyter-widgets/base",
       "_model_module_version": "1.2.0",
       "_model_name": "LayoutModel",
       "_view_count": null,
       "_view_module": "@jupyter-widgets/base",
       "_view_module_version": "1.2.0",
       "_view_name": "LayoutView",
       "align_content": null,
       "align_items": null,
       "align_self": null,
       "border": null,
       "bottom": null,
       "display": null,
       "flex": null,
       "flex_flow": null,
       "grid_area": null,
       "grid_auto_columns": null,
       "grid_auto_flow": null,
       "grid_auto_rows": null,
       "grid_column": null,
       "grid_gap": null,
       "grid_row": null,
       "grid_template_areas": null,
       "grid_template_columns": null,
       "grid_template_rows": null,
       "height": null,
       "justify_content": null,
       "justify_items": null,
       "left": null,
       "margin": null,
       "max_height": null,
       "max_width": null,
       "min_height": null,
       "min_width": null,
       "object_fit": null,
       "object_position": null,
       "order": null,
       "overflow": null,
       "overflow_x": null,
       "overflow_y": null,
       "padding": null,
       "right": null,
       "top": null,
       "visibility": null,
       "width": null
      }
     },
     "14923104353845e58e272cd8e85958cf": {
      "model_module": "@jupyter-widgets/controls",
      "model_module_version": "1.5.0",
      "model_name": "FloatProgressModel",
      "state": {
       "_dom_classes": [],
       "_model_module": "@jupyter-widgets/controls",
       "_model_module_version": "1.5.0",
       "_model_name": "FloatProgressModel",
       "_view_count": null,
       "_view_module": "@jupyter-widgets/controls",
       "_view_module_version": "1.5.0",
       "_view_name": "ProgressView",
       "bar_style": "success",
       "description": "",
       "description_tooltip": null,
       "layout": "IPY_MODEL_b675ad8f61ef450db51f1ce2397b5976",
       "max": 2553.0,
       "min": 0.0,
       "orientation": "horizontal",
       "style": "IPY_MODEL_185292d31383408585a9869407120af1",
       "value": 2553.0
      }
     },
     "16f9772488be433e90a112bcc0101294": {
      "model_module": "@jupyter-widgets/base",
      "model_module_version": "1.2.0",
      "model_name": "LayoutModel",
      "state": {
       "_model_module": "@jupyter-widgets/base",
       "_model_module_version": "1.2.0",
       "_model_name": "LayoutModel",
       "_view_count": null,
       "_view_module": "@jupyter-widgets/base",
       "_view_module_version": "1.2.0",
       "_view_name": "LayoutView",
       "align_content": null,
       "align_items": null,
       "align_self": null,
       "border": null,
       "bottom": null,
       "display": null,
       "flex": null,
       "flex_flow": null,
       "grid_area": null,
       "grid_auto_columns": null,
       "grid_auto_flow": null,
       "grid_auto_rows": null,
       "grid_column": null,
       "grid_gap": null,
       "grid_row": null,
       "grid_template_areas": null,
       "grid_template_columns": null,
       "grid_template_rows": null,
       "height": null,
       "justify_content": null,
       "justify_items": null,
       "left": null,
       "margin": null,
       "max_height": null,
       "max_width": null,
       "min_height": null,
       "min_width": null,
       "object_fit": null,
       "object_position": null,
       "order": null,
       "overflow": null,
       "overflow_x": null,
       "overflow_y": null,
       "padding": null,
       "right": null,
       "top": null,
       "visibility": null,
       "width": null
      }
     },
     "185292d31383408585a9869407120af1": {
      "model_module": "@jupyter-widgets/controls",
      "model_module_version": "1.5.0",
      "model_name": "ProgressStyleModel",
      "state": {
       "_model_module": "@jupyter-widgets/controls",
       "_model_module_version": "1.5.0",
       "_model_name": "ProgressStyleModel",
       "_view_count": null,
       "_view_module": "@jupyter-widgets/base",
       "_view_module_version": "1.2.0",
       "_view_name": "StyleView",
       "bar_color": null,
       "description_width": ""
      }
     },
     "1a438b9cbaa54fd88026e77ee65a4c0c": {
      "model_module": "@jupyter-widgets/controls",
      "model_module_version": "1.5.0",
      "model_name": "HBoxModel",
      "state": {
       "_dom_classes": [],
       "_model_module": "@jupyter-widgets/controls",
       "_model_module_version": "1.5.0",
       "_model_name": "HBoxModel",
       "_view_count": null,
       "_view_module": "@jupyter-widgets/controls",
       "_view_module_version": "1.5.0",
       "_view_name": "HBoxView",
       "box_style": "",
       "children": [
        "IPY_MODEL_b311348d132241fa90e8bc346c7e639f",
        "IPY_MODEL_c1ea27844c2f4c7a84dbb6c7ec8b6042",
        "IPY_MODEL_7141641818104530b257fea83cfa74dc"
       ],
       "layout": "IPY_MODEL_ccb5d2f0ef7f413da1257512ef0a915e"
      }
     },
     "1a4ad54b12cb404eb19028b2c421d5f7": {
      "model_module": "@jupyter-widgets/controls",
      "model_module_version": "1.5.0",
      "model_name": "ProgressStyleModel",
      "state": {
       "_model_module": "@jupyter-widgets/controls",
       "_model_module_version": "1.5.0",
       "_model_name": "ProgressStyleModel",
       "_view_count": null,
       "_view_module": "@jupyter-widgets/base",
       "_view_module_version": "1.2.0",
       "_view_name": "StyleView",
       "bar_color": null,
       "description_width": ""
      }
     },
     "1d6caf10309141f296a5134f81336987": {
      "model_module": "@jupyter-widgets/controls",
      "model_module_version": "1.5.0",
      "model_name": "DescriptionStyleModel",
      "state": {
       "_model_module": "@jupyter-widgets/controls",
       "_model_module_version": "1.5.0",
       "_model_name": "DescriptionStyleModel",
       "_view_count": null,
       "_view_module": "@jupyter-widgets/base",
       "_view_module_version": "1.2.0",
       "_view_name": "StyleView",
       "description_width": ""
      }
     },
     "20e5a4e76b7c4079b866dcca060e8826": {
      "model_module": "@jupyter-widgets/controls",
      "model_module_version": "1.5.0",
      "model_name": "HTMLModel",
      "state": {
       "_dom_classes": [],
       "_model_module": "@jupyter-widgets/controls",
       "_model_module_version": "1.5.0",
       "_model_name": "HTMLModel",
       "_view_count": null,
       "_view_module": "@jupyter-widgets/controls",
       "_view_module_version": "1.5.0",
       "_view_name": "HTMLView",
       "description": "",
       "description_tooltip": null,
       "layout": "IPY_MODEL_6f8fde7f3d4f45eb875830d0d14dee3e",
       "placeholder": "​",
       "style": "IPY_MODEL_4632748a243a496489bae42970ae45e8",
       "value": " 337/337 [00:00&lt;00:00, 10.5kB/s]"
      }
     },
     "225fc6a2554b464eb2b67555e123ef6c": {
      "model_module": "@jupyter-widgets/base",
      "model_module_version": "1.2.0",
      "model_name": "LayoutModel",
      "state": {
       "_model_module": "@jupyter-widgets/base",
       "_model_module_version": "1.2.0",
       "_model_name": "LayoutModel",
       "_view_count": null,
       "_view_module": "@jupyter-widgets/base",
       "_view_module_version": "1.2.0",
       "_view_name": "LayoutView",
       "align_content": null,
       "align_items": null,
       "align_self": null,
       "border": null,
       "bottom": null,
       "display": null,
       "flex": null,
       "flex_flow": null,
       "grid_area": null,
       "grid_auto_columns": null,
       "grid_auto_flow": null,
       "grid_auto_rows": null,
       "grid_column": null,
       "grid_gap": null,
       "grid_row": null,
       "grid_template_areas": null,
       "grid_template_columns": null,
       "grid_template_rows": null,
       "height": null,
       "justify_content": null,
       "justify_items": null,
       "left": null,
       "margin": null,
       "max_height": null,
       "max_width": null,
       "min_height": null,
       "min_width": null,
       "object_fit": null,
       "object_position": null,
       "order": null,
       "overflow": null,
       "overflow_x": null,
       "overflow_y": null,
       "padding": null,
       "right": null,
       "top": null,
       "visibility": null,
       "width": null
      }
     },
     "269d66790a194114892f4ea8a3c96d00": {
      "model_module": "@jupyter-widgets/controls",
      "model_module_version": "1.5.0",
      "model_name": "DescriptionStyleModel",
      "state": {
       "_model_module": "@jupyter-widgets/controls",
       "_model_module_version": "1.5.0",
       "_model_name": "DescriptionStyleModel",
       "_view_count": null,
       "_view_module": "@jupyter-widgets/base",
       "_view_module_version": "1.2.0",
       "_view_name": "StyleView",
       "description_width": ""
      }
     },
     "2a69952ac298405fa2ad286c6a43c36a": {
      "model_module": "@jupyter-widgets/controls",
      "model_module_version": "1.5.0",
      "model_name": "HBoxModel",
      "state": {
       "_dom_classes": [],
       "_model_module": "@jupyter-widgets/controls",
       "_model_module_version": "1.5.0",
       "_model_name": "HBoxModel",
       "_view_count": null,
       "_view_module": "@jupyter-widgets/controls",
       "_view_module_version": "1.5.0",
       "_view_name": "HBoxView",
       "box_style": "",
       "children": [
        "IPY_MODEL_58933da9f2f74e07902429d1bed3f20d",
        "IPY_MODEL_5b61628946fe4c36b411d11e7c05d492",
        "IPY_MODEL_b5f0aad2f3d24469bbfd9401c599295e"
       ],
       "layout": "IPY_MODEL_82818fd38fd041659e0944dbd551ff4c"
      }
     },
     "30c8543faa5b4f248fd0ec33995223dd": {
      "model_module": "@jupyter-widgets/controls",
      "model_module_version": "1.5.0",
      "model_name": "HTMLModel",
      "state": {
       "_dom_classes": [],
       "_model_module": "@jupyter-widgets/controls",
       "_model_module_version": "1.5.0",
       "_model_name": "HTMLModel",
       "_view_count": null,
       "_view_module": "@jupyter-widgets/controls",
       "_view_module_version": "1.5.0",
       "_view_name": "HTMLView",
       "description": "",
       "description_tooltip": null,
       "layout": "IPY_MODEL_da80bdbb477c404e954957b2db743bc3",
       "placeholder": "​",
       "style": "IPY_MODEL_ba6481eb34924d8286eca2ad967d14ce",
       "value": "100%"
      }
     },
     "340ee16bff5843d289367d3374fe51c7": {
      "model_module": "@jupyter-widgets/controls",
      "model_module_version": "1.5.0",
      "model_name": "FloatProgressModel",
      "state": {
       "_dom_classes": [],
       "_model_module": "@jupyter-widgets/controls",
       "_model_module_version": "1.5.0",
       "_model_name": "FloatProgressModel",
       "_view_count": null,
       "_view_module": "@jupyter-widgets/controls",
       "_view_module_version": "1.5.0",
       "_view_name": "ProgressView",
       "bar_style": "success",
       "description": "",
       "description_tooltip": null,
       "layout": "IPY_MODEL_66c3c75749e24d3a95c97a7e2d2d752f",
       "max": 2553.0,
       "min": 0.0,
       "orientation": "horizontal",
       "style": "IPY_MODEL_1a4ad54b12cb404eb19028b2c421d5f7",
       "value": 2553.0
      }
     },
     "342a0bd192fd48fcb5ecfc36f79557b6": {
      "model_module": "@jupyter-widgets/controls",
      "model_module_version": "1.5.0",
      "model_name": "HBoxModel",
      "state": {
       "_dom_classes": [],
       "_model_module": "@jupyter-widgets/controls",
       "_model_module_version": "1.5.0",
       "_model_name": "HBoxModel",
       "_view_count": null,
       "_view_module": "@jupyter-widgets/controls",
       "_view_module_version": "1.5.0",
       "_view_name": "HBoxView",
       "box_style": "",
       "children": [
        "IPY_MODEL_411c3cee67d749c39e6210b32036443f",
        "IPY_MODEL_ed8499b2036543b9a0aef275ca6e9986",
        "IPY_MODEL_20e5a4e76b7c4079b866dcca060e8826"
       ],
       "layout": "IPY_MODEL_b9089a11ea074e95b5a7c6cac2889964"
      }
     },
     "3531e2b3bd3c439481be8797874dd8b2": {
      "model_module": "@jupyter-widgets/controls",
      "model_module_version": "1.5.0",
      "model_name": "HTMLModel",
      "state": {
       "_dom_classes": [],
       "_model_module": "@jupyter-widgets/controls",
       "_model_module_version": "1.5.0",
       "_model_name": "HTMLModel",
       "_view_count": null,
       "_view_module": "@jupyter-widgets/controls",
       "_view_module_version": "1.5.0",
       "_view_name": "HTMLView",
       "description": "",
       "description_tooltip": null,
       "layout": "IPY_MODEL_6aebe15f4939460ca4d624f69df4b350",
       "placeholder": "​",
       "style": "IPY_MODEL_e74effc8db1c4324a18e1a8e19b782f4",
       "value": "100%"
      }
     },
     "3751ac5820de4f119f156f3804f1247c": {
      "model_module": "@jupyter-widgets/controls",
      "model_module_version": "1.5.0",
      "model_name": "HTMLModel",
      "state": {
       "_dom_classes": [],
       "_model_module": "@jupyter-widgets/controls",
       "_model_module_version": "1.5.0",
       "_model_name": "HTMLModel",
       "_view_count": null,
       "_view_module": "@jupyter-widgets/controls",
       "_view_module_version": "1.5.0",
       "_view_name": "HTMLView",
       "description": "",
       "description_tooltip": null,
       "layout": "IPY_MODEL_fd4a5b1794de4b76914650520f2bf504",
       "placeholder": "​",
       "style": "IPY_MODEL_269d66790a194114892f4ea8a3c96d00",
       "value": " 2553/2553 [09:23&lt;00:00,  4.56it/s]"
      }
     },
     "3a37affc8e4349979ff33252eae98809": {
      "model_module": "@jupyter-widgets/controls",
      "model_module_version": "1.5.0",
      "model_name": "HBoxModel",
      "state": {
       "_dom_classes": [],
       "_model_module": "@jupyter-widgets/controls",
       "_model_module_version": "1.5.0",
       "_model_name": "HBoxModel",
       "_view_count": null,
       "_view_module": "@jupyter-widgets/controls",
       "_view_module_version": "1.5.0",
       "_view_name": "HBoxView",
       "box_style": "",
       "children": [
        "IPY_MODEL_3531e2b3bd3c439481be8797874dd8b2",
        "IPY_MODEL_09421234e2cd451997eb897801977436",
        "IPY_MODEL_3751ac5820de4f119f156f3804f1247c"
       ],
       "layout": "IPY_MODEL_aebab41972284144a83c00b56710d680"
      }
     },
     "3b29a04e929b48e69ab4e50f047d4901": {
      "model_module": "@jupyter-widgets/controls",
      "model_module_version": "1.5.0",
      "model_name": "HBoxModel",
      "state": {
       "_dom_classes": [],
       "_model_module": "@jupyter-widgets/controls",
       "_model_module_version": "1.5.0",
       "_model_name": "HBoxModel",
       "_view_count": null,
       "_view_module": "@jupyter-widgets/controls",
       "_view_module_version": "1.5.0",
       "_view_name": "HBoxView",
       "box_style": "",
       "children": [
        "IPY_MODEL_0dcf4175785c45ddb120c307ed0bc5cb",
        "IPY_MODEL_340ee16bff5843d289367d3374fe51c7",
        "IPY_MODEL_d0996e06319e455eaa19034ab1c806ba"
       ],
       "layout": "IPY_MODEL_70ed60643ab74a1cbe68b8a896d02cca"
      }
     },
     "411c3cee67d749c39e6210b32036443f": {
      "model_module": "@jupyter-widgets/controls",
      "model_module_version": "1.5.0",
      "model_name": "HTMLModel",
      "state": {
       "_dom_classes": [],
       "_model_module": "@jupyter-widgets/controls",
       "_model_module_version": "1.5.0",
       "_model_name": "HTMLModel",
       "_view_count": null,
       "_view_module": "@jupyter-widgets/controls",
       "_view_module_version": "1.5.0",
       "_view_name": "HTMLView",
       "description": "",
       "description_tooltip": null,
       "layout": "IPY_MODEL_ba6d01041bd147ee9fc06287eb5bde35",
       "placeholder": "​",
       "style": "IPY_MODEL_1d6caf10309141f296a5134f81336987",
       "value": "Downloading: 100%"
      }
     },
     "4632748a243a496489bae42970ae45e8": {
      "model_module": "@jupyter-widgets/controls",
      "model_module_version": "1.5.0",
      "model_name": "DescriptionStyleModel",
      "state": {
       "_model_module": "@jupyter-widgets/controls",
       "_model_module_version": "1.5.0",
       "_model_name": "DescriptionStyleModel",
       "_view_count": null,
       "_view_module": "@jupyter-widgets/base",
       "_view_module_version": "1.2.0",
       "_view_name": "StyleView",
       "description_width": ""
      }
     },
     "49e666cfa59a4cf4a93b046ddfd95001": {
      "model_module": "@jupyter-widgets/controls",
      "model_module_version": "1.5.0",
      "model_name": "HTMLModel",
      "state": {
       "_dom_classes": [],
       "_model_module": "@jupyter-widgets/controls",
       "_model_module_version": "1.5.0",
       "_model_name": "HTMLModel",
       "_view_count": null,
       "_view_module": "@jupyter-widgets/controls",
       "_view_module_version": "1.5.0",
       "_view_name": "HTMLView",
       "description": "",
       "description_tooltip": null,
       "layout": "IPY_MODEL_4b2ebcf23467481ab4953897dcb2ef87",
       "placeholder": "​",
       "style": "IPY_MODEL_695afe1249344de4bdcf49da33dfdbd8",
       "value": " 2553/2553 [09:23&lt;00:00,  4.56it/s]"
      }
     },
     "49efd97bace545d4b9f159b729f0e074": {
      "model_module": "@jupyter-widgets/controls",
      "model_module_version": "1.5.0",
      "model_name": "DescriptionStyleModel",
      "state": {
       "_model_module": "@jupyter-widgets/controls",
       "_model_module_version": "1.5.0",
       "_model_name": "DescriptionStyleModel",
       "_view_count": null,
       "_view_module": "@jupyter-widgets/base",
       "_view_module_version": "1.2.0",
       "_view_name": "StyleView",
       "description_width": ""
      }
     },
     "4b2ebcf23467481ab4953897dcb2ef87": {
      "model_module": "@jupyter-widgets/base",
      "model_module_version": "1.2.0",
      "model_name": "LayoutModel",
      "state": {
       "_model_module": "@jupyter-widgets/base",
       "_model_module_version": "1.2.0",
       "_model_name": "LayoutModel",
       "_view_count": null,
       "_view_module": "@jupyter-widgets/base",
       "_view_module_version": "1.2.0",
       "_view_name": "LayoutView",
       "align_content": null,
       "align_items": null,
       "align_self": null,
       "border": null,
       "bottom": null,
       "display": null,
       "flex": null,
       "flex_flow": null,
       "grid_area": null,
       "grid_auto_columns": null,
       "grid_auto_flow": null,
       "grid_auto_rows": null,
       "grid_column": null,
       "grid_gap": null,
       "grid_row": null,
       "grid_template_areas": null,
       "grid_template_columns": null,
       "grid_template_rows": null,
       "height": null,
       "justify_content": null,
       "justify_items": null,
       "left": null,
       "margin": null,
       "max_height": null,
       "max_width": null,
       "min_height": null,
       "min_width": null,
       "object_fit": null,
       "object_position": null,
       "order": null,
       "overflow": null,
       "overflow_x": null,
       "overflow_y": null,
       "padding": null,
       "right": null,
       "top": null,
       "visibility": null,
       "width": null
      }
     },
     "4c8029106dcb45a78d65e9cbe8ee8cf2": {
      "model_module": "@jupyter-widgets/controls",
      "model_module_version": "1.5.0",
      "model_name": "DescriptionStyleModel",
      "state": {
       "_model_module": "@jupyter-widgets/controls",
       "_model_module_version": "1.5.0",
       "_model_name": "DescriptionStyleModel",
       "_view_count": null,
       "_view_module": "@jupyter-widgets/base",
       "_view_module_version": "1.2.0",
       "_view_name": "StyleView",
       "description_width": ""
      }
     },
     "4c9fe559d0b644c78879bf1becccc523": {
      "model_module": "@jupyter-widgets/controls",
      "model_module_version": "1.5.0",
      "model_name": "ProgressStyleModel",
      "state": {
       "_model_module": "@jupyter-widgets/controls",
       "_model_module_version": "1.5.0",
       "_model_name": "ProgressStyleModel",
       "_view_count": null,
       "_view_module": "@jupyter-widgets/base",
       "_view_module_version": "1.2.0",
       "_view_name": "StyleView",
       "bar_color": null,
       "description_width": ""
      }
     },
     "4d7bfce8f7b94e7499f29ebe064d3ce3": {
      "model_module": "@jupyter-widgets/controls",
      "model_module_version": "1.5.0",
      "model_name": "ProgressStyleModel",
      "state": {
       "_model_module": "@jupyter-widgets/controls",
       "_model_module_version": "1.5.0",
       "_model_name": "ProgressStyleModel",
       "_view_count": null,
       "_view_module": "@jupyter-widgets/base",
       "_view_module_version": "1.2.0",
       "_view_name": "StyleView",
       "bar_color": null,
       "description_width": ""
      }
     },
     "532be96ab1f944afb198940286e4bc9b": {
      "model_module": "@jupyter-widgets/controls",
      "model_module_version": "1.5.0",
      "model_name": "HBoxModel",
      "state": {
       "_dom_classes": [],
       "_model_module": "@jupyter-widgets/controls",
       "_model_module_version": "1.5.0",
       "_model_name": "HBoxModel",
       "_view_count": null,
       "_view_module": "@jupyter-widgets/controls",
       "_view_module_version": "1.5.0",
       "_view_name": "HBoxView",
       "box_style": "",
       "children": [
        "IPY_MODEL_30c8543faa5b4f248fd0ec33995223dd",
        "IPY_MODEL_fa3ed5f4fc1847c5b6b9799cd2826b0f",
        "IPY_MODEL_49e666cfa59a4cf4a93b046ddfd95001"
       ],
       "layout": "IPY_MODEL_7330ec966e6f41b2911bb74c45f4e9a7"
      }
     },
     "58933da9f2f74e07902429d1bed3f20d": {
      "model_module": "@jupyter-widgets/controls",
      "model_module_version": "1.5.0",
      "model_name": "HTMLModel",
      "state": {
       "_dom_classes": [],
       "_model_module": "@jupyter-widgets/controls",
       "_model_module_version": "1.5.0",
       "_model_name": "HTMLModel",
       "_view_count": null,
       "_view_module": "@jupyter-widgets/controls",
       "_view_module_version": "1.5.0",
       "_view_name": "HTMLView",
       "description": "",
       "description_tooltip": null,
       "layout": "IPY_MODEL_8ff8c2be0f174d2a9265d02fa1a18dba",
       "placeholder": "​",
       "style": "IPY_MODEL_ddad132e581b4b89af754f09e871bb22",
       "value": "Downloading: 100%"
      }
     },
     "5b61628946fe4c36b411d11e7c05d492": {
      "model_module": "@jupyter-widgets/controls",
      "model_module_version": "1.5.0",
      "model_name": "FloatProgressModel",
      "state": {
       "_dom_classes": [],
       "_model_module": "@jupyter-widgets/controls",
       "_model_module_version": "1.5.0",
       "_model_name": "FloatProgressModel",
       "_view_count": null,
       "_view_module": "@jupyter-widgets/controls",
       "_view_module_version": "1.5.0",
       "_view_name": "ProgressView",
       "bar_style": "success",
       "description": "",
       "description_tooltip": null,
       "layout": "IPY_MODEL_e7f7c9033067401098db2018952de4ec",
       "max": 226150.0,
       "min": 0.0,
       "orientation": "horizontal",
       "style": "IPY_MODEL_0b49511841da4ae49edd7349ececc631",
       "value": 226150.0
      }
     },
     "63ff94014feb479eab964ae64e84feab": {
      "model_module": "@jupyter-widgets/base",
      "model_module_version": "1.2.0",
      "model_name": "LayoutModel",
      "state": {
       "_model_module": "@jupyter-widgets/base",
       "_model_module_version": "1.2.0",
       "_model_name": "LayoutModel",
       "_view_count": null,
       "_view_module": "@jupyter-widgets/base",
       "_view_module_version": "1.2.0",
       "_view_name": "LayoutView",
       "align_content": null,
       "align_items": null,
       "align_self": null,
       "border": null,
       "bottom": null,
       "display": null,
       "flex": null,
       "flex_flow": null,
       "grid_area": null,
       "grid_auto_columns": null,
       "grid_auto_flow": null,
       "grid_auto_rows": null,
       "grid_column": null,
       "grid_gap": null,
       "grid_row": null,
       "grid_template_areas": null,
       "grid_template_columns": null,
       "grid_template_rows": null,
       "height": null,
       "justify_content": null,
       "justify_items": null,
       "left": null,
       "margin": null,
       "max_height": null,
       "max_width": null,
       "min_height": null,
       "min_width": null,
       "object_fit": null,
       "object_position": null,
       "order": null,
       "overflow": null,
       "overflow_x": null,
       "overflow_y": null,
       "padding": null,
       "right": null,
       "top": null,
       "visibility": null,
       "width": null
      }
     },
     "66c3c75749e24d3a95c97a7e2d2d752f": {
      "model_module": "@jupyter-widgets/base",
      "model_module_version": "1.2.0",
      "model_name": "LayoutModel",
      "state": {
       "_model_module": "@jupyter-widgets/base",
       "_model_module_version": "1.2.0",
       "_model_name": "LayoutModel",
       "_view_count": null,
       "_view_module": "@jupyter-widgets/base",
       "_view_module_version": "1.2.0",
       "_view_name": "LayoutView",
       "align_content": null,
       "align_items": null,
       "align_self": null,
       "border": null,
       "bottom": null,
       "display": null,
       "flex": null,
       "flex_flow": null,
       "grid_area": null,
       "grid_auto_columns": null,
       "grid_auto_flow": null,
       "grid_auto_rows": null,
       "grid_column": null,
       "grid_gap": null,
       "grid_row": null,
       "grid_template_areas": null,
       "grid_template_columns": null,
       "grid_template_rows": null,
       "height": null,
       "justify_content": null,
       "justify_items": null,
       "left": null,
       "margin": null,
       "max_height": null,
       "max_width": null,
       "min_height": null,
       "min_width": null,
       "object_fit": null,
       "object_position": null,
       "order": null,
       "overflow": null,
       "overflow_x": null,
       "overflow_y": null,
       "padding": null,
       "right": null,
       "top": null,
       "visibility": null,
       "width": null
      }
     },
     "695afe1249344de4bdcf49da33dfdbd8": {
      "model_module": "@jupyter-widgets/controls",
      "model_module_version": "1.5.0",
      "model_name": "DescriptionStyleModel",
      "state": {
       "_model_module": "@jupyter-widgets/controls",
       "_model_module_version": "1.5.0",
       "_model_name": "DescriptionStyleModel",
       "_view_count": null,
       "_view_module": "@jupyter-widgets/base",
       "_view_module_version": "1.2.0",
       "_view_name": "StyleView",
       "description_width": ""
      }
     },
     "6aebe15f4939460ca4d624f69df4b350": {
      "model_module": "@jupyter-widgets/base",
      "model_module_version": "1.2.0",
      "model_name": "LayoutModel",
      "state": {
       "_model_module": "@jupyter-widgets/base",
       "_model_module_version": "1.2.0",
       "_model_name": "LayoutModel",
       "_view_count": null,
       "_view_module": "@jupyter-widgets/base",
       "_view_module_version": "1.2.0",
       "_view_name": "LayoutView",
       "align_content": null,
       "align_items": null,
       "align_self": null,
       "border": null,
       "bottom": null,
       "display": null,
       "flex": null,
       "flex_flow": null,
       "grid_area": null,
       "grid_auto_columns": null,
       "grid_auto_flow": null,
       "grid_auto_rows": null,
       "grid_column": null,
       "grid_gap": null,
       "grid_row": null,
       "grid_template_areas": null,
       "grid_template_columns": null,
       "grid_template_rows": null,
       "height": null,
       "justify_content": null,
       "justify_items": null,
       "left": null,
       "margin": null,
       "max_height": null,
       "max_width": null,
       "min_height": null,
       "min_width": null,
       "object_fit": null,
       "object_position": null,
       "order": null,
       "overflow": null,
       "overflow_x": null,
       "overflow_y": null,
       "padding": null,
       "right": null,
       "top": null,
       "visibility": null,
       "width": null
      }
     },
     "6f8fde7f3d4f45eb875830d0d14dee3e": {
      "model_module": "@jupyter-widgets/base",
      "model_module_version": "1.2.0",
      "model_name": "LayoutModel",
      "state": {
       "_model_module": "@jupyter-widgets/base",
       "_model_module_version": "1.2.0",
       "_model_name": "LayoutModel",
       "_view_count": null,
       "_view_module": "@jupyter-widgets/base",
       "_view_module_version": "1.2.0",
       "_view_name": "LayoutView",
       "align_content": null,
       "align_items": null,
       "align_self": null,
       "border": null,
       "bottom": null,
       "display": null,
       "flex": null,
       "flex_flow": null,
       "grid_area": null,
       "grid_auto_columns": null,
       "grid_auto_flow": null,
       "grid_auto_rows": null,
       "grid_column": null,
       "grid_gap": null,
       "grid_row": null,
       "grid_template_areas": null,
       "grid_template_columns": null,
       "grid_template_rows": null,
       "height": null,
       "justify_content": null,
       "justify_items": null,
       "left": null,
       "margin": null,
       "max_height": null,
       "max_width": null,
       "min_height": null,
       "min_width": null,
       "object_fit": null,
       "object_position": null,
       "order": null,
       "overflow": null,
       "overflow_x": null,
       "overflow_y": null,
       "padding": null,
       "right": null,
       "top": null,
       "visibility": null,
       "width": null
      }
     },
     "70ed60643ab74a1cbe68b8a896d02cca": {
      "model_module": "@jupyter-widgets/base",
      "model_module_version": "1.2.0",
      "model_name": "LayoutModel",
      "state": {
       "_model_module": "@jupyter-widgets/base",
       "_model_module_version": "1.2.0",
       "_model_name": "LayoutModel",
       "_view_count": null,
       "_view_module": "@jupyter-widgets/base",
       "_view_module_version": "1.2.0",
       "_view_name": "LayoutView",
       "align_content": null,
       "align_items": null,
       "align_self": null,
       "border": null,
       "bottom": null,
       "display": null,
       "flex": null,
       "flex_flow": null,
       "grid_area": null,
       "grid_auto_columns": null,
       "grid_auto_flow": null,
       "grid_auto_rows": null,
       "grid_column": null,
       "grid_gap": null,
       "grid_row": null,
       "grid_template_areas": null,
       "grid_template_columns": null,
       "grid_template_rows": null,
       "height": null,
       "justify_content": null,
       "justify_items": null,
       "left": null,
       "margin": null,
       "max_height": null,
       "max_width": null,
       "min_height": null,
       "min_width": null,
       "object_fit": null,
       "object_position": null,
       "order": null,
       "overflow": null,
       "overflow_x": null,
       "overflow_y": null,
       "padding": null,
       "right": null,
       "top": null,
       "visibility": null,
       "width": null
      }
     },
     "7141641818104530b257fea83cfa74dc": {
      "model_module": "@jupyter-widgets/controls",
      "model_module_version": "1.5.0",
      "model_name": "HTMLModel",
      "state": {
       "_dom_classes": [],
       "_model_module": "@jupyter-widgets/controls",
       "_model_module_version": "1.5.0",
       "_model_name": "HTMLModel",
       "_view_count": null,
       "_view_module": "@jupyter-widgets/controls",
       "_view_module_version": "1.5.0",
       "_view_name": "HTMLView",
       "description": "",
       "description_tooltip": null,
       "layout": "IPY_MODEL_f45fac77984a4b3e90c5e4fd60b9cea4",
       "placeholder": "​",
       "style": "IPY_MODEL_a85ca60cbec946bfbf5ee4f02ad2d417",
       "value": " 2553/2553 [09:23&lt;00:00,  4.55it/s]"
      }
     },
     "7330ec966e6f41b2911bb74c45f4e9a7": {
      "model_module": "@jupyter-widgets/base",
      "model_module_version": "1.2.0",
      "model_name": "LayoutModel",
      "state": {
       "_model_module": "@jupyter-widgets/base",
       "_model_module_version": "1.2.0",
       "_model_name": "LayoutModel",
       "_view_count": null,
       "_view_module": "@jupyter-widgets/base",
       "_view_module_version": "1.2.0",
       "_view_name": "LayoutView",
       "align_content": null,
       "align_items": null,
       "align_self": null,
       "border": null,
       "bottom": null,
       "display": null,
       "flex": null,
       "flex_flow": null,
       "grid_area": null,
       "grid_auto_columns": null,
       "grid_auto_flow": null,
       "grid_auto_rows": null,
       "grid_column": null,
       "grid_gap": null,
       "grid_row": null,
       "grid_template_areas": null,
       "grid_template_columns": null,
       "grid_template_rows": null,
       "height": null,
       "justify_content": null,
       "justify_items": null,
       "left": null,
       "margin": null,
       "max_height": null,
       "max_width": null,
       "min_height": null,
       "min_width": null,
       "object_fit": null,
       "object_position": null,
       "order": null,
       "overflow": null,
       "overflow_x": null,
       "overflow_y": null,
       "padding": null,
       "right": null,
       "top": null,
       "visibility": null,
       "width": null
      }
     },
     "7465cb4e9a26462a806db4b2bee98d33": {
      "model_module": "@jupyter-widgets/controls",
      "model_module_version": "1.5.0",
      "model_name": "HTMLModel",
      "state": {
       "_dom_classes": [],
       "_model_module": "@jupyter-widgets/controls",
       "_model_module_version": "1.5.0",
       "_model_name": "HTMLModel",
       "_view_count": null,
       "_view_module": "@jupyter-widgets/controls",
       "_view_module_version": "1.5.0",
       "_view_name": "HTMLView",
       "description": "",
       "description_tooltip": null,
       "layout": "IPY_MODEL_dcb402c8cb4047e3984ad37c6862f00e",
       "placeholder": "​",
       "style": "IPY_MODEL_4c8029106dcb45a78d65e9cbe8ee8cf2",
       "value": "Downloading: 100%"
      }
     },
     "77e85480ab9043d0a58f92dfe8ca1767": {
      "model_module": "@jupyter-widgets/base",
      "model_module_version": "1.2.0",
      "model_name": "LayoutModel",
      "state": {
       "_model_module": "@jupyter-widgets/base",
       "_model_module_version": "1.2.0",
       "_model_name": "LayoutModel",
       "_view_count": null,
       "_view_module": "@jupyter-widgets/base",
       "_view_module_version": "1.2.0",
       "_view_name": "LayoutView",
       "align_content": null,
       "align_items": null,
       "align_self": null,
       "border": null,
       "bottom": null,
       "display": null,
       "flex": null,
       "flex_flow": null,
       "grid_area": null,
       "grid_auto_columns": null,
       "grid_auto_flow": null,
       "grid_auto_rows": null,
       "grid_column": null,
       "grid_gap": null,
       "grid_row": null,
       "grid_template_areas": null,
       "grid_template_columns": null,
       "grid_template_rows": null,
       "height": null,
       "justify_content": null,
       "justify_items": null,
       "left": null,
       "margin": null,
       "max_height": null,
       "max_width": null,
       "min_height": null,
       "min_width": null,
       "object_fit": null,
       "object_position": null,
       "order": null,
       "overflow": null,
       "overflow_x": null,
       "overflow_y": null,
       "padding": null,
       "right": null,
       "top": null,
       "visibility": null,
       "width": null
      }
     },
     "797ed2ca51ef4594b6f7e40a5bca5e84": {
      "model_module": "@jupyter-widgets/controls",
      "model_module_version": "1.5.0",
      "model_name": "DescriptionStyleModel",
      "state": {
       "_model_module": "@jupyter-widgets/controls",
       "_model_module_version": "1.5.0",
       "_model_name": "DescriptionStyleModel",
       "_view_count": null,
       "_view_module": "@jupyter-widgets/base",
       "_view_module_version": "1.2.0",
       "_view_name": "StyleView",
       "description_width": ""
      }
     },
     "82818fd38fd041659e0944dbd551ff4c": {
      "model_module": "@jupyter-widgets/base",
      "model_module_version": "1.2.0",
      "model_name": "LayoutModel",
      "state": {
       "_model_module": "@jupyter-widgets/base",
       "_model_module_version": "1.2.0",
       "_model_name": "LayoutModel",
       "_view_count": null,
       "_view_module": "@jupyter-widgets/base",
       "_view_module_version": "1.2.0",
       "_view_name": "LayoutView",
       "align_content": null,
       "align_items": null,
       "align_self": null,
       "border": null,
       "bottom": null,
       "display": null,
       "flex": null,
       "flex_flow": null,
       "grid_area": null,
       "grid_auto_columns": null,
       "grid_auto_flow": null,
       "grid_auto_rows": null,
       "grid_column": null,
       "grid_gap": null,
       "grid_row": null,
       "grid_template_areas": null,
       "grid_template_columns": null,
       "grid_template_rows": null,
       "height": null,
       "justify_content": null,
       "justify_items": null,
       "left": null,
       "margin": null,
       "max_height": null,
       "max_width": null,
       "min_height": null,
       "min_width": null,
       "object_fit": null,
       "object_position": null,
       "order": null,
       "overflow": null,
       "overflow_x": null,
       "overflow_y": null,
       "padding": null,
       "right": null,
       "top": null,
       "visibility": null,
       "width": null
      }
     },
     "8281ef15197047a782662fd9bb3429b8": {
      "model_module": "@jupyter-widgets/controls",
      "model_module_version": "1.5.0",
      "model_name": "ProgressStyleModel",
      "state": {
       "_model_module": "@jupyter-widgets/controls",
       "_model_module_version": "1.5.0",
       "_model_name": "ProgressStyleModel",
       "_view_count": null,
       "_view_module": "@jupyter-widgets/base",
       "_view_module_version": "1.2.0",
       "_view_name": "StyleView",
       "bar_color": null,
       "description_width": ""
      }
     },
     "8aa5beb505e3474e99aedca459b9abac": {
      "model_module": "@jupyter-widgets/controls",
      "model_module_version": "1.5.0",
      "model_name": "DescriptionStyleModel",
      "state": {
       "_model_module": "@jupyter-widgets/controls",
       "_model_module_version": "1.5.0",
       "_model_name": "DescriptionStyleModel",
       "_view_count": null,
       "_view_module": "@jupyter-widgets/base",
       "_view_module_version": "1.2.0",
       "_view_name": "StyleView",
       "description_width": ""
      }
     },
     "8bfbfc23ffbc4e0cb3e65928eb82c7b4": {
      "model_module": "@jupyter-widgets/controls",
      "model_module_version": "1.5.0",
      "model_name": "DescriptionStyleModel",
      "state": {
       "_model_module": "@jupyter-widgets/controls",
       "_model_module_version": "1.5.0",
       "_model_name": "DescriptionStyleModel",
       "_view_count": null,
       "_view_module": "@jupyter-widgets/base",
       "_view_module_version": "1.2.0",
       "_view_name": "StyleView",
       "description_width": ""
      }
     },
     "8d4a8826612040f3b04608d156afe25c": {
      "model_module": "@jupyter-widgets/controls",
      "model_module_version": "1.5.0",
      "model_name": "DescriptionStyleModel",
      "state": {
       "_model_module": "@jupyter-widgets/controls",
       "_model_module_version": "1.5.0",
       "_model_name": "DescriptionStyleModel",
       "_view_count": null,
       "_view_module": "@jupyter-widgets/base",
       "_view_module_version": "1.2.0",
       "_view_name": "StyleView",
       "description_width": ""
      }
     },
     "8ff8c2be0f174d2a9265d02fa1a18dba": {
      "model_module": "@jupyter-widgets/base",
      "model_module_version": "1.2.0",
      "model_name": "LayoutModel",
      "state": {
       "_model_module": "@jupyter-widgets/base",
       "_model_module_version": "1.2.0",
       "_model_name": "LayoutModel",
       "_view_count": null,
       "_view_module": "@jupyter-widgets/base",
       "_view_module_version": "1.2.0",
       "_view_name": "LayoutView",
       "align_content": null,
       "align_items": null,
       "align_self": null,
       "border": null,
       "bottom": null,
       "display": null,
       "flex": null,
       "flex_flow": null,
       "grid_area": null,
       "grid_auto_columns": null,
       "grid_auto_flow": null,
       "grid_auto_rows": null,
       "grid_column": null,
       "grid_gap": null,
       "grid_row": null,
       "grid_template_areas": null,
       "grid_template_columns": null,
       "grid_template_rows": null,
       "height": null,
       "justify_content": null,
       "justify_items": null,
       "left": null,
       "margin": null,
       "max_height": null,
       "max_width": null,
       "min_height": null,
       "min_width": null,
       "object_fit": null,
       "object_position": null,
       "order": null,
       "overflow": null,
       "overflow_x": null,
       "overflow_y": null,
       "padding": null,
       "right": null,
       "top": null,
       "visibility": null,
       "width": null
      }
     },
     "9545925cf6824e10b3de2714ee8d7041": {
      "model_module": "@jupyter-widgets/base",
      "model_module_version": "1.2.0",
      "model_name": "LayoutModel",
      "state": {
       "_model_module": "@jupyter-widgets/base",
       "_model_module_version": "1.2.0",
       "_model_name": "LayoutModel",
       "_view_count": null,
       "_view_module": "@jupyter-widgets/base",
       "_view_module_version": "1.2.0",
       "_view_name": "LayoutView",
       "align_content": null,
       "align_items": null,
       "align_self": null,
       "border": null,
       "bottom": null,
       "display": null,
       "flex": null,
       "flex_flow": null,
       "grid_area": null,
       "grid_auto_columns": null,
       "grid_auto_flow": null,
       "grid_auto_rows": null,
       "grid_column": null,
       "grid_gap": null,
       "grid_row": null,
       "grid_template_areas": null,
       "grid_template_columns": null,
       "grid_template_rows": null,
       "height": null,
       "justify_content": null,
       "justify_items": null,
       "left": null,
       "margin": null,
       "max_height": null,
       "max_width": null,
       "min_height": null,
       "min_width": null,
       "object_fit": null,
       "object_position": null,
       "order": null,
       "overflow": null,
       "overflow_x": null,
       "overflow_y": null,
       "padding": null,
       "right": null,
       "top": null,
       "visibility": null,
       "width": null
      }
     },
     "9ec8117017ad49d682bb73fca0c2f558": {
      "model_module": "@jupyter-widgets/controls",
      "model_module_version": "1.5.0",
      "model_name": "HBoxModel",
      "state": {
       "_dom_classes": [],
       "_model_module": "@jupyter-widgets/controls",
       "_model_module_version": "1.5.0",
       "_model_name": "HBoxModel",
       "_view_count": null,
       "_view_module": "@jupyter-widgets/controls",
       "_view_module_version": "1.5.0",
       "_view_name": "HBoxView",
       "box_style": "",
       "children": [
        "IPY_MODEL_7465cb4e9a26462a806db4b2bee98d33",
        "IPY_MODEL_0bf3ae4707974777937ec68d3ae2bbd8",
        "IPY_MODEL_f106c1bf36544fc2be2717a7d65cd6ff"
       ],
       "layout": "IPY_MODEL_bbb9ede64f4a468092413e21226ac396"
      }
     },
     "a4f270f339aa4f02a4edc280f7044c37": {
      "model_module": "@jupyter-widgets/controls",
      "model_module_version": "1.5.0",
      "model_name": "ProgressStyleModel",
      "state": {
       "_model_module": "@jupyter-widgets/controls",
       "_model_module_version": "1.5.0",
       "_model_name": "ProgressStyleModel",
       "_view_count": null,
       "_view_module": "@jupyter-widgets/base",
       "_view_module_version": "1.2.0",
       "_view_name": "StyleView",
       "bar_color": null,
       "description_width": ""
      }
     },
     "a85ca60cbec946bfbf5ee4f02ad2d417": {
      "model_module": "@jupyter-widgets/controls",
      "model_module_version": "1.5.0",
      "model_name": "DescriptionStyleModel",
      "state": {
       "_model_module": "@jupyter-widgets/controls",
       "_model_module_version": "1.5.0",
       "_model_name": "DescriptionStyleModel",
       "_view_count": null,
       "_view_module": "@jupyter-widgets/base",
       "_view_module_version": "1.2.0",
       "_view_name": "StyleView",
       "description_width": ""
      }
     },
     "aaafd066f2da472c8036542926c60df3": {
      "model_module": "@jupyter-widgets/controls",
      "model_module_version": "1.5.0",
      "model_name": "ProgressStyleModel",
      "state": {
       "_model_module": "@jupyter-widgets/controls",
       "_model_module_version": "1.5.0",
       "_model_name": "ProgressStyleModel",
       "_view_count": null,
       "_view_module": "@jupyter-widgets/base",
       "_view_module_version": "1.2.0",
       "_view_name": "StyleView",
       "bar_color": null,
       "description_width": ""
      }
     },
     "aebab41972284144a83c00b56710d680": {
      "model_module": "@jupyter-widgets/base",
      "model_module_version": "1.2.0",
      "model_name": "LayoutModel",
      "state": {
       "_model_module": "@jupyter-widgets/base",
       "_model_module_version": "1.2.0",
       "_model_name": "LayoutModel",
       "_view_count": null,
       "_view_module": "@jupyter-widgets/base",
       "_view_module_version": "1.2.0",
       "_view_name": "LayoutView",
       "align_content": null,
       "align_items": null,
       "align_self": null,
       "border": null,
       "bottom": null,
       "display": null,
       "flex": null,
       "flex_flow": null,
       "grid_area": null,
       "grid_auto_columns": null,
       "grid_auto_flow": null,
       "grid_auto_rows": null,
       "grid_column": null,
       "grid_gap": null,
       "grid_row": null,
       "grid_template_areas": null,
       "grid_template_columns": null,
       "grid_template_rows": null,
       "height": null,
       "justify_content": null,
       "justify_items": null,
       "left": null,
       "margin": null,
       "max_height": null,
       "max_width": null,
       "min_height": null,
       "min_width": null,
       "object_fit": null,
       "object_position": null,
       "order": null,
       "overflow": null,
       "overflow_x": null,
       "overflow_y": null,
       "padding": null,
       "right": null,
       "top": null,
       "visibility": null,
       "width": null
      }
     },
     "b04c9d985a84471ea4698cb19d253b54": {
      "model_module": "@jupyter-widgets/controls",
      "model_module_version": "1.5.0",
      "model_name": "DescriptionStyleModel",
      "state": {
       "_model_module": "@jupyter-widgets/controls",
       "_model_module_version": "1.5.0",
       "_model_name": "DescriptionStyleModel",
       "_view_count": null,
       "_view_module": "@jupyter-widgets/base",
       "_view_module_version": "1.2.0",
       "_view_name": "StyleView",
       "description_width": ""
      }
     },
     "b311348d132241fa90e8bc346c7e639f": {
      "model_module": "@jupyter-widgets/controls",
      "model_module_version": "1.5.0",
      "model_name": "HTMLModel",
      "state": {
       "_dom_classes": [],
       "_model_module": "@jupyter-widgets/controls",
       "_model_module_version": "1.5.0",
       "_model_name": "HTMLModel",
       "_view_count": null,
       "_view_module": "@jupyter-widgets/controls",
       "_view_module_version": "1.5.0",
       "_view_name": "HTMLView",
       "description": "",
       "description_tooltip": null,
       "layout": "IPY_MODEL_11c60a05a4284c88a9f2a408c56b4b4c",
       "placeholder": "​",
       "style": "IPY_MODEL_797ed2ca51ef4594b6f7e40a5bca5e84",
       "value": "100%"
      }
     },
     "b5f0aad2f3d24469bbfd9401c599295e": {
      "model_module": "@jupyter-widgets/controls",
      "model_module_version": "1.5.0",
      "model_name": "HTMLModel",
      "state": {
       "_dom_classes": [],
       "_model_module": "@jupyter-widgets/controls",
       "_model_module_version": "1.5.0",
       "_model_name": "HTMLModel",
       "_view_count": null,
       "_view_module": "@jupyter-widgets/controls",
       "_view_module_version": "1.5.0",
       "_view_name": "HTMLView",
       "description": "",
       "description_tooltip": null,
       "layout": "IPY_MODEL_e01a70df295146bab2ebd328f0cc2faf",
       "placeholder": "​",
       "style": "IPY_MODEL_8aa5beb505e3474e99aedca459b9abac",
       "value": " 226k/226k [00:00&lt;00:00, 2.43MB/s]"
      }
     },
     "b675ad8f61ef450db51f1ce2397b5976": {
      "model_module": "@jupyter-widgets/base",
      "model_module_version": "1.2.0",
      "model_name": "LayoutModel",
      "state": {
       "_model_module": "@jupyter-widgets/base",
       "_model_module_version": "1.2.0",
       "_model_name": "LayoutModel",
       "_view_count": null,
       "_view_module": "@jupyter-widgets/base",
       "_view_module_version": "1.2.0",
       "_view_name": "LayoutView",
       "align_content": null,
       "align_items": null,
       "align_self": null,
       "border": null,
       "bottom": null,
       "display": null,
       "flex": null,
       "flex_flow": null,
       "grid_area": null,
       "grid_auto_columns": null,
       "grid_auto_flow": null,
       "grid_auto_rows": null,
       "grid_column": null,
       "grid_gap": null,
       "grid_row": null,
       "grid_template_areas": null,
       "grid_template_columns": null,
       "grid_template_rows": null,
       "height": null,
       "justify_content": null,
       "justify_items": null,
       "left": null,
       "margin": null,
       "max_height": null,
       "max_width": null,
       "min_height": null,
       "min_width": null,
       "object_fit": null,
       "object_position": null,
       "order": null,
       "overflow": null,
       "overflow_x": null,
       "overflow_y": null,
       "padding": null,
       "right": null,
       "top": null,
       "visibility": null,
       "width": null
      }
     },
     "b9089a11ea074e95b5a7c6cac2889964": {
      "model_module": "@jupyter-widgets/base",
      "model_module_version": "1.2.0",
      "model_name": "LayoutModel",
      "state": {
       "_model_module": "@jupyter-widgets/base",
       "_model_module_version": "1.2.0",
       "_model_name": "LayoutModel",
       "_view_count": null,
       "_view_module": "@jupyter-widgets/base",
       "_view_module_version": "1.2.0",
       "_view_name": "LayoutView",
       "align_content": null,
       "align_items": null,
       "align_self": null,
       "border": null,
       "bottom": null,
       "display": null,
       "flex": null,
       "flex_flow": null,
       "grid_area": null,
       "grid_auto_columns": null,
       "grid_auto_flow": null,
       "grid_auto_rows": null,
       "grid_column": null,
       "grid_gap": null,
       "grid_row": null,
       "grid_template_areas": null,
       "grid_template_columns": null,
       "grid_template_rows": null,
       "height": null,
       "justify_content": null,
       "justify_items": null,
       "left": null,
       "margin": null,
       "max_height": null,
       "max_width": null,
       "min_height": null,
       "min_width": null,
       "object_fit": null,
       "object_position": null,
       "order": null,
       "overflow": null,
       "overflow_x": null,
       "overflow_y": null,
       "padding": null,
       "right": null,
       "top": null,
       "visibility": null,
       "width": null
      }
     },
     "ba6481eb34924d8286eca2ad967d14ce": {
      "model_module": "@jupyter-widgets/controls",
      "model_module_version": "1.5.0",
      "model_name": "DescriptionStyleModel",
      "state": {
       "_model_module": "@jupyter-widgets/controls",
       "_model_module_version": "1.5.0",
       "_model_name": "DescriptionStyleModel",
       "_view_count": null,
       "_view_module": "@jupyter-widgets/base",
       "_view_module_version": "1.2.0",
       "_view_name": "StyleView",
       "description_width": ""
      }
     },
     "ba6d01041bd147ee9fc06287eb5bde35": {
      "model_module": "@jupyter-widgets/base",
      "model_module_version": "1.2.0",
      "model_name": "LayoutModel",
      "state": {
       "_model_module": "@jupyter-widgets/base",
       "_model_module_version": "1.2.0",
       "_model_name": "LayoutModel",
       "_view_count": null,
       "_view_module": "@jupyter-widgets/base",
       "_view_module_version": "1.2.0",
       "_view_name": "LayoutView",
       "align_content": null,
       "align_items": null,
       "align_self": null,
       "border": null,
       "bottom": null,
       "display": null,
       "flex": null,
       "flex_flow": null,
       "grid_area": null,
       "grid_auto_columns": null,
       "grid_auto_flow": null,
       "grid_auto_rows": null,
       "grid_column": null,
       "grid_gap": null,
       "grid_row": null,
       "grid_template_areas": null,
       "grid_template_columns": null,
       "grid_template_rows": null,
       "height": null,
       "justify_content": null,
       "justify_items": null,
       "left": null,
       "margin": null,
       "max_height": null,
       "max_width": null,
       "min_height": null,
       "min_width": null,
       "object_fit": null,
       "object_position": null,
       "order": null,
       "overflow": null,
       "overflow_x": null,
       "overflow_y": null,
       "padding": null,
       "right": null,
       "top": null,
       "visibility": null,
       "width": null
      }
     },
     "bbb9ede64f4a468092413e21226ac396": {
      "model_module": "@jupyter-widgets/base",
      "model_module_version": "1.2.0",
      "model_name": "LayoutModel",
      "state": {
       "_model_module": "@jupyter-widgets/base",
       "_model_module_version": "1.2.0",
       "_model_name": "LayoutModel",
       "_view_count": null,
       "_view_module": "@jupyter-widgets/base",
       "_view_module_version": "1.2.0",
       "_view_name": "LayoutView",
       "align_content": null,
       "align_items": null,
       "align_self": null,
       "border": null,
       "bottom": null,
       "display": null,
       "flex": null,
       "flex_flow": null,
       "grid_area": null,
       "grid_auto_columns": null,
       "grid_auto_flow": null,
       "grid_auto_rows": null,
       "grid_column": null,
       "grid_gap": null,
       "grid_row": null,
       "grid_template_areas": null,
       "grid_template_columns": null,
       "grid_template_rows": null,
       "height": null,
       "justify_content": null,
       "justify_items": null,
       "left": null,
       "margin": null,
       "max_height": null,
       "max_width": null,
       "min_height": null,
       "min_width": null,
       "object_fit": null,
       "object_position": null,
       "order": null,
       "overflow": null,
       "overflow_x": null,
       "overflow_y": null,
       "padding": null,
       "right": null,
       "top": null,
       "visibility": null,
       "width": null
      }
     },
     "c1ea27844c2f4c7a84dbb6c7ec8b6042": {
      "model_module": "@jupyter-widgets/controls",
      "model_module_version": "1.5.0",
      "model_name": "FloatProgressModel",
      "state": {
       "_dom_classes": [],
       "_model_module": "@jupyter-widgets/controls",
       "_model_module_version": "1.5.0",
       "_model_name": "FloatProgressModel",
       "_view_count": null,
       "_view_module": "@jupyter-widgets/controls",
       "_view_module_version": "1.5.0",
       "_view_name": "ProgressView",
       "bar_style": "success",
       "description": "",
       "description_tooltip": null,
       "layout": "IPY_MODEL_f2852c23cc7b406fa0f94f88383fdb71",
       "max": 2553.0,
       "min": 0.0,
       "orientation": "horizontal",
       "style": "IPY_MODEL_8281ef15197047a782662fd9bb3429b8",
       "value": 2553.0
      }
     },
     "cb32cb880d3545cfa9c43b3bb1cc4d82": {
      "model_module": "@jupyter-widgets/base",
      "model_module_version": "1.2.0",
      "model_name": "LayoutModel",
      "state": {
       "_model_module": "@jupyter-widgets/base",
       "_model_module_version": "1.2.0",
       "_model_name": "LayoutModel",
       "_view_count": null,
       "_view_module": "@jupyter-widgets/base",
       "_view_module_version": "1.2.0",
       "_view_name": "LayoutView",
       "align_content": null,
       "align_items": null,
       "align_self": null,
       "border": null,
       "bottom": null,
       "display": null,
       "flex": null,
       "flex_flow": null,
       "grid_area": null,
       "grid_auto_columns": null,
       "grid_auto_flow": null,
       "grid_auto_rows": null,
       "grid_column": null,
       "grid_gap": null,
       "grid_row": null,
       "grid_template_areas": null,
       "grid_template_columns": null,
       "grid_template_rows": null,
       "height": null,
       "justify_content": null,
       "justify_items": null,
       "left": null,
       "margin": null,
       "max_height": null,
       "max_width": null,
       "min_height": null,
       "min_width": null,
       "object_fit": null,
       "object_position": null,
       "order": null,
       "overflow": null,
       "overflow_x": null,
       "overflow_y": null,
       "padding": null,
       "right": null,
       "top": null,
       "visibility": null,
       "width": null
      }
     },
     "ccb5d2f0ef7f413da1257512ef0a915e": {
      "model_module": "@jupyter-widgets/base",
      "model_module_version": "1.2.0",
      "model_name": "LayoutModel",
      "state": {
       "_model_module": "@jupyter-widgets/base",
       "_model_module_version": "1.2.0",
       "_model_name": "LayoutModel",
       "_view_count": null,
       "_view_module": "@jupyter-widgets/base",
       "_view_module_version": "1.2.0",
       "_view_name": "LayoutView",
       "align_content": null,
       "align_items": null,
       "align_self": null,
       "border": null,
       "bottom": null,
       "display": null,
       "flex": null,
       "flex_flow": null,
       "grid_area": null,
       "grid_auto_columns": null,
       "grid_auto_flow": null,
       "grid_auto_rows": null,
       "grid_column": null,
       "grid_gap": null,
       "grid_row": null,
       "grid_template_areas": null,
       "grid_template_columns": null,
       "grid_template_rows": null,
       "height": null,
       "justify_content": null,
       "justify_items": null,
       "left": null,
       "margin": null,
       "max_height": null,
       "max_width": null,
       "min_height": null,
       "min_width": null,
       "object_fit": null,
       "object_position": null,
       "order": null,
       "overflow": null,
       "overflow_x": null,
       "overflow_y": null,
       "padding": null,
       "right": null,
       "top": null,
       "visibility": null,
       "width": null
      }
     },
     "d0996e06319e455eaa19034ab1c806ba": {
      "model_module": "@jupyter-widgets/controls",
      "model_module_version": "1.5.0",
      "model_name": "HTMLModel",
      "state": {
       "_dom_classes": [],
       "_model_module": "@jupyter-widgets/controls",
       "_model_module_version": "1.5.0",
       "_model_name": "HTMLModel",
       "_view_count": null,
       "_view_module": "@jupyter-widgets/controls",
       "_view_module_version": "1.5.0",
       "_view_name": "HTMLView",
       "description": "",
       "description_tooltip": null,
       "layout": "IPY_MODEL_63ff94014feb479eab964ae64e84feab",
       "placeholder": "​",
       "style": "IPY_MODEL_b04c9d985a84471ea4698cb19d253b54",
       "value": " 2553/2553 [09:23&lt;00:00,  4.56it/s]"
      }
     },
     "da80bdbb477c404e954957b2db743bc3": {
      "model_module": "@jupyter-widgets/base",
      "model_module_version": "1.2.0",
      "model_name": "LayoutModel",
      "state": {
       "_model_module": "@jupyter-widgets/base",
       "_model_module_version": "1.2.0",
       "_model_name": "LayoutModel",
       "_view_count": null,
       "_view_module": "@jupyter-widgets/base",
       "_view_module_version": "1.2.0",
       "_view_name": "LayoutView",
       "align_content": null,
       "align_items": null,
       "align_self": null,
       "border": null,
       "bottom": null,
       "display": null,
       "flex": null,
       "flex_flow": null,
       "grid_area": null,
       "grid_auto_columns": null,
       "grid_auto_flow": null,
       "grid_auto_rows": null,
       "grid_column": null,
       "grid_gap": null,
       "grid_row": null,
       "grid_template_areas": null,
       "grid_template_columns": null,
       "grid_template_rows": null,
       "height": null,
       "justify_content": null,
       "justify_items": null,
       "left": null,
       "margin": null,
       "max_height": null,
       "max_width": null,
       "min_height": null,
       "min_width": null,
       "object_fit": null,
       "object_position": null,
       "order": null,
       "overflow": null,
       "overflow_x": null,
       "overflow_y": null,
       "padding": null,
       "right": null,
       "top": null,
       "visibility": null,
       "width": null
      }
     },
     "dcb402c8cb4047e3984ad37c6862f00e": {
      "model_module": "@jupyter-widgets/base",
      "model_module_version": "1.2.0",
      "model_name": "LayoutModel",
      "state": {
       "_model_module": "@jupyter-widgets/base",
       "_model_module_version": "1.2.0",
       "_model_name": "LayoutModel",
       "_view_count": null,
       "_view_module": "@jupyter-widgets/base",
       "_view_module_version": "1.2.0",
       "_view_name": "LayoutView",
       "align_content": null,
       "align_items": null,
       "align_self": null,
       "border": null,
       "bottom": null,
       "display": null,
       "flex": null,
       "flex_flow": null,
       "grid_area": null,
       "grid_auto_columns": null,
       "grid_auto_flow": null,
       "grid_auto_rows": null,
       "grid_column": null,
       "grid_gap": null,
       "grid_row": null,
       "grid_template_areas": null,
       "grid_template_columns": null,
       "grid_template_rows": null,
       "height": null,
       "justify_content": null,
       "justify_items": null,
       "left": null,
       "margin": null,
       "max_height": null,
       "max_width": null,
       "min_height": null,
       "min_width": null,
       "object_fit": null,
       "object_position": null,
       "order": null,
       "overflow": null,
       "overflow_x": null,
       "overflow_y": null,
       "padding": null,
       "right": null,
       "top": null,
       "visibility": null,
       "width": null
      }
     },
     "ddad132e581b4b89af754f09e871bb22": {
      "model_module": "@jupyter-widgets/controls",
      "model_module_version": "1.5.0",
      "model_name": "DescriptionStyleModel",
      "state": {
       "_model_module": "@jupyter-widgets/controls",
       "_model_module_version": "1.5.0",
       "_model_name": "DescriptionStyleModel",
       "_view_count": null,
       "_view_module": "@jupyter-widgets/base",
       "_view_module_version": "1.2.0",
       "_view_name": "StyleView",
       "description_width": ""
      }
     },
     "e01a70df295146bab2ebd328f0cc2faf": {
      "model_module": "@jupyter-widgets/base",
      "model_module_version": "1.2.0",
      "model_name": "LayoutModel",
      "state": {
       "_model_module": "@jupyter-widgets/base",
       "_model_module_version": "1.2.0",
       "_model_name": "LayoutModel",
       "_view_count": null,
       "_view_module": "@jupyter-widgets/base",
       "_view_module_version": "1.2.0",
       "_view_name": "LayoutView",
       "align_content": null,
       "align_items": null,
       "align_self": null,
       "border": null,
       "bottom": null,
       "display": null,
       "flex": null,
       "flex_flow": null,
       "grid_area": null,
       "grid_auto_columns": null,
       "grid_auto_flow": null,
       "grid_auto_rows": null,
       "grid_column": null,
       "grid_gap": null,
       "grid_row": null,
       "grid_template_areas": null,
       "grid_template_columns": null,
       "grid_template_rows": null,
       "height": null,
       "justify_content": null,
       "justify_items": null,
       "left": null,
       "margin": null,
       "max_height": null,
       "max_width": null,
       "min_height": null,
       "min_width": null,
       "object_fit": null,
       "object_position": null,
       "order": null,
       "overflow": null,
       "overflow_x": null,
       "overflow_y": null,
       "padding": null,
       "right": null,
       "top": null,
       "visibility": null,
       "width": null
      }
     },
     "e74effc8db1c4324a18e1a8e19b782f4": {
      "model_module": "@jupyter-widgets/controls",
      "model_module_version": "1.5.0",
      "model_name": "DescriptionStyleModel",
      "state": {
       "_model_module": "@jupyter-widgets/controls",
       "_model_module_version": "1.5.0",
       "_model_name": "DescriptionStyleModel",
       "_view_count": null,
       "_view_module": "@jupyter-widgets/base",
       "_view_module_version": "1.2.0",
       "_view_name": "StyleView",
       "description_width": ""
      }
     },
     "e7f7c9033067401098db2018952de4ec": {
      "model_module": "@jupyter-widgets/base",
      "model_module_version": "1.2.0",
      "model_name": "LayoutModel",
      "state": {
       "_model_module": "@jupyter-widgets/base",
       "_model_module_version": "1.2.0",
       "_model_name": "LayoutModel",
       "_view_count": null,
       "_view_module": "@jupyter-widgets/base",
       "_view_module_version": "1.2.0",
       "_view_name": "LayoutView",
       "align_content": null,
       "align_items": null,
       "align_self": null,
       "border": null,
       "bottom": null,
       "display": null,
       "flex": null,
       "flex_flow": null,
       "grid_area": null,
       "grid_auto_columns": null,
       "grid_auto_flow": null,
       "grid_auto_rows": null,
       "grid_column": null,
       "grid_gap": null,
       "grid_row": null,
       "grid_template_areas": null,
       "grid_template_columns": null,
       "grid_template_rows": null,
       "height": null,
       "justify_content": null,
       "justify_items": null,
       "left": null,
       "margin": null,
       "max_height": null,
       "max_width": null,
       "min_height": null,
       "min_width": null,
       "object_fit": null,
       "object_position": null,
       "order": null,
       "overflow": null,
       "overflow_x": null,
       "overflow_y": null,
       "padding": null,
       "right": null,
       "top": null,
       "visibility": null,
       "width": null
      }
     },
     "ed8499b2036543b9a0aef275ca6e9986": {
      "model_module": "@jupyter-widgets/controls",
      "model_module_version": "1.5.0",
      "model_name": "FloatProgressModel",
      "state": {
       "_dom_classes": [],
       "_model_module": "@jupyter-widgets/controls",
       "_model_module_version": "1.5.0",
       "_model_name": "FloatProgressModel",
       "_view_count": null,
       "_view_module": "@jupyter-widgets/controls",
       "_view_module_version": "1.5.0",
       "_view_name": "ProgressView",
       "bar_style": "success",
       "description": "",
       "description_tooltip": null,
       "layout": "IPY_MODEL_f73d406b838443a4974a4c588e2554a9",
       "max": 337.0,
       "min": 0.0,
       "orientation": "horizontal",
       "style": "IPY_MODEL_a4f270f339aa4f02a4edc280f7044c37",
       "value": 337.0
      }
     },
     "f106c1bf36544fc2be2717a7d65cd6ff": {
      "model_module": "@jupyter-widgets/controls",
      "model_module_version": "1.5.0",
      "model_name": "HTMLModel",
      "state": {
       "_dom_classes": [],
       "_model_module": "@jupyter-widgets/controls",
       "_model_module_version": "1.5.0",
       "_model_name": "HTMLModel",
       "_view_count": null,
       "_view_module": "@jupyter-widgets/controls",
       "_view_module_version": "1.5.0",
       "_view_name": "HTMLView",
       "description": "",
       "description_tooltip": null,
       "layout": "IPY_MODEL_02fac60e50d644b0bd7043cf2d33b3c7",
       "placeholder": "​",
       "style": "IPY_MODEL_8d4a8826612040f3b04608d156afe25c",
       "value": " 440M/440M [00:17&lt;00:00, 17.5MB/s]"
      }
     },
     "f2852c23cc7b406fa0f94f88383fdb71": {
      "model_module": "@jupyter-widgets/base",
      "model_module_version": "1.2.0",
      "model_name": "LayoutModel",
      "state": {
       "_model_module": "@jupyter-widgets/base",
       "_model_module_version": "1.2.0",
       "_model_name": "LayoutModel",
       "_view_count": null,
       "_view_module": "@jupyter-widgets/base",
       "_view_module_version": "1.2.0",
       "_view_name": "LayoutView",
       "align_content": null,
       "align_items": null,
       "align_self": null,
       "border": null,
       "bottom": null,
       "display": null,
       "flex": null,
       "flex_flow": null,
       "grid_area": null,
       "grid_auto_columns": null,
       "grid_auto_flow": null,
       "grid_auto_rows": null,
       "grid_column": null,
       "grid_gap": null,
       "grid_row": null,
       "grid_template_areas": null,
       "grid_template_columns": null,
       "grid_template_rows": null,
       "height": null,
       "justify_content": null,
       "justify_items": null,
       "left": null,
       "margin": null,
       "max_height": null,
       "max_width": null,
       "min_height": null,
       "min_width": null,
       "object_fit": null,
       "object_position": null,
       "order": null,
       "overflow": null,
       "overflow_x": null,
       "overflow_y": null,
       "padding": null,
       "right": null,
       "top": null,
       "visibility": null,
       "width": null
      }
     },
     "f45fac77984a4b3e90c5e4fd60b9cea4": {
      "model_module": "@jupyter-widgets/base",
      "model_module_version": "1.2.0",
      "model_name": "LayoutModel",
      "state": {
       "_model_module": "@jupyter-widgets/base",
       "_model_module_version": "1.2.0",
       "_model_name": "LayoutModel",
       "_view_count": null,
       "_view_module": "@jupyter-widgets/base",
       "_view_module_version": "1.2.0",
       "_view_name": "LayoutView",
       "align_content": null,
       "align_items": null,
       "align_self": null,
       "border": null,
       "bottom": null,
       "display": null,
       "flex": null,
       "flex_flow": null,
       "grid_area": null,
       "grid_auto_columns": null,
       "grid_auto_flow": null,
       "grid_auto_rows": null,
       "grid_column": null,
       "grid_gap": null,
       "grid_row": null,
       "grid_template_areas": null,
       "grid_template_columns": null,
       "grid_template_rows": null,
       "height": null,
       "justify_content": null,
       "justify_items": null,
       "left": null,
       "margin": null,
       "max_height": null,
       "max_width": null,
       "min_height": null,
       "min_width": null,
       "object_fit": null,
       "object_position": null,
       "order": null,
       "overflow": null,
       "overflow_x": null,
       "overflow_y": null,
       "padding": null,
       "right": null,
       "top": null,
       "visibility": null,
       "width": null
      }
     },
     "f73d406b838443a4974a4c588e2554a9": {
      "model_module": "@jupyter-widgets/base",
      "model_module_version": "1.2.0",
      "model_name": "LayoutModel",
      "state": {
       "_model_module": "@jupyter-widgets/base",
       "_model_module_version": "1.2.0",
       "_model_name": "LayoutModel",
       "_view_count": null,
       "_view_module": "@jupyter-widgets/base",
       "_view_module_version": "1.2.0",
       "_view_name": "LayoutView",
       "align_content": null,
       "align_items": null,
       "align_self": null,
       "border": null,
       "bottom": null,
       "display": null,
       "flex": null,
       "flex_flow": null,
       "grid_area": null,
       "grid_auto_columns": null,
       "grid_auto_flow": null,
       "grid_auto_rows": null,
       "grid_column": null,
       "grid_gap": null,
       "grid_row": null,
       "grid_template_areas": null,
       "grid_template_columns": null,
       "grid_template_rows": null,
       "height": null,
       "justify_content": null,
       "justify_items": null,
       "left": null,
       "margin": null,
       "max_height": null,
       "max_width": null,
       "min_height": null,
       "min_width": null,
       "object_fit": null,
       "object_position": null,
       "order": null,
       "overflow": null,
       "overflow_x": null,
       "overflow_y": null,
       "padding": null,
       "right": null,
       "top": null,
       "visibility": null,
       "width": null
      }
     },
     "fa3ed5f4fc1847c5b6b9799cd2826b0f": {
      "model_module": "@jupyter-widgets/controls",
      "model_module_version": "1.5.0",
      "model_name": "FloatProgressModel",
      "state": {
       "_dom_classes": [],
       "_model_module": "@jupyter-widgets/controls",
       "_model_module_version": "1.5.0",
       "_model_name": "FloatProgressModel",
       "_view_count": null,
       "_view_module": "@jupyter-widgets/controls",
       "_view_module_version": "1.5.0",
       "_view_name": "ProgressView",
       "bar_style": "success",
       "description": "",
       "description_tooltip": null,
       "layout": "IPY_MODEL_9545925cf6824e10b3de2714ee8d7041",
       "max": 2553.0,
       "min": 0.0,
       "orientation": "horizontal",
       "style": "IPY_MODEL_4d7bfce8f7b94e7499f29ebe064d3ce3",
       "value": 2553.0
      }
     },
     "fbb20d3596c147f085dafd143cde7a3c": {
      "model_module": "@jupyter-widgets/controls",
      "model_module_version": "1.5.0",
      "model_name": "DescriptionStyleModel",
      "state": {
       "_model_module": "@jupyter-widgets/controls",
       "_model_module_version": "1.5.0",
       "_model_name": "DescriptionStyleModel",
       "_view_count": null,
       "_view_module": "@jupyter-widgets/base",
       "_view_module_version": "1.2.0",
       "_view_name": "StyleView",
       "description_width": ""
      }
     },
     "fd4a5b1794de4b76914650520f2bf504": {
      "model_module": "@jupyter-widgets/base",
      "model_module_version": "1.2.0",
      "model_name": "LayoutModel",
      "state": {
       "_model_module": "@jupyter-widgets/base",
       "_model_module_version": "1.2.0",
       "_model_name": "LayoutModel",
       "_view_count": null,
       "_view_module": "@jupyter-widgets/base",
       "_view_module_version": "1.2.0",
       "_view_name": "LayoutView",
       "align_content": null,
       "align_items": null,
       "align_self": null,
       "border": null,
       "bottom": null,
       "display": null,
       "flex": null,
       "flex_flow": null,
       "grid_area": null,
       "grid_auto_columns": null,
       "grid_auto_flow": null,
       "grid_auto_rows": null,
       "grid_column": null,
       "grid_gap": null,
       "grid_row": null,
       "grid_template_areas": null,
       "grid_template_columns": null,
       "grid_template_rows": null,
       "height": null,
       "justify_content": null,
       "justify_items": null,
       "left": null,
       "margin": null,
       "max_height": null,
       "max_width": null,
       "min_height": null,
       "min_width": null,
       "object_fit": null,
       "object_position": null,
       "order": null,
       "overflow": null,
       "overflow_x": null,
       "overflow_y": null,
       "padding": null,
       "right": null,
       "top": null,
       "visibility": null,
       "width": null
      }
     },
     "fde7ef9973fd4eff907a35a77884cc26": {
      "model_module": "@jupyter-widgets/controls",
      "model_module_version": "1.5.0",
      "model_name": "HTMLModel",
      "state": {
       "_dom_classes": [],
       "_model_module": "@jupyter-widgets/controls",
       "_model_module_version": "1.5.0",
       "_model_name": "HTMLModel",
       "_view_count": null,
       "_view_module": "@jupyter-widgets/controls",
       "_view_module_version": "1.5.0",
       "_view_name": "HTMLView",
       "description": "",
       "description_tooltip": null,
       "layout": "IPY_MODEL_16f9772488be433e90a112bcc0101294",
       "placeholder": "​",
       "style": "IPY_MODEL_fbb20d3596c147f085dafd143cde7a3c",
       "value": "100%"
      }
     },
     "ff9eee2bcc6443eeab3a60394fcd7646": {
      "model_module": "@jupyter-widgets/base",
      "model_module_version": "1.2.0",
      "model_name": "LayoutModel",
      "state": {
       "_model_module": "@jupyter-widgets/base",
       "_model_module_version": "1.2.0",
       "_model_name": "LayoutModel",
       "_view_count": null,
       "_view_module": "@jupyter-widgets/base",
       "_view_module_version": "1.2.0",
       "_view_name": "LayoutView",
       "align_content": null,
       "align_items": null,
       "align_self": null,
       "border": null,
       "bottom": null,
       "display": null,
       "flex": null,
       "flex_flow": null,
       "grid_area": null,
       "grid_auto_columns": null,
       "grid_auto_flow": null,
       "grid_auto_rows": null,
       "grid_column": null,
       "grid_gap": null,
       "grid_row": null,
       "grid_template_areas": null,
       "grid_template_columns": null,
       "grid_template_rows": null,
       "height": null,
       "justify_content": null,
       "justify_items": null,
       "left": null,
       "margin": null,
       "max_height": null,
       "max_width": null,
       "min_height": null,
       "min_width": null,
       "object_fit": null,
       "object_position": null,
       "order": null,
       "overflow": null,
       "overflow_x": null,
       "overflow_y": null,
       "padding": null,
       "right": null,
       "top": null,
       "visibility": null,
       "width": null
      }
     }
    },
    "version_major": 2,
    "version_minor": 0
   }
  }
 },
 "nbformat": 4,
 "nbformat_minor": 5
}
